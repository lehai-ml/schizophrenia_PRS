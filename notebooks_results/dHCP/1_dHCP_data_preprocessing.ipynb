{
 "cells": [
  {
   "cell_type": "code",
   "execution_count": 16,
   "metadata": {},
   "outputs": [
    {
     "data": {
      "text/html": [
       "<script>\n",
       "code_show=true; \n",
       "function code_toggle() {\n",
       " if (code_show){\n",
       " $('div.input').hide();\n",
       " } else {\n",
       " $('div.input').show();\n",
       " }\n",
       " code_show = !code_show\n",
       "} \n",
       "$( document ).ready(code_toggle);\n",
       "</script>\n",
       "<form action=\"javascript:code_toggle()\"><input type=\"submit\" value=\"Click here to toggle on/off the raw code.\"></form>"
      ],
      "text/plain": [
       "<IPython.core.display.HTML object>"
      ]
     },
     "execution_count": 16,
     "metadata": {},
     "output_type": "execute_result"
    }
   ],
   "source": [
    "from IPython.display import HTML\n",
    "\n",
    "HTML('''<script>\n",
    "code_show=true; \n",
    "function code_toggle() {\n",
    " if (code_show){\n",
    " $('div.input').hide();\n",
    " } else {\n",
    " $('div.input').show();\n",
    " }\n",
    " code_show = !code_show\n",
    "} \n",
    "$( document ).ready(code_toggle);\n",
    "</script>\n",
    "<form action=\"javascript:code_toggle()\"><input type=\"submit\" value=\"Click here to toggle on/off the raw code.\"></form>''')\n",
    "\n"
   ]
  },
  {
   "cell_type": "code",
   "execution_count": 2,
   "metadata": {},
   "outputs": [],
   "source": [
    "import sys\n",
    "sys.path.append('../../')"
   ]
  },
  {
   "cell_type": "code",
   "execution_count": 3,
   "metadata": {},
   "outputs": [],
   "source": [
    "from codes.docs.analysis import data_preprocessing, logging_outputs"
   ]
  },
  {
   "cell_type": "code",
   "execution_count": 4,
   "metadata": {},
   "outputs": [],
   "source": [
    "import matplotlib.pyplot as plt\n",
    "import numpy as np\n",
    "import pandas as pd\n",
    "from sklearn.preprocessing import StandardScaler\n",
    "%matplotlib inline"
   ]
  },
  {
   "cell_type": "markdown",
   "metadata": {},
   "source": [
    "# 1. Data Preprocessing and Importing"
   ]
  },
  {
   "cell_type": "code",
   "execution_count": 5,
   "metadata": {},
   "outputs": [],
   "source": [
    "full_dataset=pd.read_excel(open('./dataset/allSubjectsWithKANA_AALVolumes_mm3_4Harriet_withCovariates_withImperialLegendsOK.xlsx','rb'),sheet_name='allSubjectsWithKANA_AALVolumes').drop('ID',axis=1)\n",
    "full_dataset=full_dataset.rename({'Subject':'ID'},axis=1)"
   ]
  },
  {
   "cell_type": "code",
   "execution_count": 6,
   "metadata": {},
   "outputs": [],
   "source": [
    "Imperial_label=pd.read_excel(open('./dataset/allSubjectsWithKANA_AALVolumes_mm3_4Harriet_withCovariates_withImperialLegendsOK.xlsx','rb'),sheet_name='IMPERIAL ROIs LEGEND',header=None).drop([0,1],axis=1)\n",
    "AAL_label=pd.read_excel(open('./dataset/allSubjectsWithKANA_AALVolumes_mm3_4Harriet_withCovariates_withImperialLegendsOK.xlsx','rb'),sheet_name='AAL LEGEND',header=None).drop(0,axis=1)"
   ]
  },
  {
   "cell_type": "code",
   "execution_count": 7,
   "metadata": {},
   "outputs": [],
   "source": [
    "from string import digits\n",
    "AAL_label=np.asarray([str.split(i,' ')[1] for i in np.asarray(AAL_label).reshape(-1)])\n",
    "Imperial_label=np.asarray([str.strip(i.translate({ord(c): None for c in digits})) for i in (np.asarray(Imperial_label)).reshape(-1)])"
   ]
  },
  {
   "cell_type": "code",
   "execution_count": 8,
   "metadata": {},
   "outputs": [],
   "source": [
    "#Reading necessary tables\n",
    "schizophrenia_high_scores_european=data_preprocessing.read_table_from_txt('./dataset/SCZ2_lifted37_dHCP_merged_cleaned_EUROPEANS.gwas.all.score',add_EP=False)\n",
    "ancestral_PCA_european=data_preprocessing.read_table_from_txt('./dataset/file3_only_europ_10pcs_pca.eigenvec',add_EP=False)"
   ]
  },
  {
   "cell_type": "code",
   "execution_count": 9,
   "metadata": {},
   "outputs": [],
   "source": [
    "#Merge the tables together using the european ID as the key.\n",
    "from functools import reduce\n",
    "european_ID_dataset=reduce(lambda left,right: pd.merge(left,right,on='ID',how='inner'),[full_dataset,schizophrenia_high_scores_european,ancestral_PCA_european])\n",
    "#retain the last session in cases of duplication\n",
    "european_ID_dataset=european_ID_dataset.drop_duplicates(subset='ID',keep='last')\n",
    "european_ID_dataset=european_ID_dataset.reset_index(drop=True)\n"
   ]
  },
  {
   "cell_type": "markdown",
   "metadata": {},
   "source": [
    "Summary statistics for the dHCP cohort:"
   ]
  },
  {
   "cell_type": "code",
   "execution_count": 10,
   "metadata": {},
   "outputs": [
    {
     "data": {
      "text/html": [
       "<div>\n",
       "<style scoped>\n",
       "    .dataframe tbody tr th:only-of-type {\n",
       "        vertical-align: middle;\n",
       "    }\n",
       "\n",
       "    .dataframe tbody tr th {\n",
       "        vertical-align: top;\n",
       "    }\n",
       "\n",
       "    .dataframe thead th {\n",
       "        text-align: right;\n",
       "    }\n",
       "</style>\n",
       "<table border=\"1\" class=\"dataframe\">\n",
       "  <thead>\n",
       "    <tr style=\"text-align: right;\">\n",
       "      <th></th>\n",
       "      <th>Ancestry</th>\n",
       "      <th>Number of subjects</th>\n",
       "      <th>Mean Gestational Age(weeks)</th>\n",
       "      <th>Mean PMA at scan</th>\n",
       "      <th>Mean ICV (mm3)</th>\n",
       "    </tr>\n",
       "  </thead>\n",
       "  <tbody>\n",
       "    <tr>\n",
       "      <th>0</th>\n",
       "      <td>European (term)</td>\n",
       "      <td>202</td>\n",
       "      <td>40.1 ± 1.2</td>\n",
       "      <td>41.6 ± 1.7</td>\n",
       "      <td>457526.7 ± 63213.6</td>\n",
       "    </tr>\n",
       "    <tr>\n",
       "      <th>1</th>\n",
       "      <td>European (preterm)</td>\n",
       "      <td>67</td>\n",
       "      <td>32.2 ± 3.8</td>\n",
       "      <td>39.1 ± 3.6</td>\n",
       "      <td>404412.5 ± 97061.3</td>\n",
       "    </tr>\n",
       "    <tr>\n",
       "      <th>2</th>\n",
       "      <td>Mixed Cohort Sample</td>\n",
       "      <td>750</td>\n",
       "      <td>37.4 ± 4.4</td>\n",
       "      <td>40.2 ± 3.1</td>\n",
       "      <td>424396.8 ± 84411.1</td>\n",
       "    </tr>\n",
       "  </tbody>\n",
       "</table>\n",
       "</div>"
      ],
      "text/plain": [
       "              Ancestry  Number of subjects Mean Gestational Age(weeks)  \\\n",
       "0      European (term)                 202                  40.1 ± 1.2   \n",
       "1   European (preterm)                  67                  32.2 ± 3.8   \n",
       "2  Mixed Cohort Sample                 750                  37.4 ± 4.4   \n",
       "\n",
       "  Mean PMA at scan      Mean ICV (mm3)  \n",
       "0       41.6 ± 1.7  457526.7 ± 63213.6  \n",
       "1       39.1 ± 3.6  404412.5 ± 97061.3  \n",
       "2       40.2 ± 3.1  424396.8 ± 84411.1  "
      ]
     },
     "execution_count": 10,
     "metadata": {},
     "output_type": "execute_result"
    }
   ],
   "source": [
    "def print_summary_statistics(df,*args):\n",
    "    return ('%.1f \\u00B1 %.1f' % (df[args[0]].mean(),df[args[0]].std()))\n",
    "\n",
    "pd.DataFrame({'Ancestry':['European (term)','European (preterm)','Mixed Cohort Sample'],'Number of subjects':[202,67,750],\n",
    "'Mean Gestational Age(weeks)':\n",
    "[print_summary_statistics(european_ID_dataset[european_ID_dataset['GA at birth']>37],'GA at birth'),\n",
    "print_summary_statistics(european_ID_dataset[european_ID_dataset['GA at birth']<=37],'GA at birth'),\n",
    "print_summary_statistics(full_dataset,'GA at birth')],\n",
    "'Mean PMA at scan':\n",
    "[print_summary_statistics(european_ID_dataset[european_ID_dataset['GA at birth']>37],'PMA at birth'),\n",
    "print_summary_statistics(european_ID_dataset[european_ID_dataset['GA at birth']<=37],'PMA at birth'),\n",
    "print_summary_statistics(full_dataset,'PMA at birth')],\n",
    "'Mean ICV (mm3)':[print_summary_statistics(european_ID_dataset[european_ID_dataset['GA at birth']>37],'17 ICV (all except bone)'),\n",
    "print_summary_statistics(european_ID_dataset[european_ID_dataset['GA at birth']<=37],'17 ICV (all except bone)'),\n",
    "print_summary_statistics(full_dataset,'17 ICV (all except bone)')]})"
   ]
  },
  {
   "cell_type": "code",
   "execution_count": 11,
   "metadata": {},
   "outputs": [],
   "source": [
    "european_ID_dataset_term=european_ID_dataset[european_ID_dataset['GA at birth']>37].reset_index(drop=True)\n",
    "european_ID_dataset_preterm=european_ID_dataset[european_ID_dataset['GA at birth']<=37].reset_index(drop=True)"
   ]
  },
  {
   "cell_type": "markdown",
   "metadata": {},
   "source": [
    "## 1.2 Removing outliers\n",
    "\n",
    "\n",
    "Note: when running change the dataset to term and preterm accordingly"
   ]
  },
  {
   "cell_type": "markdown",
   "metadata": {},
   "source": [
    "The outliers are removed according to their first 2 ancestrial PC z-scores. Anything more than 2.5 standard deviation from the mean is removed."
   ]
  },
  {
   "cell_type": "code",
   "execution_count": 12,
   "metadata": {},
   "outputs": [
    {
     "data": {
      "image/png": "[encoded data removed]",
      "text/plain": [
       "<Figure size 432x288 with 1 Axes>"
      ]
     },
     "metadata": {
      "needs_background": "light"
     },
     "output_type": "display_data"
    }
   ],
   "source": [
    "from scipy import stats\n",
    "zscores=np.abs(stats.zscore(european_ID_dataset_preterm.loc[:,('PC1','PC2')].astype('float64'),axis=0))\n",
    "outliers=np.where(zscores>=2.5)[0]#remove anything more than 2.5 st. deviation from the mean.\n",
    "\n",
    "#removing outliers using the ancestrial PCA\n",
    "fig,ax=plt.subplots()\n",
    "ax.scatter(european_ID_dataset_preterm.loc[:,'PC1'],european_ID_dataset_preterm.loc[:,'PC2'])\n",
    "for i,txt in enumerate(european_ID_dataset_preterm.loc[outliers,'ID']):\n",
    "    ax.annotate(txt,(european_ID_dataset_preterm.loc[outliers[i],'PC1'],european_ID_dataset_preterm.loc[outliers[i],'PC2']))\n",
    "ax.set_xlabel('PC1')\n",
    "ax.set_ylabel('PC2')\n",
    "\n",
    "european_ID_dataset_without_outliers=european_ID_dataset_preterm.drop(outliers).reset_index(drop=True)"
   ]
  },
  {
   "cell_type": "code",
   "execution_count": 13,
   "metadata": {},
   "outputs": [],
   "source": [
    "european_volumetric_AAL_matrix=np.asarray(european_ID_dataset_without_outliers.iloc[:,21:114])\n",
    "european_volumetric_Imperial_matrix=np.asarray(european_ID_dataset_without_outliers.iloc[:,114:201])\n",
    "european_ancestral_PCA=np.asarray(european_ID_dataset_without_outliers.iloc[:,212:222])\n",
    "european_PRS_schizophrenia=np.asarray(european_ID_dataset_without_outliers.iloc[:,201:212])"
   ]
  },
  {
   "cell_type": "code",
   "execution_count": 14,
   "metadata": {},
   "outputs": [],
   "source": [
    "#extracting ages, total volume, gender\n",
    "european_age_at_scan=np.asarray(european_ID_dataset_without_outliers.iloc[:,3])\n",
    "european_gestational_age=np.asarray(european_ID_dataset_without_outliers.iloc[:,2])\n",
    "european_total_volume=np.asarray(european_ID_dataset_without_outliers.iloc[:,5])\n",
    "european_icv=np.asarray(european_ID_dataset_without_outliers.iloc[:,4])"
   ]
  },
  {
   "cell_type": "markdown",
   "metadata": {},
   "source": [
    "## 1.3 Adjusting for covariates"
   ]
  },
  {
   "cell_type": "code",
   "execution_count": 17,
   "metadata": {},
   "outputs": [
    {
     "data": {
      "text/plain": [
       "Text(0, 0.5, 'PC3')"
      ]
     },
     "execution_count": 17,
     "metadata": {},
     "output_type": "execute_result"
    },
    {
     "data": {
      "image/png": "[encoded data removed]",
      "text/plain": [
       "<Figure size 432x288 with 1 Axes>"
      ]
     },
     "metadata": {
      "needs_background": "light"
     },
     "output_type": "display_data"
    }
   ],
   "source": [
    "plt.scatter(european_ancestral_PCA[:,1],european_ancestral_PCA[:,2])\n",
    "plt.xlabel('PC2')\n",
    "plt.ylabel('PC3')\n",
    "#check the PC1 vs. PC2, PC2 vs PC3, etc. until I see a structureless blob."
   ]
  },
  {
   "cell_type": "markdown",
   "metadata": {},
   "source": [
    "For PRS: I adjusted for the first 3 ancestral PCs.\n",
    "\n",
    "For volumetric data: I adjusted for age at scan, at birth, intracranial volume, and total volume."
   ]
  },
  {
   "cell_type": "code",
   "execution_count": 15,
   "metadata": {},
   "outputs": [],
   "source": [
    "#adjusting for covariates:\n",
    "#for PRS: I adjusted for 3 PCs. and for connectivity and structural data: I adjusted for age at scan, at birth, intracranial volume and gender. similar to Harriet's paper and Shi et al., 2012 (although this one has number of fibers regressed out as well).\n",
    "\n",
    "adjusted_european_PRS_schizophrenia=data_preprocessing.adjusting_for_covariates_with_lin_reg(european_PRS_schizophrenia,european_ancestral_PCA[:,0:3])#adjust for the first 3 PCs.\n",
    "adjusted_european_PRS_schizophrenia=adjusted_european_PRS_schizophrenia.astype('float64')\n",
    "\n",
    "adjusted_european_volumetric_AAL_matrix=data_preprocessing.adjusting_for_covariates_with_lin_reg(european_volumetric_AAL_matrix,european_age_at_scan,european_gestational_age,european_icv,european_total_volume)\n",
    "adjusted_european_volumetric_AAL_matrix=adjusted_european_volumetric_AAL_matrix.astype('float64')\n",
    "\n",
    "adjusted_european_volumetric_Imperial_matrix=data_preprocessing.adjusting_for_covariates_with_lin_reg(european_volumetric_Imperial_matrix,european_age_at_scan,european_gestational_age,european_icv,european_total_volume)\n",
    "adjusted_european_volumetric_Imperial_matrix=adjusted_european_volumetric_Imperial_matrix.astype('float64')\n",
    "\n",
    "#remove the CSF, Extracranial and Intracranial volume from adjusted_european_volumetric_Imperial_matrix\n",
    "adjusted_european_volumetric_Imperial_matrix=np.delete(adjusted_european_volumetric_Imperial_matrix,[82,83,84],axis=1)\n",
    "Imperial_label=np.delete(Imperial_label,[82,83,84],axis=0)\n",
    "\n",
    "#remove the WM from adjusted_european_structural_schizophrenia\n",
    "adjusted_european_GM_volumetric_Imperial_matrix=np.delete(adjusted_european_volumetric_Imperial_matrix,[idx for idx,i in enumerate(Imperial_label) if 'WM' in i or 'Corpus' in i],axis=1)\n",
    "Imperial_GM_labels=np.delete(Imperial_label,[idx for idx,i in enumerate(Imperial_label) if 'WM' in i or 'Corpus' in i],axis=0)"
   ]
  },
  {
   "cell_type": "code",
   "execution_count": 16,
   "metadata": {},
   "outputs": [],
   "source": [
    "def name_of_global_obj(xx):\n",
    "    return [objname for objname, oid in globals().items()\n",
    "        if id(oid)==id(xx) and not objname.startswith('_')][0]\n",
    "def save_to_npy(filepath,*args):\n",
    "    for i in args:\n",
    "        temp_name=filepath+name_of_global_obj(i)+'.npy'\n",
    "        np.save(temp_name,i)"
   ]
  },
  {
   "cell_type": "code",
   "execution_count": 22,
   "metadata": {},
   "outputs": [],
   "source": [
    "save_to_npy('./preprocessed_data/preterm/',adjusted_european_PRS_schizophrenia,european_PRS_schizophrenia,adjusted_european_volumetric_AAL_matrix,adjusted_european_volumetric_Imperial_matrix,Imperial_GM_labels,adjusted_european_GM_volumetric_Imperial_matrix, AAL_label,european_age_at_scan,european_gestational_age,european_icv)"
   ]
  },
  {
   "cell_type": "code",
   "execution_count": 23,
   "metadata": {},
   "outputs": [
    {
     "name": "stdout",
     "output_type": "stream",
     "text": [
      "AAL_label.npy\n",
      "Imperial_GM_labels.npy\n",
      "adjusted_european_GM_volumetric_Imperial_matrix.npy\n",
      "adjusted_european_PRS_schizophrenia.npy\n",
      "adjusted_european_volumetric_AAL_matrix.npy\n",
      "adjusted_european_volumetric_Imperial_matrix.npy\n",
      "european_PRS_schizophrenia.npy\n",
      "european_age_at_scan.npy\n",
      "european_gestational_age.npy\n",
      "european_icv.npy\n"
     ]
    }
   ],
   "source": [
    "! ls preprocessed_data/preterm/"
   ]
  },
  {
   "cell_type": "code",
   "execution_count": null,
   "metadata": {},
   "outputs": [],
   "source": []
  }
 ],
 "metadata": {
  "kernelspec": {
   "display_name": "Python 3",
   "language": "python",
   "name": "python3"
  },
  "language_info": {
   "codemirror_mode": {
    "name": "ipython",
    "version": 3
   },
   "file_extension": ".py",
   "mimetype": "text/x-python",
   "name": "python",
   "nbconvert_exporter": "python",
   "pygments_lexer": "ipython3",
   "version": "3.6.10"
  }
 },
 "nbformat": 4,
 "nbformat_minor": 2
}
