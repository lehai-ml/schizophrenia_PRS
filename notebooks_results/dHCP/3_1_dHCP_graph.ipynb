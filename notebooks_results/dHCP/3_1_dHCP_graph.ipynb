{
 "metadata": {
  "language_info": {
   "codemirror_mode": {
    "name": "ipython",
    "version": 3
   },
   "file_extension": ".py",
   "mimetype": "text/x-python",
   "name": "python",
   "nbconvert_exporter": "python",
   "pygments_lexer": "ipython3",
   "version": "3.8.5-final"
  },
  "orig_nbformat": 2,
  "kernelspec": {
   "name": "python3",
   "display_name": "Python 3",
   "language": "python"
  }
 },
 "nbformat": 4,
 "nbformat_minor": 2,
 "cells": [
  {
   "cell_type": "code",
   "execution_count": 1,
   "metadata": {},
   "outputs": [],
   "source": [
    "import sys\n",
    "sys.path.append('../../')\n"
   ]
  },
  {
   "source": [
    "# E-PRIME"
   ],
   "cell_type": "markdown",
   "metadata": {}
  },
  {
   "source": [
    "![](preprocessed_data/volumetric/ePrime_neonates_Imperial.png)"
   ],
   "cell_type": "markdown",
   "metadata": {}
  },
  {
   "source": [
    "# dHCP"
   ],
   "cell_type": "markdown",
   "metadata": {}
  },
  {
   "source": [
    "## Imperial Atlas"
   ],
   "cell_type": "markdown",
   "metadata": {}
  },
  {
   "source": [
    "### Preterm"
   ],
   "cell_type": "markdown",
   "metadata": {}
  },
  {
   "source": [
    "!['something'](./preprocessed_data/volumetric/preterm_neonates_Imperial.png)"
   ],
   "cell_type": "markdown",
   "metadata": {}
  },
  {
   "source": [
    "### Term"
   ],
   "cell_type": "markdown",
   "metadata": {}
  },
  {
   "source": [
    "!['something'](./preprocessed_data/volumetric/term_neonates_Imperial.png)"
   ],
   "cell_type": "markdown",
   "metadata": {}
  },
  {
   "source": [
    "## AAL"
   ],
   "cell_type": "markdown",
   "metadata": {}
  },
  {
   "source": [
    "### Preterm"
   ],
   "cell_type": "markdown",
   "metadata": {}
  },
  {
   "source": [
    "!['something'](./preprocessed_data/volumetric/preterm_neonates_AAL.png)"
   ],
   "cell_type": "markdown",
   "metadata": {}
  },
  {
   "source": [
    "### Term"
   ],
   "cell_type": "markdown",
   "metadata": {}
  },
  {
   "source": [
    "!['something'](./preprocessed_data/volumetric/term_neonates_AAL.png)"
   ],
   "cell_type": "markdown",
   "metadata": {}
  }
 ]
}