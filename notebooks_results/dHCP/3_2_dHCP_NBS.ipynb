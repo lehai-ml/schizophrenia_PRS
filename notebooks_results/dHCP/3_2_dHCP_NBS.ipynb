{
 "cells": [
  {
   "cell_type": "code",
   "execution_count": 1,
   "metadata": {},
   "outputs": [],
   "source": [
    "import sys\n",
    "sys.path.append('../../')"
   ]
  },
  {
   "cell_type": "code",
   "execution_count": 2,
   "metadata": {},
   "outputs": [],
   "source": [
    "from codes.docs.analysis import graph_analysis, data_preprocessing\n",
    "\n",
    "import numpy as np\n",
    "import pandas as pd\n",
    "from sklearn.preprocessing import StandardScaler\n",
    "import matplotlib.pyplot as plt\n",
    "import networkx as nx\n",
    "%matplotlib inline\n"
   ]
  },
  {
   "cell_type": "code",
   "execution_count": 4,
   "metadata": {},
   "outputs": [],
   "source": [
    "obsv_p_value=pd.read_csv('./preprocessed_data/diffusion/term/observed_univariate_test.csv')"
   ]
  },
  {
   "cell_type": "code",
   "execution_count": 98,
   "metadata": {},
   "outputs": [
    {
     "output_type": "execute_result",
     "data": {
      "text/plain": [
       "             Connection  prs_pval     prs_coef   GA_pval   GA_coef  \\\n",
       "0       PreCG.R_PreCG.L  0.250443     0.438658  0.434077  0.002754   \n",
       "1      SFGdor.L_PreCG.L  0.761467    -1.576926  0.883218  0.007046   \n",
       "2      SFGdor.L_PreCG.R  0.350050     0.162456  0.707692 -0.000601   \n",
       "3      SFGdor.R_PreCG.L  0.119149     0.377766  0.073799  0.004008   \n",
       "4      SFGdor.R_PreCG.R  0.768330    -1.828920  0.645865 -0.026355   \n",
       "...                 ...       ...          ...       ...       ...   \n",
       "27583       ITG.R_HES.R  0.468726   -25.166730  0.402139  0.000922   \n",
       "27584       ITG.R_STG.R  0.384304  -623.172000  0.620042  0.011239   \n",
       "27585    ITG.R_TPOsup.R  0.331244  -907.061100  0.782151  0.008164   \n",
       "27586       ITG.R_MTG.R  0.133132 -5583.840000  0.273121  0.128825   \n",
       "27587    ITG.R_TPOmid.R  0.564841  -933.843800  0.100704 -0.084676   \n",
       "\n",
       "           PMA_pval  PMA_coef  Gender_pval  Gender_coef  Adj_R_square  \\\n",
       "0      5.145775e-01  0.001560     0.691335    -0.002655      0.003581   \n",
       "1      2.154667e-02  0.075665     0.180319    -0.122539      0.039043   \n",
       "2      4.422449e-01 -0.000839     0.210553    -0.003826      0.002123   \n",
       "3      3.934512e-01 -0.001296     0.936013    -0.000340      0.017708   \n",
       "4      3.124186e-03  0.116972     0.811488    -0.025997      0.048545   \n",
       "...             ...       ...          ...          ...           ...   \n",
       "27583  7.155907e-03 -0.002052     0.000157    -0.008159      0.124433   \n",
       "27584  1.275813e-01 -0.023762     0.000476    -0.154915      0.078251   \n",
       "27585  4.939543e-02 -0.040033     0.841575     0.011311      0.015543   \n",
       "27586  2.541545e-08  0.472438     0.004447    -0.648445      0.311347   \n",
       "27587  2.714008e-11  0.253157     0.366118    -0.089079      0.278451   \n",
       "\n",
       "         model_pval PRS_threshold  \n",
       "0      3.411659e-01        X1e.08  \n",
       "1      4.132944e-02        X1e.08  \n",
       "2      3.678854e-01        X1e.08  \n",
       "3      1.553779e-01        X1e.08  \n",
       "4      2.206321e-02        X1e.08  \n",
       "...             ...           ...  \n",
       "27583  8.350859e-05            X1  \n",
       "27584  2.768626e-03            X1  \n",
       "27585  1.762710e-01            X1  \n",
       "27586  3.027523e-12            X1  \n",
       "27587  8.876168e-11            X1  \n",
       "\n",
       "[27588 rows x 12 columns]"
      ],
      "text/html": "<div>\n<style scoped>\n    .dataframe tbody tr th:only-of-type {\n        vertical-align: middle;\n    }\n\n    .dataframe tbody tr th {\n        vertical-align: top;\n    }\n\n    .dataframe thead th {\n        text-align: right;\n    }\n</style>\n<table border=\"1\" class=\"dataframe\">\n  <thead>\n    <tr style=\"text-align: right;\">\n      <th></th>\n      <th>Connection</th>\n      <th>prs_pval</th>\n      <th>prs_coef</th>\n      <th>GA_pval</th>\n      <th>GA_coef</th>\n      <th>PMA_pval</th>\n      <th>PMA_coef</th>\n      <th>Gender_pval</th>\n      <th>Gender_coef</th>\n      <th>Adj_R_square</th>\n      <th>model_pval</th>\n      <th>PRS_threshold</th>\n    </tr>\n  </thead>\n  <tbody>\n    <tr>\n      <th>0</th>\n      <td>PreCG.R_PreCG.L</td>\n      <td>0.250443</td>\n      <td>0.438658</td>\n      <td>0.434077</td>\n      <td>0.002754</td>\n      <td>5.145775e-01</td>\n      <td>0.001560</td>\n      <td>0.691335</td>\n      <td>-0.002655</td>\n      <td>0.003581</td>\n      <td>3.411659e-01</td>\n      <td>X1e.08</td>\n    </tr>\n    <tr>\n      <th>1</th>\n      <td>SFGdor.L_PreCG.L</td>\n      <td>0.761467</td>\n      <td>-1.576926</td>\n      <td>0.883218</td>\n      <td>0.007046</td>\n      <td>2.154667e-02</td>\n      <td>0.075665</td>\n      <td>0.180319</td>\n      <td>-0.122539</td>\n      <td>0.039043</td>\n      <td>4.132944e-02</td>\n      <td>X1e.08</td>\n    </tr>\n    <tr>\n      <th>2</th>\n      <td>SFGdor.L_PreCG.R</td>\n      <td>0.350050</td>\n      <td>0.162456</td>\n      <td>0.707692</td>\n      <td>-0.000601</td>\n      <td>4.422449e-01</td>\n      <td>-0.000839</td>\n      <td>0.210553</td>\n      <td>-0.003826</td>\n      <td>0.002123</td>\n      <td>3.678854e-01</td>\n      <td>X1e.08</td>\n    </tr>\n    <tr>\n      <th>3</th>\n      <td>SFGdor.R_PreCG.L</td>\n      <td>0.119149</td>\n      <td>0.377766</td>\n      <td>0.073799</td>\n      <td>0.004008</td>\n      <td>3.934512e-01</td>\n      <td>-0.001296</td>\n      <td>0.936013</td>\n      <td>-0.000340</td>\n      <td>0.017708</td>\n      <td>1.553779e-01</td>\n      <td>X1e.08</td>\n    </tr>\n    <tr>\n      <th>4</th>\n      <td>SFGdor.R_PreCG.R</td>\n      <td>0.768330</td>\n      <td>-1.828920</td>\n      <td>0.645865</td>\n      <td>-0.026355</td>\n      <td>3.124186e-03</td>\n      <td>0.116972</td>\n      <td>0.811488</td>\n      <td>-0.025997</td>\n      <td>0.048545</td>\n      <td>2.206321e-02</td>\n      <td>X1e.08</td>\n    </tr>\n    <tr>\n      <th>...</th>\n      <td>...</td>\n      <td>...</td>\n      <td>...</td>\n      <td>...</td>\n      <td>...</td>\n      <td>...</td>\n      <td>...</td>\n      <td>...</td>\n      <td>...</td>\n      <td>...</td>\n      <td>...</td>\n      <td>...</td>\n    </tr>\n    <tr>\n      <th>27583</th>\n      <td>ITG.R_HES.R</td>\n      <td>0.468726</td>\n      <td>-25.166730</td>\n      <td>0.402139</td>\n      <td>0.000922</td>\n      <td>7.155907e-03</td>\n      <td>-0.002052</td>\n      <td>0.000157</td>\n      <td>-0.008159</td>\n      <td>0.124433</td>\n      <td>8.350859e-05</td>\n      <td>X1</td>\n    </tr>\n    <tr>\n      <th>27584</th>\n      <td>ITG.R_STG.R</td>\n      <td>0.384304</td>\n      <td>-623.172000</td>\n      <td>0.620042</td>\n      <td>0.011239</td>\n      <td>1.275813e-01</td>\n      <td>-0.023762</td>\n      <td>0.000476</td>\n      <td>-0.154915</td>\n      <td>0.078251</td>\n      <td>2.768626e-03</td>\n      <td>X1</td>\n    </tr>\n    <tr>\n      <th>27585</th>\n      <td>ITG.R_TPOsup.R</td>\n      <td>0.331244</td>\n      <td>-907.061100</td>\n      <td>0.782151</td>\n      <td>0.008164</td>\n      <td>4.939543e-02</td>\n      <td>-0.040033</td>\n      <td>0.841575</td>\n      <td>0.011311</td>\n      <td>0.015543</td>\n      <td>1.762710e-01</td>\n      <td>X1</td>\n    </tr>\n    <tr>\n      <th>27586</th>\n      <td>ITG.R_MTG.R</td>\n      <td>0.133132</td>\n      <td>-5583.840000</td>\n      <td>0.273121</td>\n      <td>0.128825</td>\n      <td>2.541545e-08</td>\n      <td>0.472438</td>\n      <td>0.004447</td>\n      <td>-0.648445</td>\n      <td>0.311347</td>\n      <td>3.027523e-12</td>\n      <td>X1</td>\n    </tr>\n    <tr>\n      <th>27587</th>\n      <td>ITG.R_TPOmid.R</td>\n      <td>0.564841</td>\n      <td>-933.843800</td>\n      <td>0.100704</td>\n      <td>-0.084676</td>\n      <td>2.714008e-11</td>\n      <td>0.253157</td>\n      <td>0.366118</td>\n      <td>-0.089079</td>\n      <td>0.278451</td>\n      <td>8.876168e-11</td>\n      <td>X1</td>\n    </tr>\n  </tbody>\n</table>\n<p>27588 rows × 12 columns</p>\n</div>"
     },
     "metadata": {},
     "execution_count": 98
    }
   ],
   "source": [
    "obsv_p_value"
   ]
  },
  {
   "cell_type": "code",
   "execution_count": 5,
   "metadata": {},
   "outputs": [],
   "source": [
    "ROIs_combinations=data_preprocessing.ROIs_combinations('./dataset/Regions_of_interests.csv')"
   ]
  },
  {
   "cell_type": "code",
   "execution_count": 135,
   "metadata": {},
   "outputs": [],
   "source": [
    "def calculate_biggest_network_size(G,retain_the_component_sizes=False):\n",
    "    \"\"\"\n",
    "    Return the size (number of edges) of the largest connected component graph.\n",
    "    Argument\n",
    "        G: a networkx Graph.\n",
    "    Return\n",
    "        biggest_size: size of the largest connected component.\n",
    "    \"\"\"\n",
    "    component_sizes=np.asarray([G.subgraph(c).copy().number_of_edges() for c in nx.connected_components(G)])\n",
    "    biggest_size=np.max(component_sizes)\n",
    "    if retain_the_component_sizes:\n",
    "        return component_sizes\n",
    "    return biggest_size"
   ]
  },
  {
   "cell_type": "code",
   "execution_count": 133,
   "metadata": {},
   "outputs": [
    {
     "output_type": "execute_result",
     "data": {
      "text/plain": [
       "array([ 0,  1,  0,  1,  0,  0,  0,  0,  0,  0,  0,  0,  1,  0,  0,  2,  0,\n",
       "       10,  4,  0,  5,  0,  0,  0,  0,  0,  0,  0,  0,  0,  0,  0,  0,  0,\n",
       "        0,  0,  0,  1,  0,  0,  0,  0,  0,  0,  0,  1,  0,  0,  0,  0,  0,\n",
       "        0,  0,  0,  0,  0,  0,  1,  0,  0,  0,  0,  0,  0])"
      ]
     },
     "metadata": {},
     "execution_count": 133
    }
   ],
   "source": [
    "(np.asarray([testG.subgraph(c).copy().number_of_edges() for c in nx.connected_components(testG)]))"
   ]
  },
  {
   "cell_type": "code",
   "execution_count": 127,
   "metadata": {},
   "outputs": [
    {
     "output_type": "stream",
     "name": "stderr",
     "text": [
      "100%|██████████| 11/11 [00:04<00:00,  2.27it/s]\n"
     ]
    }
   ],
   "source": [
    "PRS_threshold=['X1e.08','X1e.07','X1e.06','X1e.05','X0.0001','X0.001','X0.01','X0.05','X0.1','X0.5','X1']\n",
    "obsv_component_size_distribution=dict()\n",
    "\n",
    "for threshold in tqdm.tqdm(PRS_threshold):\n",
    "\n",
    "    obsv_df=obsv_p_value.loc[obsv_p_value['PRS_threshold']==threshold,('Connection','prs_pval')]\n",
    "    \n",
    "    obsv_matrix=np.ones(ROIs_combinations.shape)\n",
    "    for i in range(len(obsv_df['Connection'])):\n",
    "        i1,j1=np.where(ROIs_combinations==np.asarray(obsv_df['Connection'])[i])\n",
    "        obsv_matrix[i1,j1]=obsv_matrix[j1,i1]=np.asarray(obsv_df['prs_pval'])[i]\n",
    "        thresholded_matrix=np.where(obsv_matrix<0.01,1,0)\n",
    "    obsv_component_size_distribution[threshold]=calculate_biggest_network_size(nx.from_numpy_array(thresholded_matrix))"
   ]
  },
  {
   "cell_type": "code",
   "execution_count": 128,
   "metadata": {},
   "outputs": [
    {
     "output_type": "execute_result",
     "data": {
      "text/plain": [
       "{'X1e.08': 10,\n",
       " 'X1e.07': 9,\n",
       " 'X1e.06': 8,\n",
       " 'X1e.05': 5,\n",
       " 'X0.0001': 6,\n",
       " 'X0.001': 5,\n",
       " 'X0.01': 3,\n",
       " 'X0.05': 4,\n",
       " 'X0.1': 8,\n",
       " 'X0.5': 8,\n",
       " 'X1': 5}"
      ]
     },
     "metadata": {},
     "execution_count": 128
    }
   ],
   "source": [
    "obsv_component_size_distribution"
   ]
  },
  {
   "cell_type": "code",
   "execution_count": 120,
   "metadata": {},
   "outputs": [],
   "source": [
    "import glob\n",
    "perm=glob.glob('./log/diffusion/term/perm_data_in_R/*')[0]"
   ]
  },
  {
   "cell_type": "code",
   "execution_count": 30,
   "metadata": {},
   "outputs": [],
   "source": [
    "import tqdm"
   ]
  },
  {
   "cell_type": "code",
   "execution_count": 138,
   "metadata": {},
   "outputs": [
    {
     "output_type": "stream",
     "name": "stderr",
     "text": [
      "100%|██████████| 1000/1000 [1:06:26<00:00,  3.99s/it]\n"
     ]
    }
   ],
   "source": [
    "perm_component_size_distribution=dict()\n",
    "n=0\n",
    "for perm in tqdm.tqdm(glob.glob('./log/diffusion/term/perm_data_in_R/*')):\n",
    "    perm_component_size_distribution[n]=dict()\n",
    "    perm_p_value=pd.read_csv(perm)\n",
    "    for threshold in PRS_threshold:    \n",
    "        perm_df=perm_p_value.loc[perm_p_value['PRS_threshold']==threshold,('Connection','prs_pval')]\n",
    "        perm_matrix=np.ones(ROIs_combinations.shape)\n",
    "        for i in range(len(perm_df['Connection'])):\n",
    "            i1,j1=np.where(ROIs_combinations==np.asarray(perm_df['Connection'])[i])\n",
    "            perm_matrix[i1,j1]=perm_matrix[j1,i1]=np.asarray(perm_df['prs_pval'])[i]\n",
    "        thresholded_matrix_perm=np.where(perm_matrix<0.01,1,0)\n",
    "        perm_component_size_distribution[n][threshold]=calculate_biggest_network_size(nx.from_numpy_array(thresholded_matrix_perm),retain_the_component_sizes=True)\n",
    "    n+=1\n"
   ]
  },
  {
   "cell_type": "code",
   "execution_count": 139,
   "metadata": {},
   "outputs": [],
   "source": [
    "import pickle\n",
    "def save_obj(obj, name ):\n",
    "    with open(name + '.pkl', 'wb') as f:\n",
    "        pickle.dump(obj, f, pickle.HIGHEST_PROTOCOL)"
   ]
  },
  {
   "cell_type": "code",
   "execution_count": 142,
   "metadata": {},
   "outputs": [],
   "source": [
    "save_obj(perm_component_size_distribution,'./log/diffusion/term/perm_component_size_distribution_001')"
   ]
  },
  {
   "cell_type": "code",
   "execution_count": 7,
   "metadata": {},
   "outputs": [],
   "source": [
    "import pickle\n",
    "with open('./log/diffusion/term/perm_component_size_distribution_001.pkl', 'rb') as handle:\n",
    "    perm_component_size_distribution = pickle.load(handle)"
   ]
  },
  {
   "cell_type": "code",
   "execution_count": 26,
   "metadata": {
    "tags": []
   },
   "outputs": [
    {
     "output_type": "stream",
     "name": "stdout",
     "text": [
      "pvalue for threshold X1e.08 is 0.448\npvalue for threshold X1e.07 is 0.483\npvalue for threshold X1e.06 is 0.526\npvalue for threshold X1e.05 is 0.704\npvalue for threshold X0.0001 is 0.656\npvalue for threshold X0.001 is 0.701\npvalue for threshold X0.01 is 0.862\npvalue for threshold X0.05 is 0.779\npvalue for threshold X0.1 is 0.554\npvalue for threshold X0.5 is 0.555\npvalue for threshold X1 is 0.706\n"
     ]
    }
   ],
   "source": [
    "PRS_threshold=['X1e.08','X1e.07','X1e.06','X1e.05','X0.0001','X0.001','X0.01','X0.05','X0.1','X0.5','X1']\n",
    "obsv_component_size={'X1e.08': 10,\n",
    " 'X1e.07': 9,\n",
    " 'X1e.06': 8,\n",
    " 'X1e.05': 5,\n",
    " 'X0.0001': 6,\n",
    " 'X0.001': 5,\n",
    " 'X0.01': 3,\n",
    " 'X0.05': 4,\n",
    " 'X0.1': 8,\n",
    " 'X0.5': 8,\n",
    " 'X1': 5}\n",
    "for threshold in PRS_threshold:\n",
    "    X1e08_distribution=[]\n",
    "    for n in range(1000):\n",
    "        X1e08_distribution.append(np.max(perm_component_size_distribution[n][threshold]))\n",
    "    print(f'pvalue for threshold {threshold} is {len(np.where(np.asarray(X1e08_distribution)>obsv_component_size[threshold])[0])/1000}')"
   ]
  },
  {
   "cell_type": "code",
   "execution_count": 22,
   "metadata": {},
   "outputs": [
    {
     "output_type": "stream",
     "name": "stdout",
     "text": [
      "0.448\n"
     ]
    }
   ],
   "source": [
    "print(f'pvalue for threshold {threshold} is {len(np.where(np.asarray(X1e08_distribution)>10)[0])/1000}')"
   ]
  },
  {
   "cell_type": "code",
   "execution_count": null,
   "metadata": {},
   "outputs": [],
   "source": []
  }
 ],
 "metadata": {
  "kernelspec": {
   "display_name": "Python 3",
   "language": "python",
   "name": "python3"
  },
  "language_info": {
   "codemirror_mode": {
    "name": "ipython",
    "version": 3
   },
   "file_extension": ".py",
   "mimetype": "text/x-python",
   "name": "python",
   "nbconvert_exporter": "python",
   "pygments_lexer": "ipython3",
   "version": "3.8.5-final"
  }
 },
 "nbformat": 4,
 "nbformat_minor": 2
}