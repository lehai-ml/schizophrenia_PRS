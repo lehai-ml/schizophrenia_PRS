{
 "metadata": {
  "language_info": {
   "codemirror_mode": {
    "name": "ipython",
    "version": 3
   },
   "file_extension": ".py",
   "mimetype": "text/x-python",
   "name": "python",
   "nbconvert_exporter": "python",
   "pygments_lexer": "ipython3",
   "version": "3.8.5-final"
  },
  "orig_nbformat": 2,
  "kernelspec": {
   "name": "python3",
   "display_name": "Python 3.8.5 64-bit ('py38': conda)",
   "metadata": {
    "interpreter": {
     "hash": "b92c6c732e6dd3283b7c5e079d2583aeab6917529c605e0b0791267cc882dd0a"
    }
   }
  }
 },
 "nbformat": 4,
 "nbformat_minor": 2,
 "cells": [
  {
   "cell_type": "code",
   "execution_count": 1,
   "metadata": {},
   "outputs": [],
   "source": [
    "import sys\n",
    "sys.path.append('../../')"
   ]
  },
  {
   "cell_type": "code",
   "execution_count": 7,
   "metadata": {},
   "outputs": [],
   "source": [
    "from codes.docs.analysis import data_preprocessing, MLtraining\n",
    "from sklearn.model_selection import KFold\n",
    "import numpy as np\n",
    "from sklearn.preprocessing import StandardScaler, MinMaxScaler\n",
    "import matplotlib.pyplot as pyplot\n",
    "import pandas as pd\n",
    "import tqdm\n",
    "\n",
    "%matplotlib inline\n",
    "\n",
    "from sklearn.linear_model import LinearRegression"
   ]
  },
  {
   "cell_type": "code",
   "execution_count": 8,
   "metadata": {},
   "outputs": [
    {
     "output_type": "stream",
     "name": "stdout",
     "text": [
      "removed 1492 features, in which at least 1 of subjects registered zeros values \n"
     ]
    }
   ],
   "source": [
    "european_diffusion_dataset_term=pd.read_csv('./preprocessed_data/diffusion/term/european_diffusion_dataset_term.csv')\n",
    "def calc_zero_proportion(column):\n",
    "    return(column==0).sum()/len(column)\n",
    "\n",
    "zero_proportions_features=european_diffusion_dataset_term.loc[:,'PreCG.R_PreCG.L':'ITG.R_ITG.L'].agg(calc_zero_proportion)\n",
    "\n",
    "print(f'removed {(zero_proportions_features>0).sum()} features, in which at least 1 of subjects registered zeros values ')\n",
    "european_diffusion_dataset_term_reduced=european_diffusion_dataset_term.drop(columns=zero_proportions_features.index[zero_proportions_features>0])\n",
    "#european_diffusion_dataset_term_reduced is the reduced version with non-zero features"
   ]
  },
  {
   "cell_type": "code",
   "execution_count": 9,
   "metadata": {},
   "outputs": [],
   "source": [
    "#preprocess the PRS score\n",
    "PRS_thresholds=['PRS_1e08', 'PRS_1e07', 'PRS_1e06', 'PRS_1e05', 'PRS_0.0001','PRS_0.001', 'PRS_0.01', 'PRS_0.05', 'PRS_0.1', 'PRS_0.5', 'PRS_1']\n",
    "\n",
    "\n",
    "adjusted_prs_score=data_preprocessing.adjusting_for_covariates_with_lin_reg(np.array(european_diffusion_dataset_term_reduced[PRS_thresholds]),\n",
    "np.array(european_diffusion_dataset_term_reduced['Anc_PC1']),np.array(european_diffusion_dataset_term_reduced['Anc_PC2']),np.array(european_diffusion_dataset_term_reduced['Anc_PC3']))"
   ]
  },
  {
   "cell_type": "code",
   "execution_count": 384,
   "metadata": {},
   "outputs": [],
   "source": [
    "X=np.asarray(european_diffusion_dataset_term_reduced.iloc[:,203:2716])\n",
    "y=np.asarray(european_diffusion_dataset_term_reduced['PMA_diff'])"
   ]
  },
  {
   "cell_type": "code",
   "execution_count": 512,
   "metadata": {},
   "outputs": [],
   "source": [
    "def remove_correlated_features(X,target,threshold=0.8):\n",
    "    X=X.copy() # avoid changes to the original array\n",
    "    dict_of_features=defaultdict(list)\n",
    "    for i in range(X.shape[1]):\n",
    "        dict_of_features[i].append(i)\n",
    "    \n",
    "    while True:\n",
    "        corr_matrix_between_features=np.corrcoef(X,rowvar=False) # calculate the correlation matrix between features\n",
    "        corr_matrix_between_features[np.isnan(corr_matrix_between_features)]=0 # set any nan number to 0.\n",
    "        np.fill_diagonal(corr_matrix_between_features,0) # fill the diagonal of 1s to 0s.\n",
    "        maximum_correlation=np.max(np.abs(corr_matrix_between_features))\n",
    "        if maximum_correlation < threshold:\n",
    "            break\n",
    "        # for some reason, when the nrow (X) is < ncol(X), then the resulting correlation matrix is symmetrical, but not when nrow(X) is less than ncol(X), the difference in the non-symmetrical is very small, almost non-negligible. However, when you run np.where, this will result in differing output.\n",
    "        try:\n",
    "            feature_0,feature_1=np.where(np.abs(corr_matrix_between_features)==maximum_correlation)[0] # find where the highest correlation pair is\n",
    "        except ValueError: # when the unpacking is unsuccessful, feature is an array int\n",
    "            feature_0,feature_1=np.where(np.abs(corr_matrix_between_features)==maximum_correlation)\n",
    "            feature_0=feature_0[0] #get it into an interger format to be consistent\n",
    "            feature_1=feature_1[0]\n",
    "        feature_0_corr_coef=pearsonr(X[:,feature_0],target)[0]\n",
    "        feature_1_corr_coef=pearsonr(X[:,feature_1],target)[0]\n",
    "        if feature_0_corr_coef>feature_1_corr_coef: # check which one has higher correlation to the target\n",
    "            dict_of_features[feature_0].extend(dict_of_features[feature_1]) # represent the lower correlated feature with the higher one.\n",
    "            X[:,feature_1]=np.nan # set the values in the eliminated feature as nan. so that next time, we don't have to recompute the correlation.\n",
    "            del dict_of_features[feature_1] # delete that key\n",
    "        else:\n",
    "            dict_of_features[feature_1].extend(dict_of_features[feature_0])\n",
    "            X[:,feature_0]=np.nan\n",
    "            del dict_of_features[feature_0]\n",
    "\n",
    "    return dict_of_features\n",
    "\n",
    "def merge_the_features(X,dict_of_features,average=False):\n",
    "    \"\"\"\n",
    "    merge the correlated features, either by elimination or averaging\n",
    "    if elimination: just choose the key of the dictionary\n",
    "    if average: average the features within each keys.\n",
    "    \"\"\"\n",
    "    X=X.copy()\n",
    "    if average:\n",
    "        for key,values in dict_of_features.items():\n",
    "            if len(values)>1:\n",
    "                X[:,key]=np.mean(X[:,values],axis=1)\n",
    "\n",
    "    for col in range(X.shape[1]):\n",
    "        if not dict_of_features[col]:#if this key is empty\n",
    "            X[:,col]=np.nan\n",
    "    return X\n",
    "    \n",
    "def merge_features_names(dict_of_features,feature_names):\n",
    "    \"\"\"\n",
    "    Used in conjunction with the merge the features to get the name of the representative feature name and its constituents.\n",
    "    Output:\n",
    "        defaultdict(list,\n",
    "            {'SFGdor.R_PreCG.L': ['SMA.R_PreCG.L'],\n",
    "             'ORBsup.L_SFGdor.R': ['SFGmed.R_ORBsup.L'],\n",
    "             'ORBsup.R_PreCG.R': ['ORBmid.R_PreCG.R'],...}\n",
    "    \"\"\"\n",
    "    new_dict_of_names=defaultdict(list)\n",
    "    for key,values in dict_of_features.items():\n",
    "        if len(values)>1:\n",
    "            new_dict_of_names[feature_names[key]]=list(feature_names[values[1:]])\n",
    "    return new_dict_of_names"
   ]
  },
  {
   "cell_type": "code",
   "execution_count": 403,
   "metadata": {},
   "outputs": [
    {
     "output_type": "stream",
     "name": "stdout",
     "text": [
      "29.9 s ± 1.69 s per loop (mean ± std. dev. of 7 runs, 1 loop each)\n"
     ]
    }
   ],
   "source": [
    "%timeit remove_correlated_features(X,adjusted_prs_score[:,7])"
   ]
  },
  {
   "cell_type": "code",
   "execution_count": 467,
   "metadata": {},
   "outputs": [],
   "source": [
    "average_X=merge_the_features(X,test,average=True)\n",
    "eliminate_X=merge_the_features(X,test,average=False)"
   ]
  },
  {
   "cell_type": "code",
   "execution_count": 471,
   "metadata": {},
   "outputs": [],
   "source": [
    "average_X=pd.DataFrame(average_X)"
   ]
  },
  {
   "cell_type": "code",
   "execution_count": 475,
   "metadata": {},
   "outputs": [],
   "source": [
    "average_X.columns=european_diffusion_dataset_term_reduced.iloc[:,203:2716].columns"
   ]
  },
  {
   "cell_type": "code",
   "execution_count": 480,
   "metadata": {},
   "outputs": [
    {
     "output_type": "execute_result",
     "data": {
      "text/plain": [
       "     PreCG.R_PreCG.L  SFGdor.L_PreCG.L  SFGdor.R_PreCG.L  SFGdor.R_PreCG.R  \\\n",
       "0           0.009573          3.672285          0.012784          3.640346   \n",
       "1           0.051696          1.790308          0.050054          2.413920   \n",
       "2           0.042033          3.778783          0.030113          5.280913   \n",
       "3           0.088358          2.819123          0.041142          3.580281   \n",
       "4           0.095817          2.582996          0.074419          3.737281   \n",
       "..               ...               ...               ...               ...   \n",
       "146         0.083487          2.869284          0.063264          2.916596   \n",
       "147         0.030477          1.949638          0.028811          2.857530   \n",
       "148         0.075496          2.815264          0.103853          3.762986   \n",
       "149         0.019497          1.943436          0.035241          2.433037   \n",
       "150         0.037400          2.555858          0.035285          3.355633   \n",
       "\n",
       "     ORBsup.L_PreCG.L  ORBsup.L_SFGdor.L  ORBsup.L_SFGdor.R  ORBsup.R_PreCG.L  \\\n",
       "0            0.014490           0.558478           0.009154          0.000045   \n",
       "1            0.013734           0.423371           0.013725          0.000235   \n",
       "2            0.008970           0.283879           0.017326          0.000617   \n",
       "3            0.009090           0.624162           0.007946          0.000474   \n",
       "4            0.004239           0.708756           0.011278          0.000892   \n",
       "..                ...                ...                ...               ...   \n",
       "146          0.011843           0.985391           0.012439          0.001119   \n",
       "147          0.008456           0.410248           0.008398          0.000535   \n",
       "148          0.008082           0.634381           0.010858          0.000812   \n",
       "149          0.007883           0.409369           0.005244          0.000601   \n",
       "150          0.007671           1.134884           0.006867          0.000415   \n",
       "\n",
       "     ORBsup.R_PreCG.R  ORBsup.R_SFGdor.R  ...  ITG.R_PUT.R  ITG.R_PAL.L  \\\n",
       "0            0.011890           0.528269  ...     0.497267     0.002266   \n",
       "1            0.016596           0.384222  ...     0.379149     0.001185   \n",
       "2            0.006661           0.865717  ...     0.571502     0.001337   \n",
       "3            0.004920           1.331177  ...     0.635597     0.005216   \n",
       "4            0.006026           0.272395  ...     0.437032     0.001131   \n",
       "..                ...                ...  ...          ...          ...   \n",
       "146          0.009370           1.329999  ...     0.489779     0.002875   \n",
       "147          0.007975           0.770036  ...     0.275731     0.001454   \n",
       "148          0.008078           0.992587  ...     0.525683     0.003362   \n",
       "149          0.008509           0.395321  ...     0.460397     0.000759   \n",
       "150          0.008177           0.398718  ...     0.396190     0.002590   \n",
       "\n",
       "     ITG.R_PAL.R  ITG.R_THA.L  ITG.R_THA.R  ITG.R_HES.R  ITG.R_STG.R  \\\n",
       "0       0.110881     0.004266     0.398147     0.011649     0.676557   \n",
       "1       0.063158     0.005045     0.450001     0.020439     0.934958   \n",
       "2       0.067891     0.006284     0.528868     0.016369     0.606910   \n",
       "3       0.160275     0.018250     0.646850     0.011186     0.668314   \n",
       "4       0.119716     0.004303     0.464031     0.010185     0.522433   \n",
       "..           ...          ...          ...          ...          ...   \n",
       "146     0.112407     0.011803     0.582987     0.007024     0.772592   \n",
       "147     0.098533     0.006996     0.663175     0.024217     0.367410   \n",
       "148     0.112680     0.018385     0.437035     0.012304     0.631822   \n",
       "149     0.096739     0.006009     0.406317     0.015420     0.371186   \n",
       "150     0.079430     0.010020     0.664460     0.025394     0.652335   \n",
       "\n",
       "     ITG.R_TPOsup.R  ITG.R_MTG.R  ITG.R_TPOmid.R  \n",
       "0          1.597469    10.532588        2.491461  \n",
       "1          1.512014     8.328801        1.951853  \n",
       "2          1.008959    10.403495        2.714284  \n",
       "3          1.654926     9.256667        3.834038  \n",
       "4          0.840888    10.196755        3.360334  \n",
       "..              ...          ...             ...  \n",
       "146        1.785439    11.115254        2.976883  \n",
       "147        0.795176     8.197528        2.956401  \n",
       "148        0.914461     9.966092        1.549367  \n",
       "149        1.131914     8.176903        2.623584  \n",
       "150        1.237936    10.242302        2.669625  \n",
       "\n",
       "[151 rows x 2332 columns]"
      ],
      "text/html": "<div>\n<style scoped>\n    .dataframe tbody tr th:only-of-type {\n        vertical-align: middle;\n    }\n\n    .dataframe tbody tr th {\n        vertical-align: top;\n    }\n\n    .dataframe thead th {\n        text-align: right;\n    }\n</style>\n<table border=\"1\" class=\"dataframe\">\n  <thead>\n    <tr style=\"text-align: right;\">\n      <th></th>\n      <th>PreCG.R_PreCG.L</th>\n      <th>SFGdor.L_PreCG.L</th>\n      <th>SFGdor.R_PreCG.L</th>\n      <th>SFGdor.R_PreCG.R</th>\n      <th>ORBsup.L_PreCG.L</th>\n      <th>ORBsup.L_SFGdor.L</th>\n      <th>ORBsup.L_SFGdor.R</th>\n      <th>ORBsup.R_PreCG.L</th>\n      <th>ORBsup.R_PreCG.R</th>\n      <th>ORBsup.R_SFGdor.R</th>\n      <th>...</th>\n      <th>ITG.R_PUT.R</th>\n      <th>ITG.R_PAL.L</th>\n      <th>ITG.R_PAL.R</th>\n      <th>ITG.R_THA.L</th>\n      <th>ITG.R_THA.R</th>\n      <th>ITG.R_HES.R</th>\n      <th>ITG.R_STG.R</th>\n      <th>ITG.R_TPOsup.R</th>\n      <th>ITG.R_MTG.R</th>\n      <th>ITG.R_TPOmid.R</th>\n    </tr>\n  </thead>\n  <tbody>\n    <tr>\n      <th>0</th>\n      <td>0.009573</td>\n      <td>3.672285</td>\n      <td>0.012784</td>\n      <td>3.640346</td>\n      <td>0.014490</td>\n      <td>0.558478</td>\n      <td>0.009154</td>\n      <td>0.000045</td>\n      <td>0.011890</td>\n      <td>0.528269</td>\n      <td>...</td>\n      <td>0.497267</td>\n      <td>0.002266</td>\n      <td>0.110881</td>\n      <td>0.004266</td>\n      <td>0.398147</td>\n      <td>0.011649</td>\n      <td>0.676557</td>\n      <td>1.597469</td>\n      <td>10.532588</td>\n      <td>2.491461</td>\n    </tr>\n    <tr>\n      <th>1</th>\n      <td>0.051696</td>\n      <td>1.790308</td>\n      <td>0.050054</td>\n      <td>2.413920</td>\n      <td>0.013734</td>\n      <td>0.423371</td>\n      <td>0.013725</td>\n      <td>0.000235</td>\n      <td>0.016596</td>\n      <td>0.384222</td>\n      <td>...</td>\n      <td>0.379149</td>\n      <td>0.001185</td>\n      <td>0.063158</td>\n      <td>0.005045</td>\n      <td>0.450001</td>\n      <td>0.020439</td>\n      <td>0.934958</td>\n      <td>1.512014</td>\n      <td>8.328801</td>\n      <td>1.951853</td>\n    </tr>\n    <tr>\n      <th>2</th>\n      <td>0.042033</td>\n      <td>3.778783</td>\n      <td>0.030113</td>\n      <td>5.280913</td>\n      <td>0.008970</td>\n      <td>0.283879</td>\n      <td>0.017326</td>\n      <td>0.000617</td>\n      <td>0.006661</td>\n      <td>0.865717</td>\n      <td>...</td>\n      <td>0.571502</td>\n      <td>0.001337</td>\n      <td>0.067891</td>\n      <td>0.006284</td>\n      <td>0.528868</td>\n      <td>0.016369</td>\n      <td>0.606910</td>\n      <td>1.008959</td>\n      <td>10.403495</td>\n      <td>2.714284</td>\n    </tr>\n    <tr>\n      <th>3</th>\n      <td>0.088358</td>\n      <td>2.819123</td>\n      <td>0.041142</td>\n      <td>3.580281</td>\n      <td>0.009090</td>\n      <td>0.624162</td>\n      <td>0.007946</td>\n      <td>0.000474</td>\n      <td>0.004920</td>\n      <td>1.331177</td>\n      <td>...</td>\n      <td>0.635597</td>\n      <td>0.005216</td>\n      <td>0.160275</td>\n      <td>0.018250</td>\n      <td>0.646850</td>\n      <td>0.011186</td>\n      <td>0.668314</td>\n      <td>1.654926</td>\n      <td>9.256667</td>\n      <td>3.834038</td>\n    </tr>\n    <tr>\n      <th>4</th>\n      <td>0.095817</td>\n      <td>2.582996</td>\n      <td>0.074419</td>\n      <td>3.737281</td>\n      <td>0.004239</td>\n      <td>0.708756</td>\n      <td>0.011278</td>\n      <td>0.000892</td>\n      <td>0.006026</td>\n      <td>0.272395</td>\n      <td>...</td>\n      <td>0.437032</td>\n      <td>0.001131</td>\n      <td>0.119716</td>\n      <td>0.004303</td>\n      <td>0.464031</td>\n      <td>0.010185</td>\n      <td>0.522433</td>\n      <td>0.840888</td>\n      <td>10.196755</td>\n      <td>3.360334</td>\n    </tr>\n    <tr>\n      <th>...</th>\n      <td>...</td>\n      <td>...</td>\n      <td>...</td>\n      <td>...</td>\n      <td>...</td>\n      <td>...</td>\n      <td>...</td>\n      <td>...</td>\n      <td>...</td>\n      <td>...</td>\n      <td>...</td>\n      <td>...</td>\n      <td>...</td>\n      <td>...</td>\n      <td>...</td>\n      <td>...</td>\n      <td>...</td>\n      <td>...</td>\n      <td>...</td>\n      <td>...</td>\n      <td>...</td>\n    </tr>\n    <tr>\n      <th>146</th>\n      <td>0.083487</td>\n      <td>2.869284</td>\n      <td>0.063264</td>\n      <td>2.916596</td>\n      <td>0.011843</td>\n      <td>0.985391</td>\n      <td>0.012439</td>\n      <td>0.001119</td>\n      <td>0.009370</td>\n      <td>1.329999</td>\n      <td>...</td>\n      <td>0.489779</td>\n      <td>0.002875</td>\n      <td>0.112407</td>\n      <td>0.011803</td>\n      <td>0.582987</td>\n      <td>0.007024</td>\n      <td>0.772592</td>\n      <td>1.785439</td>\n      <td>11.115254</td>\n      <td>2.976883</td>\n    </tr>\n    <tr>\n      <th>147</th>\n      <td>0.030477</td>\n      <td>1.949638</td>\n      <td>0.028811</td>\n      <td>2.857530</td>\n      <td>0.008456</td>\n      <td>0.410248</td>\n      <td>0.008398</td>\n      <td>0.000535</td>\n      <td>0.007975</td>\n      <td>0.770036</td>\n      <td>...</td>\n      <td>0.275731</td>\n      <td>0.001454</td>\n      <td>0.098533</td>\n      <td>0.006996</td>\n      <td>0.663175</td>\n      <td>0.024217</td>\n      <td>0.367410</td>\n      <td>0.795176</td>\n      <td>8.197528</td>\n      <td>2.956401</td>\n    </tr>\n    <tr>\n      <th>148</th>\n      <td>0.075496</td>\n      <td>2.815264</td>\n      <td>0.103853</td>\n      <td>3.762986</td>\n      <td>0.008082</td>\n      <td>0.634381</td>\n      <td>0.010858</td>\n      <td>0.000812</td>\n      <td>0.008078</td>\n      <td>0.992587</td>\n      <td>...</td>\n      <td>0.525683</td>\n      <td>0.003362</td>\n      <td>0.112680</td>\n      <td>0.018385</td>\n      <td>0.437035</td>\n      <td>0.012304</td>\n      <td>0.631822</td>\n      <td>0.914461</td>\n      <td>9.966092</td>\n      <td>1.549367</td>\n    </tr>\n    <tr>\n      <th>149</th>\n      <td>0.019497</td>\n      <td>1.943436</td>\n      <td>0.035241</td>\n      <td>2.433037</td>\n      <td>0.007883</td>\n      <td>0.409369</td>\n      <td>0.005244</td>\n      <td>0.000601</td>\n      <td>0.008509</td>\n      <td>0.395321</td>\n      <td>...</td>\n      <td>0.460397</td>\n      <td>0.000759</td>\n      <td>0.096739</td>\n      <td>0.006009</td>\n      <td>0.406317</td>\n      <td>0.015420</td>\n      <td>0.371186</td>\n      <td>1.131914</td>\n      <td>8.176903</td>\n      <td>2.623584</td>\n    </tr>\n    <tr>\n      <th>150</th>\n      <td>0.037400</td>\n      <td>2.555858</td>\n      <td>0.035285</td>\n      <td>3.355633</td>\n      <td>0.007671</td>\n      <td>1.134884</td>\n      <td>0.006867</td>\n      <td>0.000415</td>\n      <td>0.008177</td>\n      <td>0.398718</td>\n      <td>...</td>\n      <td>0.396190</td>\n      <td>0.002590</td>\n      <td>0.079430</td>\n      <td>0.010020</td>\n      <td>0.664460</td>\n      <td>0.025394</td>\n      <td>0.652335</td>\n      <td>1.237936</td>\n      <td>10.242302</td>\n      <td>2.669625</td>\n    </tr>\n  </tbody>\n</table>\n<p>151 rows × 2332 columns</p>\n</div>"
     },
     "metadata": {},
     "execution_count": 480
    }
   ],
   "source": [
    "average_X.dropna(axis=1)"
   ]
  },
  {
   "cell_type": "code",
   "execution_count": 513,
   "metadata": {},
   "outputs": [],
   "source": [
    "test2=merge_features_names(test,average_X.columns)"
   ]
  },
  {
   "cell_type": "code",
   "execution_count": null,
   "metadata": {},
   "outputs": [],
   "source": []
  }
 ]
}