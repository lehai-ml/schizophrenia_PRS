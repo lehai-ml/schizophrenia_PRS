{
 "metadata": {
  "language_info": {
   "codemirror_mode": {
    "name": "ipython",
    "version": 3
   },
   "file_extension": ".py",
   "mimetype": "text/x-python",
   "name": "python",
   "nbconvert_exporter": "python",
   "pygments_lexer": "ipython3",
   "version": "3.6.10-final"
  },
  "orig_nbformat": 2,
  "kernelspec": {
   "name": "python3",
   "display_name": "Python 3.6.10 64-bit ('base': conda)",
   "metadata": {
    "interpreter": {
     "hash": "78b32d92998b93fd3215fbaa57dba7a337e9f12ae045cf2b00398dc82bf92910"
    }
   }
  }
 },
 "nbformat": 4,
 "nbformat_minor": 2,
 "cells": [
  {
   "cell_type": "code",
   "execution_count": 1,
   "metadata": {},
   "outputs": [],
   "source": [
    "import sys\n",
    "sys.path.append('../../')"
   ]
  },
  {
   "cell_type": "code",
   "execution_count": 174,
   "metadata": {},
   "outputs": [],
   "source": [
    "from codes.docs.analysis import data_preprocessing\n",
    "from sklearn.model_selection import KFold\n",
    "import numpy as np\n",
    "from sklearn.preprocessing import StandardScaler,MinMaxScaler\n",
    "import matplotlib.pyplot as plt\n",
    "import pandas as pd\n",
    "import tqdm as tqdm\n",
    "%matplotlib inline\n",
    "\n",
    "from sklearn.linear_model import LinearRegression"
   ]
  },
  {
   "cell_type": "code",
   "execution_count": 5,
   "metadata": {},
   "outputs": [],
   "source": [
    "european_diffusion_dataset_term_removed_zeros=pd.read_csv('./reduced_european_diffusion_dataset.csv')"
   ]
  },
  {
   "cell_type": "code",
   "execution_count": 233,
   "metadata": {},
   "outputs": [],
   "source": [
    "#preprocess the PRS score\n",
    "PRS_thresholds=['X1e.08','X1e.07','X1e.06','X1e.05','X0.0001','X0.001','X0.01','X0.05', 'X0.1', 'X0.5', 'X1']\n",
    "adjusted_prs_score=data_preprocessing.adjusting_for_covariates_with_lin_reg(np.array(european_diffusion_dataset_term_removed_zeros[PRS_thresholds]),\n",
    "np.array(european_diffusion_dataset_term_removed_zeros['Anc_PC1']),np.array(european_diffusion_dataset_term_removed_zeros['Anc_PC2']),np.array(european_diffusion_dataset_term_removed_zeros['Anc_PC3']))"
   ]
  },
  {
   "cell_type": "code",
   "execution_count": 185,
   "metadata": {},
   "outputs": [],
   "source": [
    "def splitting_dataset_into_k_fold(X,y,k=5):\n",
    "    \"\"\"\n",
    "    For nested_CV, divide the dataset into inner and outer folds\n",
    "    Args:\n",
    "        X= dataset\n",
    "        y= label\n",
    "        k= folds number\n",
    "    return\n",
    "        generator of format\n",
    "            X_train,y_train,X_test, y_test\n",
    "    \"\"\"\n",
    "    outer_cv=KFold(n_splits=k)\n",
    "    for trainval_index,test_index in outer_cv.split(X,y):\n",
    "        X_trainval=X[trainval_index,:]\n",
    "        y_trainval=y[trainval_index]\n",
    "        X_test=X[test_index,:]\n",
    "        y_test=y[test_index]\n",
    "        yield (X_trainval,y_trainval,X_test,y_test)\n",
    "\n",
    "def get_model_bias(y_true, y_pred):\n",
    "    model_error=y_true - y_pred\n",
    "    lin_reg=LinearRegression()\n",
    "    lin_reg.fit(y_true.reshape(-1,1),model_error)\n",
    "    coeff=lin_reg.coef_\n",
    "    intercept=lin_reg.intercept_\n",
    "    \n",
    "    return (coeff,intercept)"
   ]
  },
  {
   "cell_type": "code",
   "execution_count": 304,
   "metadata": {},
   "outputs": [],
   "source": [
    "X=np.array(european_diffusion_dataset_term_removed_zeros.iloc[:,5:2518])\n",
    "y=np.array(european_diffusion_dataset_term_removed_zeros['PMA.at.birth'])"
   ]
  },
  {
   "cell_type": "code",
   "execution_count": 77,
   "metadata": {},
   "outputs": [],
   "source": [
    "from sklearn.ensemble import RandomForestRegressor"
   ]
  },
  {
   "cell_type": "code",
   "execution_count": 151,
   "metadata": {},
   "outputs": [],
   "source": [
    "from sklearn.model_selection import cross_validate\n",
    "from sklearn.metrics import mean_absolute_error, mean_squared_error, r2_score\n",
    "from sklearn.model_selection import GridSearchCV\n",
    "from sklearn.pipeline import Pipeline\n",
    "from scipy.stats import pearsonr"
   ]
  },
  {
   "cell_type": "code",
   "execution_count": 82,
   "metadata": {},
   "outputs": [],
   "source": [
    "scoring={'r2':'r2','MAE':'neg_mean_absolute_error','MSE':'neg_mean_squared_error'}"
   ]
  },
  {
   "cell_type": "code",
   "execution_count": 153,
   "metadata": {},
   "outputs": [],
   "source": [
    "def print_scores(y_pred,y_true):\n",
    "    return {'r2': r2_score(y_true,y_pred),\n",
    "    'MAE': mean_absolute_error(y_true,y_pred),\n",
    "    'MSE': mean_squared_error(y_true,y_pred),\n",
    "    'Correlation':pearsonr(y_true,y_pred)[0],\n",
    "    'p_value':pearsonr(y_true,y_pred)[1]}"
   ]
  },
  {
   "cell_type": "code",
   "execution_count": null,
   "metadata": {},
   "outputs": [],
   "source": [
    "data_preprocessing.high_low_risk_divide(european_diffusion_dataset_term_removed_zeros)"
   ]
  },
  {
   "cell_type": "code",
   "execution_count": 302,
   "metadata": {},
   "outputs": [
    {
     "output_type": "stream",
     "name": "stderr",
     "text": [
      "100%|██████████| 5/5 [00:37<00:00,  7.43s/it]\n"
     ]
    }
   ],
   "source": [
    "data_splitting=splitting_dataset_into_k_fold(X,y,k=5)\n",
    "result={}\n",
    "y_pred_dict={}\n",
    "for i in tqdm.tqdm(range(5)):\n",
    "    X_trainval,y_trainval,X_test,y_test=next(data_splitting)\n",
    "    regr=RandomForestRegressor(n_estimators=30,max_depth=250,bootstrap=True,oob_score=False)\n",
    "    pipeline=Pipeline([('scaler',MinMaxScaler()),('RFregressor',regr)])\n",
    "    pipeline.fit(X_trainval,y_trainval)\n",
    "    bias_coeff,bias_intercept=get_model_bias(y_trainval,pipeline.predict(X_trainval))\n",
    "    y_pred=pipeline.predict(X_test)\n",
    "    y_pred=y_pred+y_pred*bias_coeff+bias_intercept\n",
    "    result[i]=print_scores(y_pred,y_test)\n",
    "\n",
    "    #calculate brain_maturation_index\n",
    "    #y_total_pred=pipeline.predict(X)\n",
    "    #y_total_pred=y_total_pred+y_total_pred*bias_coeff+bias_intercept\n",
    "    #y_pred_dict[i]=y_total_pred"
   ]
  },
  {
   "cell_type": "code",
   "execution_count": 303,
   "metadata": {},
   "outputs": [
    {
     "output_type": "execute_result",
     "data": {
      "text/plain": [
       "[<matplotlib.lines.Line2D at 0x7fa7f19cd9e8>]"
      ]
     },
     "metadata": {},
     "execution_count": 303
    },
    {
     "output_type": "display_data",
     "data": {
      "text/plain": "<Figure size 432x288 with 1 Axes>",
      "image/svg+xml": "<?xml version=\"1.0\" encoding=\"utf-8\" standalone=\"no\"?>\n<!DOCTYPE svg PUBLIC \"-//W3C//DTD SVG 1.1//EN\"\n  \"http://www.w3.org/Graphics/SVG/1.1/DTD/svg11.dtd\">\n<!-- Created with matplotlib (https://matplotlib.org/) -->\n<svg height=\"248.518125pt\" version=\"1.1\" viewBox=\"0 0 368.925 248.518125\" width=\"368.925pt\" xmlns=\"http://www.w3.org/2000/svg\" xmlns:xlink=\"http://www.w3.org/1999/xlink\">\n <metadata>\n  <rdf:RDF xmlns:cc=\"http://creativecommons.org/ns#\" xmlns:dc=\"http://purl.org/dc/elements/1.1/\" xmlns:rdf=\"http://www.w3.org/1999/02/22-rdf-syntax-ns#\">\n   <cc:Work>\n    <dc:type rdf:resource=\"http://purl.org/dc/dcmitype/StillImage\"/>\n    <dc:date>2021-03-18T15:16:01.014355</dc:date>\n    <dc:format>image/svg+xml</dc:format>\n    <dc:creator>\n     <cc:Agent>\n      <dc:title>Matplotlib v3.3.2, https://matplotlib.org/</dc:title>\n     </cc:Agent>\n    </dc:creator>\n   </cc:Work>\n  </rdf:RDF>\n </metadata>\n <defs>\n  <style type=\"text/css\">*{stroke-linecap:butt;stroke-linejoin:round;}</style>\n </defs>\n <g id=\"figure_1\">\n  <g id=\"patch_1\">\n   <path d=\"M -0 248.518125 \nL 368.925 248.518125 \nL 368.925 0 \nL -0 0 \nz\n\" style=\"fill:none;\"/>\n  </g>\n  <g id=\"axes_1\">\n   <g id=\"patch_2\">\n    <path d=\"M 26.925 224.64 \nL 361.725 224.64 \nL 361.725 7.2 \nL 26.925 7.2 \nz\n\" style=\"fill:#ffffff;\"/>\n   </g>\n   <g id=\"matplotlib.axis_1\">\n    <g id=\"xtick_1\">\n     <g id=\"line2d_1\">\n      <defs>\n       <path d=\"M 0 0 \nL 0 3.5 \n\" id=\"m1aa47626aa\" style=\"stroke:#000000;stroke-width:0.8;\"/>\n      </defs>\n      <g>\n       <use style=\"stroke:#000000;stroke-width:0.8;\" x=\"57.109092\" xlink:href=\"#m1aa47626aa\" y=\"224.64\"/>\n      </g>\n     </g>\n     <g id=\"text_1\">\n      <!-- 39 -->\n      <g transform=\"translate(50.746592 239.238438)scale(0.1 -0.1)\">\n       <defs>\n        <path d=\"M 40.578125 39.3125 \nQ 47.65625 37.796875 51.625 33 \nQ 55.609375 28.21875 55.609375 21.1875 \nQ 55.609375 10.40625 48.1875 4.484375 \nQ 40.765625 -1.421875 27.09375 -1.421875 \nQ 22.515625 -1.421875 17.65625 -0.515625 \nQ 12.796875 0.390625 7.625 2.203125 \nL 7.625 11.71875 \nQ 11.71875 9.328125 16.59375 8.109375 \nQ 21.484375 6.890625 26.8125 6.890625 \nQ 36.078125 6.890625 40.9375 10.546875 \nQ 45.796875 14.203125 45.796875 21.1875 \nQ 45.796875 27.640625 41.28125 31.265625 \nQ 36.765625 34.90625 28.71875 34.90625 \nL 20.21875 34.90625 \nL 20.21875 43.015625 \nL 29.109375 43.015625 \nQ 36.375 43.015625 40.234375 45.921875 \nQ 44.09375 48.828125 44.09375 54.296875 \nQ 44.09375 59.90625 40.109375 62.90625 \nQ 36.140625 65.921875 28.71875 65.921875 \nQ 24.65625 65.921875 20.015625 65.03125 \nQ 15.375 64.15625 9.8125 62.3125 \nL 9.8125 71.09375 \nQ 15.4375 72.65625 20.34375 73.4375 \nQ 25.25 74.21875 29.59375 74.21875 \nQ 40.828125 74.21875 47.359375 69.109375 \nQ 53.90625 64.015625 53.90625 55.328125 \nQ 53.90625 49.265625 50.4375 45.09375 \nQ 46.96875 40.921875 40.578125 39.3125 \nz\n\" id=\"DejaVuSans-51\"/>\n        <path d=\"M 10.984375 1.515625 \nL 10.984375 10.5 \nQ 14.703125 8.734375 18.5 7.8125 \nQ 22.3125 6.890625 25.984375 6.890625 \nQ 35.75 6.890625 40.890625 13.453125 \nQ 46.046875 20.015625 46.78125 33.40625 \nQ 43.953125 29.203125 39.59375 26.953125 \nQ 35.25 24.703125 29.984375 24.703125 \nQ 19.046875 24.703125 12.671875 31.3125 \nQ 6.296875 37.9375 6.296875 49.421875 \nQ 6.296875 60.640625 12.9375 67.421875 \nQ 19.578125 74.21875 30.609375 74.21875 \nQ 43.265625 74.21875 49.921875 64.515625 \nQ 56.59375 54.828125 56.59375 36.375 \nQ 56.59375 19.140625 48.40625 8.859375 \nQ 40.234375 -1.421875 26.421875 -1.421875 \nQ 22.703125 -1.421875 18.890625 -0.6875 \nQ 15.09375 0.046875 10.984375 1.515625 \nz\nM 30.609375 32.421875 \nQ 37.25 32.421875 41.125 36.953125 \nQ 45.015625 41.5 45.015625 49.421875 \nQ 45.015625 57.28125 41.125 61.84375 \nQ 37.25 66.40625 30.609375 66.40625 \nQ 23.96875 66.40625 20.09375 61.84375 \nQ 16.21875 57.28125 16.21875 49.421875 \nQ 16.21875 41.5 20.09375 36.953125 \nQ 23.96875 32.421875 30.609375 32.421875 \nz\n\" id=\"DejaVuSans-57\"/>\n       </defs>\n       <use xlink:href=\"#DejaVuSans-51\"/>\n       <use x=\"63.623047\" xlink:href=\"#DejaVuSans-57\"/>\n      </g>\n     </g>\n    </g>\n    <g id=\"xtick_2\">\n     <g id=\"line2d_2\">\n      <g>\n       <use style=\"stroke:#000000;stroke-width:0.8;\" x=\"123.488261\" xlink:href=\"#m1aa47626aa\" y=\"224.64\"/>\n      </g>\n     </g>\n     <g id=\"text_2\">\n      <!-- 40 -->\n      <g transform=\"translate(117.125761 239.238438)scale(0.1 -0.1)\">\n       <defs>\n        <path d=\"M 37.796875 64.3125 \nL 12.890625 25.390625 \nL 37.796875 25.390625 \nz\nM 35.203125 72.90625 \nL 47.609375 72.90625 \nL 47.609375 25.390625 \nL 58.015625 25.390625 \nL 58.015625 17.1875 \nL 47.609375 17.1875 \nL 47.609375 0 \nL 37.796875 0 \nL 37.796875 17.1875 \nL 4.890625 17.1875 \nL 4.890625 26.703125 \nz\n\" id=\"DejaVuSans-52\"/>\n        <path d=\"M 31.78125 66.40625 \nQ 24.171875 66.40625 20.328125 58.90625 \nQ 16.5 51.421875 16.5 36.375 \nQ 16.5 21.390625 20.328125 13.890625 \nQ 24.171875 6.390625 31.78125 6.390625 \nQ 39.453125 6.390625 43.28125 13.890625 \nQ 47.125 21.390625 47.125 36.375 \nQ 47.125 51.421875 43.28125 58.90625 \nQ 39.453125 66.40625 31.78125 66.40625 \nz\nM 31.78125 74.21875 \nQ 44.046875 74.21875 50.515625 64.515625 \nQ 56.984375 54.828125 56.984375 36.375 \nQ 56.984375 17.96875 50.515625 8.265625 \nQ 44.046875 -1.421875 31.78125 -1.421875 \nQ 19.53125 -1.421875 13.0625 8.265625 \nQ 6.59375 17.96875 6.59375 36.375 \nQ 6.59375 54.828125 13.0625 64.515625 \nQ 19.53125 74.21875 31.78125 74.21875 \nz\n\" id=\"DejaVuSans-48\"/>\n       </defs>\n       <use xlink:href=\"#DejaVuSans-52\"/>\n       <use x=\"63.623047\" xlink:href=\"#DejaVuSans-48\"/>\n      </g>\n     </g>\n    </g>\n    <g id=\"xtick_3\">\n     <g id=\"line2d_3\">\n      <g>\n       <use style=\"stroke:#000000;stroke-width:0.8;\" x=\"189.86743\" xlink:href=\"#m1aa47626aa\" y=\"224.64\"/>\n      </g>\n     </g>\n     <g id=\"text_3\">\n      <!-- 41 -->\n      <g transform=\"translate(183.50493 239.238438)scale(0.1 -0.1)\">\n       <defs>\n        <path d=\"M 12.40625 8.296875 \nL 28.515625 8.296875 \nL 28.515625 63.921875 \nL 10.984375 60.40625 \nL 10.984375 69.390625 \nL 28.421875 72.90625 \nL 38.28125 72.90625 \nL 38.28125 8.296875 \nL 54.390625 8.296875 \nL 54.390625 0 \nL 12.40625 0 \nz\n\" id=\"DejaVuSans-49\"/>\n       </defs>\n       <use xlink:href=\"#DejaVuSans-52\"/>\n       <use x=\"63.623047\" xlink:href=\"#DejaVuSans-49\"/>\n      </g>\n     </g>\n    </g>\n    <g id=\"xtick_4\">\n     <g id=\"line2d_4\">\n      <g>\n       <use style=\"stroke:#000000;stroke-width:0.8;\" x=\"256.2466\" xlink:href=\"#m1aa47626aa\" y=\"224.64\"/>\n      </g>\n     </g>\n     <g id=\"text_4\">\n      <!-- 42 -->\n      <g transform=\"translate(249.8841 239.238438)scale(0.1 -0.1)\">\n       <defs>\n        <path d=\"M 19.1875 8.296875 \nL 53.609375 8.296875 \nL 53.609375 0 \nL 7.328125 0 \nL 7.328125 8.296875 \nQ 12.9375 14.109375 22.625 23.890625 \nQ 32.328125 33.6875 34.8125 36.53125 \nQ 39.546875 41.84375 41.421875 45.53125 \nQ 43.3125 49.21875 43.3125 52.78125 \nQ 43.3125 58.59375 39.234375 62.25 \nQ 35.15625 65.921875 28.609375 65.921875 \nQ 23.96875 65.921875 18.8125 64.3125 \nQ 13.671875 62.703125 7.8125 59.421875 \nL 7.8125 69.390625 \nQ 13.765625 71.78125 18.9375 73 \nQ 24.125 74.21875 28.421875 74.21875 \nQ 39.75 74.21875 46.484375 68.546875 \nQ 53.21875 62.890625 53.21875 53.421875 \nQ 53.21875 48.921875 51.53125 44.890625 \nQ 49.859375 40.875 45.40625 35.40625 \nQ 44.1875 33.984375 37.640625 27.21875 \nQ 31.109375 20.453125 19.1875 8.296875 \nz\n\" id=\"DejaVuSans-50\"/>\n       </defs>\n       <use xlink:href=\"#DejaVuSans-52\"/>\n       <use x=\"63.623047\" xlink:href=\"#DejaVuSans-50\"/>\n      </g>\n     </g>\n    </g>\n    <g id=\"xtick_5\">\n     <g id=\"line2d_5\">\n      <g>\n       <use style=\"stroke:#000000;stroke-width:0.8;\" x=\"322.625769\" xlink:href=\"#m1aa47626aa\" y=\"224.64\"/>\n      </g>\n     </g>\n     <g id=\"text_5\">\n      <!-- 43 -->\n      <g transform=\"translate(316.263269 239.238438)scale(0.1 -0.1)\">\n       <use xlink:href=\"#DejaVuSans-52\"/>\n       <use x=\"63.623047\" xlink:href=\"#DejaVuSans-51\"/>\n      </g>\n     </g>\n    </g>\n   </g>\n   <g id=\"matplotlib.axis_2\">\n    <g id=\"ytick_1\">\n     <g id=\"line2d_6\">\n      <defs>\n       <path d=\"M 0 0 \nL -3.5 0 \n\" id=\"md9dbdd3275\" style=\"stroke:#000000;stroke-width:0.8;\"/>\n      </defs>\n      <g>\n       <use style=\"stroke:#000000;stroke-width:0.8;\" x=\"26.925\" xlink:href=\"#md9dbdd3275\" y=\"205.562283\"/>\n      </g>\n     </g>\n     <g id=\"text_6\">\n      <!-- 38 -->\n      <g transform=\"translate(7.2 209.361502)scale(0.1 -0.1)\">\n       <defs>\n        <path d=\"M 31.78125 34.625 \nQ 24.75 34.625 20.71875 30.859375 \nQ 16.703125 27.09375 16.703125 20.515625 \nQ 16.703125 13.921875 20.71875 10.15625 \nQ 24.75 6.390625 31.78125 6.390625 \nQ 38.8125 6.390625 42.859375 10.171875 \nQ 46.921875 13.96875 46.921875 20.515625 \nQ 46.921875 27.09375 42.890625 30.859375 \nQ 38.875 34.625 31.78125 34.625 \nz\nM 21.921875 38.8125 \nQ 15.578125 40.375 12.03125 44.71875 \nQ 8.5 49.078125 8.5 55.328125 \nQ 8.5 64.0625 14.71875 69.140625 \nQ 20.953125 74.21875 31.78125 74.21875 \nQ 42.671875 74.21875 48.875 69.140625 \nQ 55.078125 64.0625 55.078125 55.328125 \nQ 55.078125 49.078125 51.53125 44.71875 \nQ 48 40.375 41.703125 38.8125 \nQ 48.828125 37.15625 52.796875 32.3125 \nQ 56.78125 27.484375 56.78125 20.515625 \nQ 56.78125 9.90625 50.3125 4.234375 \nQ 43.84375 -1.421875 31.78125 -1.421875 \nQ 19.734375 -1.421875 13.25 4.234375 \nQ 6.78125 9.90625 6.78125 20.515625 \nQ 6.78125 27.484375 10.78125 32.3125 \nQ 14.796875 37.15625 21.921875 38.8125 \nz\nM 18.3125 54.390625 \nQ 18.3125 48.734375 21.84375 45.5625 \nQ 25.390625 42.390625 31.78125 42.390625 \nQ 38.140625 42.390625 41.71875 45.5625 \nQ 45.3125 48.734375 45.3125 54.390625 \nQ 45.3125 60.0625 41.71875 63.234375 \nQ 38.140625 66.40625 31.78125 66.40625 \nQ 25.390625 66.40625 21.84375 63.234375 \nQ 18.3125 60.0625 18.3125 54.390625 \nz\n\" id=\"DejaVuSans-56\"/>\n       </defs>\n       <use xlink:href=\"#DejaVuSans-51\"/>\n       <use x=\"63.623047\" xlink:href=\"#DejaVuSans-56\"/>\n      </g>\n     </g>\n    </g>\n    <g id=\"ytick_2\">\n     <g id=\"line2d_7\">\n      <g>\n       <use style=\"stroke:#000000;stroke-width:0.8;\" x=\"26.925\" xlink:href=\"#md9dbdd3275\" y=\"173.383002\"/>\n      </g>\n     </g>\n     <g id=\"text_7\">\n      <!-- 39 -->\n      <g transform=\"translate(7.2 177.182221)scale(0.1 -0.1)\">\n       <use xlink:href=\"#DejaVuSans-51\"/>\n       <use x=\"63.623047\" xlink:href=\"#DejaVuSans-57\"/>\n      </g>\n     </g>\n    </g>\n    <g id=\"ytick_3\">\n     <g id=\"line2d_8\">\n      <g>\n       <use style=\"stroke:#000000;stroke-width:0.8;\" x=\"26.925\" xlink:href=\"#md9dbdd3275\" y=\"141.203721\"/>\n      </g>\n     </g>\n     <g id=\"text_8\">\n      <!-- 40 -->\n      <g transform=\"translate(7.2 145.00294)scale(0.1 -0.1)\">\n       <use xlink:href=\"#DejaVuSans-52\"/>\n       <use x=\"63.623047\" xlink:href=\"#DejaVuSans-48\"/>\n      </g>\n     </g>\n    </g>\n    <g id=\"ytick_4\">\n     <g id=\"line2d_9\">\n      <g>\n       <use style=\"stroke:#000000;stroke-width:0.8;\" x=\"26.925\" xlink:href=\"#md9dbdd3275\" y=\"109.02444\"/>\n      </g>\n     </g>\n     <g id=\"text_9\">\n      <!-- 41 -->\n      <g transform=\"translate(7.2 112.823658)scale(0.1 -0.1)\">\n       <use xlink:href=\"#DejaVuSans-52\"/>\n       <use x=\"63.623047\" xlink:href=\"#DejaVuSans-49\"/>\n      </g>\n     </g>\n    </g>\n    <g id=\"ytick_5\">\n     <g id=\"line2d_10\">\n      <g>\n       <use style=\"stroke:#000000;stroke-width:0.8;\" x=\"26.925\" xlink:href=\"#md9dbdd3275\" y=\"76.845159\"/>\n      </g>\n     </g>\n     <g id=\"text_10\">\n      <!-- 42 -->\n      <g transform=\"translate(7.2 80.644377)scale(0.1 -0.1)\">\n       <use xlink:href=\"#DejaVuSans-52\"/>\n       <use x=\"63.623047\" xlink:href=\"#DejaVuSans-50\"/>\n      </g>\n     </g>\n    </g>\n    <g id=\"ytick_6\">\n     <g id=\"line2d_11\">\n      <g>\n       <use style=\"stroke:#000000;stroke-width:0.8;\" x=\"26.925\" xlink:href=\"#md9dbdd3275\" y=\"44.665877\"/>\n      </g>\n     </g>\n     <g id=\"text_11\">\n      <!-- 43 -->\n      <g transform=\"translate(7.2 48.465096)scale(0.1 -0.1)\">\n       <use xlink:href=\"#DejaVuSans-52\"/>\n       <use x=\"63.623047\" xlink:href=\"#DejaVuSans-51\"/>\n      </g>\n     </g>\n    </g>\n    <g id=\"ytick_7\">\n     <g id=\"line2d_12\">\n      <g>\n       <use style=\"stroke:#000000;stroke-width:0.8;\" x=\"26.925\" xlink:href=\"#md9dbdd3275\" y=\"12.486596\"/>\n      </g>\n     </g>\n     <g id=\"text_12\">\n      <!-- 44 -->\n      <g transform=\"translate(7.2 16.285815)scale(0.1 -0.1)\">\n       <use xlink:href=\"#DejaVuSans-52\"/>\n       <use x=\"63.623047\" xlink:href=\"#DejaVuSans-52\"/>\n      </g>\n     </g>\n    </g>\n   </g>\n   <g id=\"line2d_13\">\n    <defs>\n     <path d=\"M 0 1.5 \nC 0.397805 1.5 0.77937 1.341951 1.06066 1.06066 \nC 1.341951 0.77937 1.5 0.397805 1.5 0 \nC 1.5 -0.397805 1.341951 -0.77937 1.06066 -1.06066 \nC 0.77937 -1.341951 0.397805 -1.5 0 -1.5 \nC -0.397805 -1.5 -0.77937 -1.341951 -1.06066 -1.06066 \nC -1.341951 -0.77937 -1.5 -0.397805 -1.5 0 \nC -1.5 0.397805 -1.341951 0.77937 -1.06066 1.06066 \nC -0.77937 1.341951 -0.397805 1.5 0 1.5 \nz\n\" id=\"mc189e3b587\" style=\"stroke:#1f77b4;\"/>\n    </defs>\n    <g clip-path=\"url(#p25fc4683c0)\">\n     <use style=\"fill:#1f77b4;stroke:#1f77b4;\" x=\"172.000039\" xlink:href=\"#mc189e3b587\" y=\"109.02444\"/>\n     <use style=\"fill:#1f77b4;stroke:#1f77b4;\" x=\"242.323666\" xlink:href=\"#mc189e3b587\" y=\"76.845159\"/>\n     <use style=\"fill:#1f77b4;stroke:#1f77b4;\" x=\"304.089392\" xlink:href=\"#mc189e3b587\" y=\"26.277717\"/>\n     <use style=\"fill:#1f77b4;stroke:#1f77b4;\" x=\"131.070943\" xlink:href=\"#mc189e3b587\" y=\"113.62148\"/>\n     <use style=\"fill:#1f77b4;stroke:#1f77b4;\" x=\"171.255873\" xlink:href=\"#mc189e3b587\" y=\"86.039239\"/>\n     <use style=\"fill:#1f77b4;stroke:#1f77b4;\" x=\"209.952473\" xlink:href=\"#mc189e3b587\" y=\"122.81556\"/>\n     <use style=\"fill:#1f77b4;stroke:#1f77b4;\" x=\"214.417465\" xlink:href=\"#mc189e3b587\" y=\"104.4274\"/>\n     <use style=\"fill:#1f77b4;stroke:#1f77b4;\" x=\"166.418799\" xlink:href=\"#mc189e3b587\" y=\"95.233319\"/>\n     <use style=\"fill:#1f77b4;stroke:#1f77b4;\" x=\"199.90624\" xlink:href=\"#mc189e3b587\" y=\"63.054038\"/>\n     <use style=\"fill:#1f77b4;stroke:#1f77b4;\" x=\"346.506818\" xlink:href=\"#mc189e3b587\" y=\"17.083636\"/>\n     <use style=\"fill:#1f77b4;stroke:#1f77b4;\" x=\"254.974478\" xlink:href=\"#mc189e3b587\" y=\"67.651078\"/>\n     <use style=\"fill:#1f77b4;stroke:#1f77b4;\" x=\"218.882457\" xlink:href=\"#mc189e3b587\" y=\"99.830359\"/>\n     <use style=\"fill:#1f77b4;stroke:#1f77b4;\" x=\"70.049383\" xlink:href=\"#mc189e3b587\" y=\"200.965243\"/>\n     <use style=\"fill:#1f77b4;stroke:#1f77b4;\" x=\"295.903573\" xlink:href=\"#mc189e3b587\" y=\"109.02444\"/>\n     <use style=\"fill:#1f77b4;stroke:#1f77b4;\" x=\"220.370788\" xlink:href=\"#mc189e3b587\" y=\"109.02444\"/>\n     <use style=\"fill:#1f77b4;stroke:#1f77b4;\" x=\"42.143182\" xlink:href=\"#mc189e3b587\" y=\"200.965243\"/>\n     <use style=\"fill:#1f77b4;stroke:#1f77b4;\" x=\"210.324555\" xlink:href=\"#mc189e3b587\" y=\"127.4126\"/>\n     <use style=\"fill:#1f77b4;stroke:#1f77b4;\" x=\"84.932691\" xlink:href=\"#mc189e3b587\" y=\"173.383002\"/>\n     <use style=\"fill:#1f77b4;stroke:#1f77b4;\" x=\"269.485702\" xlink:href=\"#mc189e3b587\" y=\"86.039239\"/>\n     <use style=\"fill:#1f77b4;stroke:#1f77b4;\" x=\"246.416576\" xlink:href=\"#mc189e3b587\" y=\"58.456998\"/>\n     <use style=\"fill:#1f77b4;stroke:#1f77b4;\" x=\"222.975367\" xlink:href=\"#mc189e3b587\" y=\"95.233319\"/>\n     <use style=\"fill:#1f77b4;stroke:#1f77b4;\" x=\"154.14007\" xlink:href=\"#mc189e3b587\" y=\"168.785962\"/>\n     <use style=\"fill:#1f77b4;stroke:#1f77b4;\" x=\"270.974033\" xlink:href=\"#mc189e3b587\" y=\"113.62148\"/>\n     <use style=\"fill:#1f77b4;stroke:#1f77b4;\" x=\"344.274322\" xlink:href=\"#mc189e3b587\" y=\"17.083636\"/>\n     <use style=\"fill:#1f77b4;stroke:#1f77b4;\" x=\"146.326334\" xlink:href=\"#mc189e3b587\" y=\"86.039239\"/>\n     <use style=\"fill:#1f77b4;stroke:#1f77b4;\" x=\"123.257207\" xlink:href=\"#mc189e3b587\" y=\"159.591881\"/>\n     <use style=\"fill:#1f77b4;stroke:#1f77b4;\" x=\"86.421021\" xlink:href=\"#mc189e3b587\" y=\"214.756364\"/>\n     <use style=\"fill:#1f77b4;stroke:#1f77b4;\" x=\"138.512597\" xlink:href=\"#mc189e3b587\" y=\"104.4274\"/>\n     <use style=\"fill:#1f77b4;stroke:#1f77b4;\" x=\"128.838447\" xlink:href=\"#mc189e3b587\" y=\"182.577082\"/>\n     <use style=\"fill:#1f77b4;stroke:#1f77b4;\" x=\"105.769321\" xlink:href=\"#mc189e3b587\" y=\"168.785962\"/>\n    </g>\n   </g>\n   <g id=\"line2d_14\">\n    <path clip-path=\"url(#p25fc4683c0)\" d=\"M 57.109092 173.383002 \nL 322.625769 44.665877 \n\" style=\"fill:none;stroke:#ff7f0e;stroke-linecap:square;stroke-width:1.5;\"/>\n   </g>\n   <g id=\"line2d_15\">\n    <path clip-path=\"url(#p25fc4683c0)\" d=\"M 172.000039 123.810675 \nL 242.323666 84.228087 \nL 304.089392 49.462428 \nL 131.070943 146.84816 \nL 171.255873 124.229538 \nL 209.952473 102.448643 \nL 214.417465 99.935463 \nL 166.418799 126.95215 \nL 199.90624 108.103299 \nL 346.506818 25.587217 \nL 254.974478 77.10741 \nL 218.882457 97.422283 \nL 70.049383 181.194955 \nL 295.903573 54.069925 \nL 220.370788 96.584556 \nL 42.143182 196.902331 \nL 210.324555 102.239212 \nL 84.932691 172.817688 \nL 269.485702 68.939575 \nL 246.416576 81.924339 \nL 222.975367 95.118535 \nL 154.14007 133.863395 \nL 270.974033 68.101848 \nL 344.274322 26.843807 \nL 146.326334 138.261461 \nL 123.257207 151.246225 \nL 86.421021 171.979961 \nL 138.512597 142.659526 \nL 128.838447 148.10475 \nL 105.769321 161.089514 \n\" style=\"fill:none;stroke:#2ca02c;stroke-linecap:square;stroke-width:1.5;\"/>\n   </g>\n   <g id=\"patch_3\">\n    <path d=\"M 26.925 224.64 \nL 26.925 7.2 \n\" style=\"fill:none;stroke:#000000;stroke-linecap:square;stroke-linejoin:miter;stroke-width:0.8;\"/>\n   </g>\n   <g id=\"patch_4\">\n    <path d=\"M 361.725 224.64 \nL 361.725 7.2 \n\" style=\"fill:none;stroke:#000000;stroke-linecap:square;stroke-linejoin:miter;stroke-width:0.8;\"/>\n   </g>\n   <g id=\"patch_5\">\n    <path d=\"M 26.925 224.64 \nL 361.725 224.64 \n\" style=\"fill:none;stroke:#000000;stroke-linecap:square;stroke-linejoin:miter;stroke-width:0.8;\"/>\n   </g>\n   <g id=\"patch_6\">\n    <path d=\"M 26.925 7.2 \nL 361.725 7.2 \n\" style=\"fill:none;stroke:#000000;stroke-linecap:square;stroke-linejoin:miter;stroke-width:0.8;\"/>\n   </g>\n  </g>\n </g>\n <defs>\n  <clipPath id=\"p25fc4683c0\">\n   <rect height=\"217.44\" width=\"334.8\" x=\"26.925\" y=\"7.2\"/>\n  </clipPath>\n </defs>\n</svg>\n",
      "image/png": "[encoded data removed]"
     },
     "metadata": {
      "needs_background": "light"
     }
    }
   ],
   "source": [
    "plt.plot(y_pred,y_test,'.')\n",
    "plt.plot([39,43],[39,43])\n",
    "lin_reg=LinearRegression()\n",
    "lin_reg.fit(y_pred.reshape(-1,1),y_test)\n",
    "y_pred_pred=lin_reg.predict(y_pred.reshape(-1,1))\n",
    "plt.plot(y_pred,y_pred_pred)"
   ]
  },
  {
   "cell_type": "code",
   "execution_count": 301,
   "metadata": {},
   "outputs": [
    {
     "output_type": "execute_result",
     "data": {
      "text/plain": [
       "[<matplotlib.lines.Line2D at 0x7fa7dc85bac8>]"
      ]
     },
     "metadata": {},
     "execution_count": 301
    },
    {
     "output_type": "display_data",
     "data": {
      "text/plain": "<Figure size 432x288 with 1 Axes>",
      "image/svg+xml": "<?xml version=\"1.0\" encoding=\"utf-8\" standalone=\"no\"?>\n<!DOCTYPE svg PUBLIC \"-//W3C//DTD SVG 1.1//EN\"\n  \"http://www.w3.org/Graphics/SVG/1.1/DTD/svg11.dtd\">\n<!-- Created with matplotlib (https://matplotlib.org/) -->\n<svg height=\"248.518125pt\" version=\"1.1\" viewBox=\"0 0 368.925 248.518125\" width=\"368.925pt\" xmlns=\"http://www.w3.org/2000/svg\" xmlns:xlink=\"http://www.w3.org/1999/xlink\">\n <metadata>\n  <rdf:RDF xmlns:cc=\"http://creativecommons.org/ns#\" xmlns:dc=\"http://purl.org/dc/elements/1.1/\" xmlns:rdf=\"http://www.w3.org/1999/02/22-rdf-syntax-ns#\">\n   <cc:Work>\n    <dc:type rdf:resource=\"http://purl.org/dc/dcmitype/StillImage\"/>\n    <dc:date>2021-03-18T15:12:23.521395</dc:date>\n    <dc:format>image/svg+xml</dc:format>\n    <dc:creator>\n     <cc:Agent>\n      <dc:title>Matplotlib v3.3.2, https://matplotlib.org/</dc:title>\n     </cc:Agent>\n    </dc:creator>\n   </cc:Work>\n  </rdf:RDF>\n </metadata>\n <defs>\n  <style type=\"text/css\">*{stroke-linecap:butt;stroke-linejoin:round;}</style>\n </defs>\n <g id=\"figure_1\">\n  <g id=\"patch_1\">\n   <path d=\"M -0 248.518125 \nL 368.925 248.518125 \nL 368.925 0 \nL -0 0 \nz\n\" style=\"fill:none;\"/>\n  </g>\n  <g id=\"axes_1\">\n   <g id=\"patch_2\">\n    <path d=\"M 26.925 224.64 \nL 361.725 224.64 \nL 361.725 7.2 \nL 26.925 7.2 \nz\n\" style=\"fill:#ffffff;\"/>\n   </g>\n   <g id=\"matplotlib.axis_1\">\n    <g id=\"xtick_1\">\n     <g id=\"line2d_1\">\n      <defs>\n       <path d=\"M 0 0 \nL 0 3.5 \n\" id=\"maa76e02ee7\" style=\"stroke:#000000;stroke-width:0.8;\"/>\n      </defs>\n      <g>\n       <use style=\"stroke:#000000;stroke-width:0.8;\" x=\"42.143182\" xlink:href=\"#maa76e02ee7\" y=\"224.64\"/>\n      </g>\n     </g>\n     <g id=\"text_1\">\n      <!-- 39 -->\n      <g transform=\"translate(35.780682 239.238438)scale(0.1 -0.1)\">\n       <defs>\n        <path d=\"M 40.578125 39.3125 \nQ 47.65625 37.796875 51.625 33 \nQ 55.609375 28.21875 55.609375 21.1875 \nQ 55.609375 10.40625 48.1875 4.484375 \nQ 40.765625 -1.421875 27.09375 -1.421875 \nQ 22.515625 -1.421875 17.65625 -0.515625 \nQ 12.796875 0.390625 7.625 2.203125 \nL 7.625 11.71875 \nQ 11.71875 9.328125 16.59375 8.109375 \nQ 21.484375 6.890625 26.8125 6.890625 \nQ 36.078125 6.890625 40.9375 10.546875 \nQ 45.796875 14.203125 45.796875 21.1875 \nQ 45.796875 27.640625 41.28125 31.265625 \nQ 36.765625 34.90625 28.71875 34.90625 \nL 20.21875 34.90625 \nL 20.21875 43.015625 \nL 29.109375 43.015625 \nQ 36.375 43.015625 40.234375 45.921875 \nQ 44.09375 48.828125 44.09375 54.296875 \nQ 44.09375 59.90625 40.109375 62.90625 \nQ 36.140625 65.921875 28.71875 65.921875 \nQ 24.65625 65.921875 20.015625 65.03125 \nQ 15.375 64.15625 9.8125 62.3125 \nL 9.8125 71.09375 \nQ 15.4375 72.65625 20.34375 73.4375 \nQ 25.25 74.21875 29.59375 74.21875 \nQ 40.828125 74.21875 47.359375 69.109375 \nQ 53.90625 64.015625 53.90625 55.328125 \nQ 53.90625 49.265625 50.4375 45.09375 \nQ 46.96875 40.921875 40.578125 39.3125 \nz\n\" id=\"DejaVuSans-51\"/>\n        <path d=\"M 10.984375 1.515625 \nL 10.984375 10.5 \nQ 14.703125 8.734375 18.5 7.8125 \nQ 22.3125 6.890625 25.984375 6.890625 \nQ 35.75 6.890625 40.890625 13.453125 \nQ 46.046875 20.015625 46.78125 33.40625 \nQ 43.953125 29.203125 39.59375 26.953125 \nQ 35.25 24.703125 29.984375 24.703125 \nQ 19.046875 24.703125 12.671875 31.3125 \nQ 6.296875 37.9375 6.296875 49.421875 \nQ 6.296875 60.640625 12.9375 67.421875 \nQ 19.578125 74.21875 30.609375 74.21875 \nQ 43.265625 74.21875 49.921875 64.515625 \nQ 56.59375 54.828125 56.59375 36.375 \nQ 56.59375 19.140625 48.40625 8.859375 \nQ 40.234375 -1.421875 26.421875 -1.421875 \nQ 22.703125 -1.421875 18.890625 -0.6875 \nQ 15.09375 0.046875 10.984375 1.515625 \nz\nM 30.609375 32.421875 \nQ 37.25 32.421875 41.125 36.953125 \nQ 45.015625 41.5 45.015625 49.421875 \nQ 45.015625 57.28125 41.125 61.84375 \nQ 37.25 66.40625 30.609375 66.40625 \nQ 23.96875 66.40625 20.09375 61.84375 \nQ 16.21875 57.28125 16.21875 49.421875 \nQ 16.21875 41.5 20.09375 36.953125 \nQ 23.96875 32.421875 30.609375 32.421875 \nz\n\" id=\"DejaVuSans-57\"/>\n       </defs>\n       <use xlink:href=\"#DejaVuSans-51\"/>\n       <use x=\"63.623047\" xlink:href=\"#DejaVuSans-57\"/>\n      </g>\n     </g>\n    </g>\n    <g id=\"xtick_2\">\n     <g id=\"line2d_2\">\n      <g>\n       <use style=\"stroke:#000000;stroke-width:0.8;\" x=\"115.610266\" xlink:href=\"#maa76e02ee7\" y=\"224.64\"/>\n      </g>\n     </g>\n     <g id=\"text_2\">\n      <!-- 40 -->\n      <g transform=\"translate(109.247766 239.238438)scale(0.1 -0.1)\">\n       <defs>\n        <path d=\"M 37.796875 64.3125 \nL 12.890625 25.390625 \nL 37.796875 25.390625 \nz\nM 35.203125 72.90625 \nL 47.609375 72.90625 \nL 47.609375 25.390625 \nL 58.015625 25.390625 \nL 58.015625 17.1875 \nL 47.609375 17.1875 \nL 47.609375 0 \nL 37.796875 0 \nL 37.796875 17.1875 \nL 4.890625 17.1875 \nL 4.890625 26.703125 \nz\n\" id=\"DejaVuSans-52\"/>\n        <path d=\"M 31.78125 66.40625 \nQ 24.171875 66.40625 20.328125 58.90625 \nQ 16.5 51.421875 16.5 36.375 \nQ 16.5 21.390625 20.328125 13.890625 \nQ 24.171875 6.390625 31.78125 6.390625 \nQ 39.453125 6.390625 43.28125 13.890625 \nQ 47.125 21.390625 47.125 36.375 \nQ 47.125 51.421875 43.28125 58.90625 \nQ 39.453125 66.40625 31.78125 66.40625 \nz\nM 31.78125 74.21875 \nQ 44.046875 74.21875 50.515625 64.515625 \nQ 56.984375 54.828125 56.984375 36.375 \nQ 56.984375 17.96875 50.515625 8.265625 \nQ 44.046875 -1.421875 31.78125 -1.421875 \nQ 19.53125 -1.421875 13.0625 8.265625 \nQ 6.59375 17.96875 6.59375 36.375 \nQ 6.59375 54.828125 13.0625 64.515625 \nQ 19.53125 74.21875 31.78125 74.21875 \nz\n\" id=\"DejaVuSans-48\"/>\n       </defs>\n       <use xlink:href=\"#DejaVuSans-52\"/>\n       <use x=\"63.623047\" xlink:href=\"#DejaVuSans-48\"/>\n      </g>\n     </g>\n    </g>\n    <g id=\"xtick_3\">\n     <g id=\"line2d_3\">\n      <g>\n       <use style=\"stroke:#000000;stroke-width:0.8;\" x=\"189.077351\" xlink:href=\"#maa76e02ee7\" y=\"224.64\"/>\n      </g>\n     </g>\n     <g id=\"text_3\">\n      <!-- 41 -->\n      <g transform=\"translate(182.714851 239.238438)scale(0.1 -0.1)\">\n       <defs>\n        <path d=\"M 12.40625 8.296875 \nL 28.515625 8.296875 \nL 28.515625 63.921875 \nL 10.984375 60.40625 \nL 10.984375 69.390625 \nL 28.421875 72.90625 \nL 38.28125 72.90625 \nL 38.28125 8.296875 \nL 54.390625 8.296875 \nL 54.390625 0 \nL 12.40625 0 \nz\n\" id=\"DejaVuSans-49\"/>\n       </defs>\n       <use xlink:href=\"#DejaVuSans-52\"/>\n       <use x=\"63.623047\" xlink:href=\"#DejaVuSans-49\"/>\n      </g>\n     </g>\n    </g>\n    <g id=\"xtick_4\">\n     <g id=\"line2d_4\">\n      <g>\n       <use style=\"stroke:#000000;stroke-width:0.8;\" x=\"262.544436\" xlink:href=\"#maa76e02ee7\" y=\"224.64\"/>\n      </g>\n     </g>\n     <g id=\"text_4\">\n      <!-- 42 -->\n      <g transform=\"translate(256.181936 239.238438)scale(0.1 -0.1)\">\n       <defs>\n        <path d=\"M 19.1875 8.296875 \nL 53.609375 8.296875 \nL 53.609375 0 \nL 7.328125 0 \nL 7.328125 8.296875 \nQ 12.9375 14.109375 22.625 23.890625 \nQ 32.328125 33.6875 34.8125 36.53125 \nQ 39.546875 41.84375 41.421875 45.53125 \nQ 43.3125 49.21875 43.3125 52.78125 \nQ 43.3125 58.59375 39.234375 62.25 \nQ 35.15625 65.921875 28.609375 65.921875 \nQ 23.96875 65.921875 18.8125 64.3125 \nQ 13.671875 62.703125 7.8125 59.421875 \nL 7.8125 69.390625 \nQ 13.765625 71.78125 18.9375 73 \nQ 24.125 74.21875 28.421875 74.21875 \nQ 39.75 74.21875 46.484375 68.546875 \nQ 53.21875 62.890625 53.21875 53.421875 \nQ 53.21875 48.921875 51.53125 44.890625 \nQ 49.859375 40.875 45.40625 35.40625 \nQ 44.1875 33.984375 37.640625 27.21875 \nQ 31.109375 20.453125 19.1875 8.296875 \nz\n\" id=\"DejaVuSans-50\"/>\n       </defs>\n       <use xlink:href=\"#DejaVuSans-52\"/>\n       <use x=\"63.623047\" xlink:href=\"#DejaVuSans-50\"/>\n      </g>\n     </g>\n    </g>\n    <g id=\"xtick_5\">\n     <g id=\"line2d_5\">\n      <g>\n       <use style=\"stroke:#000000;stroke-width:0.8;\" x=\"336.01152\" xlink:href=\"#maa76e02ee7\" y=\"224.64\"/>\n      </g>\n     </g>\n     <g id=\"text_5\">\n      <!-- 43 -->\n      <g transform=\"translate(329.64902 239.238438)scale(0.1 -0.1)\">\n       <use xlink:href=\"#DejaVuSans-52\"/>\n       <use x=\"63.623047\" xlink:href=\"#DejaVuSans-51\"/>\n      </g>\n     </g>\n    </g>\n   </g>\n   <g id=\"matplotlib.axis_2\">\n    <g id=\"ytick_1\">\n     <g id=\"line2d_6\">\n      <defs>\n       <path d=\"M 0 0 \nL -3.5 0 \n\" id=\"m118fe10a64\" style=\"stroke:#000000;stroke-width:0.8;\"/>\n      </defs>\n      <g>\n       <use style=\"stroke:#000000;stroke-width:0.8;\" x=\"26.925\" xlink:href=\"#m118fe10a64\" y=\"205.562283\"/>\n      </g>\n     </g>\n     <g id=\"text_6\">\n      <!-- 38 -->\n      <g transform=\"translate(7.2 209.361502)scale(0.1 -0.1)\">\n       <defs>\n        <path d=\"M 31.78125 34.625 \nQ 24.75 34.625 20.71875 30.859375 \nQ 16.703125 27.09375 16.703125 20.515625 \nQ 16.703125 13.921875 20.71875 10.15625 \nQ 24.75 6.390625 31.78125 6.390625 \nQ 38.8125 6.390625 42.859375 10.171875 \nQ 46.921875 13.96875 46.921875 20.515625 \nQ 46.921875 27.09375 42.890625 30.859375 \nQ 38.875 34.625 31.78125 34.625 \nz\nM 21.921875 38.8125 \nQ 15.578125 40.375 12.03125 44.71875 \nQ 8.5 49.078125 8.5 55.328125 \nQ 8.5 64.0625 14.71875 69.140625 \nQ 20.953125 74.21875 31.78125 74.21875 \nQ 42.671875 74.21875 48.875 69.140625 \nQ 55.078125 64.0625 55.078125 55.328125 \nQ 55.078125 49.078125 51.53125 44.71875 \nQ 48 40.375 41.703125 38.8125 \nQ 48.828125 37.15625 52.796875 32.3125 \nQ 56.78125 27.484375 56.78125 20.515625 \nQ 56.78125 9.90625 50.3125 4.234375 \nQ 43.84375 -1.421875 31.78125 -1.421875 \nQ 19.734375 -1.421875 13.25 4.234375 \nQ 6.78125 9.90625 6.78125 20.515625 \nQ 6.78125 27.484375 10.78125 32.3125 \nQ 14.796875 37.15625 21.921875 38.8125 \nz\nM 18.3125 54.390625 \nQ 18.3125 48.734375 21.84375 45.5625 \nQ 25.390625 42.390625 31.78125 42.390625 \nQ 38.140625 42.390625 41.71875 45.5625 \nQ 45.3125 48.734375 45.3125 54.390625 \nQ 45.3125 60.0625 41.71875 63.234375 \nQ 38.140625 66.40625 31.78125 66.40625 \nQ 25.390625 66.40625 21.84375 63.234375 \nQ 18.3125 60.0625 18.3125 54.390625 \nz\n\" id=\"DejaVuSans-56\"/>\n       </defs>\n       <use xlink:href=\"#DejaVuSans-51\"/>\n       <use x=\"63.623047\" xlink:href=\"#DejaVuSans-56\"/>\n      </g>\n     </g>\n    </g>\n    <g id=\"ytick_2\">\n     <g id=\"line2d_7\">\n      <g>\n       <use style=\"stroke:#000000;stroke-width:0.8;\" x=\"26.925\" xlink:href=\"#m118fe10a64\" y=\"173.383002\"/>\n      </g>\n     </g>\n     <g id=\"text_7\">\n      <!-- 39 -->\n      <g transform=\"translate(7.2 177.182221)scale(0.1 -0.1)\">\n       <use xlink:href=\"#DejaVuSans-51\"/>\n       <use x=\"63.623047\" xlink:href=\"#DejaVuSans-57\"/>\n      </g>\n     </g>\n    </g>\n    <g id=\"ytick_3\">\n     <g id=\"line2d_8\">\n      <g>\n       <use style=\"stroke:#000000;stroke-width:0.8;\" x=\"26.925\" xlink:href=\"#m118fe10a64\" y=\"141.203721\"/>\n      </g>\n     </g>\n     <g id=\"text_8\">\n      <!-- 40 -->\n      <g transform=\"translate(7.2 145.00294)scale(0.1 -0.1)\">\n       <use xlink:href=\"#DejaVuSans-52\"/>\n       <use x=\"63.623047\" xlink:href=\"#DejaVuSans-48\"/>\n      </g>\n     </g>\n    </g>\n    <g id=\"ytick_4\">\n     <g id=\"line2d_9\">\n      <g>\n       <use style=\"stroke:#000000;stroke-width:0.8;\" x=\"26.925\" xlink:href=\"#m118fe10a64\" y=\"109.02444\"/>\n      </g>\n     </g>\n     <g id=\"text_9\">\n      <!-- 41 -->\n      <g transform=\"translate(7.2 112.823658)scale(0.1 -0.1)\">\n       <use xlink:href=\"#DejaVuSans-52\"/>\n       <use x=\"63.623047\" xlink:href=\"#DejaVuSans-49\"/>\n      </g>\n     </g>\n    </g>\n    <g id=\"ytick_5\">\n     <g id=\"line2d_10\">\n      <g>\n       <use style=\"stroke:#000000;stroke-width:0.8;\" x=\"26.925\" xlink:href=\"#m118fe10a64\" y=\"76.845159\"/>\n      </g>\n     </g>\n     <g id=\"text_10\">\n      <!-- 42 -->\n      <g transform=\"translate(7.2 80.644377)scale(0.1 -0.1)\">\n       <use xlink:href=\"#DejaVuSans-52\"/>\n       <use x=\"63.623047\" xlink:href=\"#DejaVuSans-50\"/>\n      </g>\n     </g>\n    </g>\n    <g id=\"ytick_6\">\n     <g id=\"line2d_11\">\n      <g>\n       <use style=\"stroke:#000000;stroke-width:0.8;\" x=\"26.925\" xlink:href=\"#m118fe10a64\" y=\"44.665877\"/>\n      </g>\n     </g>\n     <g id=\"text_11\">\n      <!-- 43 -->\n      <g transform=\"translate(7.2 48.465096)scale(0.1 -0.1)\">\n       <use xlink:href=\"#DejaVuSans-52\"/>\n       <use x=\"63.623047\" xlink:href=\"#DejaVuSans-51\"/>\n      </g>\n     </g>\n    </g>\n    <g id=\"ytick_7\">\n     <g id=\"line2d_12\">\n      <g>\n       <use style=\"stroke:#000000;stroke-width:0.8;\" x=\"26.925\" xlink:href=\"#m118fe10a64\" y=\"12.486596\"/>\n      </g>\n     </g>\n     <g id=\"text_12\">\n      <!-- 44 -->\n      <g transform=\"translate(7.2 16.285815)scale(0.1 -0.1)\">\n       <use xlink:href=\"#DejaVuSans-52\"/>\n       <use x=\"63.623047\" xlink:href=\"#DejaVuSans-52\"/>\n      </g>\n     </g>\n    </g>\n   </g>\n   <g id=\"line2d_13\">\n    <defs>\n     <path d=\"M 0 1.5 \nC 0.397805 1.5 0.77937 1.341951 1.06066 1.06066 \nC 1.341951 0.77937 1.5 0.397805 1.5 0 \nC 1.5 -0.397805 1.341951 -0.77937 1.06066 -1.06066 \nC 0.77937 -1.341951 0.397805 -1.5 0 -1.5 \nC -0.397805 -1.5 -0.77937 -1.341951 -1.06066 -1.06066 \nC -1.341951 -0.77937 -1.5 -0.397805 -1.5 0 \nC -1.5 0.397805 -1.341951 0.77937 -1.06066 1.06066 \nC -0.77937 1.341951 -0.397805 1.5 0 1.5 \nz\n\" id=\"m6ca2064d41\" style=\"stroke:#1f77b4;\"/>\n    </defs>\n    <g clip-path=\"url(#p627032dd48)\">\n     <use style=\"fill:#1f77b4;stroke:#1f77b4;\" x=\"189.077351\" xlink:href=\"#m6ca2064d41\" y=\"109.02444\"/>\n     <use style=\"fill:#1f77b4;stroke:#1f77b4;\" x=\"203.071081\" xlink:href=\"#m6ca2064d41\" y=\"76.845159\"/>\n     <use style=\"fill:#1f77b4;stroke:#1f77b4;\" x=\"303.476097\" xlink:href=\"#m6ca2064d41\" y=\"26.277717\"/>\n     <use style=\"fill:#1f77b4;stroke:#1f77b4;\" x=\"179.28174\" xlink:href=\"#m6ca2064d41\" y=\"113.62148\"/>\n     <use style=\"fill:#1f77b4;stroke:#1f77b4;\" x=\"191.526254\" xlink:href=\"#m6ca2064d41\" y=\"86.039239\"/>\n     <use style=\"fill:#1f77b4;stroke:#1f77b4;\" x=\"236.656035\" xlink:href=\"#m6ca2064d41\" y=\"122.81556\"/>\n     <use style=\"fill:#1f77b4;stroke:#1f77b4;\" x=\"253.448511\" xlink:href=\"#m6ca2064d41\" y=\"104.4274\"/>\n     <use style=\"fill:#1f77b4;stroke:#1f77b4;\" x=\"138.699922\" xlink:href=\"#m6ca2064d41\" y=\"95.233319\"/>\n     <use style=\"fill:#1f77b4;stroke:#1f77b4;\" x=\"182.780172\" xlink:href=\"#m6ca2064d41\" y=\"63.054038\"/>\n     <use style=\"fill:#1f77b4;stroke:#1f77b4;\" x=\"346.506818\" xlink:href=\"#m6ca2064d41\" y=\"17.083636\"/>\n     <use style=\"fill:#1f77b4;stroke:#1f77b4;\" x=\"251.699295\" xlink:href=\"#m6ca2064d41\" y=\"67.651078\"/>\n     <use style=\"fill:#1f77b4;stroke:#1f77b4;\" x=\"237.705564\" xlink:href=\"#m6ca2064d41\" y=\"99.830359\"/>\n     <use style=\"fill:#1f77b4;stroke:#1f77b4;\" x=\"104.415282\" xlink:href=\"#m6ca2064d41\" y=\"200.965243\"/>\n     <use style=\"fill:#1f77b4;stroke:#1f77b4;\" x=\"300.327508\" xlink:href=\"#m6ca2064d41\" y=\"109.02444\"/>\n     <use style=\"fill:#1f77b4;stroke:#1f77b4;\" x=\"247.151332\" xlink:href=\"#m6ca2064d41\" y=\"109.02444\"/>\n     <use style=\"fill:#1f77b4;stroke:#1f77b4;\" x=\"73.629075\" xlink:href=\"#m6ca2064d41\" y=\"200.965243\"/>\n     <use style=\"fill:#1f77b4;stroke:#1f77b4;\" x=\"160.04036\" xlink:href=\"#m6ca2064d41\" y=\"127.4126\"/>\n     <use style=\"fill:#1f77b4;stroke:#1f77b4;\" x=\"71.530016\" xlink:href=\"#m6ca2064d41\" y=\"173.383002\"/>\n     <use style=\"fill:#1f77b4;stroke:#1f77b4;\" x=\"271.640361\" xlink:href=\"#m6ca2064d41\" y=\"86.039239\"/>\n     <use style=\"fill:#1f77b4;stroke:#1f77b4;\" x=\"277.237853\" xlink:href=\"#m6ca2064d41\" y=\"58.456998\"/>\n     <use style=\"fill:#1f77b4;stroke:#1f77b4;\" x=\"237.005878\" xlink:href=\"#m6ca2064d41\" y=\"95.233319\"/>\n     <use style=\"fill:#1f77b4;stroke:#1f77b4;\" x=\"160.04036\" xlink:href=\"#m6ca2064d41\" y=\"168.785962\"/>\n     <use style=\"fill:#1f77b4;stroke:#1f77b4;\" x=\"233.157602\" xlink:href=\"#m6ca2064d41\" y=\"113.62148\"/>\n     <use style=\"fill:#1f77b4;stroke:#1f77b4;\" x=\"345.807132\" xlink:href=\"#m6ca2064d41\" y=\"17.083636\"/>\n     <use style=\"fill:#1f77b4;stroke:#1f77b4;\" x=\"184.529389\" xlink:href=\"#m6ca2064d41\" y=\"86.039239\"/>\n     <use style=\"fill:#1f77b4;stroke:#1f77b4;\" x=\"131.00337\" xlink:href=\"#m6ca2064d41\" y=\"159.591881\"/>\n     <use style=\"fill:#1f77b4;stroke:#1f77b4;\" x=\"121.207759\" xlink:href=\"#m6ca2064d41\" y=\"214.756364\"/>\n     <use style=\"fill:#1f77b4;stroke:#1f77b4;\" x=\"142.898041\" xlink:href=\"#m6ca2064d41\" y=\"104.4274\"/>\n     <use style=\"fill:#1f77b4;stroke:#1f77b4;\" x=\"129.95384\" xlink:href=\"#m6ca2064d41\" y=\"182.577082\"/>\n     <use style=\"fill:#1f77b4;stroke:#1f77b4;\" x=\"139.049765\" xlink:href=\"#m6ca2064d41\" y=\"168.785962\"/>\n    </g>\n   </g>\n   <g id=\"line2d_14\">\n    <path clip-path=\"url(#p627032dd48)\" d=\"M 42.143182 173.383002 \nL 336.01152 44.665877 \n\" style=\"fill:none;stroke:#ff7f0e;stroke-linecap:square;stroke-width:1.5;\"/>\n   </g>\n   <g id=\"line2d_15\">\n    <path clip-path=\"url(#p627032dd48)\" d=\"M 189.077351 119.210341 \nL 203.071081 111.006083 \nL 303.476097 52.140531 \nL 179.28174 124.953321 \nL 191.526254 117.774595 \nL 236.656035 91.315863 \nL 253.448511 81.470754 \nL 138.699922 148.74567 \nL 182.780172 122.902257 \nL 346.506818 26.912438 \nL 251.699295 82.496286 \nL 237.705564 90.700544 \nL 104.415282 168.846102 \nL 300.327508 53.986489 \nL 247.151332 85.16267 \nL 73.629075 186.89547 \nL 160.04036 136.234176 \nL 71.530016 188.126108 \nL 271.640361 70.805218 \nL 277.237853 67.523515 \nL 237.005878 91.110757 \nL 160.04036 136.234176 \nL 233.157602 93.366928 \nL 345.807132 27.322651 \nL 184.529389 121.876725 \nL 131.00337 153.258012 \nL 121.207759 159.000992 \nL 142.898041 146.284392 \nL 129.95384 153.873331 \nL 139.049765 148.540563 \n\" style=\"fill:none;stroke:#2ca02c;stroke-linecap:square;stroke-width:1.5;\"/>\n   </g>\n   <g id=\"patch_3\">\n    <path d=\"M 26.925 224.64 \nL 26.925 7.2 \n\" style=\"fill:none;stroke:#000000;stroke-linecap:square;stroke-linejoin:miter;stroke-width:0.8;\"/>\n   </g>\n   <g id=\"patch_4\">\n    <path d=\"M 361.725 224.64 \nL 361.725 7.2 \n\" style=\"fill:none;stroke:#000000;stroke-linecap:square;stroke-linejoin:miter;stroke-width:0.8;\"/>\n   </g>\n   <g id=\"patch_5\">\n    <path d=\"M 26.925 224.64 \nL 361.725 224.64 \n\" style=\"fill:none;stroke:#000000;stroke-linecap:square;stroke-linejoin:miter;stroke-width:0.8;\"/>\n   </g>\n   <g id=\"patch_6\">\n    <path d=\"M 26.925 7.2 \nL 361.725 7.2 \n\" style=\"fill:none;stroke:#000000;stroke-linecap:square;stroke-linejoin:miter;stroke-width:0.8;\"/>\n   </g>\n  </g>\n </g>\n <defs>\n  <clipPath id=\"p627032dd48\">\n   <rect height=\"217.44\" width=\"334.8\" x=\"26.925\" y=\"7.2\"/>\n  </clipPath>\n </defs>\n</svg>\n",
      "image/png": "[encoded data removed]"
     },
     "metadata": {
      "needs_background": "light"
     }
    }
   ],
   "source": [
    "plt.plot(y_pred,y_test,'.')\n",
    "plt.plot([39,43],[39,43])\n",
    "lin_reg=LinearRegression()\n",
    "lin_reg.fit(y_pred.reshape(-1,1),y_test)\n",
    "y_pred_pred=lin_reg.predict(y_pred.reshape(-1,1))\n",
    "plt.plot(y_pred,y_pred_pred)"
   ]
  },
  {
   "cell_type": "code",
   "execution_count": null,
   "metadata": {},
   "outputs": [],
   "source": [
    "plt.plot(,y_test,'.')\n",
    "plt.plot([39,43],[39,43])\n",
    "lin_reg=LinearRegression()\n",
    "lin_reg.fit(y_pred.reshape(-1,1),y_test)\n",
    "y_pred_pred=lin_reg.predict(y_pred.reshape(-1,1))\n",
    "plt.plot(y_pred,y_pred_pred)"
   ]
  },
  {
   "cell_type": "code",
   "execution_count": 247,
   "metadata": {},
   "outputs": [
    {
     "output_type": "execute_result",
     "data": {
      "text/plain": [
       "         r2       MAE       MSE  Correlation       p_value\n",
       "0  0.755393  0.836289  0.999489     0.906016  2.387612e-12\n",
       "1  0.627037  0.783678  1.088824     0.796399  1.412240e-07\n",
       "2  0.691209  0.678053  0.751384     0.833870  1.048746e-08\n",
       "3  0.600517  0.768432  1.032134     0.779883  3.768604e-07\n",
       "4  0.600126  0.828740  1.041569     0.831695  1.240460e-08\n",
       "5  0.654856  0.779038  0.982680     0.829573  1.081958e-07"
      ],
      "text/html": "<div>\n<style scoped>\n    .dataframe tbody tr th:only-of-type {\n        vertical-align: middle;\n    }\n\n    .dataframe tbody tr th {\n        vertical-align: top;\n    }\n\n    .dataframe thead th {\n        text-align: right;\n    }\n</style>\n<table border=\"1\" class=\"dataframe\">\n  <thead>\n    <tr style=\"text-align: right;\">\n      <th></th>\n      <th>r2</th>\n      <th>MAE</th>\n      <th>MSE</th>\n      <th>Correlation</th>\n      <th>p_value</th>\n    </tr>\n  </thead>\n  <tbody>\n    <tr>\n      <th>0</th>\n      <td>0.755393</td>\n      <td>0.836289</td>\n      <td>0.999489</td>\n      <td>0.906016</td>\n      <td>2.387612e-12</td>\n    </tr>\n    <tr>\n      <th>1</th>\n      <td>0.627037</td>\n      <td>0.783678</td>\n      <td>1.088824</td>\n      <td>0.796399</td>\n      <td>1.412240e-07</td>\n    </tr>\n    <tr>\n      <th>2</th>\n      <td>0.691209</td>\n      <td>0.678053</td>\n      <td>0.751384</td>\n      <td>0.833870</td>\n      <td>1.048746e-08</td>\n    </tr>\n    <tr>\n      <th>3</th>\n      <td>0.600517</td>\n      <td>0.768432</td>\n      <td>1.032134</td>\n      <td>0.779883</td>\n      <td>3.768604e-07</td>\n    </tr>\n    <tr>\n      <th>4</th>\n      <td>0.600126</td>\n      <td>0.828740</td>\n      <td>1.041569</td>\n      <td>0.831695</td>\n      <td>1.240460e-08</td>\n    </tr>\n    <tr>\n      <th>5</th>\n      <td>0.654856</td>\n      <td>0.779038</td>\n      <td>0.982680</td>\n      <td>0.829573</td>\n      <td>1.081958e-07</td>\n    </tr>\n  </tbody>\n</table>\n</div>"
     },
     "metadata": {},
     "execution_count": 247
    }
   ],
   "source": [
    "PMA_RF_result=pd.DataFrame(result).T\n",
    "PMA_RF_result.append(pd.DataFrame(PMA_RF_result.mean(axis=0)).T,ignore_index=True)"
   ]
  },
  {
   "cell_type": "code",
   "execution_count": 248,
   "metadata": {},
   "outputs": [],
   "source": [
    "brain_index=pd.DataFrame(y_pred_dict)\n",
    "brain_index['mean_PMA_pred']=brain_index.mean(axis=1)\n",
    "brain_index['true_PMA_pred']=y\n",
    "brain_index['residual']=brain_index['mean_PMA_pred']-brain_index['true_PMA_pred']"
   ]
  },
  {
   "cell_type": "code",
   "execution_count": 249,
   "metadata": {},
   "outputs": [
    {
     "output_type": "execute_result",
     "data": {
      "text/plain": [
       "             0          1          2          3          4  mean_PMA_pred  \\\n",
       "0    39.402484  37.599320  37.380115  37.783613  37.359912      37.905089   \n",
       "1    42.249327  43.618416  43.462893  43.335536  43.377490      43.208733   \n",
       "2    43.117473  44.456097  44.421255  44.233152  44.070966      44.059789   \n",
       "3    40.535584  39.296871  39.477236  39.667499  39.485079      39.692454   \n",
       "4    40.997843  41.521441  41.489796  41.351915  41.610246      41.394248   \n",
       "..         ...        ...        ...        ...        ...            ...   \n",
       "146  39.565966  39.563154  39.279926  39.085711  39.742336      39.447419   \n",
       "147  37.840948  37.715818  38.344114  37.922134  39.938075      38.352218   \n",
       "148  40.569408  40.844639  40.458148  40.387808  40.217702      40.495541   \n",
       "149  38.647084  38.997304  39.054430  38.714474  40.055518      39.093762   \n",
       "150  39.052970  39.346799  38.890944  38.841914  39.429153      39.112356   \n",
       "\n",
       "     true_PMA_pred  residual  \n",
       "0        37.428571  0.476517  \n",
       "1        43.428571 -0.219839  \n",
       "2        44.428571 -0.368783  \n",
       "3        39.142857  0.549597  \n",
       "4        41.857143 -0.462895  \n",
       "..             ...       ...  \n",
       "146      39.428571  0.018847  \n",
       "147      37.714286  0.637932  \n",
       "148      41.142857 -0.647316  \n",
       "149      38.714286  0.379476  \n",
       "150      39.142857 -0.030501  \n",
       "\n",
       "[151 rows x 8 columns]"
      ],
      "text/html": "<div>\n<style scoped>\n    .dataframe tbody tr th:only-of-type {\n        vertical-align: middle;\n    }\n\n    .dataframe tbody tr th {\n        vertical-align: top;\n    }\n\n    .dataframe thead th {\n        text-align: right;\n    }\n</style>\n<table border=\"1\" class=\"dataframe\">\n  <thead>\n    <tr style=\"text-align: right;\">\n      <th></th>\n      <th>0</th>\n      <th>1</th>\n      <th>2</th>\n      <th>3</th>\n      <th>4</th>\n      <th>mean_PMA_pred</th>\n      <th>true_PMA_pred</th>\n      <th>residual</th>\n    </tr>\n  </thead>\n  <tbody>\n    <tr>\n      <th>0</th>\n      <td>39.402484</td>\n      <td>37.599320</td>\n      <td>37.380115</td>\n      <td>37.783613</td>\n      <td>37.359912</td>\n      <td>37.905089</td>\n      <td>37.428571</td>\n      <td>0.476517</td>\n    </tr>\n    <tr>\n      <th>1</th>\n      <td>42.249327</td>\n      <td>43.618416</td>\n      <td>43.462893</td>\n      <td>43.335536</td>\n      <td>43.377490</td>\n      <td>43.208733</td>\n      <td>43.428571</td>\n      <td>-0.219839</td>\n    </tr>\n    <tr>\n      <th>2</th>\n      <td>43.117473</td>\n      <td>44.456097</td>\n      <td>44.421255</td>\n      <td>44.233152</td>\n      <td>44.070966</td>\n      <td>44.059789</td>\n      <td>44.428571</td>\n      <td>-0.368783</td>\n    </tr>\n    <tr>\n      <th>3</th>\n      <td>40.535584</td>\n      <td>39.296871</td>\n      <td>39.477236</td>\n      <td>39.667499</td>\n      <td>39.485079</td>\n      <td>39.692454</td>\n      <td>39.142857</td>\n      <td>0.549597</td>\n    </tr>\n    <tr>\n      <th>4</th>\n      <td>40.997843</td>\n      <td>41.521441</td>\n      <td>41.489796</td>\n      <td>41.351915</td>\n      <td>41.610246</td>\n      <td>41.394248</td>\n      <td>41.857143</td>\n      <td>-0.462895</td>\n    </tr>\n    <tr>\n      <th>...</th>\n      <td>...</td>\n      <td>...</td>\n      <td>...</td>\n      <td>...</td>\n      <td>...</td>\n      <td>...</td>\n      <td>...</td>\n      <td>...</td>\n    </tr>\n    <tr>\n      <th>146</th>\n      <td>39.565966</td>\n      <td>39.563154</td>\n      <td>39.279926</td>\n      <td>39.085711</td>\n      <td>39.742336</td>\n      <td>39.447419</td>\n      <td>39.428571</td>\n      <td>0.018847</td>\n    </tr>\n    <tr>\n      <th>147</th>\n      <td>37.840948</td>\n      <td>37.715818</td>\n      <td>38.344114</td>\n      <td>37.922134</td>\n      <td>39.938075</td>\n      <td>38.352218</td>\n      <td>37.714286</td>\n      <td>0.637932</td>\n    </tr>\n    <tr>\n      <th>148</th>\n      <td>40.569408</td>\n      <td>40.844639</td>\n      <td>40.458148</td>\n      <td>40.387808</td>\n      <td>40.217702</td>\n      <td>40.495541</td>\n      <td>41.142857</td>\n      <td>-0.647316</td>\n    </tr>\n    <tr>\n      <th>149</th>\n      <td>38.647084</td>\n      <td>38.997304</td>\n      <td>39.054430</td>\n      <td>38.714474</td>\n      <td>40.055518</td>\n      <td>39.093762</td>\n      <td>38.714286</td>\n      <td>0.379476</td>\n    </tr>\n    <tr>\n      <th>150</th>\n      <td>39.052970</td>\n      <td>39.346799</td>\n      <td>38.890944</td>\n      <td>38.841914</td>\n      <td>39.429153</td>\n      <td>39.112356</td>\n      <td>39.142857</td>\n      <td>-0.030501</td>\n    </tr>\n  </tbody>\n</table>\n<p>151 rows × 8 columns</p>\n</div>"
     },
     "metadata": {},
     "execution_count": 249
    }
   ],
   "source": [
    "brain_index"
   ]
  },
  {
   "cell_type": "code",
   "execution_count": 261,
   "metadata": {},
   "outputs": [],
   "source": [
    "brain_index_corr=pd.DataFrame({'PRS_threshold':PRS_thresholds,'Correlation':[(pearsonr(brain_index['residual'],adjusted_prs_score[:,i]))[0] for i in range(11)],'p-value':[(pearsonr(brain_index['residual'],adjusted_prs_score[:,i]))[1] for i in range(11)]})"
   ]
  },
  {
   "cell_type": "code",
   "execution_count": 262,
   "metadata": {},
   "outputs": [
    {
     "output_type": "execute_result",
     "data": {
      "text/plain": [
       "   PRS_threshold  Correlation   p-value\n",
       "0         X1e.08    -0.081318  0.320908\n",
       "1         X1e.07    -0.086272  0.292210\n",
       "2         X1e.06    -0.093681  0.252573\n",
       "3         X1e.05    -0.088256  0.281212\n",
       "4        X0.0001    -0.116874  0.152965\n",
       "5         X0.001    -0.096708  0.237496\n",
       "6          X0.01    -0.194100  0.016936\n",
       "7          X0.05    -0.212510  0.008802\n",
       "8           X0.1    -0.197858  0.014882\n",
       "9           X0.5    -0.200332  0.013651\n",
       "10            X1    -0.198571  0.014518"
      ],
      "text/html": "<div>\n<style scoped>\n    .dataframe tbody tr th:only-of-type {\n        vertical-align: middle;\n    }\n\n    .dataframe tbody tr th {\n        vertical-align: top;\n    }\n\n    .dataframe thead th {\n        text-align: right;\n    }\n</style>\n<table border=\"1\" class=\"dataframe\">\n  <thead>\n    <tr style=\"text-align: right;\">\n      <th></th>\n      <th>PRS_threshold</th>\n      <th>Correlation</th>\n      <th>p-value</th>\n    </tr>\n  </thead>\n  <tbody>\n    <tr>\n      <th>0</th>\n      <td>X1e.08</td>\n      <td>-0.081318</td>\n      <td>0.320908</td>\n    </tr>\n    <tr>\n      <th>1</th>\n      <td>X1e.07</td>\n      <td>-0.086272</td>\n      <td>0.292210</td>\n    </tr>\n    <tr>\n      <th>2</th>\n      <td>X1e.06</td>\n      <td>-0.093681</td>\n      <td>0.252573</td>\n    </tr>\n    <tr>\n      <th>3</th>\n      <td>X1e.05</td>\n      <td>-0.088256</td>\n      <td>0.281212</td>\n    </tr>\n    <tr>\n      <th>4</th>\n      <td>X0.0001</td>\n      <td>-0.116874</td>\n      <td>0.152965</td>\n    </tr>\n    <tr>\n      <th>5</th>\n      <td>X0.001</td>\n      <td>-0.096708</td>\n      <td>0.237496</td>\n    </tr>\n    <tr>\n      <th>6</th>\n      <td>X0.01</td>\n      <td>-0.194100</td>\n      <td>0.016936</td>\n    </tr>\n    <tr>\n      <th>7</th>\n      <td>X0.05</td>\n      <td>-0.212510</td>\n      <td>0.008802</td>\n    </tr>\n    <tr>\n      <th>8</th>\n      <td>X0.1</td>\n      <td>-0.197858</td>\n      <td>0.014882</td>\n    </tr>\n    <tr>\n      <th>9</th>\n      <td>X0.5</td>\n      <td>-0.200332</td>\n      <td>0.013651</td>\n    </tr>\n    <tr>\n      <th>10</th>\n      <td>X1</td>\n      <td>-0.198571</td>\n      <td>0.014518</td>\n    </tr>\n  </tbody>\n</table>\n</div>"
     },
     "metadata": {},
     "execution_count": 262
    }
   ],
   "source": [
    "brain_index_corr"
   ]
  },
  {
   "cell_type": "code",
   "execution_count": 306,
   "metadata": {},
   "outputs": [
    {
     "output_type": "execute_result",
     "data": {
      "text/plain": [
       "[<matplotlib.lines.Line2D at 0x7fa80405ecf8>]"
      ]
     },
     "metadata": {},
     "execution_count": 306
    },
    {
     "output_type": "display_data",
     "data": {
      "text/plain": "<Figure size 432x288 with 1 Axes>",
      "image/svg+xml": "<?xml version=\"1.0\" encoding=\"utf-8\" standalone=\"no\"?>\n<!DOCTYPE svg PUBLIC \"-//W3C//DTD SVG 1.1//EN\"\n  \"http://www.w3.org/Graphics/SVG/1.1/DTD/svg11.dtd\">\n<!-- Created with matplotlib (https://matplotlib.org/) -->\n<svg height=\"248.518125pt\" version=\"1.1\" viewBox=\"0 0 399.570312 248.518125\" width=\"399.570312pt\" xmlns=\"http://www.w3.org/2000/svg\" xmlns:xlink=\"http://www.w3.org/1999/xlink\">\n <metadata>\n  <rdf:RDF xmlns:cc=\"http://creativecommons.org/ns#\" xmlns:dc=\"http://purl.org/dc/elements/1.1/\" xmlns:rdf=\"http://www.w3.org/1999/02/22-rdf-syntax-ns#\">\n   <cc:Work>\n    <dc:type rdf:resource=\"http://purl.org/dc/dcmitype/StillImage\"/>\n    <dc:date>2021-03-18T15:33:13.159082</dc:date>\n    <dc:format>image/svg+xml</dc:format>\n    <dc:creator>\n     <cc:Agent>\n      <dc:title>Matplotlib v3.3.2, https://matplotlib.org/</dc:title>\n     </cc:Agent>\n    </dc:creator>\n   </cc:Work>\n  </rdf:RDF>\n </metadata>\n <defs>\n  <style type=\"text/css\">*{stroke-linecap:butt;stroke-linejoin:round;}</style>\n </defs>\n <g id=\"figure_1\">\n  <g id=\"patch_1\">\n   <path d=\"M 0 248.518125 \nL 399.570312 248.518125 \nL 399.570312 0 \nL 0 0 \nz\n\" style=\"fill:none;\"/>\n  </g>\n  <g id=\"axes_1\">\n   <g id=\"patch_2\">\n    <path d=\"M 57.570313 224.64 \nL 392.370313 224.64 \nL 392.370313 7.2 \nL 57.570313 7.2 \nz\n\" style=\"fill:#ffffff;\"/>\n   </g>\n   <g id=\"matplotlib.axis_1\">\n    <g id=\"xtick_1\">\n     <g id=\"line2d_1\">\n      <defs>\n       <path d=\"M 0 0 \nL 0 3.5 \n\" id=\"m475db5e9d8\" style=\"stroke:#000000;stroke-width:0.8;\"/>\n      </defs>\n      <g>\n       <use style=\"stroke:#000000;stroke-width:0.8;\" x=\"89.790031\" xlink:href=\"#m475db5e9d8\" y=\"224.64\"/>\n      </g>\n     </g>\n     <g id=\"text_1\">\n      <!-- −1.5 -->\n      <g transform=\"translate(77.648624 239.238437)scale(0.1 -0.1)\">\n       <defs>\n        <path d=\"M 10.59375 35.5 \nL 73.1875 35.5 \nL 73.1875 27.203125 \nL 10.59375 27.203125 \nz\n\" id=\"DejaVuSans-8722\"/>\n        <path d=\"M 12.40625 8.296875 \nL 28.515625 8.296875 \nL 28.515625 63.921875 \nL 10.984375 60.40625 \nL 10.984375 69.390625 \nL 28.421875 72.90625 \nL 38.28125 72.90625 \nL 38.28125 8.296875 \nL 54.390625 8.296875 \nL 54.390625 0 \nL 12.40625 0 \nz\n\" id=\"DejaVuSans-49\"/>\n        <path d=\"M 10.6875 12.40625 \nL 21 12.40625 \nL 21 0 \nL 10.6875 0 \nz\n\" id=\"DejaVuSans-46\"/>\n        <path d=\"M 10.796875 72.90625 \nL 49.515625 72.90625 \nL 49.515625 64.59375 \nL 19.828125 64.59375 \nL 19.828125 46.734375 \nQ 21.96875 47.46875 24.109375 47.828125 \nQ 26.265625 48.1875 28.421875 48.1875 \nQ 40.625 48.1875 47.75 41.5 \nQ 54.890625 34.8125 54.890625 23.390625 \nQ 54.890625 11.625 47.5625 5.09375 \nQ 40.234375 -1.421875 26.90625 -1.421875 \nQ 22.3125 -1.421875 17.546875 -0.640625 \nQ 12.796875 0.140625 7.71875 1.703125 \nL 7.71875 11.625 \nQ 12.109375 9.234375 16.796875 8.0625 \nQ 21.484375 6.890625 26.703125 6.890625 \nQ 35.15625 6.890625 40.078125 11.328125 \nQ 45.015625 15.765625 45.015625 23.390625 \nQ 45.015625 31 40.078125 35.4375 \nQ 35.15625 39.890625 26.703125 39.890625 \nQ 22.75 39.890625 18.8125 39.015625 \nQ 14.890625 38.140625 10.796875 36.28125 \nz\n\" id=\"DejaVuSans-53\"/>\n       </defs>\n       <use xlink:href=\"#DejaVuSans-8722\"/>\n       <use x=\"83.789062\" xlink:href=\"#DejaVuSans-49\"/>\n       <use x=\"147.412109\" xlink:href=\"#DejaVuSans-46\"/>\n       <use x=\"179.199219\" xlink:href=\"#DejaVuSans-53\"/>\n      </g>\n     </g>\n    </g>\n    <g id=\"xtick_2\">\n     <g id=\"line2d_2\">\n      <g>\n       <use style=\"stroke:#000000;stroke-width:0.8;\" x=\"138.87398\" xlink:href=\"#m475db5e9d8\" y=\"224.64\"/>\n      </g>\n     </g>\n     <g id=\"text_2\">\n      <!-- −1.0 -->\n      <g transform=\"translate(126.732574 239.238437)scale(0.1 -0.1)\">\n       <defs>\n        <path d=\"M 31.78125 66.40625 \nQ 24.171875 66.40625 20.328125 58.90625 \nQ 16.5 51.421875 16.5 36.375 \nQ 16.5 21.390625 20.328125 13.890625 \nQ 24.171875 6.390625 31.78125 6.390625 \nQ 39.453125 6.390625 43.28125 13.890625 \nQ 47.125 21.390625 47.125 36.375 \nQ 47.125 51.421875 43.28125 58.90625 \nQ 39.453125 66.40625 31.78125 66.40625 \nz\nM 31.78125 74.21875 \nQ 44.046875 74.21875 50.515625 64.515625 \nQ 56.984375 54.828125 56.984375 36.375 \nQ 56.984375 17.96875 50.515625 8.265625 \nQ 44.046875 -1.421875 31.78125 -1.421875 \nQ 19.53125 -1.421875 13.0625 8.265625 \nQ 6.59375 17.96875 6.59375 36.375 \nQ 6.59375 54.828125 13.0625 64.515625 \nQ 19.53125 74.21875 31.78125 74.21875 \nz\n\" id=\"DejaVuSans-48\"/>\n       </defs>\n       <use xlink:href=\"#DejaVuSans-8722\"/>\n       <use x=\"83.789062\" xlink:href=\"#DejaVuSans-49\"/>\n       <use x=\"147.412109\" xlink:href=\"#DejaVuSans-46\"/>\n       <use x=\"179.199219\" xlink:href=\"#DejaVuSans-48\"/>\n      </g>\n     </g>\n    </g>\n    <g id=\"xtick_3\">\n     <g id=\"line2d_3\">\n      <g>\n       <use style=\"stroke:#000000;stroke-width:0.8;\" x=\"187.95793\" xlink:href=\"#m475db5e9d8\" y=\"224.64\"/>\n      </g>\n     </g>\n     <g id=\"text_3\">\n      <!-- −0.5 -->\n      <g transform=\"translate(175.816523 239.238437)scale(0.1 -0.1)\">\n       <use xlink:href=\"#DejaVuSans-8722\"/>\n       <use x=\"83.789062\" xlink:href=\"#DejaVuSans-48\"/>\n       <use x=\"147.412109\" xlink:href=\"#DejaVuSans-46\"/>\n       <use x=\"179.199219\" xlink:href=\"#DejaVuSans-53\"/>\n      </g>\n     </g>\n    </g>\n    <g id=\"xtick_4\">\n     <g id=\"line2d_4\">\n      <g>\n       <use style=\"stroke:#000000;stroke-width:0.8;\" x=\"237.041879\" xlink:href=\"#m475db5e9d8\" y=\"224.64\"/>\n      </g>\n     </g>\n     <g id=\"text_4\">\n      <!-- 0.0 -->\n      <g transform=\"translate(229.090317 239.238437)scale(0.1 -0.1)\">\n       <use xlink:href=\"#DejaVuSans-48\"/>\n       <use x=\"63.623047\" xlink:href=\"#DejaVuSans-46\"/>\n       <use x=\"95.410156\" xlink:href=\"#DejaVuSans-48\"/>\n      </g>\n     </g>\n    </g>\n    <g id=\"xtick_5\">\n     <g id=\"line2d_5\">\n      <g>\n       <use style=\"stroke:#000000;stroke-width:0.8;\" x=\"286.125829\" xlink:href=\"#m475db5e9d8\" y=\"224.64\"/>\n      </g>\n     </g>\n     <g id=\"text_5\">\n      <!-- 0.5 -->\n      <g transform=\"translate(278.174266 239.238437)scale(0.1 -0.1)\">\n       <use xlink:href=\"#DejaVuSans-48\"/>\n       <use x=\"63.623047\" xlink:href=\"#DejaVuSans-46\"/>\n       <use x=\"95.410156\" xlink:href=\"#DejaVuSans-53\"/>\n      </g>\n     </g>\n    </g>\n    <g id=\"xtick_6\">\n     <g id=\"line2d_6\">\n      <g>\n       <use style=\"stroke:#000000;stroke-width:0.8;\" x=\"335.209778\" xlink:href=\"#m475db5e9d8\" y=\"224.64\"/>\n      </g>\n     </g>\n     <g id=\"text_6\">\n      <!-- 1.0 -->\n      <g transform=\"translate(327.258216 239.238437)scale(0.1 -0.1)\">\n       <use xlink:href=\"#DejaVuSans-49\"/>\n       <use x=\"63.623047\" xlink:href=\"#DejaVuSans-46\"/>\n       <use x=\"95.410156\" xlink:href=\"#DejaVuSans-48\"/>\n      </g>\n     </g>\n    </g>\n    <g id=\"xtick_7\">\n     <g id=\"line2d_7\">\n      <g>\n       <use style=\"stroke:#000000;stroke-width:0.8;\" x=\"384.293728\" xlink:href=\"#m475db5e9d8\" y=\"224.64\"/>\n      </g>\n     </g>\n     <g id=\"text_7\">\n      <!-- 1.5 -->\n      <g transform=\"translate(376.342165 239.238437)scale(0.1 -0.1)\">\n       <use xlink:href=\"#DejaVuSans-49\"/>\n       <use x=\"63.623047\" xlink:href=\"#DejaVuSans-46\"/>\n       <use x=\"95.410156\" xlink:href=\"#DejaVuSans-53\"/>\n      </g>\n     </g>\n    </g>\n   </g>\n   <g id=\"matplotlib.axis_2\">\n    <g id=\"ytick_1\">\n     <g id=\"line2d_8\">\n      <defs>\n       <path d=\"M 0 0 \nL -3.5 0 \n\" id=\"m6bb98755d5\" style=\"stroke:#000000;stroke-width:0.8;\"/>\n      </defs>\n      <g>\n       <use style=\"stroke:#000000;stroke-width:0.8;\" x=\"57.570313\" xlink:href=\"#m6bb98755d5\" y=\"220.460853\"/>\n      </g>\n     </g>\n     <g id=\"text_8\">\n      <!-- −0.0003 -->\n      <g transform=\"translate(7.2 224.260071)scale(0.1 -0.1)\">\n       <defs>\n        <path d=\"M 40.578125 39.3125 \nQ 47.65625 37.796875 51.625 33 \nQ 55.609375 28.21875 55.609375 21.1875 \nQ 55.609375 10.40625 48.1875 4.484375 \nQ 40.765625 -1.421875 27.09375 -1.421875 \nQ 22.515625 -1.421875 17.65625 -0.515625 \nQ 12.796875 0.390625 7.625 2.203125 \nL 7.625 11.71875 \nQ 11.71875 9.328125 16.59375 8.109375 \nQ 21.484375 6.890625 26.8125 6.890625 \nQ 36.078125 6.890625 40.9375 10.546875 \nQ 45.796875 14.203125 45.796875 21.1875 \nQ 45.796875 27.640625 41.28125 31.265625 \nQ 36.765625 34.90625 28.71875 34.90625 \nL 20.21875 34.90625 \nL 20.21875 43.015625 \nL 29.109375 43.015625 \nQ 36.375 43.015625 40.234375 45.921875 \nQ 44.09375 48.828125 44.09375 54.296875 \nQ 44.09375 59.90625 40.109375 62.90625 \nQ 36.140625 65.921875 28.71875 65.921875 \nQ 24.65625 65.921875 20.015625 65.03125 \nQ 15.375 64.15625 9.8125 62.3125 \nL 9.8125 71.09375 \nQ 15.4375 72.65625 20.34375 73.4375 \nQ 25.25 74.21875 29.59375 74.21875 \nQ 40.828125 74.21875 47.359375 69.109375 \nQ 53.90625 64.015625 53.90625 55.328125 \nQ 53.90625 49.265625 50.4375 45.09375 \nQ 46.96875 40.921875 40.578125 39.3125 \nz\n\" id=\"DejaVuSans-51\"/>\n       </defs>\n       <use xlink:href=\"#DejaVuSans-8722\"/>\n       <use x=\"83.789062\" xlink:href=\"#DejaVuSans-48\"/>\n       <use x=\"147.412109\" xlink:href=\"#DejaVuSans-46\"/>\n       <use x=\"179.199219\" xlink:href=\"#DejaVuSans-48\"/>\n       <use x=\"242.822266\" xlink:href=\"#DejaVuSans-48\"/>\n       <use x=\"306.445312\" xlink:href=\"#DejaVuSans-48\"/>\n       <use x=\"370.068359\" xlink:href=\"#DejaVuSans-51\"/>\n      </g>\n     </g>\n    </g>\n    <g id=\"ytick_2\">\n     <g id=\"line2d_9\">\n      <g>\n       <use style=\"stroke:#000000;stroke-width:0.8;\" x=\"57.570313\" xlink:href=\"#m6bb98755d5\" y=\"184.5431\"/>\n      </g>\n     </g>\n     <g id=\"text_9\">\n      <!-- −0.0002 -->\n      <g transform=\"translate(7.2 188.342318)scale(0.1 -0.1)\">\n       <defs>\n        <path d=\"M 19.1875 8.296875 \nL 53.609375 8.296875 \nL 53.609375 0 \nL 7.328125 0 \nL 7.328125 8.296875 \nQ 12.9375 14.109375 22.625 23.890625 \nQ 32.328125 33.6875 34.8125 36.53125 \nQ 39.546875 41.84375 41.421875 45.53125 \nQ 43.3125 49.21875 43.3125 52.78125 \nQ 43.3125 58.59375 39.234375 62.25 \nQ 35.15625 65.921875 28.609375 65.921875 \nQ 23.96875 65.921875 18.8125 64.3125 \nQ 13.671875 62.703125 7.8125 59.421875 \nL 7.8125 69.390625 \nQ 13.765625 71.78125 18.9375 73 \nQ 24.125 74.21875 28.421875 74.21875 \nQ 39.75 74.21875 46.484375 68.546875 \nQ 53.21875 62.890625 53.21875 53.421875 \nQ 53.21875 48.921875 51.53125 44.890625 \nQ 49.859375 40.875 45.40625 35.40625 \nQ 44.1875 33.984375 37.640625 27.21875 \nQ 31.109375 20.453125 19.1875 8.296875 \nz\n\" id=\"DejaVuSans-50\"/>\n       </defs>\n       <use xlink:href=\"#DejaVuSans-8722\"/>\n       <use x=\"83.789062\" xlink:href=\"#DejaVuSans-48\"/>\n       <use x=\"147.412109\" xlink:href=\"#DejaVuSans-46\"/>\n       <use x=\"179.199219\" xlink:href=\"#DejaVuSans-48\"/>\n       <use x=\"242.822266\" xlink:href=\"#DejaVuSans-48\"/>\n       <use x=\"306.445312\" xlink:href=\"#DejaVuSans-48\"/>\n       <use x=\"370.068359\" xlink:href=\"#DejaVuSans-50\"/>\n      </g>\n     </g>\n    </g>\n    <g id=\"ytick_3\">\n     <g id=\"line2d_10\">\n      <g>\n       <use style=\"stroke:#000000;stroke-width:0.8;\" x=\"57.570313\" xlink:href=\"#m6bb98755d5\" y=\"148.625347\"/>\n      </g>\n     </g>\n     <g id=\"text_10\">\n      <!-- −0.0001 -->\n      <g transform=\"translate(7.2 152.424565)scale(0.1 -0.1)\">\n       <use xlink:href=\"#DejaVuSans-8722\"/>\n       <use x=\"83.789062\" xlink:href=\"#DejaVuSans-48\"/>\n       <use x=\"147.412109\" xlink:href=\"#DejaVuSans-46\"/>\n       <use x=\"179.199219\" xlink:href=\"#DejaVuSans-48\"/>\n       <use x=\"242.822266\" xlink:href=\"#DejaVuSans-48\"/>\n       <use x=\"306.445312\" xlink:href=\"#DejaVuSans-48\"/>\n       <use x=\"370.068359\" xlink:href=\"#DejaVuSans-49\"/>\n      </g>\n     </g>\n    </g>\n    <g id=\"ytick_4\">\n     <g id=\"line2d_11\">\n      <g>\n       <use style=\"stroke:#000000;stroke-width:0.8;\" x=\"57.570313\" xlink:href=\"#m6bb98755d5\" y=\"112.707593\"/>\n      </g>\n     </g>\n     <g id=\"text_11\">\n      <!-- 0.0000 -->\n      <g transform=\"translate(15.579688 116.506812)scale(0.1 -0.1)\">\n       <use xlink:href=\"#DejaVuSans-48\"/>\n       <use x=\"63.623047\" xlink:href=\"#DejaVuSans-46\"/>\n       <use x=\"95.410156\" xlink:href=\"#DejaVuSans-48\"/>\n       <use x=\"159.033203\" xlink:href=\"#DejaVuSans-48\"/>\n       <use x=\"222.65625\" xlink:href=\"#DejaVuSans-48\"/>\n       <use x=\"286.279297\" xlink:href=\"#DejaVuSans-48\"/>\n      </g>\n     </g>\n    </g>\n    <g id=\"ytick_5\">\n     <g id=\"line2d_12\">\n      <g>\n       <use style=\"stroke:#000000;stroke-width:0.8;\" x=\"57.570313\" xlink:href=\"#m6bb98755d5\" y=\"76.78984\"/>\n      </g>\n     </g>\n     <g id=\"text_12\">\n      <!-- 0.0001 -->\n      <g transform=\"translate(15.579688 80.589059)scale(0.1 -0.1)\">\n       <use xlink:href=\"#DejaVuSans-48\"/>\n       <use x=\"63.623047\" xlink:href=\"#DejaVuSans-46\"/>\n       <use x=\"95.410156\" xlink:href=\"#DejaVuSans-48\"/>\n       <use x=\"159.033203\" xlink:href=\"#DejaVuSans-48\"/>\n       <use x=\"222.65625\" xlink:href=\"#DejaVuSans-48\"/>\n       <use x=\"286.279297\" xlink:href=\"#DejaVuSans-49\"/>\n      </g>\n     </g>\n    </g>\n    <g id=\"ytick_6\">\n     <g id=\"line2d_13\">\n      <g>\n       <use style=\"stroke:#000000;stroke-width:0.8;\" x=\"57.570313\" xlink:href=\"#m6bb98755d5\" y=\"40.872087\"/>\n      </g>\n     </g>\n     <g id=\"text_13\">\n      <!-- 0.0002 -->\n      <g transform=\"translate(15.579688 44.671306)scale(0.1 -0.1)\">\n       <use xlink:href=\"#DejaVuSans-48\"/>\n       <use x=\"63.623047\" xlink:href=\"#DejaVuSans-46\"/>\n       <use x=\"95.410156\" xlink:href=\"#DejaVuSans-48\"/>\n       <use x=\"159.033203\" xlink:href=\"#DejaVuSans-48\"/>\n       <use x=\"222.65625\" xlink:href=\"#DejaVuSans-48\"/>\n       <use x=\"286.279297\" xlink:href=\"#DejaVuSans-50\"/>\n      </g>\n     </g>\n    </g>\n   </g>\n   <g id=\"line2d_14\">\n    <defs>\n     <path d=\"M 0 1.5 \nC 0.397805 1.5 0.77937 1.341951 1.06066 1.06066 \nC 1.341951 0.77937 1.5 0.397805 1.5 0 \nC 1.5 -0.397805 1.341951 -0.77937 1.06066 -1.06066 \nC 0.77937 -1.341951 0.397805 -1.5 0 -1.5 \nC -0.397805 -1.5 -0.77937 -1.341951 -1.06066 -1.06066 \nC -1.341951 -0.77937 -1.5 -0.397805 -1.5 0 \nC -1.5 0.397805 -1.341951 0.77937 -1.06066 1.06066 \nC -0.77937 1.341951 -0.397805 1.5 0 1.5 \nz\n\" id=\"mcb905dfcd9\" style=\"stroke:#1f77b4;\"/>\n    </defs>\n    <g clip-path=\"url(#p1219174e98)\">\n     <use style=\"fill:#1f77b4;stroke:#1f77b4;\" x=\"319.557625\" xlink:href=\"#mcb905dfcd9\" y=\"135.04026\"/>\n     <use style=\"fill:#1f77b4;stroke:#1f77b4;\" x=\"210.766961\" xlink:href=\"#mcb905dfcd9\" y=\"70.098729\"/>\n     <use style=\"fill:#1f77b4;stroke:#1f77b4;\" x=\"182.935472\" xlink:href=\"#mcb905dfcd9\" y=\"17.083636\"/>\n     <use style=\"fill:#1f77b4;stroke:#1f77b4;\" x=\"279.335299\" xlink:href=\"#mcb905dfcd9\" y=\"93.861133\"/>\n     <use style=\"fill:#1f77b4;stroke:#1f77b4;\" x=\"157.637689\" xlink:href=\"#mcb905dfcd9\" y=\"88.75564\"/>\n     <use style=\"fill:#1f77b4;stroke:#1f77b4;\" x=\"305.707043\" xlink:href=\"#mcb905dfcd9\" y=\"126.513282\"/>\n     <use style=\"fill:#1f77b4;stroke:#1f77b4;\" x=\"239.758388\" xlink:href=\"#mcb905dfcd9\" y=\"98.634847\"/>\n     <use style=\"fill:#1f77b4;stroke:#1f77b4;\" x=\"244.47759\" xlink:href=\"#mcb905dfcd9\" y=\"108.325229\"/>\n     <use style=\"fill:#1f77b4;stroke:#1f77b4;\" x=\"271.821354\" xlink:href=\"#mcb905dfcd9\" y=\"55.877146\"/>\n     <use style=\"fill:#1f77b4;stroke:#1f77b4;\" x=\"272.779394\" xlink:href=\"#mcb905dfcd9\" y=\"134.088433\"/>\n     <use style=\"fill:#1f77b4;stroke:#1f77b4;\" x=\"208.984284\" xlink:href=\"#mcb905dfcd9\" y=\"50.686482\"/>\n     <use style=\"fill:#1f77b4;stroke:#1f77b4;\" x=\"150.538588\" xlink:href=\"#mcb905dfcd9\" y=\"134.059994\"/>\n     <use style=\"fill:#1f77b4;stroke:#1f77b4;\" x=\"305.544816\" xlink:href=\"#mcb905dfcd9\" y=\"75.78214\"/>\n     <use style=\"fill:#1f77b4;stroke:#1f77b4;\" x=\"215.381661\" xlink:href=\"#mcb905dfcd9\" y=\"150.96462\"/>\n     <use style=\"fill:#1f77b4;stroke:#1f77b4;\" x=\"204.882398\" xlink:href=\"#mcb905dfcd9\" y=\"167.328904\"/>\n     <use style=\"fill:#1f77b4;stroke:#1f77b4;\" x=\"284.056943\" xlink:href=\"#mcb905dfcd9\" y=\"110.141301\"/>\n     <use style=\"fill:#1f77b4;stroke:#1f77b4;\" x=\"191.718539\" xlink:href=\"#mcb905dfcd9\" y=\"86.54639\"/>\n     <use style=\"fill:#1f77b4;stroke:#1f77b4;\" x=\"218.10915\" xlink:href=\"#mcb905dfcd9\" y=\"95.199554\"/>\n     <use style=\"fill:#1f77b4;stroke:#1f77b4;\" x=\"209.844434\" xlink:href=\"#mcb905dfcd9\" y=\"59.860264\"/>\n     <use style=\"fill:#1f77b4;stroke:#1f77b4;\" x=\"253.269268\" xlink:href=\"#mcb905dfcd9\" y=\"95.335023\"/>\n     <use style=\"fill:#1f77b4;stroke:#1f77b4;\" x=\"321.105373\" xlink:href=\"#mcb905dfcd9\" y=\"112.522289\"/>\n     <use style=\"fill:#1f77b4;stroke:#1f77b4;\" x=\"172.054407\" xlink:href=\"#mcb905dfcd9\" y=\"38.207015\"/>\n     <use style=\"fill:#1f77b4;stroke:#1f77b4;\" x=\"260.230122\" xlink:href=\"#mcb905dfcd9\" y=\"160.17323\"/>\n     <use style=\"fill:#1f77b4;stroke:#1f77b4;\" x=\"169.934339\" xlink:href=\"#mcb905dfcd9\" y=\"123.533194\"/>\n     <use style=\"fill:#1f77b4;stroke:#1f77b4;\" x=\"300.83001\" xlink:href=\"#mcb905dfcd9\" y=\"122.810058\"/>\n     <use style=\"fill:#1f77b4;stroke:#1f77b4;\" x=\"252.078642\" xlink:href=\"#mcb905dfcd9\" y=\"77.841245\"/>\n     <use style=\"fill:#1f77b4;stroke:#1f77b4;\" x=\"229.728463\" xlink:href=\"#mcb905dfcd9\" y=\"80.747492\"/>\n     <use style=\"fill:#1f77b4;stroke:#1f77b4;\" x=\"293.477724\" xlink:href=\"#mcb905dfcd9\" y=\"163.930257\"/>\n     <use style=\"fill:#1f77b4;stroke:#1f77b4;\" x=\"286.86225\" xlink:href=\"#mcb905dfcd9\" y=\"82.504507\"/>\n     <use style=\"fill:#1f77b4;stroke:#1f77b4;\" x=\"274.140608\" xlink:href=\"#mcb905dfcd9\" y=\"116.286956\"/>\n     <use style=\"fill:#1f77b4;stroke:#1f77b4;\" x=\"191.954591\" xlink:href=\"#mcb905dfcd9\" y=\"127.561648\"/>\n     <use style=\"fill:#1f77b4;stroke:#1f77b4;\" x=\"237.18523\" xlink:href=\"#mcb905dfcd9\" y=\"147.852681\"/>\n     <use style=\"fill:#1f77b4;stroke:#1f77b4;\" x=\"224.530931\" xlink:href=\"#mcb905dfcd9\" y=\"199.366728\"/>\n     <use style=\"fill:#1f77b4;stroke:#1f77b4;\" x=\"268.153523\" xlink:href=\"#mcb905dfcd9\" y=\"62.142057\"/>\n     <use style=\"fill:#1f77b4;stroke:#1f77b4;\" x=\"187.763098\" xlink:href=\"#mcb905dfcd9\" y=\"132.555411\"/>\n     <use style=\"fill:#1f77b4;stroke:#1f77b4;\" x=\"147.896768\" xlink:href=\"#mcb905dfcd9\" y=\"54.446047\"/>\n     <use style=\"fill:#1f77b4;stroke:#1f77b4;\" x=\"299.059729\" xlink:href=\"#mcb905dfcd9\" y=\"81.740721\"/>\n     <use style=\"fill:#1f77b4;stroke:#1f77b4;\" x=\"184.757186\" xlink:href=\"#mcb905dfcd9\" y=\"134.039498\"/>\n     <use style=\"fill:#1f77b4;stroke:#1f77b4;\" x=\"251.851303\" xlink:href=\"#mcb905dfcd9\" y=\"73.325107\"/>\n     <use style=\"fill:#1f77b4;stroke:#1f77b4;\" x=\"251.478584\" xlink:href=\"#mcb905dfcd9\" y=\"61.076051\"/>\n     <use style=\"fill:#1f77b4;stroke:#1f77b4;\" x=\"248.489302\" xlink:href=\"#mcb905dfcd9\" y=\"104.307144\"/>\n     <use style=\"fill:#1f77b4;stroke:#1f77b4;\" x=\"198.7455\" xlink:href=\"#mcb905dfcd9\" y=\"214.756364\"/>\n     <use style=\"fill:#1f77b4;stroke:#1f77b4;\" x=\"278.717494\" xlink:href=\"#mcb905dfcd9\" y=\"92.556223\"/>\n     <use style=\"fill:#1f77b4;stroke:#1f77b4;\" x=\"275.583634\" xlink:href=\"#mcb905dfcd9\" y=\"68.770624\"/>\n     <use style=\"fill:#1f77b4;stroke:#1f77b4;\" x=\"238.012656\" xlink:href=\"#mcb905dfcd9\" y=\"109.664473\"/>\n     <use style=\"fill:#1f77b4;stroke:#1f77b4;\" x=\"244.433963\" xlink:href=\"#mcb905dfcd9\" y=\"161.653275\"/>\n     <use style=\"fill:#1f77b4;stroke:#1f77b4;\" x=\"194.499259\" xlink:href=\"#mcb905dfcd9\" y=\"97.209484\"/>\n     <use style=\"fill:#1f77b4;stroke:#1f77b4;\" x=\"111.64056\" xlink:href=\"#mcb905dfcd9\" y=\"100.032407\"/>\n     <use style=\"fill:#1f77b4;stroke:#1f77b4;\" x=\"203.605112\" xlink:href=\"#mcb905dfcd9\" y=\"68.544095\"/>\n     <use style=\"fill:#1f77b4;stroke:#1f77b4;\" x=\"219.854552\" xlink:href=\"#mcb905dfcd9\" y=\"112.849222\"/>\n     <use style=\"fill:#1f77b4;stroke:#1f77b4;\" x=\"160.014155\" xlink:href=\"#mcb905dfcd9\" y=\"51.156229\"/>\n     <use style=\"fill:#1f77b4;stroke:#1f77b4;\" x=\"234.372396\" xlink:href=\"#mcb905dfcd9\" y=\"78.713786\"/>\n     <use style=\"fill:#1f77b4;stroke:#1f77b4;\" x=\"214.081264\" xlink:href=\"#mcb905dfcd9\" y=\"129.051175\"/>\n     <use style=\"fill:#1f77b4;stroke:#1f77b4;\" x=\"258.633524\" xlink:href=\"#mcb905dfcd9\" y=\"79.065029\"/>\n     <use style=\"fill:#1f77b4;stroke:#1f77b4;\" x=\"155.152818\" xlink:href=\"#mcb905dfcd9\" y=\"92.473941\"/>\n     <use style=\"fill:#1f77b4;stroke:#1f77b4;\" x=\"206.255812\" xlink:href=\"#mcb905dfcd9\" y=\"100.295196\"/>\n     <use style=\"fill:#1f77b4;stroke:#1f77b4;\" x=\"183.619799\" xlink:href=\"#mcb905dfcd9\" y=\"56.122891\"/>\n     <use style=\"fill:#1f77b4;stroke:#1f77b4;\" x=\"204.740403\" xlink:href=\"#mcb905dfcd9\" y=\"117.860629\"/>\n     <use style=\"fill:#1f77b4;stroke:#1f77b4;\" x=\"198.678895\" xlink:href=\"#mcb905dfcd9\" y=\"158.813068\"/>\n     <use style=\"fill:#1f77b4;stroke:#1f77b4;\" x=\"218.439306\" xlink:href=\"#mcb905dfcd9\" y=\"154.084822\"/>\n     <use style=\"fill:#1f77b4;stroke:#1f77b4;\" x=\"301.99312\" xlink:href=\"#mcb905dfcd9\" y=\"92.823316\"/>\n     <use style=\"fill:#1f77b4;stroke:#1f77b4;\" x=\"136.148219\" xlink:href=\"#mcb905dfcd9\" y=\"85.175139\"/>\n     <use style=\"fill:#1f77b4;stroke:#1f77b4;\" x=\"277.069129\" xlink:href=\"#mcb905dfcd9\" y=\"159.002889\"/>\n     <use style=\"fill:#1f77b4;stroke:#1f77b4;\" x=\"175.65108\" xlink:href=\"#mcb905dfcd9\" y=\"96.815905\"/>\n     <use style=\"fill:#1f77b4;stroke:#1f77b4;\" x=\"345.145545\" xlink:href=\"#mcb905dfcd9\" y=\"105.040297\"/>\n     <use style=\"fill:#1f77b4;stroke:#1f77b4;\" x=\"211.029851\" xlink:href=\"#mcb905dfcd9\" y=\"158.418239\"/>\n     <use style=\"fill:#1f77b4;stroke:#1f77b4;\" x=\"212.575938\" xlink:href=\"#mcb905dfcd9\" y=\"134.497861\"/>\n     <use style=\"fill:#1f77b4;stroke:#1f77b4;\" x=\"357.009686\" xlink:href=\"#mcb905dfcd9\" y=\"178.617236\"/>\n     <use style=\"fill:#1f77b4;stroke:#1f77b4;\" x=\"72.788494\" xlink:href=\"#mcb905dfcd9\" y=\"153.091458\"/>\n     <use style=\"fill:#1f77b4;stroke:#1f77b4;\" x=\"209.520719\" xlink:href=\"#mcb905dfcd9\" y=\"103.600566\"/>\n     <use style=\"fill:#1f77b4;stroke:#1f77b4;\" x=\"287.244106\" xlink:href=\"#mcb905dfcd9\" y=\"118.842933\"/>\n     <use style=\"fill:#1f77b4;stroke:#1f77b4;\" x=\"274.894805\" xlink:href=\"#mcb905dfcd9\" y=\"150.891243\"/>\n     <use style=\"fill:#1f77b4;stroke:#1f77b4;\" x=\"298.447327\" xlink:href=\"#mcb905dfcd9\" y=\"145.152242\"/>\n     <use style=\"fill:#1f77b4;stroke:#1f77b4;\" x=\"162.754205\" xlink:href=\"#mcb905dfcd9\" y=\"76.806124\"/>\n     <use style=\"fill:#1f77b4;stroke:#1f77b4;\" x=\"343.769612\" xlink:href=\"#mcb905dfcd9\" y=\"91.277319\"/>\n     <use style=\"fill:#1f77b4;stroke:#1f77b4;\" x=\"329.915534\" xlink:href=\"#mcb905dfcd9\" y=\"119.578988\"/>\n     <use style=\"fill:#1f77b4;stroke:#1f77b4;\" x=\"254.032479\" xlink:href=\"#mcb905dfcd9\" y=\"65.292699\"/>\n     <use style=\"fill:#1f77b4;stroke:#1f77b4;\" x=\"280.319167\" xlink:href=\"#mcb905dfcd9\" y=\"139.452338\"/>\n     <use style=\"fill:#1f77b4;stroke:#1f77b4;\" x=\"187.605364\" xlink:href=\"#mcb905dfcd9\" y=\"92.215599\"/>\n     <use style=\"fill:#1f77b4;stroke:#1f77b4;\" x=\"249.222346\" xlink:href=\"#mcb905dfcd9\" y=\"140.691668\"/>\n     <use style=\"fill:#1f77b4;stroke:#1f77b4;\" x=\"190.991955\" xlink:href=\"#mcb905dfcd9\" y=\"61.834773\"/>\n     <use style=\"fill:#1f77b4;stroke:#1f77b4;\" x=\"151.729064\" xlink:href=\"#mcb905dfcd9\" y=\"138.101528\"/>\n     <use style=\"fill:#1f77b4;stroke:#1f77b4;\" x=\"204.047477\" xlink:href=\"#mcb905dfcd9\" y=\"75.291253\"/>\n     <use style=\"fill:#1f77b4;stroke:#1f77b4;\" x=\"237.37583\" xlink:href=\"#mcb905dfcd9\" y=\"164.372406\"/>\n     <use style=\"fill:#1f77b4;stroke:#1f77b4;\" x=\"251.811139\" xlink:href=\"#mcb905dfcd9\" y=\"62.550466\"/>\n     <use style=\"fill:#1f77b4;stroke:#1f77b4;\" x=\"307.67978\" xlink:href=\"#mcb905dfcd9\" y=\"182.246276\"/>\n     <use style=\"fill:#1f77b4;stroke:#1f77b4;\" x=\"215.401857\" xlink:href=\"#mcb905dfcd9\" y=\"117.771067\"/>\n     <use style=\"fill:#1f77b4;stroke:#1f77b4;\" x=\"80.978362\" xlink:href=\"#mcb905dfcd9\" y=\"99.688177\"/>\n     <use style=\"fill:#1f77b4;stroke:#1f77b4;\" x=\"287.259456\" xlink:href=\"#mcb905dfcd9\" y=\"117.96791\"/>\n     <use style=\"fill:#1f77b4;stroke:#1f77b4;\" x=\"248.048001\" xlink:href=\"#mcb905dfcd9\" y=\"181.416427\"/>\n     <use style=\"fill:#1f77b4;stroke:#1f77b4;\" x=\"261.43949\" xlink:href=\"#mcb905dfcd9\" y=\"60.891104\"/>\n     <use style=\"fill:#1f77b4;stroke:#1f77b4;\" x=\"250.85484\" xlink:href=\"#mcb905dfcd9\" y=\"78.58677\"/>\n     <use style=\"fill:#1f77b4;stroke:#1f77b4;\" x=\"222.560099\" xlink:href=\"#mcb905dfcd9\" y=\"147.284244\"/>\n     <use style=\"fill:#1f77b4;stroke:#1f77b4;\" x=\"278.363885\" xlink:href=\"#mcb905dfcd9\" y=\"187.0559\"/>\n     <use style=\"fill:#1f77b4;stroke:#1f77b4;\" x=\"175.871949\" xlink:href=\"#mcb905dfcd9\" y=\"127.330646\"/>\n     <use style=\"fill:#1f77b4;stroke:#1f77b4;\" x=\"270.413993\" xlink:href=\"#mcb905dfcd9\" y=\"136.925306\"/>\n     <use style=\"fill:#1f77b4;stroke:#1f77b4;\" x=\"228.164566\" xlink:href=\"#mcb905dfcd9\" y=\"124.460294\"/>\n     <use style=\"fill:#1f77b4;stroke:#1f77b4;\" x=\"262.856375\" xlink:href=\"#mcb905dfcd9\" y=\"93.054987\"/>\n     <use style=\"fill:#1f77b4;stroke:#1f77b4;\" x=\"336.38359\" xlink:href=\"#mcb905dfcd9\" y=\"183.430464\"/>\n     <use style=\"fill:#1f77b4;stroke:#1f77b4;\" x=\"210.892602\" xlink:href=\"#mcb905dfcd9\" y=\"102.409456\"/>\n     <use style=\"fill:#1f77b4;stroke:#1f77b4;\" x=\"308.878255\" xlink:href=\"#mcb905dfcd9\" y=\"140.222384\"/>\n     <use style=\"fill:#1f77b4;stroke:#1f77b4;\" x=\"224.830343\" xlink:href=\"#mcb905dfcd9\" y=\"193.73489\"/>\n     <use style=\"fill:#1f77b4;stroke:#1f77b4;\" x=\"377.152131\" xlink:href=\"#mcb905dfcd9\" y=\"167.299579\"/>\n     <use style=\"fill:#1f77b4;stroke:#1f77b4;\" x=\"251.465012\" xlink:href=\"#mcb905dfcd9\" y=\"57.872016\"/>\n     <use style=\"fill:#1f77b4;stroke:#1f77b4;\" x=\"195.611882\" xlink:href=\"#mcb905dfcd9\" y=\"131.361678\"/>\n     <use style=\"fill:#1f77b4;stroke:#1f77b4;\" x=\"229.380225\" xlink:href=\"#mcb905dfcd9\" y=\"145.08203\"/>\n     <use style=\"fill:#1f77b4;stroke:#1f77b4;\" x=\"177.587985\" xlink:href=\"#mcb905dfcd9\" y=\"82.813188\"/>\n     <use style=\"fill:#1f77b4;stroke:#1f77b4;\" x=\"214.364589\" xlink:href=\"#mcb905dfcd9\" y=\"117.717967\"/>\n     <use style=\"fill:#1f77b4;stroke:#1f77b4;\" x=\"253.953559\" xlink:href=\"#mcb905dfcd9\" y=\"96.772823\"/>\n     <use style=\"fill:#1f77b4;stroke:#1f77b4;\" x=\"136.880735\" xlink:href=\"#mcb905dfcd9\" y=\"158.827518\"/>\n     <use style=\"fill:#1f77b4;stroke:#1f77b4;\" x=\"292.415305\" xlink:href=\"#mcb905dfcd9\" y=\"93.009983\"/>\n     <use style=\"fill:#1f77b4;stroke:#1f77b4;\" x=\"179.230811\" xlink:href=\"#mcb905dfcd9\" y=\"82.126628\"/>\n     <use style=\"fill:#1f77b4;stroke:#1f77b4;\" x=\"322.477363\" xlink:href=\"#mcb905dfcd9\" y=\"118.305406\"/>\n     <use style=\"fill:#1f77b4;stroke:#1f77b4;\" x=\"218.271013\" xlink:href=\"#mcb905dfcd9\" y=\"90.418737\"/>\n     <use style=\"fill:#1f77b4;stroke:#1f77b4;\" x=\"154.181307\" xlink:href=\"#mcb905dfcd9\" y=\"98.73497\"/>\n     <use style=\"fill:#1f77b4;stroke:#1f77b4;\" x=\"230.072642\" xlink:href=\"#mcb905dfcd9\" y=\"129.657854\"/>\n     <use style=\"fill:#1f77b4;stroke:#1f77b4;\" x=\"254.646172\" xlink:href=\"#mcb905dfcd9\" y=\"101.405672\"/>\n     <use style=\"fill:#1f77b4;stroke:#1f77b4;\" x=\"260.799558\" xlink:href=\"#mcb905dfcd9\" y=\"159.500607\"/>\n     <use style=\"fill:#1f77b4;stroke:#1f77b4;\" x=\"262.681723\" xlink:href=\"#mcb905dfcd9\" y=\"119.443497\"/>\n     <use style=\"fill:#1f77b4;stroke:#1f77b4;\" x=\"215.101026\" xlink:href=\"#mcb905dfcd9\" y=\"135.155863\"/>\n     <use style=\"fill:#1f77b4;stroke:#1f77b4;\" x=\"254.238496\" xlink:href=\"#mcb905dfcd9\" y=\"91.645232\"/>\n     <use style=\"fill:#1f77b4;stroke:#1f77b4;\" x=\"190.535868\" xlink:href=\"#mcb905dfcd9\" y=\"103.142999\"/>\n     <use style=\"fill:#1f77b4;stroke:#1f77b4;\" x=\"256.613898\" xlink:href=\"#mcb905dfcd9\" y=\"57.845157\"/>\n     <use style=\"fill:#1f77b4;stroke:#1f77b4;\" x=\"211.053166\" xlink:href=\"#mcb905dfcd9\" y=\"137.906927\"/>\n     <use style=\"fill:#1f77b4;stroke:#1f77b4;\" x=\"190.922512\" xlink:href=\"#mcb905dfcd9\" y=\"127.658606\"/>\n     <use style=\"fill:#1f77b4;stroke:#1f77b4;\" x=\"269.50614\" xlink:href=\"#mcb905dfcd9\" y=\"61.545161\"/>\n     <use style=\"fill:#1f77b4;stroke:#1f77b4;\" x=\"328.838222\" xlink:href=\"#mcb905dfcd9\" y=\"131.429542\"/>\n     <use style=\"fill:#1f77b4;stroke:#1f77b4;\" x=\"301.588364\" xlink:href=\"#mcb905dfcd9\" y=\"101.915729\"/>\n     <use style=\"fill:#1f77b4;stroke:#1f77b4;\" x=\"264.930503\" xlink:href=\"#mcb905dfcd9\" y=\"83.774416\"/>\n     <use style=\"fill:#1f77b4;stroke:#1f77b4;\" x=\"225.106952\" xlink:href=\"#mcb905dfcd9\" y=\"67.418979\"/>\n     <use style=\"fill:#1f77b4;stroke:#1f77b4;\" x=\"200.421518\" xlink:href=\"#mcb905dfcd9\" y=\"84.429287\"/>\n     <use style=\"fill:#1f77b4;stroke:#1f77b4;\" x=\"273.552349\" xlink:href=\"#mcb905dfcd9\" y=\"94.086626\"/>\n     <use style=\"fill:#1f77b4;stroke:#1f77b4;\" x=\"201.981847\" xlink:href=\"#mcb905dfcd9\" y=\"79.462701\"/>\n     <use style=\"fill:#1f77b4;stroke:#1f77b4;\" x=\"232.710286\" xlink:href=\"#mcb905dfcd9\" y=\"137.437305\"/>\n     <use style=\"fill:#1f77b4;stroke:#1f77b4;\" x=\"341.891651\" xlink:href=\"#mcb905dfcd9\" y=\"137.909025\"/>\n     <use style=\"fill:#1f77b4;stroke:#1f77b4;\" x=\"217.049836\" xlink:href=\"#mcb905dfcd9\" y=\"78.886042\"/>\n     <use style=\"fill:#1f77b4;stroke:#1f77b4;\" x=\"242.881844\" xlink:href=\"#mcb905dfcd9\" y=\"145.335009\"/>\n     <use style=\"fill:#1f77b4;stroke:#1f77b4;\" x=\"239.711675\" xlink:href=\"#mcb905dfcd9\" y=\"116.493209\"/>\n     <use style=\"fill:#1f77b4;stroke:#1f77b4;\" x=\"266.309878\" xlink:href=\"#mcb905dfcd9\" y=\"92.558912\"/>\n     <use style=\"fill:#1f77b4;stroke:#1f77b4;\" x=\"159.794989\" xlink:href=\"#mcb905dfcd9\" y=\"114.787268\"/>\n     <use style=\"fill:#1f77b4;stroke:#1f77b4;\" x=\"242.79369\" xlink:href=\"#mcb905dfcd9\" y=\"145.023131\"/>\n     <use style=\"fill:#1f77b4;stroke:#1f77b4;\" x=\"279.198513\" xlink:href=\"#mcb905dfcd9\" y=\"187.122109\"/>\n     <use style=\"fill:#1f77b4;stroke:#1f77b4;\" x=\"312.359985\" xlink:href=\"#mcb905dfcd9\" y=\"88.611799\"/>\n     <use style=\"fill:#1f77b4;stroke:#1f77b4;\" x=\"350.048136\" xlink:href=\"#mcb905dfcd9\" y=\"119.069659\"/>\n     <use style=\"fill:#1f77b4;stroke:#1f77b4;\" x=\"224.348723\" xlink:href=\"#mcb905dfcd9\" y=\"103.963687\"/>\n     <use style=\"fill:#1f77b4;stroke:#1f77b4;\" x=\"120.16231\" xlink:href=\"#mcb905dfcd9\" y=\"145.739747\"/>\n     <use style=\"fill:#1f77b4;stroke:#1f77b4;\" x=\"246.54623\" xlink:href=\"#mcb905dfcd9\" y=\"167.919487\"/>\n     <use style=\"fill:#1f77b4;stroke:#1f77b4;\" x=\"281.694601\" xlink:href=\"#mcb905dfcd9\" y=\"74.876027\"/>\n     <use style=\"fill:#1f77b4;stroke:#1f77b4;\" x=\"191.50524\" xlink:href=\"#mcb905dfcd9\" y=\"159.946286\"/>\n     <use style=\"fill:#1f77b4;stroke:#1f77b4;\" x=\"321.624842\" xlink:href=\"#mcb905dfcd9\" y=\"147.668149\"/>\n     <use style=\"fill:#1f77b4;stroke:#1f77b4;\" x=\"267.865612\" xlink:href=\"#mcb905dfcd9\" y=\"108.99632\"/>\n    </g>\n   </g>\n   <g id=\"patch_3\">\n    <path d=\"M 57.570313 224.64 \nL 57.570313 7.2 \n\" style=\"fill:none;stroke:#000000;stroke-linecap:square;stroke-linejoin:miter;stroke-width:0.8;\"/>\n   </g>\n   <g id=\"patch_4\">\n    <path d=\"M 392.370313 224.64 \nL 392.370313 7.2 \n\" style=\"fill:none;stroke:#000000;stroke-linecap:square;stroke-linejoin:miter;stroke-width:0.8;\"/>\n   </g>\n   <g id=\"patch_5\">\n    <path d=\"M 57.570312 224.64 \nL 392.370313 224.64 \n\" style=\"fill:none;stroke:#000000;stroke-linecap:square;stroke-linejoin:miter;stroke-width:0.8;\"/>\n   </g>\n   <g id=\"patch_6\">\n    <path d=\"M 57.570312 7.2 \nL 392.370313 7.2 \n\" style=\"fill:none;stroke:#000000;stroke-linecap:square;stroke-linejoin:miter;stroke-width:0.8;\"/>\n   </g>\n  </g>\n </g>\n <defs>\n  <clipPath id=\"p1219174e98\">\n   <rect height=\"217.44\" width=\"334.8\" x=\"57.570313\" y=\"7.2\"/>\n  </clipPath>\n </defs>\n</svg>\n",
      "image/png": "[encoded data removed]"
     },
     "metadata": {
      "needs_background": "light"
     }
    }
   ],
   "source": [
    "plt.plot(brain_index['residual'],adjusted_prs_score[:,7],'.')"
   ]
  },
  {
   "cell_type": "code",
   "execution_count": 263,
   "metadata": {},
   "outputs": [],
   "source": [
    "from sklearn.decomposition import PCA\n",
    "from sklearn.preprocessing import StandardScaler"
   ]
  },
  {
   "cell_type": "code",
   "execution_count": 265,
   "metadata": {},
   "outputs": [],
   "source": [
    "prefrontal_lobes=['SFGdor','ORBsup','MFG','ORBmid','IFGoperc','IFGtriang','ORBinf','SFGmed','ORBsumed']\n",
    "cingulum=['ACG','DCG','PCG']\n",
    "subcortical=['HIP','PHG','AMYG','CAU','PUT','PAL','THA','INS']\n",
    "temporal=['STG','TPOsup','MTG','TPOmid','ITG']\n",
    "occipital=['REC','CUN','CAL','LING','SOG','MOG','IOG','FFG']\n",
    "ROIs_combinations=data_preprocessing.ROIs_combinations('./dataset/Regions_of_interests.csv')"
   ]
  },
  {
   "cell_type": "code",
   "execution_count": 266,
   "metadata": {},
   "outputs": [],
   "source": [
    "temp_connectivity_list_ROIs=[region for region in data_preprocessing.lower_triangle(ROIs_combinations) for i in prefrontal_lobes+cingulum+subcortical+temporal+occipital if i in str.split(region,'_')[0]]\n",
    "connectivity_list_ROIs=[region for region in temp_connectivity_list_ROIs for i in prefrontal_lobes+cingulum+subcortical+temporal+occipital if i in str.split(region,'_')[1]]"
   ]
  },
  {
   "cell_type": "code",
   "execution_count": 275,
   "metadata": {},
   "outputs": [],
   "source": [
    "X=np.asarray(european_diffusion_dataset_term_removed_zeros[[i for i in connectivity_list_ROIs if i in european_diffusion_dataset_term_removed_zeros.columns]])\n",
    "y=np.array(european_diffusion_dataset_term_removed_zeros['PMA.at.birth'])"
   ]
  },
  {
   "cell_type": "code",
   "execution_count": 276,
   "metadata": {},
   "outputs": [
    {
     "output_type": "stream",
     "name": "stderr",
     "text": [
      "100%|██████████| 5/5 [00:05<00:00,  1.11s/it]\n"
     ]
    }
   ],
   "source": [
    "data_splitting=splitting_dataset_into_k_fold(X,y,k=5)\n",
    "result={}\n",
    "y_pred_dict={}\n",
    "for i in tqdm.tqdm(range(5)):\n",
    "    X_trainval,y_trainval,X_test,y_test=next(data_splitting)\n",
    "    regr=RandomForestRegressor(n_estimators=30,max_depth=250,bootstrap=True,oob_score=False)\n",
    "    pipeline=Pipeline([('scaler',MinMaxScaler()),('RFregressor',regr)])\n",
    "    pipeline.fit(X_trainval,y_trainval)\n",
    "    bias_coeff,bias_intercept=get_model_bias(y_trainval,pipeline.predict(X_trainval))\n",
    "    y_pred=pipeline.predict(X_test)\n",
    "    y_pred=y_pred+y_pred*bias_coeff+bias_intercept\n",
    "    result[i]=print_scores(y_pred,y_test)\n",
    "\n",
    "    #calculate brain_maturation_index\n",
    "    y_total_pred=pipeline.predict(X)\n",
    "    y_total_pred=y_total_pred+y_total_pred*bias_coeff+bias_intercept\n",
    "    y_pred_dict[i]=y_total_pred"
   ]
  },
  {
   "cell_type": "code",
   "execution_count": 277,
   "metadata": {},
   "outputs": [
    {
     "output_type": "execute_result",
     "data": {
      "text/plain": [
       "         r2       MAE       MSE  Correlation       p_value\n",
       "0  0.734696  0.863294  1.084056     0.887778  2.769498e-11\n",
       "1  0.691883  0.747524  0.899514     0.836464  8.557686e-09\n",
       "2  0.571152  0.796261  1.043520     0.760020  1.104856e-06\n",
       "3  0.465032  0.968133  1.382181     0.686893  2.763902e-05\n",
       "4  0.717042  0.713476  0.737031     0.874248  2.762367e-10\n",
       "5  0.635961  0.817738  1.029261     0.809081  5.750548e-06"
      ],
      "text/html": "<div>\n<style scoped>\n    .dataframe tbody tr th:only-of-type {\n        vertical-align: middle;\n    }\n\n    .dataframe tbody tr th {\n        vertical-align: top;\n    }\n\n    .dataframe thead th {\n        text-align: right;\n    }\n</style>\n<table border=\"1\" class=\"dataframe\">\n  <thead>\n    <tr style=\"text-align: right;\">\n      <th></th>\n      <th>r2</th>\n      <th>MAE</th>\n      <th>MSE</th>\n      <th>Correlation</th>\n      <th>p_value</th>\n    </tr>\n  </thead>\n  <tbody>\n    <tr>\n      <th>0</th>\n      <td>0.734696</td>\n      <td>0.863294</td>\n      <td>1.084056</td>\n      <td>0.887778</td>\n      <td>2.769498e-11</td>\n    </tr>\n    <tr>\n      <th>1</th>\n      <td>0.691883</td>\n      <td>0.747524</td>\n      <td>0.899514</td>\n      <td>0.836464</td>\n      <td>8.557686e-09</td>\n    </tr>\n    <tr>\n      <th>2</th>\n      <td>0.571152</td>\n      <td>0.796261</td>\n      <td>1.043520</td>\n      <td>0.760020</td>\n      <td>1.104856e-06</td>\n    </tr>\n    <tr>\n      <th>3</th>\n      <td>0.465032</td>\n      <td>0.968133</td>\n      <td>1.382181</td>\n      <td>0.686893</td>\n      <td>2.763902e-05</td>\n    </tr>\n    <tr>\n      <th>4</th>\n      <td>0.717042</td>\n      <td>0.713476</td>\n      <td>0.737031</td>\n      <td>0.874248</td>\n      <td>2.762367e-10</td>\n    </tr>\n    <tr>\n      <th>5</th>\n      <td>0.635961</td>\n      <td>0.817738</td>\n      <td>1.029261</td>\n      <td>0.809081</td>\n      <td>5.750548e-06</td>\n    </tr>\n  </tbody>\n</table>\n</div>"
     },
     "metadata": {},
     "execution_count": 277
    }
   ],
   "source": [
    "PMA_RF_result=pd.DataFrame(result).T\n",
    "PMA_RF_result.append(pd.DataFrame(PMA_RF_result.mean(axis=0)).T,ignore_index=True)"
   ]
  },
  {
   "cell_type": "code",
   "execution_count": 278,
   "metadata": {},
   "outputs": [],
   "source": [
    "brain_index=pd.DataFrame(y_pred_dict)\n",
    "brain_index['mean_PMA_pred']=brain_index.mean(axis=1)\n",
    "brain_index['true_PMA_pred']=y\n",
    "brain_index['residual']=brain_index['mean_PMA_pred']-brain_index['true_PMA_pred']"
   ]
  },
  {
   "cell_type": "code",
   "execution_count": 279,
   "metadata": {},
   "outputs": [
    {
     "output_type": "execute_result",
     "data": {
      "text/plain": [
       "   PRS_threshold  Correlation   p-value\n",
       "0         X1e.08    -0.067966  0.406994\n",
       "1         X1e.07    -0.071368  0.383859\n",
       "2         X1e.06    -0.071514  0.382885\n",
       "3         X1e.05    -0.063584  0.437971\n",
       "4        X0.0001    -0.094008  0.250912\n",
       "5         X0.001    -0.079683  0.330764\n",
       "6          X0.01    -0.145131  0.075402\n",
       "7          X0.05    -0.161967  0.046936\n",
       "8           X0.1    -0.153344  0.060136\n",
       "9           X0.5    -0.152774  0.061106\n",
       "10            X1    -0.156831  0.054470"
      ],
      "text/html": "<div>\n<style scoped>\n    .dataframe tbody tr th:only-of-type {\n        vertical-align: middle;\n    }\n\n    .dataframe tbody tr th {\n        vertical-align: top;\n    }\n\n    .dataframe thead th {\n        text-align: right;\n    }\n</style>\n<table border=\"1\" class=\"dataframe\">\n  <thead>\n    <tr style=\"text-align: right;\">\n      <th></th>\n      <th>PRS_threshold</th>\n      <th>Correlation</th>\n      <th>p-value</th>\n    </tr>\n  </thead>\n  <tbody>\n    <tr>\n      <th>0</th>\n      <td>X1e.08</td>\n      <td>-0.067966</td>\n      <td>0.406994</td>\n    </tr>\n    <tr>\n      <th>1</th>\n      <td>X1e.07</td>\n      <td>-0.071368</td>\n      <td>0.383859</td>\n    </tr>\n    <tr>\n      <th>2</th>\n      <td>X1e.06</td>\n      <td>-0.071514</td>\n      <td>0.382885</td>\n    </tr>\n    <tr>\n      <th>3</th>\n      <td>X1e.05</td>\n      <td>-0.063584</td>\n      <td>0.437971</td>\n    </tr>\n    <tr>\n      <th>4</th>\n      <td>X0.0001</td>\n      <td>-0.094008</td>\n      <td>0.250912</td>\n    </tr>\n    <tr>\n      <th>5</th>\n      <td>X0.001</td>\n      <td>-0.079683</td>\n      <td>0.330764</td>\n    </tr>\n    <tr>\n      <th>6</th>\n      <td>X0.01</td>\n      <td>-0.145131</td>\n      <td>0.075402</td>\n    </tr>\n    <tr>\n      <th>7</th>\n      <td>X0.05</td>\n      <td>-0.161967</td>\n      <td>0.046936</td>\n    </tr>\n    <tr>\n      <th>8</th>\n      <td>X0.1</td>\n      <td>-0.153344</td>\n      <td>0.060136</td>\n    </tr>\n    <tr>\n      <th>9</th>\n      <td>X0.5</td>\n      <td>-0.152774</td>\n      <td>0.061106</td>\n    </tr>\n    <tr>\n      <th>10</th>\n      <td>X1</td>\n      <td>-0.156831</td>\n      <td>0.054470</td>\n    </tr>\n  </tbody>\n</table>\n</div>"
     },
     "metadata": {},
     "execution_count": 279
    }
   ],
   "source": [
    "brain_index_corr=pd.DataFrame({'PRS_threshold':PRS_thresholds,'Correlation':[(pearsonr(brain_index['residual'],adjusted_prs_score[:,i]))[0] for i in range(11)],'p-value':[(pearsonr(brain_index['residual'],adjusted_prs_score[:,i]))[1] for i in range(11)]})\n",
    "brain_index_corr"
   ]
  },
  {
   "cell_type": "code",
   "execution_count": null,
   "metadata": {},
   "outputs": [],
   "source": [
    "plt.plot()"
   ]
  },
  {
   "cell_type": "code",
   "execution_count": 281,
   "metadata": {},
   "outputs": [],
   "source": [
    "X=np.asarray(european_diffusion_dataset_term_removed_zeros[[i for i in connectivity_list_ROIs if i in european_diffusion_dataset_term_removed_zeros.columns]])\n",
    "y=np.array(european_diffusion_dataset_term_removed_zeros['PMA.at.birth'])"
   ]
  },
  {
   "cell_type": "code",
   "execution_count": 286,
   "metadata": {},
   "outputs": [
    {
     "output_type": "stream",
     "name": "stderr",
     "text": [
      "100%|██████████| 5/5 [00:00<00:00, 12.32it/s]\n"
     ]
    }
   ],
   "source": [
    "data_splitting=splitting_dataset_into_k_fold(X,y,k=5)\n",
    "result={}\n",
    "y_pred_dict={}\n",
    "for i in tqdm.tqdm(range(5)):\n",
    "    X_trainval,y_trainval,X_test,y_test=next(data_splitting)\n",
    "    regr=RandomForestRegressor(n_estimators=30,max_depth=250,bootstrap=True,oob_score=False)\n",
    "    pipeline=Pipeline([('scaler',StandardScaler()),('pca',PCA(n_components=1)),('RFregressor',regr)])\n",
    "    pipeline.fit(X_trainval,y_trainval)\n",
    "    bias_coeff,bias_intercept=get_model_bias(y_trainval,pipeline.predict(X_trainval))\n",
    "    y_pred=pipeline.predict(X_test)\n",
    "    y_pred=y_pred+y_pred*bias_coeff+bias_intercept\n",
    "    result[i]=print_scores(y_pred,y_test)\n",
    "\n",
    "    #calculate brain_maturation_index\n",
    "    y_total_pred=pipeline.predict(X)\n",
    "    y_total_pred=y_total_pred+y_total_pred*bias_coeff+bias_intercept\n",
    "    y_pred_dict[i]=y_total_pred"
   ]
  },
  {
   "cell_type": "code",
   "execution_count": 287,
   "metadata": {},
   "outputs": [
    {
     "output_type": "execute_result",
     "data": {
      "text/plain": [
       "         r2       MAE       MSE  Correlation       p_value\n",
       "0  0.557144  1.106079  1.809550     0.753987  9.701348e-07\n",
       "1  0.161479  1.291396  2.447969     0.601070  4.436980e-04\n",
       "2 -0.097452  1.416533  2.670442     0.512832  3.757923e-03\n",
       "3  0.258628  1.059618  1.915464     0.657584  7.862737e-05\n",
       "4  0.182292  1.146366  2.129916     0.617347  2.788538e-04\n",
       "5  0.212418  1.203998  2.194668     0.628564  9.120145e-04"
      ],
      "text/html": "<div>\n<style scoped>\n    .dataframe tbody tr th:only-of-type {\n        vertical-align: middle;\n    }\n\n    .dataframe tbody tr th {\n        vertical-align: top;\n    }\n\n    .dataframe thead th {\n        text-align: right;\n    }\n</style>\n<table border=\"1\" class=\"dataframe\">\n  <thead>\n    <tr style=\"text-align: right;\">\n      <th></th>\n      <th>r2</th>\n      <th>MAE</th>\n      <th>MSE</th>\n      <th>Correlation</th>\n      <th>p_value</th>\n    </tr>\n  </thead>\n  <tbody>\n    <tr>\n      <th>0</th>\n      <td>0.557144</td>\n      <td>1.106079</td>\n      <td>1.809550</td>\n      <td>0.753987</td>\n      <td>9.701348e-07</td>\n    </tr>\n    <tr>\n      <th>1</th>\n      <td>0.161479</td>\n      <td>1.291396</td>\n      <td>2.447969</td>\n      <td>0.601070</td>\n      <td>4.436980e-04</td>\n    </tr>\n    <tr>\n      <th>2</th>\n      <td>-0.097452</td>\n      <td>1.416533</td>\n      <td>2.670442</td>\n      <td>0.512832</td>\n      <td>3.757923e-03</td>\n    </tr>\n    <tr>\n      <th>3</th>\n      <td>0.258628</td>\n      <td>1.059618</td>\n      <td>1.915464</td>\n      <td>0.657584</td>\n      <td>7.862737e-05</td>\n    </tr>\n    <tr>\n      <th>4</th>\n      <td>0.182292</td>\n      <td>1.146366</td>\n      <td>2.129916</td>\n      <td>0.617347</td>\n      <td>2.788538e-04</td>\n    </tr>\n    <tr>\n      <th>5</th>\n      <td>0.212418</td>\n      <td>1.203998</td>\n      <td>2.194668</td>\n      <td>0.628564</td>\n      <td>9.120145e-04</td>\n    </tr>\n  </tbody>\n</table>\n</div>"
     },
     "metadata": {},
     "execution_count": 287
    }
   ],
   "source": [
    "PMA_RF_result=pd.DataFrame(result).T\n",
    "PMA_RF_result.append(pd.DataFrame(PMA_RF_result.mean(axis=0)).T,ignore_index=True)"
   ]
  },
  {
   "cell_type": "code",
   "execution_count": 288,
   "metadata": {},
   "outputs": [],
   "source": [
    "brain_index=pd.DataFrame(y_pred_dict)\n",
    "brain_index['mean_PMA_pred']=brain_index.mean(axis=1)\n",
    "brain_index['true_PMA_pred']=y\n",
    "brain_index['residual']=brain_index['mean_PMA_pred']-brain_index['true_PMA_pred']"
   ]
  },
  {
   "cell_type": "code",
   "execution_count": 289,
   "metadata": {},
   "outputs": [
    {
     "output_type": "execute_result",
     "data": {
      "text/plain": [
       "   PRS_threshold  Correlation   p-value\n",
       "0         X1e.08    -0.094409  0.248890\n",
       "1         X1e.07    -0.109261  0.181722\n",
       "2         X1e.06    -0.087957  0.282850\n",
       "3         X1e.05    -0.072906  0.373669\n",
       "4        X0.0001    -0.083216  0.309705\n",
       "5         X0.001    -0.053845  0.511417\n",
       "6          X0.01    -0.085599  0.296008\n",
       "7          X0.05    -0.143565  0.078643\n",
       "8           X0.1    -0.133181  0.103053\n",
       "9           X0.5    -0.173206  0.033436\n",
       "10            X1    -0.175401  0.031226"
      ],
      "text/html": "<div>\n<style scoped>\n    .dataframe tbody tr th:only-of-type {\n        vertical-align: middle;\n    }\n\n    .dataframe tbody tr th {\n        vertical-align: top;\n    }\n\n    .dataframe thead th {\n        text-align: right;\n    }\n</style>\n<table border=\"1\" class=\"dataframe\">\n  <thead>\n    <tr style=\"text-align: right;\">\n      <th></th>\n      <th>PRS_threshold</th>\n      <th>Correlation</th>\n      <th>p-value</th>\n    </tr>\n  </thead>\n  <tbody>\n    <tr>\n      <th>0</th>\n      <td>X1e.08</td>\n      <td>-0.094409</td>\n      <td>0.248890</td>\n    </tr>\n    <tr>\n      <th>1</th>\n      <td>X1e.07</td>\n      <td>-0.109261</td>\n      <td>0.181722</td>\n    </tr>\n    <tr>\n      <th>2</th>\n      <td>X1e.06</td>\n      <td>-0.087957</td>\n      <td>0.282850</td>\n    </tr>\n    <tr>\n      <th>3</th>\n      <td>X1e.05</td>\n      <td>-0.072906</td>\n      <td>0.373669</td>\n    </tr>\n    <tr>\n      <th>4</th>\n      <td>X0.0001</td>\n      <td>-0.083216</td>\n      <td>0.309705</td>\n    </tr>\n    <tr>\n      <th>5</th>\n      <td>X0.001</td>\n      <td>-0.053845</td>\n      <td>0.511417</td>\n    </tr>\n    <tr>\n      <th>6</th>\n      <td>X0.01</td>\n      <td>-0.085599</td>\n      <td>0.296008</td>\n    </tr>\n    <tr>\n      <th>7</th>\n      <td>X0.05</td>\n      <td>-0.143565</td>\n      <td>0.078643</td>\n    </tr>\n    <tr>\n      <th>8</th>\n      <td>X0.1</td>\n      <td>-0.133181</td>\n      <td>0.103053</td>\n    </tr>\n    <tr>\n      <th>9</th>\n      <td>X0.5</td>\n      <td>-0.173206</td>\n      <td>0.033436</td>\n    </tr>\n    <tr>\n      <th>10</th>\n      <td>X1</td>\n      <td>-0.175401</td>\n      <td>0.031226</td>\n    </tr>\n  </tbody>\n</table>\n</div>"
     },
     "metadata": {},
     "execution_count": 289
    }
   ],
   "source": [
    "brain_index_corr=pd.DataFrame({'PRS_threshold':PRS_thresholds,'Correlation':[(pearsonr(brain_index['residual'],adjusted_prs_score[:,i]))[0] for i in range(11)],'p-value':[(pearsonr(brain_index['residual'],adjusted_prs_score[:,i]))[1] for i in range(11)]})\n",
    "brain_index_corr"
   ]
  },
  {
   "cell_type": "code",
   "execution_count": null,
   "metadata": {},
   "outputs": [],
   "source": []
  }
 ]
}