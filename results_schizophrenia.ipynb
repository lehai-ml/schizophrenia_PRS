{
 "cells": [
  {
   "cell_type": "code",
   "execution_count": 1,
   "metadata": {},
   "outputs": [],
   "source": [
    "#import necessary libraries\n",
    "import pandas as pd\n",
    "import numpy as np\n",
    "import preprocessing\n",
    "import running_model\n",
    "import model_training\n",
    "from scipy import stats\n",
    "\n",
    "#visualisation libraries\n",
    "import matplotlib.pyplot as plt\n",
    "import networkx as nx\n",
    "import visualisation\n",
    "\n",
    "import itertools\n",
    "import inspect\n",
    "import operator\n",
    "import time"
   ]
  },
  {
   "cell_type": "markdown",
   "metadata": {
    "heading_collapsed": true
   },
   "source": [
    "# Data Importing and Preprocessing"
   ]
  },
  {
   "cell_type": "code",
   "execution_count": 2,
   "metadata": {
    "hidden": true,
    "tags": []
   },
   "outputs": [
    {
     "output_type": "stream",
     "name": "stdout",
     "text": [
      "this file dataProb_EP1085_mat.txt is not processed\n",
      "this file dataProb_EP1078_mat.txt is not processed\n",
      "this file cannot be loaded: .DS_Store\n",
      "this file dataProb_EP1118_mat.txt is not processed\n",
      "this file dataProb_EP1009_mat.txt is not processed\n",
      "this file dataProb_EP1092_mat.txt is not processed\n",
      "this file dataProb_EP1142_mat.txt is not processed\n",
      "this file dataProb_EP1130_mat.txt is not processed\n",
      "this file dataProb_EP1041_mat.txt is not processed\n",
      "this file dataProb_EP1017_mat.txt is not processed\n",
      "this file dataProb_EP1105_mat.txt is not processed\n",
      "this file dataProb_EP1123_mat.txt is not processed\n"
     ]
    }
   ],
   "source": [
    "ID,babies_connectivity_matrix=preprocessing.babies_connectivity_extraction('./Tracts/')\n",
    "ROIs_combinations=preprocessing.ROIs_combinations('./Regions_of_interests.csv')\n",
    "structural_labels=pd.read_csv('all_labels.csv', header = None, sep='\\t')\n",
    "structural_labels=np.asarray(structural_labels[1])\n",
    "babies_structural_matrix=pd.read_csv('./ePrime-structure-volumes.csv',header=0,index_col=None).dropna()\n",
    "babies_structural_matrix=babies_structural_matrix.iloc[babies_structural_matrix['Age at scan'].values<49,:].reset_index(drop=True)"
   ]
  },
  {
   "cell_type": "code",
   "execution_count": 3,
   "metadata": {
    "hidden": true
   },
   "outputs": [],
   "source": [
    "#Reading necessary tables\n",
    "schizophrenia_high_scores_european=preprocessing.read_table_from_txt('./scz2_sixlevels_ld1000G.highres.all.score.txt')\n",
    "ancestral_PCA_european=preprocessing.read_table_from_txt('./ePrime_nosibs_european_pruned_excludeLD_pca10.eigenvec.txt')"
   ]
  },
  {
   "cell_type": "code",
   "execution_count": 4,
   "metadata": {
    "hidden": true,
    "tags": []
   },
   "outputs": [
    {
     "output_type": "stream",
     "name": "stdout",
     "text": [
      "these 17 individuals do not have connectivity matrices or structural data: ['EP1554' 'EP1688' 'EP1910' 'EP2443' 'EP2741' 'EP3137' 'EP3941' 'EP4038'\n 'EP4063' 'EP4845' 'EP5175' 'EP5942' 'EP6140' 'EP7153' 'EP7384' 'EP7427'\n 'EP7687']\n"
     ]
    }
   ],
   "source": [
    "#matching europeans IDs between tables and connectivity matrices\n",
    "european_ID_list=list(set(ID).intersection(schizophrenia_high_scores_european['ID']))#this is crossing connectivity_ID with european_PRS_ID.\n",
    "european_ID_list=list(set(european_ID_list).intersection(babies_structural_matrix['Subject ID']))#this is crossing european_connectivity with babies_structural_ID.\n",
    "european_ID_list.sort()\n",
    "european_ID_list_not_available=np.setdiff1d(schizophrenia_high_scores_european['ID'],european_ID_list)\n",
    "european_ID_list_not_available.sort()\n",
    "print('these %d individuals do not have connectivity matrices or structural data: %s' %(len(european_ID_list_not_available),european_ID_list_not_available))"
   ]
  },
  {
   "source": [
    "## remmoving outliers"
   ],
   "cell_type": "markdown",
   "metadata": {
    "hidden": true
   }
  },
  {
   "cell_type": "code",
   "execution_count": 5,
   "metadata": {
    "hidden": true
   },
   "outputs": [
    {
     "output_type": "stream",
     "name": "stdout",
     "text": [
      "(122, 11)\n['EP2314' 'EP4795' 'EP5930' 'EP6016' 'EP6402']\n"
     ]
    },
    {
     "output_type": "display_data",
     "data": {
      "text/plain": "<Figure size 432x288 with 1 Axes>",
      "image/svg+xml": "<?xml version=\"1.0\" encoding=\"utf-8\" standalone=\"no\"?>\n<!DOCTYPE svg PUBLIC \"-//W3C//DTD SVG 1.1//EN\"\n  \"http://www.w3.org/Graphics/SVG/1.1/DTD/svg11.dtd\">\n<!-- Created with matplotlib (https://matplotlib.org/) -->\n<svg height=\"249.323208pt\" version=\"1.1\" viewBox=\"0 0 380.482812 249.323208\" width=\"380.482812pt\" xmlns=\"http://www.w3.org/2000/svg\" xmlns:xlink=\"http://www.w3.org/1999/xlink\">\n <defs>\n  <style type=\"text/css\">\n*{stroke-linecap:butt;stroke-linejoin:round;}\n  </style>\n </defs>\n <g id=\"figure_1\">\n  <g id=\"patch_1\">\n   <path d=\"M -0 249.323208 \nL 380.482812 249.323208 \nL 380.482812 0 \nL -0 0 \nz\n\" style=\"fill:none;\"/>\n  </g>\n  <g id=\"axes_1\">\n   <g id=\"patch_2\">\n    <path d=\"M 38.482813 225.445083 \nL 373.282813 225.445083 \nL 373.282813 8.005083 \nL 38.482813 8.005083 \nz\n\" style=\"fill:#ffffff;\"/>\n   </g>\n   <g id=\"PathCollection_1\">\n    <defs>\n     <path d=\"M 0 3 \nC 0.795609 3 1.55874 2.683901 2.12132 2.12132 \nC 2.683901 1.55874 3 0.795609 3 0 \nC 3 -0.795609 2.683901 -1.55874 2.12132 -2.12132 \nC 1.55874 -2.683901 0.795609 -3 0 -3 \nC -0.795609 -3 -1.55874 -2.683901 -2.12132 -2.12132 \nC -2.683901 -1.55874 -3 -0.795609 -3 0 \nC -3 0.795609 -2.683901 1.55874 -2.12132 2.12132 \nC -1.55874 2.683901 -0.795609 3 0 3 \nz\n\" id=\"m8a6315287a\" style=\"stroke:#1f77b4;\"/>\n    </defs>\n    <g clip-path=\"url(#p6957c04caf)\">\n     <use style=\"fill:#1f77b4;stroke:#1f77b4;\" x=\"325.593192\" xlink:href=\"#m8a6315287a\" y=\"178.073763\"/>\n     <use style=\"fill:#1f77b4;stroke:#1f77b4;\" x=\"327.917005\" xlink:href=\"#m8a6315287a\" y=\"143.45567\"/>\n     <use style=\"fill:#1f77b4;stroke:#1f77b4;\" x=\"305.169755\" xlink:href=\"#m8a6315287a\" y=\"153.393885\"/>\n     <use style=\"fill:#1f77b4;stroke:#1f77b4;\" x=\"329.292974\" xlink:href=\"#m8a6315287a\" y=\"157.403261\"/>\n     <use style=\"fill:#1f77b4;stroke:#1f77b4;\" x=\"313.742034\" xlink:href=\"#m8a6315287a\" y=\"131.136086\"/>\n     <use style=\"fill:#1f77b4;stroke:#1f77b4;\" x=\"325.257485\" xlink:href=\"#m8a6315287a\" y=\"142.705679\"/>\n     <use style=\"fill:#1f77b4;stroke:#1f77b4;\" x=\"346.873928\" xlink:href=\"#m8a6315287a\" y=\"135.805426\"/>\n     <use style=\"fill:#1f77b4;stroke:#1f77b4;\" x=\"337.234643\" xlink:href=\"#m8a6315287a\" y=\"122.613552\"/>\n     <use style=\"fill:#1f77b4;stroke:#1f77b4;\" x=\"325.535458\" xlink:href=\"#m8a6315287a\" y=\"146.707507\"/>\n     <use style=\"fill:#1f77b4;stroke:#1f77b4;\" x=\"328.595698\" xlink:href=\"#m8a6315287a\" y=\"115.241511\"/>\n     <use style=\"fill:#1f77b4;stroke:#1f77b4;\" x=\"338.960877\" xlink:href=\"#m8a6315287a\" y=\"144.340788\"/>\n     <use style=\"fill:#1f77b4;stroke:#1f77b4;\" x=\"327.922353\" xlink:href=\"#m8a6315287a\" y=\"137.549896\"/>\n     <use style=\"fill:#1f77b4;stroke:#1f77b4;\" x=\"279.86533\" xlink:href=\"#m8a6315287a\" y=\"140.607454\"/>\n     <use style=\"fill:#1f77b4;stroke:#1f77b4;\" x=\"302.584424\" xlink:href=\"#m8a6315287a\" y=\"140.68599\"/>\n     <use style=\"fill:#1f77b4;stroke:#1f77b4;\" x=\"344.578569\" xlink:href=\"#m8a6315287a\" y=\"134.358768\"/>\n     <use style=\"fill:#1f77b4;stroke:#1f77b4;\" x=\"332.504359\" xlink:href=\"#m8a6315287a\" y=\"138.494408\"/>\n     <use style=\"fill:#1f77b4;stroke:#1f77b4;\" x=\"317.711462\" xlink:href=\"#m8a6315287a\" y=\"146.967349\"/>\n     <use style=\"fill:#1f77b4;stroke:#1f77b4;\" x=\"235.072519\" xlink:href=\"#m8a6315287a\" y=\"128.073402\"/>\n     <use style=\"fill:#1f77b4;stroke:#1f77b4;\" x=\"322.952365\" xlink:href=\"#m8a6315287a\" y=\"139.651484\"/>\n     <use style=\"fill:#1f77b4;stroke:#1f77b4;\" x=\"296.474812\" xlink:href=\"#m8a6315287a\" y=\"137.273119\"/>\n     <use style=\"fill:#1f77b4;stroke:#1f77b4;\" x=\"331.319073\" xlink:href=\"#m8a6315287a\" y=\"142.11208\"/>\n     <use style=\"fill:#1f77b4;stroke:#1f77b4;\" x=\"324.335613\" xlink:href=\"#m8a6315287a\" y=\"149.689514\"/>\n     <use style=\"fill:#1f77b4;stroke:#1f77b4;\" x=\"299.163481\" xlink:href=\"#m8a6315287a\" y=\"149.247177\"/>\n     <use style=\"fill:#1f77b4;stroke:#1f77b4;\" x=\"328.941992\" xlink:href=\"#m8a6315287a\" y=\"142.682504\"/>\n     <use style=\"fill:#1f77b4;stroke:#1f77b4;\" x=\"321.494454\" xlink:href=\"#m8a6315287a\" y=\"149.647998\"/>\n     <use style=\"fill:#1f77b4;stroke:#1f77b4;\" x=\"269.146798\" xlink:href=\"#m8a6315287a\" y=\"78.114895\"/>\n     <use style=\"fill:#1f77b4;stroke:#1f77b4;\" x=\"262.292482\" xlink:href=\"#m8a6315287a\" y=\"157.798951\"/>\n     <use style=\"fill:#1f77b4;stroke:#1f77b4;\" x=\"321.052653\" xlink:href=\"#m8a6315287a\" y=\"140.045211\"/>\n     <use style=\"fill:#1f77b4;stroke:#1f77b4;\" x=\"280.012119\" xlink:href=\"#m8a6315287a\" y=\"142.495324\"/>\n     <use style=\"fill:#1f77b4;stroke:#1f77b4;\" x=\"323.586448\" xlink:href=\"#m8a6315287a\" y=\"146.028672\"/>\n     <use style=\"fill:#1f77b4;stroke:#1f77b4;\" x=\"298.855438\" xlink:href=\"#m8a6315287a\" y=\"135.80091\"/>\n     <use style=\"fill:#1f77b4;stroke:#1f77b4;\" x=\"334.347716\" xlink:href=\"#m8a6315287a\" y=\"135.081811\"/>\n     <use style=\"fill:#1f77b4;stroke:#1f77b4;\" x=\"269.201719\" xlink:href=\"#m8a6315287a\" y=\"113.11973\"/>\n     <use style=\"fill:#1f77b4;stroke:#1f77b4;\" x=\"227.397794\" xlink:href=\"#m8a6315287a\" y=\"112.684221\"/>\n     <use style=\"fill:#1f77b4;stroke:#1f77b4;\" x=\"347.344238\" xlink:href=\"#m8a6315287a\" y=\"140.388236\"/>\n     <use style=\"fill:#1f77b4;stroke:#1f77b4;\" x=\"322.297824\" xlink:href=\"#m8a6315287a\" y=\"146.74493\"/>\n     <use style=\"fill:#1f77b4;stroke:#1f77b4;\" x=\"313.164637\" xlink:href=\"#m8a6315287a\" y=\"146.650598\"/>\n     <use style=\"fill:#1f77b4;stroke:#1f77b4;\" x=\"326.092176\" xlink:href=\"#m8a6315287a\" y=\"140.853281\"/>\n     <use style=\"fill:#1f77b4;stroke:#1f77b4;\" x=\"327.665886\" xlink:href=\"#m8a6315287a\" y=\"140.673671\"/>\n     <use style=\"fill:#1f77b4;stroke:#1f77b4;\" x=\"307.521966\" xlink:href=\"#m8a6315287a\" y=\"126.920829\"/>\n     <use style=\"fill:#1f77b4;stroke:#1f77b4;\" x=\"313.809528\" xlink:href=\"#m8a6315287a\" y=\"140.301675\"/>\n     <use style=\"fill:#1f77b4;stroke:#1f77b4;\" x=\"296.249787\" xlink:href=\"#m8a6315287a\" y=\"128.101771\"/>\n     <use style=\"fill:#1f77b4;stroke:#1f77b4;\" x=\"347.195629\" xlink:href=\"#m8a6315287a\" y=\"159.126575\"/>\n     <use style=\"fill:#1f77b4;stroke:#1f77b4;\" x=\"312.511254\" xlink:href=\"#m8a6315287a\" y=\"122.110023\"/>\n     <use style=\"fill:#1f77b4;stroke:#1f77b4;\" x=\"303.544426\" xlink:href=\"#m8a6315287a\" y=\"137.379164\"/>\n     <use style=\"fill:#1f77b4;stroke:#1f77b4;\" x=\"312.282303\" xlink:href=\"#m8a6315287a\" y=\"134.331904\"/>\n     <use style=\"fill:#1f77b4;stroke:#1f77b4;\" x=\"323.077814\" xlink:href=\"#m8a6315287a\" y=\"142.957931\"/>\n     <use style=\"fill:#1f77b4;stroke:#1f77b4;\" x=\"261.634633\" xlink:href=\"#m8a6315287a\" y=\"144.258479\"/>\n     <use style=\"fill:#1f77b4;stroke:#1f77b4;\" x=\"349.186381\" xlink:href=\"#m8a6315287a\" y=\"131.200925\"/>\n     <use style=\"fill:#1f77b4;stroke:#1f77b4;\" x=\"291.834548\" xlink:href=\"#m8a6315287a\" y=\"135.269372\"/>\n     <use style=\"fill:#1f77b4;stroke:#1f77b4;\" x=\"282.436126\" xlink:href=\"#m8a6315287a\" y=\"129.158315\"/>\n     <use style=\"fill:#1f77b4;stroke:#1f77b4;\" x=\"322.539128\" xlink:href=\"#m8a6315287a\" y=\"147.527362\"/>\n     <use style=\"fill:#1f77b4;stroke:#1f77b4;\" x=\"291.529335\" xlink:href=\"#m8a6315287a\" y=\"140.341887\"/>\n     <use style=\"fill:#1f77b4;stroke:#1f77b4;\" x=\"321.212456\" xlink:href=\"#m8a6315287a\" y=\"137.778248\"/>\n     <use style=\"fill:#1f77b4;stroke:#1f77b4;\" x=\"323.312335\" xlink:href=\"#m8a6315287a\" y=\"125.876965\"/>\n     <use style=\"fill:#1f77b4;stroke:#1f77b4;\" x=\"334.239527\" xlink:href=\"#m8a6315287a\" y=\"139.981417\"/>\n     <use style=\"fill:#1f77b4;stroke:#1f77b4;\" x=\"269.624772\" xlink:href=\"#m8a6315287a\" y=\"83.590351\"/>\n     <use style=\"fill:#1f77b4;stroke:#1f77b4;\" x=\"304.570721\" xlink:href=\"#m8a6315287a\" y=\"129.981775\"/>\n     <use style=\"fill:#1f77b4;stroke:#1f77b4;\" x=\"335.513427\" xlink:href=\"#m8a6315287a\" y=\"146.878191\"/>\n     <use style=\"fill:#1f77b4;stroke:#1f77b4;\" x=\"320.72825\" xlink:href=\"#m8a6315287a\" y=\"138.875794\"/>\n     <use style=\"fill:#1f77b4;stroke:#1f77b4;\" x=\"315.262917\" xlink:href=\"#m8a6315287a\" y=\"145.828029\"/>\n     <use style=\"fill:#1f77b4;stroke:#1f77b4;\" x=\"276.857586\" xlink:href=\"#m8a6315287a\" y=\"127.566714\"/>\n     <use style=\"fill:#1f77b4;stroke:#1f77b4;\" x=\"318.661291\" xlink:href=\"#m8a6315287a\" y=\"131.865681\"/>\n     <use style=\"fill:#1f77b4;stroke:#1f77b4;\" x=\"333.303704\" xlink:href=\"#m8a6315287a\" y=\"153.452872\"/>\n     <use style=\"fill:#1f77b4;stroke:#1f77b4;\" x=\"318.627709\" xlink:href=\"#m8a6315287a\" y=\"133.603073\"/>\n     <use style=\"fill:#1f77b4;stroke:#1f77b4;\" x=\"323.515149\" xlink:href=\"#m8a6315287a\" y=\"139.430189\"/>\n     <use style=\"fill:#1f77b4;stroke:#1f77b4;\" x=\"330.158269\" xlink:href=\"#m8a6315287a\" y=\"124.781004\"/>\n     <use style=\"fill:#1f77b4;stroke:#1f77b4;\" x=\"310.838674\" xlink:href=\"#m8a6315287a\" y=\"138.661897\"/>\n     <use style=\"fill:#1f77b4;stroke:#1f77b4;\" x=\"306.968281\" xlink:href=\"#m8a6315287a\" y=\"139.228652\"/>\n     <use style=\"fill:#1f77b4;stroke:#1f77b4;\" x=\"309.021675\" xlink:href=\"#m8a6315287a\" y=\"136.177771\"/>\n     <use style=\"fill:#1f77b4;stroke:#1f77b4;\" x=\"193.101953\" xlink:href=\"#m8a6315287a\" y=\"105.770144\"/>\n     <use style=\"fill:#1f77b4;stroke:#1f77b4;\" x=\"333.568443\" xlink:href=\"#m8a6315287a\" y=\"131.007936\"/>\n     <use style=\"fill:#1f77b4;stroke:#1f77b4;\" x=\"321.336306\" xlink:href=\"#m8a6315287a\" y=\"143.013334\"/>\n     <use style=\"fill:#1f77b4;stroke:#1f77b4;\" x=\"294.395942\" xlink:href=\"#m8a6315287a\" y=\"137.607081\"/>\n     <use style=\"fill:#1f77b4;stroke:#1f77b4;\" x=\"238.702546\" xlink:href=\"#m8a6315287a\" y=\"150.378929\"/>\n     <use style=\"fill:#1f77b4;stroke:#1f77b4;\" x=\"336.758213\" xlink:href=\"#m8a6315287a\" y=\"143.754251\"/>\n     <use style=\"fill:#1f77b4;stroke:#1f77b4;\" x=\"177.59645\" xlink:href=\"#m8a6315287a\" y=\"143.052029\"/>\n     <use style=\"fill:#1f77b4;stroke:#1f77b4;\" x=\"310.052949\" xlink:href=\"#m8a6315287a\" y=\"143.978302\"/>\n     <use style=\"fill:#1f77b4;stroke:#1f77b4;\" x=\"329.968248\" xlink:href=\"#m8a6315287a\" y=\"143.321032\"/>\n     <use style=\"fill:#1f77b4;stroke:#1f77b4;\" x=\"132.264952\" xlink:href=\"#m8a6315287a\" y=\"174.099266\"/>\n     <use style=\"fill:#1f77b4;stroke:#1f77b4;\" x=\"308.358863\" xlink:href=\"#m8a6315287a\" y=\"158.098825\"/>\n     <use style=\"fill:#1f77b4;stroke:#1f77b4;\" x=\"321.375567\" xlink:href=\"#m8a6315287a\" y=\"163.030466\"/>\n     <use style=\"fill:#1f77b4;stroke:#1f77b4;\" x=\"199.09759\" xlink:href=\"#m8a6315287a\" y=\"146.200141\"/>\n     <use style=\"fill:#1f77b4;stroke:#1f77b4;\" x=\"318.715055\" xlink:href=\"#m8a6315287a\" y=\"135.691227\"/>\n     <use style=\"fill:#1f77b4;stroke:#1f77b4;\" x=\"273.021988\" xlink:href=\"#m8a6315287a\" y=\"128.218727\"/>\n     <use style=\"fill:#1f77b4;stroke:#1f77b4;\" x=\"282.259946\" xlink:href=\"#m8a6315287a\" y=\"149.167136\"/>\n     <use style=\"fill:#1f77b4;stroke:#1f77b4;\" x=\"336.690387\" xlink:href=\"#m8a6315287a\" y=\"143.201595\"/>\n     <use style=\"fill:#1f77b4;stroke:#1f77b4;\" x=\"340.640571\" xlink:href=\"#m8a6315287a\" y=\"136.665798\"/>\n     <use style=\"fill:#1f77b4;stroke:#1f77b4;\" x=\"318.450977\" xlink:href=\"#m8a6315287a\" y=\"145.86736\"/>\n     <use style=\"fill:#1f77b4;stroke:#1f77b4;\" x=\"260.861922\" xlink:href=\"#m8a6315287a\" y=\"140.49317\"/>\n     <use style=\"fill:#1f77b4;stroke:#1f77b4;\" x=\"268.80122\" xlink:href=\"#m8a6315287a\" y=\"108.197672\"/>\n     <use style=\"fill:#1f77b4;stroke:#1f77b4;\" x=\"58.642073\" xlink:href=\"#m8a6315287a\" y=\"147.56805\"/>\n     <use style=\"fill:#1f77b4;stroke:#1f77b4;\" x=\"206.817532\" xlink:href=\"#m8a6315287a\" y=\"212.636092\"/>\n     <use style=\"fill:#1f77b4;stroke:#1f77b4;\" x=\"210.025168\" xlink:href=\"#m8a6315287a\" y=\"159.13741\"/>\n     <use style=\"fill:#1f77b4;stroke:#1f77b4;\" x=\"315.595922\" xlink:href=\"#m8a6315287a\" y=\"150.857798\"/>\n     <use style=\"fill:#1f77b4;stroke:#1f77b4;\" x=\"343.203482\" xlink:href=\"#m8a6315287a\" y=\"142.533956\"/>\n     <use style=\"fill:#1f77b4;stroke:#1f77b4;\" x=\"299.649393\" xlink:href=\"#m8a6315287a\" y=\"147.829547\"/>\n     <use style=\"fill:#1f77b4;stroke:#1f77b4;\" x=\"317.922051\" xlink:href=\"#m8a6315287a\" y=\"143.527867\"/>\n     <use style=\"fill:#1f77b4;stroke:#1f77b4;\" x=\"191.244204\" xlink:href=\"#m8a6315287a\" y=\"102.140619\"/>\n     <use style=\"fill:#1f77b4;stroke:#1f77b4;\" x=\"307.424916\" xlink:href=\"#m8a6315287a\" y=\"20.814075\"/>\n     <use style=\"fill:#1f77b4;stroke:#1f77b4;\" x=\"331.445459\" xlink:href=\"#m8a6315287a\" y=\"145.825463\"/>\n     <use style=\"fill:#1f77b4;stroke:#1f77b4;\" x=\"274.970391\" xlink:href=\"#m8a6315287a\" y=\"126.257812\"/>\n     <use style=\"fill:#1f77b4;stroke:#1f77b4;\" x=\"250.233657\" xlink:href=\"#m8a6315287a\" y=\"126.223103\"/>\n     <use style=\"fill:#1f77b4;stroke:#1f77b4;\" x=\"324.459463\" xlink:href=\"#m8a6315287a\" y=\"138.817925\"/>\n     <use style=\"fill:#1f77b4;stroke:#1f77b4;\" x=\"325.054781\" xlink:href=\"#m8a6315287a\" y=\"144.330102\"/>\n     <use style=\"fill:#1f77b4;stroke:#1f77b4;\" x=\"274.601157\" xlink:href=\"#m8a6315287a\" y=\"140.10823\"/>\n     <use style=\"fill:#1f77b4;stroke:#1f77b4;\" x=\"351.244518\" xlink:href=\"#m8a6315287a\" y=\"135.067796\"/>\n     <use style=\"fill:#1f77b4;stroke:#1f77b4;\" x=\"313.598498\" xlink:href=\"#m8a6315287a\" y=\"143.746978\"/>\n     <use style=\"fill:#1f77b4;stroke:#1f77b4;\" x=\"322.469593\" xlink:href=\"#m8a6315287a\" y=\"151.087489\"/>\n     <use style=\"fill:#1f77b4;stroke:#1f77b4;\" x=\"353.123552\" xlink:href=\"#m8a6315287a\" y=\"149.747059\"/>\n     <use style=\"fill:#1f77b4;stroke:#1f77b4;\" x=\"285.246129\" xlink:href=\"#m8a6315287a\" y=\"146.419252\"/>\n     <use style=\"fill:#1f77b4;stroke:#1f77b4;\" x=\"315.216487\" xlink:href=\"#m8a6315287a\" y=\"133.570654\"/>\n     <use style=\"fill:#1f77b4;stroke:#1f77b4;\" x=\"323.284488\" xlink:href=\"#m8a6315287a\" y=\"136.076803\"/>\n     <use style=\"fill:#1f77b4;stroke:#1f77b4;\" x=\"295.74868\" xlink:href=\"#m8a6315287a\" y=\"127.983035\"/>\n     <use style=\"fill:#1f77b4;stroke:#1f77b4;\" x=\"295.033273\" xlink:href=\"#m8a6315287a\" y=\"145.566129\"/>\n     <use style=\"fill:#1f77b4;stroke:#1f77b4;\" x=\"195.567923\" xlink:href=\"#m8a6315287a\" y=\"113.917386\"/>\n     <use style=\"fill:#1f77b4;stroke:#1f77b4;\" x=\"306.306792\" xlink:href=\"#m8a6315287a\" y=\"142.871126\"/>\n     <use style=\"fill:#1f77b4;stroke:#1f77b4;\" x=\"165.825193\" xlink:href=\"#m8a6315287a\" y=\"156.273228\"/>\n     <use style=\"fill:#1f77b4;stroke:#1f77b4;\" x=\"312.951456\" xlink:href=\"#m8a6315287a\" y=\"129.739786\"/>\n     <use style=\"fill:#1f77b4;stroke:#1f77b4;\" x=\"329.755178\" xlink:href=\"#m8a6315287a\" y=\"136.079792\"/>\n     <use style=\"fill:#1f77b4;stroke:#1f77b4;\" x=\"325.163687\" xlink:href=\"#m8a6315287a\" y=\"139.26958\"/>\n     <use style=\"fill:#1f77b4;stroke:#1f77b4;\" x=\"306.39866\" xlink:href=\"#m8a6315287a\" y=\"129.325819\"/>\n    </g>\n   </g>\n   <g id=\"matplotlib.axis_1\">\n    <g id=\"xtick_1\">\n     <g id=\"line2d_1\">\n      <defs>\n       <path d=\"M 0 0 \nL 0 3.5 \n\" id=\"m801128642d\" style=\"stroke:#000000;stroke-width:0.8;\"/>\n      </defs>\n      <g>\n       <use style=\"stroke:#000000;stroke-width:0.8;\" x=\"78.673116\" xlink:href=\"#m801128642d\" y=\"225.445083\"/>\n      </g>\n     </g>\n     <g id=\"text_1\">\n      <!-- −0.4 -->\n      <defs>\n       <path d=\"M 10.59375 35.5 \nL 73.1875 35.5 \nL 73.1875 27.203125 \nL 10.59375 27.203125 \nz\n\" id=\"DejaVuSans-8722\"/>\n       <path d=\"M 31.78125 66.40625 \nQ 24.171875 66.40625 20.328125 58.90625 \nQ 16.5 51.421875 16.5 36.375 \nQ 16.5 21.390625 20.328125 13.890625 \nQ 24.171875 6.390625 31.78125 6.390625 \nQ 39.453125 6.390625 43.28125 13.890625 \nQ 47.125 21.390625 47.125 36.375 \nQ 47.125 51.421875 43.28125 58.90625 \nQ 39.453125 66.40625 31.78125 66.40625 \nz\nM 31.78125 74.21875 \nQ 44.046875 74.21875 50.515625 64.515625 \nQ 56.984375 54.828125 56.984375 36.375 \nQ 56.984375 17.96875 50.515625 8.265625 \nQ 44.046875 -1.421875 31.78125 -1.421875 \nQ 19.53125 -1.421875 13.0625 8.265625 \nQ 6.59375 17.96875 6.59375 36.375 \nQ 6.59375 54.828125 13.0625 64.515625 \nQ 19.53125 74.21875 31.78125 74.21875 \nz\n\" id=\"DejaVuSans-48\"/>\n       <path d=\"M 10.6875 12.40625 \nL 21 12.40625 \nL 21 0 \nL 10.6875 0 \nz\n\" id=\"DejaVuSans-46\"/>\n       <path d=\"M 37.796875 64.3125 \nL 12.890625 25.390625 \nL 37.796875 25.390625 \nz\nM 35.203125 72.90625 \nL 47.609375 72.90625 \nL 47.609375 25.390625 \nL 58.015625 25.390625 \nL 58.015625 17.1875 \nL 47.609375 17.1875 \nL 47.609375 0 \nL 37.796875 0 \nL 37.796875 17.1875 \nL 4.890625 17.1875 \nL 4.890625 26.703125 \nz\n\" id=\"DejaVuSans-52\"/>\n      </defs>\n      <g transform=\"translate(66.53171 240.043521)scale(0.1 -0.1)\">\n       <use xlink:href=\"#DejaVuSans-8722\"/>\n       <use x=\"83.789062\" xlink:href=\"#DejaVuSans-48\"/>\n       <use x=\"147.412109\" xlink:href=\"#DejaVuSans-46\"/>\n       <use x=\"179.199219\" xlink:href=\"#DejaVuSans-52\"/>\n      </g>\n     </g>\n    </g>\n    <g id=\"xtick_2\">\n     <g id=\"line2d_2\">\n      <g>\n       <use style=\"stroke:#000000;stroke-width:0.8;\" x=\"133.815557\" xlink:href=\"#m801128642d\" y=\"225.445083\"/>\n      </g>\n     </g>\n     <g id=\"text_2\">\n      <!-- −0.3 -->\n      <defs>\n       <path d=\"M 40.578125 39.3125 \nQ 47.65625 37.796875 51.625 33 \nQ 55.609375 28.21875 55.609375 21.1875 \nQ 55.609375 10.40625 48.1875 4.484375 \nQ 40.765625 -1.421875 27.09375 -1.421875 \nQ 22.515625 -1.421875 17.65625 -0.515625 \nQ 12.796875 0.390625 7.625 2.203125 \nL 7.625 11.71875 \nQ 11.71875 9.328125 16.59375 8.109375 \nQ 21.484375 6.890625 26.8125 6.890625 \nQ 36.078125 6.890625 40.9375 10.546875 \nQ 45.796875 14.203125 45.796875 21.1875 \nQ 45.796875 27.640625 41.28125 31.265625 \nQ 36.765625 34.90625 28.71875 34.90625 \nL 20.21875 34.90625 \nL 20.21875 43.015625 \nL 29.109375 43.015625 \nQ 36.375 43.015625 40.234375 45.921875 \nQ 44.09375 48.828125 44.09375 54.296875 \nQ 44.09375 59.90625 40.109375 62.90625 \nQ 36.140625 65.921875 28.71875 65.921875 \nQ 24.65625 65.921875 20.015625 65.03125 \nQ 15.375 64.15625 9.8125 62.3125 \nL 9.8125 71.09375 \nQ 15.4375 72.65625 20.34375 73.4375 \nQ 25.25 74.21875 29.59375 74.21875 \nQ 40.828125 74.21875 47.359375 69.109375 \nQ 53.90625 64.015625 53.90625 55.328125 \nQ 53.90625 49.265625 50.4375 45.09375 \nQ 46.96875 40.921875 40.578125 39.3125 \nz\n\" id=\"DejaVuSans-51\"/>\n      </defs>\n      <g transform=\"translate(121.674151 240.043521)scale(0.1 -0.1)\">\n       <use xlink:href=\"#DejaVuSans-8722\"/>\n       <use x=\"83.789062\" xlink:href=\"#DejaVuSans-48\"/>\n       <use x=\"147.412109\" xlink:href=\"#DejaVuSans-46\"/>\n       <use x=\"179.199219\" xlink:href=\"#DejaVuSans-51\"/>\n      </g>\n     </g>\n    </g>\n    <g id=\"xtick_3\">\n     <g id=\"line2d_3\">\n      <g>\n       <use style=\"stroke:#000000;stroke-width:0.8;\" x=\"188.957998\" xlink:href=\"#m801128642d\" y=\"225.445083\"/>\n      </g>\n     </g>\n     <g id=\"text_3\">\n      <!-- −0.2 -->\n      <defs>\n       <path d=\"M 19.1875 8.296875 \nL 53.609375 8.296875 \nL 53.609375 0 \nL 7.328125 0 \nL 7.328125 8.296875 \nQ 12.9375 14.109375 22.625 23.890625 \nQ 32.328125 33.6875 34.8125 36.53125 \nQ 39.546875 41.84375 41.421875 45.53125 \nQ 43.3125 49.21875 43.3125 52.78125 \nQ 43.3125 58.59375 39.234375 62.25 \nQ 35.15625 65.921875 28.609375 65.921875 \nQ 23.96875 65.921875 18.8125 64.3125 \nQ 13.671875 62.703125 7.8125 59.421875 \nL 7.8125 69.390625 \nQ 13.765625 71.78125 18.9375 73 \nQ 24.125 74.21875 28.421875 74.21875 \nQ 39.75 74.21875 46.484375 68.546875 \nQ 53.21875 62.890625 53.21875 53.421875 \nQ 53.21875 48.921875 51.53125 44.890625 \nQ 49.859375 40.875 45.40625 35.40625 \nQ 44.1875 33.984375 37.640625 27.21875 \nQ 31.109375 20.453125 19.1875 8.296875 \nz\n\" id=\"DejaVuSans-50\"/>\n      </defs>\n      <g transform=\"translate(176.816592 240.043521)scale(0.1 -0.1)\">\n       <use xlink:href=\"#DejaVuSans-8722\"/>\n       <use x=\"83.789062\" xlink:href=\"#DejaVuSans-48\"/>\n       <use x=\"147.412109\" xlink:href=\"#DejaVuSans-46\"/>\n       <use x=\"179.199219\" xlink:href=\"#DejaVuSans-50\"/>\n      </g>\n     </g>\n    </g>\n    <g id=\"xtick_4\">\n     <g id=\"line2d_4\">\n      <g>\n       <use style=\"stroke:#000000;stroke-width:0.8;\" x=\"244.100439\" xlink:href=\"#m801128642d\" y=\"225.445083\"/>\n      </g>\n     </g>\n     <g id=\"text_4\">\n      <!-- −0.1 -->\n      <defs>\n       <path d=\"M 12.40625 8.296875 \nL 28.515625 8.296875 \nL 28.515625 63.921875 \nL 10.984375 60.40625 \nL 10.984375 69.390625 \nL 28.421875 72.90625 \nL 38.28125 72.90625 \nL 38.28125 8.296875 \nL 54.390625 8.296875 \nL 54.390625 0 \nL 12.40625 0 \nz\n\" id=\"DejaVuSans-49\"/>\n      </defs>\n      <g transform=\"translate(231.959033 240.043521)scale(0.1 -0.1)\">\n       <use xlink:href=\"#DejaVuSans-8722\"/>\n       <use x=\"83.789062\" xlink:href=\"#DejaVuSans-48\"/>\n       <use x=\"147.412109\" xlink:href=\"#DejaVuSans-46\"/>\n       <use x=\"179.199219\" xlink:href=\"#DejaVuSans-49\"/>\n      </g>\n     </g>\n    </g>\n    <g id=\"xtick_5\">\n     <g id=\"line2d_5\">\n      <g>\n       <use style=\"stroke:#000000;stroke-width:0.8;\" x=\"299.24288\" xlink:href=\"#m801128642d\" y=\"225.445083\"/>\n      </g>\n     </g>\n     <g id=\"text_5\">\n      <!-- 0.0 -->\n      <g transform=\"translate(291.291318 240.043521)scale(0.1 -0.1)\">\n       <use xlink:href=\"#DejaVuSans-48\"/>\n       <use x=\"63.623047\" xlink:href=\"#DejaVuSans-46\"/>\n       <use x=\"95.410156\" xlink:href=\"#DejaVuSans-48\"/>\n      </g>\n     </g>\n    </g>\n    <g id=\"xtick_6\">\n     <g id=\"line2d_6\">\n      <g>\n       <use style=\"stroke:#000000;stroke-width:0.8;\" x=\"354.385321\" xlink:href=\"#m801128642d\" y=\"225.445083\"/>\n      </g>\n     </g>\n     <g id=\"text_6\">\n      <!-- 0.1 -->\n      <g transform=\"translate(346.433759 240.043521)scale(0.1 -0.1)\">\n       <use xlink:href=\"#DejaVuSans-48\"/>\n       <use x=\"63.623047\" xlink:href=\"#DejaVuSans-46\"/>\n       <use x=\"95.410156\" xlink:href=\"#DejaVuSans-49\"/>\n      </g>\n     </g>\n    </g>\n   </g>\n   <g id=\"matplotlib.axis_2\">\n    <g id=\"ytick_1\">\n     <g id=\"line2d_7\">\n      <defs>\n       <path d=\"M 0 0 \nL -3.5 0 \n\" id=\"m50f5273294\" style=\"stroke:#000000;stroke-width:0.8;\"/>\n      </defs>\n      <g>\n       <use style=\"stroke:#000000;stroke-width:0.8;\" x=\"38.482813\" xlink:href=\"#m50f5273294\" y=\"223.028941\"/>\n      </g>\n     </g>\n     <g id=\"text_7\">\n      <!-- −0.4 -->\n      <g transform=\"translate(7.2 226.82816)scale(0.1 -0.1)\">\n       <use xlink:href=\"#DejaVuSans-8722\"/>\n       <use x=\"83.789062\" xlink:href=\"#DejaVuSans-48\"/>\n       <use x=\"147.412109\" xlink:href=\"#DejaVuSans-46\"/>\n       <use x=\"179.199219\" xlink:href=\"#DejaVuSans-52\"/>\n      </g>\n     </g>\n    </g>\n    <g id=\"ytick_2\">\n     <g id=\"line2d_8\">\n      <g>\n       <use style=\"stroke:#000000;stroke-width:0.8;\" x=\"38.482813\" xlink:href=\"#m50f5273294\" y=\"180.622997\"/>\n      </g>\n     </g>\n     <g id=\"text_8\">\n      <!-- −0.2 -->\n      <g transform=\"translate(7.2 184.422215)scale(0.1 -0.1)\">\n       <use xlink:href=\"#DejaVuSans-8722\"/>\n       <use x=\"83.789062\" xlink:href=\"#DejaVuSans-48\"/>\n       <use x=\"147.412109\" xlink:href=\"#DejaVuSans-46\"/>\n       <use x=\"179.199219\" xlink:href=\"#DejaVuSans-50\"/>\n      </g>\n     </g>\n    </g>\n    <g id=\"ytick_3\">\n     <g id=\"line2d_9\">\n      <g>\n       <use style=\"stroke:#000000;stroke-width:0.8;\" x=\"38.482813\" xlink:href=\"#m50f5273294\" y=\"138.217052\"/>\n      </g>\n     </g>\n     <g id=\"text_9\">\n      <!-- 0.0 -->\n      <g transform=\"translate(15.579688 142.016271)scale(0.1 -0.1)\">\n       <use xlink:href=\"#DejaVuSans-48\"/>\n       <use x=\"63.623047\" xlink:href=\"#DejaVuSans-46\"/>\n       <use x=\"95.410156\" xlink:href=\"#DejaVuSans-48\"/>\n      </g>\n     </g>\n    </g>\n    <g id=\"ytick_4\">\n     <g id=\"line2d_10\">\n      <g>\n       <use style=\"stroke:#000000;stroke-width:0.8;\" x=\"38.482813\" xlink:href=\"#m50f5273294\" y=\"95.811108\"/>\n      </g>\n     </g>\n     <g id=\"text_10\">\n      <!-- 0.2 -->\n      <g transform=\"translate(15.579688 99.610326)scale(0.1 -0.1)\">\n       <use xlink:href=\"#DejaVuSans-48\"/>\n       <use x=\"63.623047\" xlink:href=\"#DejaVuSans-46\"/>\n       <use x=\"95.410156\" xlink:href=\"#DejaVuSans-50\"/>\n      </g>\n     </g>\n    </g>\n    <g id=\"ytick_5\">\n     <g id=\"line2d_11\">\n      <g>\n       <use style=\"stroke:#000000;stroke-width:0.8;\" x=\"38.482813\" xlink:href=\"#m50f5273294\" y=\"53.405163\"/>\n      </g>\n     </g>\n     <g id=\"text_11\">\n      <!-- 0.4 -->\n      <g transform=\"translate(15.579688 57.204382)scale(0.1 -0.1)\">\n       <use xlink:href=\"#DejaVuSans-48\"/>\n       <use x=\"63.623047\" xlink:href=\"#DejaVuSans-46\"/>\n       <use x=\"95.410156\" xlink:href=\"#DejaVuSans-52\"/>\n      </g>\n     </g>\n    </g>\n    <g id=\"ytick_6\">\n     <g id=\"line2d_12\">\n      <g>\n       <use style=\"stroke:#000000;stroke-width:0.8;\" x=\"38.482813\" xlink:href=\"#m50f5273294\" y=\"10.999219\"/>\n      </g>\n     </g>\n     <g id=\"text_12\">\n      <!-- 0.6 -->\n      <defs>\n       <path d=\"M 33.015625 40.375 \nQ 26.375 40.375 22.484375 35.828125 \nQ 18.609375 31.296875 18.609375 23.390625 \nQ 18.609375 15.53125 22.484375 10.953125 \nQ 26.375 6.390625 33.015625 6.390625 \nQ 39.65625 6.390625 43.53125 10.953125 \nQ 47.40625 15.53125 47.40625 23.390625 \nQ 47.40625 31.296875 43.53125 35.828125 \nQ 39.65625 40.375 33.015625 40.375 \nz\nM 52.59375 71.296875 \nL 52.59375 62.3125 \nQ 48.875 64.0625 45.09375 64.984375 \nQ 41.3125 65.921875 37.59375 65.921875 \nQ 27.828125 65.921875 22.671875 59.328125 \nQ 17.53125 52.734375 16.796875 39.40625 \nQ 19.671875 43.65625 24.015625 45.921875 \nQ 28.375 48.1875 33.59375 48.1875 \nQ 44.578125 48.1875 50.953125 41.515625 \nQ 57.328125 34.859375 57.328125 23.390625 \nQ 57.328125 12.15625 50.6875 5.359375 \nQ 44.046875 -1.421875 33.015625 -1.421875 \nQ 20.359375 -1.421875 13.671875 8.265625 \nQ 6.984375 17.96875 6.984375 36.375 \nQ 6.984375 53.65625 15.1875 63.9375 \nQ 23.390625 74.21875 37.203125 74.21875 \nQ 40.921875 74.21875 44.703125 73.484375 \nQ 48.484375 72.75 52.59375 71.296875 \nz\n\" id=\"DejaVuSans-54\"/>\n      </defs>\n      <g transform=\"translate(15.579688 14.798437)scale(0.1 -0.1)\">\n       <use xlink:href=\"#DejaVuSans-48\"/>\n       <use x=\"63.623047\" xlink:href=\"#DejaVuSans-46\"/>\n       <use x=\"95.410156\" xlink:href=\"#DejaVuSans-54\"/>\n      </g>\n     </g>\n    </g>\n   </g>\n   <g id=\"patch_3\">\n    <path d=\"M 38.482813 225.445083 \nL 38.482813 8.005083 \n\" style=\"fill:none;stroke:#000000;stroke-linecap:square;stroke-linejoin:miter;stroke-width:0.8;\"/>\n   </g>\n   <g id=\"patch_4\">\n    <path d=\"M 373.282813 225.445083 \nL 373.282813 8.005083 \n\" style=\"fill:none;stroke:#000000;stroke-linecap:square;stroke-linejoin:miter;stroke-width:0.8;\"/>\n   </g>\n   <g id=\"patch_5\">\n    <path d=\"M 38.482812 225.445083 \nL 373.282812 225.445083 \n\" style=\"fill:none;stroke:#000000;stroke-linecap:square;stroke-linejoin:miter;stroke-width:0.8;\"/>\n   </g>\n   <g id=\"patch_6\">\n    <path d=\"M 38.482812 8.005083 \nL 373.282812 8.005083 \n\" style=\"fill:none;stroke:#000000;stroke-linecap:square;stroke-linejoin:miter;stroke-width:0.8;\"/>\n   </g>\n   <g id=\"text_13\">\n    <!-- EP2314 -->\n    <defs>\n     <path d=\"M 9.8125 72.90625 \nL 55.90625 72.90625 \nL 55.90625 64.59375 \nL 19.671875 64.59375 \nL 19.671875 43.015625 \nL 54.390625 43.015625 \nL 54.390625 34.71875 \nL 19.671875 34.71875 \nL 19.671875 8.296875 \nL 56.78125 8.296875 \nL 56.78125 0 \nL 9.8125 0 \nz\n\" id=\"DejaVuSans-69\"/>\n     <path d=\"M 19.671875 64.796875 \nL 19.671875 37.40625 \nL 32.078125 37.40625 \nQ 38.96875 37.40625 42.71875 40.96875 \nQ 46.484375 44.53125 46.484375 51.125 \nQ 46.484375 57.671875 42.71875 61.234375 \nQ 38.96875 64.796875 32.078125 64.796875 \nz\nM 9.8125 72.90625 \nL 32.078125 72.90625 \nQ 44.34375 72.90625 50.609375 67.359375 \nQ 56.890625 61.8125 56.890625 51.125 \nQ 56.890625 40.328125 50.609375 34.8125 \nQ 44.34375 29.296875 32.078125 29.296875 \nL 19.671875 29.296875 \nL 19.671875 0 \nL 9.8125 0 \nz\n\" id=\"DejaVuSans-80\"/>\n    </defs>\n    <g transform=\"translate(269.146798 78.114895)scale(0.1 -0.1)\">\n     <use xlink:href=\"#DejaVuSans-69\"/>\n     <use x=\"63.183594\" xlink:href=\"#DejaVuSans-80\"/>\n     <use x=\"123.486328\" xlink:href=\"#DejaVuSans-50\"/>\n     <use x=\"187.109375\" xlink:href=\"#DejaVuSans-51\"/>\n     <use x=\"250.732422\" xlink:href=\"#DejaVuSans-49\"/>\n     <use x=\"314.355469\" xlink:href=\"#DejaVuSans-52\"/>\n    </g>\n   </g>\n   <g id=\"text_14\">\n    <!-- EP4795 -->\n    <defs>\n     <path d=\"M 8.203125 72.90625 \nL 55.078125 72.90625 \nL 55.078125 68.703125 \nL 28.609375 0 \nL 18.3125 0 \nL 43.21875 64.59375 \nL 8.203125 64.59375 \nz\n\" id=\"DejaVuSans-55\"/>\n     <path d=\"M 10.984375 1.515625 \nL 10.984375 10.5 \nQ 14.703125 8.734375 18.5 7.8125 \nQ 22.3125 6.890625 25.984375 6.890625 \nQ 35.75 6.890625 40.890625 13.453125 \nQ 46.046875 20.015625 46.78125 33.40625 \nQ 43.953125 29.203125 39.59375 26.953125 \nQ 35.25 24.703125 29.984375 24.703125 \nQ 19.046875 24.703125 12.671875 31.3125 \nQ 6.296875 37.9375 6.296875 49.421875 \nQ 6.296875 60.640625 12.9375 67.421875 \nQ 19.578125 74.21875 30.609375 74.21875 \nQ 43.265625 74.21875 49.921875 64.515625 \nQ 56.59375 54.828125 56.59375 36.375 \nQ 56.59375 19.140625 48.40625 8.859375 \nQ 40.234375 -1.421875 26.421875 -1.421875 \nQ 22.703125 -1.421875 18.890625 -0.6875 \nQ 15.09375 0.046875 10.984375 1.515625 \nz\nM 30.609375 32.421875 \nQ 37.25 32.421875 41.125 36.953125 \nQ 45.015625 41.5 45.015625 49.421875 \nQ 45.015625 57.28125 41.125 61.84375 \nQ 37.25 66.40625 30.609375 66.40625 \nQ 23.96875 66.40625 20.09375 61.84375 \nQ 16.21875 57.28125 16.21875 49.421875 \nQ 16.21875 41.5 20.09375 36.953125 \nQ 23.96875 32.421875 30.609375 32.421875 \nz\n\" id=\"DejaVuSans-57\"/>\n     <path d=\"M 10.796875 72.90625 \nL 49.515625 72.90625 \nL 49.515625 64.59375 \nL 19.828125 64.59375 \nL 19.828125 46.734375 \nQ 21.96875 47.46875 24.109375 47.828125 \nQ 26.265625 48.1875 28.421875 48.1875 \nQ 40.625 48.1875 47.75 41.5 \nQ 54.890625 34.8125 54.890625 23.390625 \nQ 54.890625 11.625 47.5625 5.09375 \nQ 40.234375 -1.421875 26.90625 -1.421875 \nQ 22.3125 -1.421875 17.546875 -0.640625 \nQ 12.796875 0.140625 7.71875 1.703125 \nL 7.71875 11.625 \nQ 12.109375 9.234375 16.796875 8.0625 \nQ 21.484375 6.890625 26.703125 6.890625 \nQ 35.15625 6.890625 40.078125 11.328125 \nQ 45.015625 15.765625 45.015625 23.390625 \nQ 45.015625 31 40.078125 35.4375 \nQ 35.15625 39.890625 26.703125 39.890625 \nQ 22.75 39.890625 18.8125 39.015625 \nQ 14.890625 38.140625 10.796875 36.28125 \nz\n\" id=\"DejaVuSans-53\"/>\n    </defs>\n    <g transform=\"translate(132.264952 174.099266)scale(0.1 -0.1)\">\n     <use xlink:href=\"#DejaVuSans-69\"/>\n     <use x=\"63.183594\" xlink:href=\"#DejaVuSans-80\"/>\n     <use x=\"123.486328\" xlink:href=\"#DejaVuSans-52\"/>\n     <use x=\"187.109375\" xlink:href=\"#DejaVuSans-55\"/>\n     <use x=\"250.732422\" xlink:href=\"#DejaVuSans-57\"/>\n     <use x=\"314.355469\" xlink:href=\"#DejaVuSans-53\"/>\n    </g>\n   </g>\n   <g id=\"text_15\">\n    <!-- EP5930 -->\n    <g transform=\"translate(58.642073 147.56805)scale(0.1 -0.1)\">\n     <use xlink:href=\"#DejaVuSans-69\"/>\n     <use x=\"63.183594\" xlink:href=\"#DejaVuSans-80\"/>\n     <use x=\"123.486328\" xlink:href=\"#DejaVuSans-53\"/>\n     <use x=\"187.109375\" xlink:href=\"#DejaVuSans-57\"/>\n     <use x=\"250.732422\" xlink:href=\"#DejaVuSans-51\"/>\n     <use x=\"314.355469\" xlink:href=\"#DejaVuSans-48\"/>\n    </g>\n   </g>\n   <g id=\"text_16\">\n    <!-- EP6016 -->\n    <g transform=\"translate(206.817532 212.636092)scale(0.1 -0.1)\">\n     <use xlink:href=\"#DejaVuSans-69\"/>\n     <use x=\"63.183594\" xlink:href=\"#DejaVuSans-80\"/>\n     <use x=\"123.486328\" xlink:href=\"#DejaVuSans-54\"/>\n     <use x=\"187.109375\" xlink:href=\"#DejaVuSans-48\"/>\n     <use x=\"250.732422\" xlink:href=\"#DejaVuSans-49\"/>\n     <use x=\"314.355469\" xlink:href=\"#DejaVuSans-54\"/>\n    </g>\n   </g>\n   <g id=\"text_17\">\n    <!-- EP6402 -->\n    <g transform=\"translate(307.424916 20.814075)scale(0.1 -0.1)\">\n     <use xlink:href=\"#DejaVuSans-69\"/>\n     <use x=\"63.183594\" xlink:href=\"#DejaVuSans-80\"/>\n     <use x=\"123.486328\" xlink:href=\"#DejaVuSans-54\"/>\n     <use x=\"187.109375\" xlink:href=\"#DejaVuSans-52\"/>\n     <use x=\"250.732422\" xlink:href=\"#DejaVuSans-48\"/>\n     <use x=\"314.355469\" xlink:href=\"#DejaVuSans-50\"/>\n    </g>\n   </g>\n  </g>\n </g>\n <defs>\n  <clipPath id=\"p6957c04caf\">\n   <rect height=\"217.44\" width=\"334.8\" x=\"38.482813\" y=\"8.005083\"/>\n  </clipPath>\n </defs>\n</svg>\n",
      "image/png": "[encoded data removed]"
     },
     "metadata": {
      "needs_background": "light"
     }
    }
   ],
   "source": [
    "#outlier removal from 2 ancestral principal(?) components.\n",
    "\n",
    "#matching available ancestrial PC ID \n",
    "european_ancestral_PCA_w_outliers=preprocessing.extract_by_ID(european_ID_list,ancestral_PCA_european['ID'],ancestral_PCA_european)\n",
    "print(european_ancestral_PCA_w_outliers.shape)\n",
    "\n",
    "from scipy import stats\n",
    "zscores=np.abs(stats.zscore(european_ancestral_PCA_w_outliers[:,1:3].astype('float64'),axis=0))\n",
    "outliers=np.where(zscores>=3)[0]#remove anything more than 3 st. deviation from the mean.\n",
    "print(european_ancestral_PCA_w_outliers[outliers,0])\n",
    "#removing outliers using the ancestrial PCA\n",
    "\n",
    "fig,ax= plt.subplots()\n",
    "ax.scatter(european_ancestral_PCA_w_outliers[:,1],european_ancestral_PCA_w_outliers[:,2])\n",
    "for i,txt in enumerate(european_ancestral_PCA_w_outliers[outliers,0]):\n",
    "    ax.annotate(txt,(european_ancestral_PCA_w_outliers[outliers,1][i],european_ancestral_PCA_w_outliers[outliers,2][i]))\n"
   ]
  },
  {
   "cell_type": "code",
   "execution_count": 6,
   "metadata": {
    "hidden": true
   },
   "outputs": [
    {
     "output_type": "stream",
     "name": "stdout",
     "text": [
      "(117, 90, 90)\n(117, 94)\n(117, 11)\n(117, 7)\n"
     ]
    }
   ],
   "source": [
    "#Updated lists to remove the outliers:\n",
    "\n",
    "european_ID_list_without_outliers=preprocessing.extract_by_ID(european_ancestral_PCA_w_outliers[outliers,0],european_ID_list,european_ID_list,remove=True)\n",
    "\n",
    "###########################################################\n",
    "\n",
    "#extracting the european connectivity matrices\n",
    "european_connectivity_matrices_schizophrenia=preprocessing.extract_by_ID(european_ID_list_without_outliers,ID,babies_connectivity_matrix)\n",
    "#extracting the european structural matrices\n",
    "european_structural_matrices_schizophrenia=preprocessing.extract_by_ID(european_ID_list_without_outliers,babies_structural_matrix['Subject ID'],babies_structural_matrix)\n",
    "print(european_connectivity_matrices_schizophrenia.shape)\n",
    "print(european_structural_matrices_schizophrenia.shape)\n",
    "#matching available ancestrial PC ID // i am transforming all data to array list so I can work easier with scikit learn later on (is it necessary? idk)\n",
    "european_ancestral_PCA=preprocessing.extract_by_ID(european_ID_list_without_outliers,ancestral_PCA_european['ID'],ancestral_PCA_european)\n",
    "print(european_ancestral_PCA.shape)\n",
    "#matching available PRS score with european ID\n",
    "european_prs_schizophrenia=preprocessing.extract_by_ID(european_ID_list_without_outliers,schizophrenia_high_scores_european['ID'],schizophrenia_high_scores_european)\n",
    "print(european_prs_schizophrenia.shape)"
   ]
  },
  {
   "cell_type": "code",
   "execution_count": 7,
   "metadata": {
    "hidden": true
   },
   "outputs": [
    {
     "output_type": "stream",
     "name": "stdout",
     "text": [
      "(117, 87)\n"
     ]
    }
   ],
   "source": [
    "#extracting ages, total volume, gender\n",
    "european_age_at_scan=european_structural_matrices_schizophrenia[:,2]\n",
    "european_gestational_age=european_structural_matrices_schizophrenia[:,4]\n",
    "european_gender=european_structural_matrices_schizophrenia[:,3]\n",
    "european_total_volume=european_structural_matrices_schizophrenia[:,92]\n",
    "european_volumes=european_structural_matrices_schizophrenia[:,5:92]\n",
    "european_icv=np.sum(european_volumes,axis=1)\n",
    "\n",
    "print(european_volumes.shape)"
   ]
  },
  {
   "cell_type": "code",
   "execution_count": 8,
   "metadata": {
    "hidden": true
   },
   "outputs": [
    {
     "output_type": "stream",
     "name": "stdout",
     "text": [
      "(117, 4005)\n(4005,)\n"
     ]
    }
   ],
   "source": [
    "#extracting the lower triangles of the connectivity matrices and make them into 1D vectors of size (4005,)\n",
    "inputs_european_connectivity_matrices_schizophrenia=np.asarray(list(map(preprocessing.lower_triangle,european_connectivity_matrices_schizophrenia)))\n",
    "combinations=preprocessing.lower_triangle(ROIs_combinations)\n",
    "\n",
    "print(inputs_european_connectivity_matrices_schizophrenia.shape)\n",
    "print(combinations.shape)"
   ]
  },
  {
   "cell_type": "markdown",
   "metadata": {},
   "source": [
    "# Adjusting for covariates"
   ]
  },
  {
   "cell_type": "code",
   "execution_count": 9,
   "metadata": {},
   "outputs": [
    {
     "output_type": "execute_result",
     "data": {
      "text/plain": [
       "<matplotlib.collections.PathCollection at 0x7fa12ea28b38>"
      ]
     },
     "metadata": {},
     "execution_count": 9
    },
    {
     "output_type": "display_data",
     "data": {
      "text/plain": "<Figure size 432x288 with 1 Axes>",
      "image/svg+xml": "<?xml version=\"1.0\" encoding=\"utf-8\" standalone=\"no\"?>\n<!DOCTYPE svg PUBLIC \"-//W3C//DTD SVG 1.1//EN\"\n  \"http://www.w3.org/Graphics/SVG/1.1/DTD/svg11.dtd\">\n<!-- Created with matplotlib (https://matplotlib.org/) -->\n<svg height=\"248.518125pt\" version=\"1.1\" viewBox=\"0 0 380.482812 248.518125\" width=\"380.482812pt\" xmlns=\"http://www.w3.org/2000/svg\" xmlns:xlink=\"http://www.w3.org/1999/xlink\">\n <defs>\n  <style type=\"text/css\">\n*{stroke-linecap:butt;stroke-linejoin:round;}\n  </style>\n </defs>\n <g id=\"figure_1\">\n  <g id=\"patch_1\">\n   <path d=\"M -0 248.518125 \nL 380.482812 248.518125 \nL 380.482812 0 \nL -0 0 \nz\n\" style=\"fill:none;\"/>\n  </g>\n  <g id=\"axes_1\">\n   <g id=\"patch_2\">\n    <path d=\"M 38.482813 224.64 \nL 373.282813 224.64 \nL 373.282813 7.2 \nL 38.482813 7.2 \nz\n\" style=\"fill:#ffffff;\"/>\n   </g>\n   <g id=\"PathCollection_1\">\n    <defs>\n     <path d=\"M 0 3 \nC 0.795609 3 1.55874 2.683901 2.12132 2.12132 \nC 2.683901 1.55874 3 0.795609 3 0 \nC 3 -0.795609 2.683901 -1.55874 2.12132 -2.12132 \nC 1.55874 -2.683901 0.795609 -3 0 -3 \nC -0.795609 -3 -1.55874 -2.683901 -2.12132 -2.12132 \nC -2.683901 -1.55874 -3 -0.795609 -3 0 \nC -3 0.795609 -2.683901 1.55874 -2.12132 2.12132 \nC -1.55874 2.683901 -0.795609 3 0 3 \nz\n\" id=\"mb79fec1c91\" style=\"stroke:#1f77b4;\"/>\n    </defs>\n    <g clip-path=\"url(#p571af30330)\">\n     <use style=\"fill:#1f77b4;stroke:#1f77b4;\" x=\"273.154048\" xlink:href=\"#mb79fec1c91\" y=\"120.332854\"/>\n     <use style=\"fill:#1f77b4;stroke:#1f77b4;\" x=\"265.725564\" xlink:href=\"#mb79fec1c91\" y=\"136.013351\"/>\n     <use style=\"fill:#1f77b4;stroke:#1f77b4;\" x=\"211.013932\" xlink:href=\"#mb79fec1c91\" y=\"152.175863\"/>\n     <use style=\"fill:#1f77b4;stroke:#1f77b4;\" x=\"288.461646\" xlink:href=\"#mb79fec1c91\" y=\"117.459116\"/>\n     <use style=\"fill:#1f77b4;stroke:#1f77b4;\" x=\"261.338595\" xlink:href=\"#mb79fec1c91\" y=\"136.300632\"/>\n     <use style=\"fill:#1f77b4;stroke:#1f77b4;\" x=\"282.231115\" xlink:href=\"#mb79fec1c91\" y=\"187.597803\"/>\n     <use style=\"fill:#1f77b4;stroke:#1f77b4;\" x=\"263.197362\" xlink:href=\"#mb79fec1c91\" y=\"146.703274\"/>\n     <use style=\"fill:#1f77b4;stroke:#1f77b4;\" x=\"274.854902\" xlink:href=\"#mb79fec1c91\" y=\"141.456989\"/>\n     <use style=\"fill:#1f77b4;stroke:#1f77b4;\" x=\"294.926903\" xlink:href=\"#mb79fec1c91\" y=\"174.334152\"/>\n     <use style=\"fill:#1f77b4;stroke:#1f77b4;\" x=\"305.324791\" xlink:href=\"#mb79fec1c91\" y=\"164.273041\"/>\n     <use style=\"fill:#1f77b4;stroke:#1f77b4;\" x=\"283.34832\" xlink:href=\"#mb79fec1c91\" y=\"158.721693\"/>\n     <use style=\"fill:#1f77b4;stroke:#1f77b4;\" x=\"260.789411\" xlink:href=\"#mb79fec1c91\" y=\"134.776898\"/>\n     <use style=\"fill:#1f77b4;stroke:#1f77b4;\" x=\"233.817038\" xlink:href=\"#mb79fec1c91\" y=\"145.552371\"/>\n     <use style=\"fill:#1f77b4;stroke:#1f77b4;\" x=\"244.397587\" xlink:href=\"#mb79fec1c91\" y=\"154.651467\"/>\n     <use style=\"fill:#1f77b4;stroke:#1f77b4;\" x=\"284.266509\" xlink:href=\"#mb79fec1c91\" y=\"157.158329\"/>\n     <use style=\"fill:#1f77b4;stroke:#1f77b4;\" x=\"261.737262\" xlink:href=\"#mb79fec1c91\" y=\"141.012492\"/>\n     <use style=\"fill:#1f77b4;stroke:#1f77b4;\" x=\"235.742055\" xlink:href=\"#mb79fec1c91\" y=\"155.526675\"/>\n     <use style=\"fill:#1f77b4;stroke:#1f77b4;\" x=\"324.982613\" xlink:href=\"#mb79fec1c91\" y=\"197.754016\"/>\n     <use style=\"fill:#1f77b4;stroke:#1f77b4;\" x=\"236.820016\" xlink:href=\"#mb79fec1c91\" y=\"181.485298\"/>\n     <use style=\"fill:#1f77b4;stroke:#1f77b4;\" x=\"292.453371\" xlink:href=\"#mb79fec1c91\" y=\"152.754838\"/>\n     <use style=\"fill:#1f77b4;stroke:#1f77b4;\" x=\"262.732486\" xlink:href=\"#mb79fec1c91\" y=\"158.579565\"/>\n     <use style=\"fill:#1f77b4;stroke:#1f77b4;\" x=\"289.548524\" xlink:href=\"#mb79fec1c91\" y=\"127.473537\"/>\n     <use style=\"fill:#1f77b4;stroke:#1f77b4;\" x=\"223.746046\" xlink:href=\"#mb79fec1c91\" y=\"134.016165\"/>\n     <use style=\"fill:#1f77b4;stroke:#1f77b4;\" x=\"293.468253\" xlink:href=\"#mb79fec1c91\" y=\"132.66074\"/>\n     <use style=\"fill:#1f77b4;stroke:#1f77b4;\" x=\"250.772602\" xlink:href=\"#mb79fec1c91\" y=\"161.468559\"/>\n     <use style=\"fill:#1f77b4;stroke:#1f77b4;\" x=\"264.281121\" xlink:href=\"#mb79fec1c91\" y=\"116.635388\"/>\n     <use style=\"fill:#1f77b4;stroke:#1f77b4;\" x=\"244.086921\" xlink:href=\"#mb79fec1c91\" y=\"142.624563\"/>\n     <use style=\"fill:#1f77b4;stroke:#1f77b4;\" x=\"255.853547\" xlink:href=\"#mb79fec1c91\" y=\"151.807785\"/>\n     <use style=\"fill:#1f77b4;stroke:#1f77b4;\" x=\"271.544094\" xlink:href=\"#mb79fec1c91\" y=\"146.53757\"/>\n     <use style=\"fill:#1f77b4;stroke:#1f77b4;\" x=\"231.90706\" xlink:href=\"#mb79fec1c91\" y=\"167.627039\"/>\n     <use style=\"fill:#1f77b4;stroke:#1f77b4;\" x=\"278.454432\" xlink:href=\"#mb79fec1c91\" y=\"148.759173\"/>\n     <use style=\"fill:#1f77b4;stroke:#1f77b4;\" x=\"283.596195\" xlink:href=\"#mb79fec1c91\" y=\"76.036381\"/>\n     <use style=\"fill:#1f77b4;stroke:#1f77b4;\" x=\"354.382432\" xlink:href=\"#mb79fec1c91\" y=\"153.082068\"/>\n     <use style=\"fill:#1f77b4;stroke:#1f77b4;\" x=\"281.331007\" xlink:href=\"#mb79fec1c91\" y=\"119.156412\"/>\n     <use style=\"fill:#1f77b4;stroke:#1f77b4;\" x=\"256.7122\" xlink:href=\"#mb79fec1c91\" y=\"169.178846\"/>\n     <use style=\"fill:#1f77b4;stroke:#1f77b4;\" x=\"280.970618\" xlink:href=\"#mb79fec1c91\" y=\"154.749427\"/>\n     <use style=\"fill:#1f77b4;stroke:#1f77b4;\" x=\"268.958295\" xlink:href=\"#mb79fec1c91\" y=\"166.738929\"/>\n     <use style=\"fill:#1f77b4;stroke:#1f77b4;\" x=\"287.295746\" xlink:href=\"#mb79fec1c91\" y=\"150.061277\"/>\n     <use style=\"fill:#1f77b4;stroke:#1f77b4;\" x=\"244.817684\" xlink:href=\"#mb79fec1c91\" y=\"118.365758\"/>\n     <use style=\"fill:#1f77b4;stroke:#1f77b4;\" x=\"242.493157\" xlink:href=\"#mb79fec1c91\" y=\"124.097098\"/>\n     <use style=\"fill:#1f77b4;stroke:#1f77b4;\" x=\"272.065445\" xlink:href=\"#mb79fec1c91\" y=\"135.599407\"/>\n     <use style=\"fill:#1f77b4;stroke:#1f77b4;\" x=\"256.932814\" xlink:href=\"#mb79fec1c91\" y=\"142.31484\"/>\n     <use style=\"fill:#1f77b4;stroke:#1f77b4;\" x=\"268.141853\" xlink:href=\"#mb79fec1c91\" y=\"137.983052\"/>\n     <use style=\"fill:#1f77b4;stroke:#1f77b4;\" x=\"267.603694\" xlink:href=\"#mb79fec1c91\" y=\"170.608907\"/>\n     <use style=\"fill:#1f77b4;stroke:#1f77b4;\" x=\"251.635562\" xlink:href=\"#mb79fec1c91\" y=\"132.9289\"/>\n     <use style=\"fill:#1f77b4;stroke:#1f77b4;\" x=\"249.196385\" xlink:href=\"#mb79fec1c91\" y=\"169.139931\"/>\n     <use style=\"fill:#1f77b4;stroke:#1f77b4;\" x=\"222.719124\" xlink:href=\"#mb79fec1c91\" y=\"148.51495\"/>\n     <use style=\"fill:#1f77b4;stroke:#1f77b4;\" x=\"239.447729\" xlink:href=\"#mb79fec1c91\" y=\"140.429987\"/>\n     <use style=\"fill:#1f77b4;stroke:#1f77b4;\" x=\"279.866399\" xlink:href=\"#mb79fec1c91\" y=\"162.807426\"/>\n     <use style=\"fill:#1f77b4;stroke:#1f77b4;\" x=\"268.518309\" xlink:href=\"#mb79fec1c91\" y=\"164.935814\"/>\n     <use style=\"fill:#1f77b4;stroke:#1f77b4;\" x=\"272.433353\" xlink:href=\"#mb79fec1c91\" y=\"122.218464\"/>\n     <use style=\"fill:#1f77b4;stroke:#1f77b4;\" x=\"226.371829\" xlink:href=\"#mb79fec1c91\" y=\"208.958243\"/>\n     <use style=\"fill:#1f77b4;stroke:#1f77b4;\" x=\"225.926911\" xlink:href=\"#mb79fec1c91\" y=\"118.073854\"/>\n     <use style=\"fill:#1f77b4;stroke:#1f77b4;\" x=\"252.486769\" xlink:href=\"#mb79fec1c91\" y=\"146.69979\"/>\n     <use style=\"fill:#1f77b4;stroke:#1f77b4;\" x=\"251.430629\" xlink:href=\"#mb79fec1c91\" y=\"131.849283\"/>\n     <use style=\"fill:#1f77b4;stroke:#1f77b4;\" x=\"158.440346\" xlink:href=\"#mb79fec1c91\" y=\"145.680845\"/>\n     <use style=\"fill:#1f77b4;stroke:#1f77b4;\" x=\"273.65325\" xlink:href=\"#mb79fec1c91\" y=\"134.314079\"/>\n     <use style=\"fill:#1f77b4;stroke:#1f77b4;\" x=\"247.898041\" xlink:href=\"#mb79fec1c91\" y=\"148.560811\"/>\n     <use style=\"fill:#1f77b4;stroke:#1f77b4;\" x=\"248.135437\" xlink:href=\"#mb79fec1c91\" y=\"147.101673\"/>\n     <use style=\"fill:#1f77b4;stroke:#1f77b4;\" x=\"228.888796\" xlink:href=\"#mb79fec1c91\" y=\"138.016126\"/>\n     <use style=\"fill:#1f77b4;stroke:#1f77b4;\" x=\"269.661197\" xlink:href=\"#mb79fec1c91\" y=\"188.36694\"/>\n     <use style=\"fill:#1f77b4;stroke:#1f77b4;\" x=\"269.274755\" xlink:href=\"#mb79fec1c91\" y=\"150.056536\"/>\n     <use style=\"fill:#1f77b4;stroke:#1f77b4;\" x=\"261.36778\" xlink:href=\"#mb79fec1c91\" y=\"153.165731\"/>\n     <use style=\"fill:#1f77b4;stroke:#1f77b4;\" x=\"304.552237\" xlink:href=\"#mb79fec1c91\" y=\"145.615412\"/>\n     <use style=\"fill:#1f77b4;stroke:#1f77b4;\" x=\"279.329679\" xlink:href=\"#mb79fec1c91\" y=\"154.089764\"/>\n     <use style=\"fill:#1f77b4;stroke:#1f77b4;\" x=\"269.542725\" xlink:href=\"#mb79fec1c91\" y=\"151.118994\"/>\n     <use style=\"fill:#1f77b4;stroke:#1f77b4;\" x=\"253.455422\" xlink:href=\"#mb79fec1c91\" y=\"142.445369\"/>\n     <use style=\"fill:#1f77b4;stroke:#1f77b4;\" x=\"264.064128\" xlink:href=\"#mb79fec1c91\" y=\"175.35195\"/>\n     <use style=\"fill:#1f77b4;stroke:#1f77b4;\" x=\"245.798048\" xlink:href=\"#mb79fec1c91\" y=\"141.324148\"/>\n     <use style=\"fill:#1f77b4;stroke:#1f77b4;\" x=\"57.383193\" xlink:href=\"#mb79fec1c91\" y=\"110.76129\"/>\n     <use style=\"fill:#1f77b4;stroke:#1f77b4;\" x=\"301.212417\" xlink:href=\"#mb79fec1c91\" y=\"129.752078\"/>\n     <use style=\"fill:#1f77b4;stroke:#1f77b4;\" x=\"272.601302\" xlink:href=\"#mb79fec1c91\" y=\"196.9131\"/>\n     <use style=\"fill:#1f77b4;stroke:#1f77b4;\" x=\"275.209291\" xlink:href=\"#mb79fec1c91\" y=\"193.330067\"/>\n     <use style=\"fill:#1f77b4;stroke:#1f77b4;\" x=\"241.804761\" xlink:href=\"#mb79fec1c91\" y=\"162.974181\"/>\n     <use style=\"fill:#1f77b4;stroke:#1f77b4;\" x=\"266.379688\" xlink:href=\"#mb79fec1c91\" y=\"155.590721\"/>\n     <use style=\"fill:#1f77b4;stroke:#1f77b4;\" x=\"258.584668\" xlink:href=\"#mb79fec1c91\" y=\"151.699352\"/>\n     <use style=\"fill:#1f77b4;stroke:#1f77b4;\" x=\"274.914487\" xlink:href=\"#mb79fec1c91\" y=\"145.765163\"/>\n     <use style=\"fill:#1f77b4;stroke:#1f77b4;\" x=\"282.103479\" xlink:href=\"#mb79fec1c91\" y=\"181.264794\"/>\n     <use style=\"fill:#1f77b4;stroke:#1f77b4;\" x=\"251.424918\" xlink:href=\"#mb79fec1c91\" y=\"176.584873\"/>\n     <use style=\"fill:#1f77b4;stroke:#1f77b4;\" x=\"245.262067\" xlink:href=\"#mb79fec1c91\" y=\"141.223793\"/>\n     <use style=\"fill:#1f77b4;stroke:#1f77b4;\" x=\"311.171141\" xlink:href=\"#mb79fec1c91\" y=\"111.871543\"/>\n     <use style=\"fill:#1f77b4;stroke:#1f77b4;\" x=\"251.482777\" xlink:href=\"#mb79fec1c91\" y=\"149.220993\"/>\n     <use style=\"fill:#1f77b4;stroke:#1f77b4;\" x=\"222.626417\" xlink:href=\"#mb79fec1c91\" y=\"121.037988\"/>\n     <use style=\"fill:#1f77b4;stroke:#1f77b4;\" x=\"281.570293\" xlink:href=\"#mb79fec1c91\" y=\"160.842264\"/>\n     <use style=\"fill:#1f77b4;stroke:#1f77b4;\" x=\"266.039928\" xlink:href=\"#mb79fec1c91\" y=\"153.431992\"/>\n     <use style=\"fill:#1f77b4;stroke:#1f77b4;\" x=\"259.688262\" xlink:href=\"#mb79fec1c91\" y=\"129.783093\"/>\n     <use style=\"fill:#1f77b4;stroke:#1f77b4;\" x=\"269.708865\" xlink:href=\"#mb79fec1c91\" y=\"121.897353\"/>\n     <use style=\"fill:#1f77b4;stroke:#1f77b4;\" x=\"218.373339\" xlink:href=\"#mb79fec1c91\" y=\"159.901497\"/>\n     <use style=\"fill:#1f77b4;stroke:#1f77b4;\" x=\"254.48896\" xlink:href=\"#mb79fec1c91\" y=\"156.319599\"/>\n     <use style=\"fill:#1f77b4;stroke:#1f77b4;\" x=\"237.43017\" xlink:href=\"#mb79fec1c91\" y=\"76.770134\"/>\n     <use style=\"fill:#1f77b4;stroke:#1f77b4;\" x=\"239.174089\" xlink:href=\"#mb79fec1c91\" y=\"171.656837\"/>\n     <use style=\"fill:#1f77b4;stroke:#1f77b4;\" x=\"268.871136\" xlink:href=\"#mb79fec1c91\" y=\"160.875841\"/>\n     <use style=\"fill:#1f77b4;stroke:#1f77b4;\" x=\"268.475325\" xlink:href=\"#mb79fec1c91\" y=\"147.046276\"/>\n     <use style=\"fill:#1f77b4;stroke:#1f77b4;\" x=\"262.37808\" xlink:href=\"#mb79fec1c91\" y=\"122.227205\"/>\n     <use style=\"fill:#1f77b4;stroke:#1f77b4;\" x=\"205.203745\" xlink:href=\"#mb79fec1c91\" y=\"95.846443\"/>\n     <use style=\"fill:#1f77b4;stroke:#1f77b4;\" x=\"228.018726\" xlink:href=\"#mb79fec1c91\" y=\"163.744159\"/>\n     <use style=\"fill:#1f77b4;stroke:#1f77b4;\" x=\"214.459609\" xlink:href=\"#mb79fec1c91\" y=\"102.896941\"/>\n     <use style=\"fill:#1f77b4;stroke:#1f77b4;\" x=\"246.907732\" xlink:href=\"#mb79fec1c91\" y=\"87.057801\"/>\n     <use style=\"fill:#1f77b4;stroke:#1f77b4;\" x=\"256.088847\" xlink:href=\"#mb79fec1c91\" y=\"172.105325\"/>\n     <use style=\"fill:#1f77b4;stroke:#1f77b4;\" x=\"258.301387\" xlink:href=\"#mb79fec1c91\" y=\"156.083924\"/>\n     <use style=\"fill:#1f77b4;stroke:#1f77b4;\" x=\"278.534112\" xlink:href=\"#mb79fec1c91\" y=\"136.686462\"/>\n     <use style=\"fill:#1f77b4;stroke:#1f77b4;\" x=\"274.29258\" xlink:href=\"#mb79fec1c91\" y=\"129.806206\"/>\n     <use style=\"fill:#1f77b4;stroke:#1f77b4;\" x=\"236.428314\" xlink:href=\"#mb79fec1c91\" y=\"154.418524\"/>\n     <use style=\"fill:#1f77b4;stroke:#1f77b4;\" x=\"258.27837\" xlink:href=\"#mb79fec1c91\" y=\"167.670282\"/>\n     <use style=\"fill:#1f77b4;stroke:#1f77b4;\" x=\"266.08624\" xlink:href=\"#mb79fec1c91\" y=\"153.050474\"/>\n     <use style=\"fill:#1f77b4;stroke:#1f77b4;\" x=\"284.840912\" xlink:href=\"#mb79fec1c91\" y=\"152.684325\"/>\n     <use style=\"fill:#1f77b4;stroke:#1f77b4;\" x=\"280.758618\" xlink:href=\"#mb79fec1c91\" y=\"186.927844\"/>\n     <use style=\"fill:#1f77b4;stroke:#1f77b4;\" x=\"236.248695\" xlink:href=\"#mb79fec1c91\" y=\"108.162015\"/>\n     <use style=\"fill:#1f77b4;stroke:#1f77b4;\" x=\"304.26294\" xlink:href=\"#mb79fec1c91\" y=\"158.032529\"/>\n     <use style=\"fill:#1f77b4;stroke:#1f77b4;\" x=\"263.998851\" xlink:href=\"#mb79fec1c91\" y=\"145.659568\"/>\n     <use style=\"fill:#1f77b4;stroke:#1f77b4;\" x=\"318.61561\" xlink:href=\"#mb79fec1c91\" y=\"22.881757\"/>\n     <use style=\"fill:#1f77b4;stroke:#1f77b4;\" x=\"316.737645\" xlink:href=\"#mb79fec1c91\" y=\"148.827966\"/>\n     <use style=\"fill:#1f77b4;stroke:#1f77b4;\" x=\"251.281625\" xlink:href=\"#mb79fec1c91\" y=\"155.275241\"/>\n     <use style=\"fill:#1f77b4;stroke:#1f77b4;\" x=\"267.950275\" xlink:href=\"#mb79fec1c91\" y=\"158.397556\"/>\n     <use style=\"fill:#1f77b4;stroke:#1f77b4;\" x=\"243.521846\" xlink:href=\"#mb79fec1c91\" y=\"138.561775\"/>\n     <use style=\"fill:#1f77b4;stroke:#1f77b4;\" x=\"270.822905\" xlink:href=\"#mb79fec1c91\" y=\"151.773438\"/>\n     <use style=\"fill:#1f77b4;stroke:#1f77b4;\" x=\"228.322735\" xlink:href=\"#mb79fec1c91\" y=\"163.054616\"/>\n    </g>\n   </g>\n   <g id=\"matplotlib.axis_1\">\n    <g id=\"xtick_1\">\n     <g id=\"line2d_1\">\n      <defs>\n       <path d=\"M 0 0 \nL 0 3.5 \n\" id=\"mcf5e43de98\" style=\"stroke:#000000;stroke-width:0.8;\"/>\n      </defs>\n      <g>\n       <use style=\"stroke:#000000;stroke-width:0.8;\" x=\"55.038818\" xlink:href=\"#mcf5e43de98\" y=\"224.64\"/>\n      </g>\n     </g>\n     <g id=\"text_1\">\n      <!-- −0.5 -->\n      <defs>\n       <path d=\"M 10.59375 35.5 \nL 73.1875 35.5 \nL 73.1875 27.203125 \nL 10.59375 27.203125 \nz\n\" id=\"DejaVuSans-8722\"/>\n       <path d=\"M 31.78125 66.40625 \nQ 24.171875 66.40625 20.328125 58.90625 \nQ 16.5 51.421875 16.5 36.375 \nQ 16.5 21.390625 20.328125 13.890625 \nQ 24.171875 6.390625 31.78125 6.390625 \nQ 39.453125 6.390625 43.28125 13.890625 \nQ 47.125 21.390625 47.125 36.375 \nQ 47.125 51.421875 43.28125 58.90625 \nQ 39.453125 66.40625 31.78125 66.40625 \nz\nM 31.78125 74.21875 \nQ 44.046875 74.21875 50.515625 64.515625 \nQ 56.984375 54.828125 56.984375 36.375 \nQ 56.984375 17.96875 50.515625 8.265625 \nQ 44.046875 -1.421875 31.78125 -1.421875 \nQ 19.53125 -1.421875 13.0625 8.265625 \nQ 6.59375 17.96875 6.59375 36.375 \nQ 6.59375 54.828125 13.0625 64.515625 \nQ 19.53125 74.21875 31.78125 74.21875 \nz\n\" id=\"DejaVuSans-48\"/>\n       <path d=\"M 10.6875 12.40625 \nL 21 12.40625 \nL 21 0 \nL 10.6875 0 \nz\n\" id=\"DejaVuSans-46\"/>\n       <path d=\"M 10.796875 72.90625 \nL 49.515625 72.90625 \nL 49.515625 64.59375 \nL 19.828125 64.59375 \nL 19.828125 46.734375 \nQ 21.96875 47.46875 24.109375 47.828125 \nQ 26.265625 48.1875 28.421875 48.1875 \nQ 40.625 48.1875 47.75 41.5 \nQ 54.890625 34.8125 54.890625 23.390625 \nQ 54.890625 11.625 47.5625 5.09375 \nQ 40.234375 -1.421875 26.90625 -1.421875 \nQ 22.3125 -1.421875 17.546875 -0.640625 \nQ 12.796875 0.140625 7.71875 1.703125 \nL 7.71875 11.625 \nQ 12.109375 9.234375 16.796875 8.0625 \nQ 21.484375 6.890625 26.703125 6.890625 \nQ 35.15625 6.890625 40.078125 11.328125 \nQ 45.015625 15.765625 45.015625 23.390625 \nQ 45.015625 31 40.078125 35.4375 \nQ 35.15625 39.890625 26.703125 39.890625 \nQ 22.75 39.890625 18.8125 39.015625 \nQ 14.890625 38.140625 10.796875 36.28125 \nz\n\" id=\"DejaVuSans-53\"/>\n      </defs>\n      <g transform=\"translate(42.897412 239.238437)scale(0.1 -0.1)\">\n       <use xlink:href=\"#DejaVuSans-8722\"/>\n       <use x=\"83.789062\" xlink:href=\"#DejaVuSans-48\"/>\n       <use x=\"147.412109\" xlink:href=\"#DejaVuSans-46\"/>\n       <use x=\"179.199219\" xlink:href=\"#DejaVuSans-53\"/>\n      </g>\n     </g>\n    </g>\n    <g id=\"xtick_2\">\n     <g id=\"line2d_2\">\n      <g>\n       <use style=\"stroke:#000000;stroke-width:0.8;\" x=\"96.132158\" xlink:href=\"#mcf5e43de98\" y=\"224.64\"/>\n      </g>\n     </g>\n     <g id=\"text_2\">\n      <!-- −0.4 -->\n      <defs>\n       <path d=\"M 37.796875 64.3125 \nL 12.890625 25.390625 \nL 37.796875 25.390625 \nz\nM 35.203125 72.90625 \nL 47.609375 72.90625 \nL 47.609375 25.390625 \nL 58.015625 25.390625 \nL 58.015625 17.1875 \nL 47.609375 17.1875 \nL 47.609375 0 \nL 37.796875 0 \nL 37.796875 17.1875 \nL 4.890625 17.1875 \nL 4.890625 26.703125 \nz\n\" id=\"DejaVuSans-52\"/>\n      </defs>\n      <g transform=\"translate(83.990752 239.238437)scale(0.1 -0.1)\">\n       <use xlink:href=\"#DejaVuSans-8722\"/>\n       <use x=\"83.789062\" xlink:href=\"#DejaVuSans-48\"/>\n       <use x=\"147.412109\" xlink:href=\"#DejaVuSans-46\"/>\n       <use x=\"179.199219\" xlink:href=\"#DejaVuSans-52\"/>\n      </g>\n     </g>\n    </g>\n    <g id=\"xtick_3\">\n     <g id=\"line2d_3\">\n      <g>\n       <use style=\"stroke:#000000;stroke-width:0.8;\" x=\"137.225498\" xlink:href=\"#mcf5e43de98\" y=\"224.64\"/>\n      </g>\n     </g>\n     <g id=\"text_3\">\n      <!-- −0.3 -->\n      <defs>\n       <path d=\"M 40.578125 39.3125 \nQ 47.65625 37.796875 51.625 33 \nQ 55.609375 28.21875 55.609375 21.1875 \nQ 55.609375 10.40625 48.1875 4.484375 \nQ 40.765625 -1.421875 27.09375 -1.421875 \nQ 22.515625 -1.421875 17.65625 -0.515625 \nQ 12.796875 0.390625 7.625 2.203125 \nL 7.625 11.71875 \nQ 11.71875 9.328125 16.59375 8.109375 \nQ 21.484375 6.890625 26.8125 6.890625 \nQ 36.078125 6.890625 40.9375 10.546875 \nQ 45.796875 14.203125 45.796875 21.1875 \nQ 45.796875 27.640625 41.28125 31.265625 \nQ 36.765625 34.90625 28.71875 34.90625 \nL 20.21875 34.90625 \nL 20.21875 43.015625 \nL 29.109375 43.015625 \nQ 36.375 43.015625 40.234375 45.921875 \nQ 44.09375 48.828125 44.09375 54.296875 \nQ 44.09375 59.90625 40.109375 62.90625 \nQ 36.140625 65.921875 28.71875 65.921875 \nQ 24.65625 65.921875 20.015625 65.03125 \nQ 15.375 64.15625 9.8125 62.3125 \nL 9.8125 71.09375 \nQ 15.4375 72.65625 20.34375 73.4375 \nQ 25.25 74.21875 29.59375 74.21875 \nQ 40.828125 74.21875 47.359375 69.109375 \nQ 53.90625 64.015625 53.90625 55.328125 \nQ 53.90625 49.265625 50.4375 45.09375 \nQ 46.96875 40.921875 40.578125 39.3125 \nz\n\" id=\"DejaVuSans-51\"/>\n      </defs>\n      <g transform=\"translate(125.084092 239.238437)scale(0.1 -0.1)\">\n       <use xlink:href=\"#DejaVuSans-8722\"/>\n       <use x=\"83.789062\" xlink:href=\"#DejaVuSans-48\"/>\n       <use x=\"147.412109\" xlink:href=\"#DejaVuSans-46\"/>\n       <use x=\"179.199219\" xlink:href=\"#DejaVuSans-51\"/>\n      </g>\n     </g>\n    </g>\n    <g id=\"xtick_4\">\n     <g id=\"line2d_4\">\n      <g>\n       <use style=\"stroke:#000000;stroke-width:0.8;\" x=\"178.318838\" xlink:href=\"#mcf5e43de98\" y=\"224.64\"/>\n      </g>\n     </g>\n     <g id=\"text_4\">\n      <!-- −0.2 -->\n      <defs>\n       <path d=\"M 19.1875 8.296875 \nL 53.609375 8.296875 \nL 53.609375 0 \nL 7.328125 0 \nL 7.328125 8.296875 \nQ 12.9375 14.109375 22.625 23.890625 \nQ 32.328125 33.6875 34.8125 36.53125 \nQ 39.546875 41.84375 41.421875 45.53125 \nQ 43.3125 49.21875 43.3125 52.78125 \nQ 43.3125 58.59375 39.234375 62.25 \nQ 35.15625 65.921875 28.609375 65.921875 \nQ 23.96875 65.921875 18.8125 64.3125 \nQ 13.671875 62.703125 7.8125 59.421875 \nL 7.8125 69.390625 \nQ 13.765625 71.78125 18.9375 73 \nQ 24.125 74.21875 28.421875 74.21875 \nQ 39.75 74.21875 46.484375 68.546875 \nQ 53.21875 62.890625 53.21875 53.421875 \nQ 53.21875 48.921875 51.53125 44.890625 \nQ 49.859375 40.875 45.40625 35.40625 \nQ 44.1875 33.984375 37.640625 27.21875 \nQ 31.109375 20.453125 19.1875 8.296875 \nz\n\" id=\"DejaVuSans-50\"/>\n      </defs>\n      <g transform=\"translate(166.177432 239.238437)scale(0.1 -0.1)\">\n       <use xlink:href=\"#DejaVuSans-8722\"/>\n       <use x=\"83.789062\" xlink:href=\"#DejaVuSans-48\"/>\n       <use x=\"147.412109\" xlink:href=\"#DejaVuSans-46\"/>\n       <use x=\"179.199219\" xlink:href=\"#DejaVuSans-50\"/>\n      </g>\n     </g>\n    </g>\n    <g id=\"xtick_5\">\n     <g id=\"line2d_5\">\n      <g>\n       <use style=\"stroke:#000000;stroke-width:0.8;\" x=\"219.412178\" xlink:href=\"#mcf5e43de98\" y=\"224.64\"/>\n      </g>\n     </g>\n     <g id=\"text_5\">\n      <!-- −0.1 -->\n      <defs>\n       <path d=\"M 12.40625 8.296875 \nL 28.515625 8.296875 \nL 28.515625 63.921875 \nL 10.984375 60.40625 \nL 10.984375 69.390625 \nL 28.421875 72.90625 \nL 38.28125 72.90625 \nL 38.28125 8.296875 \nL 54.390625 8.296875 \nL 54.390625 0 \nL 12.40625 0 \nz\n\" id=\"DejaVuSans-49\"/>\n      </defs>\n      <g transform=\"translate(207.270772 239.238437)scale(0.1 -0.1)\">\n       <use xlink:href=\"#DejaVuSans-8722\"/>\n       <use x=\"83.789062\" xlink:href=\"#DejaVuSans-48\"/>\n       <use x=\"147.412109\" xlink:href=\"#DejaVuSans-46\"/>\n       <use x=\"179.199219\" xlink:href=\"#DejaVuSans-49\"/>\n      </g>\n     </g>\n    </g>\n    <g id=\"xtick_6\">\n     <g id=\"line2d_6\">\n      <g>\n       <use style=\"stroke:#000000;stroke-width:0.8;\" x=\"260.505518\" xlink:href=\"#mcf5e43de98\" y=\"224.64\"/>\n      </g>\n     </g>\n     <g id=\"text_6\">\n      <!-- 0.0 -->\n      <g transform=\"translate(252.553956 239.238437)scale(0.1 -0.1)\">\n       <use xlink:href=\"#DejaVuSans-48\"/>\n       <use x=\"63.623047\" xlink:href=\"#DejaVuSans-46\"/>\n       <use x=\"95.410156\" xlink:href=\"#DejaVuSans-48\"/>\n      </g>\n     </g>\n    </g>\n    <g id=\"xtick_7\">\n     <g id=\"line2d_7\">\n      <g>\n       <use style=\"stroke:#000000;stroke-width:0.8;\" x=\"301.598858\" xlink:href=\"#mcf5e43de98\" y=\"224.64\"/>\n      </g>\n     </g>\n     <g id=\"text_7\">\n      <!-- 0.1 -->\n      <g transform=\"translate(293.647296 239.238437)scale(0.1 -0.1)\">\n       <use xlink:href=\"#DejaVuSans-48\"/>\n       <use x=\"63.623047\" xlink:href=\"#DejaVuSans-46\"/>\n       <use x=\"95.410156\" xlink:href=\"#DejaVuSans-49\"/>\n      </g>\n     </g>\n    </g>\n    <g id=\"xtick_8\">\n     <g id=\"line2d_8\">\n      <g>\n       <use style=\"stroke:#000000;stroke-width:0.8;\" x=\"342.692198\" xlink:href=\"#mcf5e43de98\" y=\"224.64\"/>\n      </g>\n     </g>\n     <g id=\"text_8\">\n      <!-- 0.2 -->\n      <g transform=\"translate(334.740636 239.238437)scale(0.1 -0.1)\">\n       <use xlink:href=\"#DejaVuSans-48\"/>\n       <use x=\"63.623047\" xlink:href=\"#DejaVuSans-46\"/>\n       <use x=\"95.410156\" xlink:href=\"#DejaVuSans-50\"/>\n      </g>\n     </g>\n    </g>\n   </g>\n   <g id=\"matplotlib.axis_2\">\n    <g id=\"ytick_1\">\n     <g id=\"line2d_9\">\n      <defs>\n       <path d=\"M 0 0 \nL -3.5 0 \n\" id=\"mdff7db518c\" style=\"stroke:#000000;stroke-width:0.8;\"/>\n      </defs>\n      <g>\n       <use style=\"stroke:#000000;stroke-width:0.8;\" x=\"38.482813\" xlink:href=\"#mdff7db518c\" y=\"191.24984\"/>\n      </g>\n     </g>\n     <g id=\"text_9\">\n      <!-- −0.1 -->\n      <g transform=\"translate(7.2 195.049059)scale(0.1 -0.1)\">\n       <use xlink:href=\"#DejaVuSans-8722\"/>\n       <use x=\"83.789062\" xlink:href=\"#DejaVuSans-48\"/>\n       <use x=\"147.412109\" xlink:href=\"#DejaVuSans-46\"/>\n       <use x=\"179.199219\" xlink:href=\"#DejaVuSans-49\"/>\n      </g>\n     </g>\n    </g>\n    <g id=\"ytick_2\">\n     <g id=\"line2d_10\">\n      <g>\n       <use style=\"stroke:#000000;stroke-width:0.8;\" x=\"38.482813\" xlink:href=\"#mdff7db518c\" y=\"149.225059\"/>\n      </g>\n     </g>\n     <g id=\"text_10\">\n      <!-- 0.0 -->\n      <g transform=\"translate(15.579688 153.024278)scale(0.1 -0.1)\">\n       <use xlink:href=\"#DejaVuSans-48\"/>\n       <use x=\"63.623047\" xlink:href=\"#DejaVuSans-46\"/>\n       <use x=\"95.410156\" xlink:href=\"#DejaVuSans-48\"/>\n      </g>\n     </g>\n    </g>\n    <g id=\"ytick_3\">\n     <g id=\"line2d_11\">\n      <g>\n       <use style=\"stroke:#000000;stroke-width:0.8;\" x=\"38.482813\" xlink:href=\"#mdff7db518c\" y=\"107.200278\"/>\n      </g>\n     </g>\n     <g id=\"text_11\">\n      <!-- 0.1 -->\n      <g transform=\"translate(15.579688 110.999497)scale(0.1 -0.1)\">\n       <use xlink:href=\"#DejaVuSans-48\"/>\n       <use x=\"63.623047\" xlink:href=\"#DejaVuSans-46\"/>\n       <use x=\"95.410156\" xlink:href=\"#DejaVuSans-49\"/>\n      </g>\n     </g>\n    </g>\n    <g id=\"ytick_4\">\n     <g id=\"line2d_12\">\n      <g>\n       <use style=\"stroke:#000000;stroke-width:0.8;\" x=\"38.482813\" xlink:href=\"#mdff7db518c\" y=\"65.175497\"/>\n      </g>\n     </g>\n     <g id=\"text_12\">\n      <!-- 0.2 -->\n      <g transform=\"translate(15.579688 68.974716)scale(0.1 -0.1)\">\n       <use xlink:href=\"#DejaVuSans-48\"/>\n       <use x=\"63.623047\" xlink:href=\"#DejaVuSans-46\"/>\n       <use x=\"95.410156\" xlink:href=\"#DejaVuSans-50\"/>\n      </g>\n     </g>\n    </g>\n    <g id=\"ytick_5\">\n     <g id=\"line2d_13\">\n      <g>\n       <use style=\"stroke:#000000;stroke-width:0.8;\" x=\"38.482813\" xlink:href=\"#mdff7db518c\" y=\"23.150716\"/>\n      </g>\n     </g>\n     <g id=\"text_13\">\n      <!-- 0.3 -->\n      <g transform=\"translate(15.579688 26.949935)scale(0.1 -0.1)\">\n       <use xlink:href=\"#DejaVuSans-48\"/>\n       <use x=\"63.623047\" xlink:href=\"#DejaVuSans-46\"/>\n       <use x=\"95.410156\" xlink:href=\"#DejaVuSans-51\"/>\n      </g>\n     </g>\n    </g>\n   </g>\n   <g id=\"patch_3\">\n    <path d=\"M 38.482813 224.64 \nL 38.482813 7.2 \n\" style=\"fill:none;stroke:#000000;stroke-linecap:square;stroke-linejoin:miter;stroke-width:0.8;\"/>\n   </g>\n   <g id=\"patch_4\">\n    <path d=\"M 373.282813 224.64 \nL 373.282813 7.2 \n\" style=\"fill:none;stroke:#000000;stroke-linecap:square;stroke-linejoin:miter;stroke-width:0.8;\"/>\n   </g>\n   <g id=\"patch_5\">\n    <path d=\"M 38.482813 224.64 \nL 373.282813 224.64 \n\" style=\"fill:none;stroke:#000000;stroke-linecap:square;stroke-linejoin:miter;stroke-width:0.8;\"/>\n   </g>\n   <g id=\"patch_6\">\n    <path d=\"M 38.482813 7.2 \nL 373.282813 7.2 \n\" style=\"fill:none;stroke:#000000;stroke-linecap:square;stroke-linejoin:miter;stroke-width:0.8;\"/>\n   </g>\n  </g>\n </g>\n <defs>\n  <clipPath id=\"p571af30330\">\n   <rect height=\"217.44\" width=\"334.8\" x=\"38.482813\" y=\"7.2\"/>\n  </clipPath>\n </defs>\n</svg>\n",
      "image/png": "[encoded data removed]"
     },
     "metadata": {
      "needs_background": "light"
     }
    }
   ],
   "source": [
    "plt.scatter(european_ancestral_PCA[:,4],european_ancestral_PCA[:,5])\n",
    "#check the PC1 vs. PC2, PC2 vs PC3, etc. until I see a structureless blob."
   ]
  },
  {
   "cell_type": "code",
   "execution_count": 10,
   "metadata": {},
   "outputs": [],
   "source": [
    "#adjusting for covariates:\n",
    "#for PRS: I adjusted for 10 PC. and for connectivity and structural data: I adjusted for age at scan, at birth, intracranial volume and gender. similar to Harriet's paper and Shi et al., 2012 (although this one has number of fibers regressed out as well).\n",
    "\n",
    "adjusted_european_PRS_schizophrenia=preprocessing.adjusting_for_covariates_with_lin_reg(y=european_prs_schizophrenia[:,1:],covariates=[european_ancestral_PCA[:,1:6]])#remove the first 5 PCs.\n",
    "adjusted_european_PRS_schizophrenia=adjusted_european_PRS_schizophrenia.astype('float64')\n",
    "\n",
    "adjusted_european_connectivity_schizophrenia=preprocessing.adjusting_for_covariates_with_lin_reg(y=inputs_european_connectivity_matrices_schizophrenia,covariates=[european_age_at_scan,european_gestational_age,european_icv,european_gender])\n",
    "\n",
    "adjusted_european_structural_schizophrenia=preprocessing.adjusting_for_covariates_with_lin_reg(y=european_volumes,covariates=[european_age_at_scan,european_gestational_age,european_icv,european_gender])\n",
    "adjusted_european_structural_schizophrenia=adjusted_european_structural_schizophrenia.astype('float64')\n"
   ]
  },
  {
   "cell_type": "markdown",
   "metadata": {},
   "source": [
    "# Training"
   ]
  },
  {
   "cell_type": "code",
   "execution_count": 11,
   "metadata": {},
   "outputs": [],
   "source": [
    "X=adjusted_european_connectivity_schizophrenia\n",
    "y=adjusted_european_PRS_schizophrenia[:,4]\n",
    "combination_idx=np.arange(4005)"
   ]
  },
  {
   "cell_type": "code",
   "execution_count": 24,
   "metadata": {},
   "outputs": [],
   "source": [
    "#save the dataset and run external model training script.\n",
    "np.save('data_set_X.npy',X)\n",
    "np.save('data_set_y.npy',y)\n"
   ]
  },
  {
   "cell_type": "code",
   "execution_count": 40,
   "metadata": {},
   "outputs": [
    {
     "output_type": "error",
     "ename": "ImportError",
     "evalue": "cannot import name 'SequentialFeatureSelector'",
     "traceback": [
      "\u001b[0;31m---------------------------------------------------------------------------\u001b[0m",
      "\u001b[0;31mImportError\u001b[0m                               Traceback (most recent call last)",
      "\u001b[0;32m<ipython-input-40-e521596daf76>\u001b[0m in \u001b[0;36m<module>\u001b[0;34m\u001b[0m\n\u001b[1;32m      4\u001b[0m \u001b[0;32mfrom\u001b[0m \u001b[0msklearn\u001b[0m\u001b[0;34m.\u001b[0m\u001b[0mneighbors\u001b[0m \u001b[0;32mimport\u001b[0m \u001b[0mKNeighborsRegressor\u001b[0m\u001b[0;34m\u001b[0m\u001b[0;34m\u001b[0m\u001b[0m\n\u001b[1;32m      5\u001b[0m \u001b[0;34m\u001b[0m\u001b[0m\n\u001b[0;32m----> 6\u001b[0;31m \u001b[0;32mfrom\u001b[0m \u001b[0msklearn\u001b[0m\u001b[0;34m.\u001b[0m\u001b[0mfeature_selection\u001b[0m \u001b[0;32mimport\u001b[0m \u001b[0mSequentialFeatureSelector\u001b[0m\u001b[0;34m\u001b[0m\u001b[0;34m\u001b[0m\u001b[0m\n\u001b[0m",
      "\u001b[0;31mImportError\u001b[0m: cannot import name 'SequentialFeatureSelector'"
     ]
    }
   ],
   "source": [
    "from sklearn.linear_model import LinearRegression\n",
    "from sklearn.feature_selection import SelectFromModel,RFECV\n",
    "from sklearn.model_selection import cross_val_score\n",
    "from sklearn.neighbors import KNeighborsRegressor\n"
   ]
  },
  {
   "cell_type": "code",
   "execution_count": null,
   "metadata": {},
   "outputs": [],
   "source": [
    "from sklearn.feature_selection import S"
   ]
  },
  {
   "cell_type": "code",
   "execution_count": 42,
   "metadata": {},
   "outputs": [],
   "source": [
    "import sklearn"
   ]
  },
  {
   "cell_type": "code",
   "execution_count": 43,
   "metadata": {},
   "outputs": [
    {
     "output_type": "execute_result",
     "data": {
      "text/plain": [
       "'0.22.1'"
      ]
     },
     "metadata": {},
     "execution_count": 43
    }
   ],
   "source": [
    "sklearn.__version__"
   ]
  },
  {
   "cell_type": "code",
   "execution_count": 14,
   "metadata": {},
   "outputs": [],
   "source": [
    "from sklearn.inspection import permutation_importance"
   ]
  },
  {
   "cell_type": "code",
   "execution_count": 39,
   "metadata": {},
   "outputs": [
    {
     "output_type": "stream",
     "text": [
      "\u001b[0;31mInit signature:\u001b[0m\n",
      "\u001b[0mKNeighborsRegressor\u001b[0m\u001b[0;34m(\u001b[0m\u001b[0;34m\u001b[0m\n",
      "\u001b[0;34m\u001b[0m    \u001b[0mn_neighbors\u001b[0m\u001b[0;34m=\u001b[0m\u001b[0;36m5\u001b[0m\u001b[0;34m,\u001b[0m\u001b[0;34m\u001b[0m\n",
      "\u001b[0;34m\u001b[0m    \u001b[0mweights\u001b[0m\u001b[0;34m=\u001b[0m\u001b[0;34m'uniform'\u001b[0m\u001b[0;34m,\u001b[0m\u001b[0;34m\u001b[0m\n",
      "\u001b[0;34m\u001b[0m    \u001b[0malgorithm\u001b[0m\u001b[0;34m=\u001b[0m\u001b[0;34m'auto'\u001b[0m\u001b[0;34m,\u001b[0m\u001b[0;34m\u001b[0m\n",
      "\u001b[0;34m\u001b[0m    \u001b[0mleaf_size\u001b[0m\u001b[0;34m=\u001b[0m\u001b[0;36m30\u001b[0m\u001b[0;34m,\u001b[0m\u001b[0;34m\u001b[0m\n",
      "\u001b[0;34m\u001b[0m    \u001b[0mp\u001b[0m\u001b[0;34m=\u001b[0m\u001b[0;36m2\u001b[0m\u001b[0;34m,\u001b[0m\u001b[0;34m\u001b[0m\n",
      "\u001b[0;34m\u001b[0m    \u001b[0mmetric\u001b[0m\u001b[0;34m=\u001b[0m\u001b[0;34m'minkowski'\u001b[0m\u001b[0;34m,\u001b[0m\u001b[0;34m\u001b[0m\n",
      "\u001b[0;34m\u001b[0m    \u001b[0mmetric_params\u001b[0m\u001b[0;34m=\u001b[0m\u001b[0;32mNone\u001b[0m\u001b[0;34m,\u001b[0m\u001b[0;34m\u001b[0m\n",
      "\u001b[0;34m\u001b[0m    \u001b[0mn_jobs\u001b[0m\u001b[0;34m=\u001b[0m\u001b[0;32mNone\u001b[0m\u001b[0;34m,\u001b[0m\u001b[0;34m\u001b[0m\n",
      "\u001b[0;34m\u001b[0m    \u001b[0;34m**\u001b[0m\u001b[0mkwargs\u001b[0m\u001b[0;34m,\u001b[0m\u001b[0;34m\u001b[0m\n",
      "\u001b[0;34m\u001b[0m\u001b[0;34m)\u001b[0m\u001b[0;34m\u001b[0m\u001b[0;34m\u001b[0m\u001b[0m\n",
      "\u001b[0;31mDocstring:\u001b[0m     \n",
      "Regression based on k-nearest neighbors.\n",
      "\n",
      "The target is predicted by local interpolation of the targets\n",
      "associated of the nearest neighbors in the training set.\n",
      "\n",
      "Read more in the :ref:`User Guide <regression>`.\n",
      "\n",
      ".. versionadded:: 0.9\n",
      "\n",
      "Parameters\n",
      "----------\n",
      "n_neighbors : int, optional (default = 5)\n",
      "    Number of neighbors to use by default for :meth:`kneighbors` queries.\n",
      "\n",
      "weights : str or callable\n",
      "    weight function used in prediction.  Possible values:\n",
      "\n",
      "    - 'uniform' : uniform weights.  All points in each neighborhood\n",
      "      are weighted equally.\n",
      "    - 'distance' : weight points by the inverse of their distance.\n",
      "      in this case, closer neighbors of a query point will have a\n",
      "      greater influence than neighbors which are further away.\n",
      "    - [callable] : a user-defined function which accepts an\n",
      "      array of distances, and returns an array of the same shape\n",
      "      containing the weights.\n",
      "\n",
      "    Uniform weights are used by default.\n",
      "\n",
      "algorithm : {'auto', 'ball_tree', 'kd_tree', 'brute'}, optional\n",
      "    Algorithm used to compute the nearest neighbors:\n",
      "\n",
      "    - 'ball_tree' will use :class:`BallTree`\n",
      "    - 'kd_tree' will use :class:`KDTree`\n",
      "    - 'brute' will use a brute-force search.\n",
      "    - 'auto' will attempt to decide the most appropriate algorithm\n",
      "      based on the values passed to :meth:`fit` method.\n",
      "\n",
      "    Note: fitting on sparse input will override the setting of\n",
      "    this parameter, using brute force.\n",
      "\n",
      "leaf_size : int, optional (default = 30)\n",
      "    Leaf size passed to BallTree or KDTree.  This can affect the\n",
      "    speed of the construction and query, as well as the memory\n",
      "    required to store the tree.  The optimal value depends on the\n",
      "    nature of the problem.\n",
      "\n",
      "p : integer, optional (default = 2)\n",
      "    Power parameter for the Minkowski metric. When p = 1, this is\n",
      "    equivalent to using manhattan_distance (l1), and euclidean_distance\n",
      "    (l2) for p = 2. For arbitrary p, minkowski_distance (l_p) is used.\n",
      "\n",
      "metric : string or callable, default 'minkowski'\n",
      "    the distance metric to use for the tree.  The default metric is\n",
      "    minkowski, and with p=2 is equivalent to the standard Euclidean\n",
      "    metric. See the documentation of the DistanceMetric class for a\n",
      "    list of available metrics.\n",
      "    If metric is \"precomputed\", X is assumed to be a distance matrix and\n",
      "    must be square during fit. X may be a :term:`Glossary <sparse graph>`,\n",
      "    in which case only \"nonzero\" elements may be considered neighbors.\n",
      "\n",
      "metric_params : dict, optional (default = None)\n",
      "    Additional keyword arguments for the metric function.\n",
      "\n",
      "n_jobs : int or None, optional (default=None)\n",
      "    The number of parallel jobs to run for neighbors search.\n",
      "    ``None`` means 1 unless in a :obj:`joblib.parallel_backend` context.\n",
      "    ``-1`` means using all processors. See :term:`Glossary <n_jobs>`\n",
      "    for more details.\n",
      "    Doesn't affect :meth:`fit` method.\n",
      "\n",
      "Attributes\n",
      "----------\n",
      "effective_metric_ : string or callable\n",
      "    The distance metric to use. It will be same as the `metric` parameter\n",
      "    or a synonym of it, e.g. 'euclidean' if the `metric` parameter set to\n",
      "    'minkowski' and `p` parameter set to 2.\n",
      "\n",
      "effective_metric_params_ : dict\n",
      "    Additional keyword arguments for the metric function. For most metrics\n",
      "    will be same with `metric_params` parameter, but may also contain the\n",
      "    `p` parameter value if the `effective_metric_` attribute is set to\n",
      "    'minkowski'.\n",
      "\n",
      "Examples\n",
      "--------\n",
      ">>> X = [[0], [1], [2], [3]]\n",
      ">>> y = [0, 0, 1, 1]\n",
      ">>> from sklearn.neighbors import KNeighborsRegressor\n",
      ">>> neigh = KNeighborsRegressor(n_neighbors=2)\n",
      ">>> neigh.fit(X, y)\n",
      "KNeighborsRegressor(...)\n",
      ">>> print(neigh.predict([[1.5]]))\n",
      "[0.5]\n",
      "\n",
      "See also\n",
      "--------\n",
      "NearestNeighbors\n",
      "RadiusNeighborsRegressor\n",
      "KNeighborsClassifier\n",
      "RadiusNeighborsClassifier\n",
      "\n",
      "Notes\n",
      "-----\n",
      "See :ref:`Nearest Neighbors <neighbors>` in the online documentation\n",
      "for a discussion of the choice of ``algorithm`` and ``leaf_size``.\n",
      "\n",
      ".. warning::\n",
      "\n",
      "   Regarding the Nearest Neighbors algorithms, if it is found that two\n",
      "   neighbors, neighbor `k+1` and `k`, have identical distances but\n",
      "   different labels, the results will depend on the ordering of the\n",
      "   training data.\n",
      "\n",
      "https://en.wikipedia.org/wiki/K-nearest_neighbor_algorithm\n",
      "\u001b[0;31mFile:\u001b[0m           ~/anaconda3/lib/python3.6/site-packages/sklearn/neighbors/_regression.py\n",
      "\u001b[0;31mType:\u001b[0m           ABCMeta\n",
      "\u001b[0;31mSubclasses:\u001b[0m     \n"
     ],
     "name": "stdout"
    }
   ],
   "source": [
    "?KNeighborsRegressor"
   ]
  },
  {
   "cell_type": "code",
   "execution_count": null,
   "metadata": {},
   "outputs": [],
   "source": []
  },
  {
   "cell_type": "code",
   "execution_count": null,
   "metadata": {},
   "outputs": [],
   "source": []
  },
  {
   "cell_type": "code",
   "execution_count": 15,
   "metadata": {},
   "outputs": [],
   "source": [
    "combination_idx=combination_idx.reshape(1,-1)"
   ]
  },
  {
   "cell_type": "code",
   "execution_count": 16,
   "metadata": {},
   "outputs": [],
   "source": [
    "indices=model_training.get_permutation_importances(lin_reg,X,y)"
   ]
  },
  {
   "cell_type": "code",
   "execution_count": 21,
   "metadata": {},
   "outputs": [
    {
     "output_type": "execute_result",
     "data": {
      "text/plain": [
       "(1, 636)"
      ]
     },
     "metadata": {},
     "execution_count": 21
    }
   ],
   "source": [
    "combination_idx[:,indices].shape"
   ]
  },
  {
   "cell_type": "code",
   "execution_count": 22,
   "metadata": {},
   "outputs": [
    {
     "output_type": "execute_result",
     "data": {
      "text/plain": [
       "(117, 636)"
      ]
     },
     "metadata": {},
     "execution_count": 22
    }
   ],
   "source": [
    "X[:,indices].shape"
   ]
  },
  {
   "cell_type": "code",
   "execution_count": 35,
   "metadata": {},
   "outputs": [
    {
     "output_type": "execute_result",
     "data": {
      "text/plain": [
       "array([1.06870342e-04, 1.02070490e-04, 1.00278513e-04, 9.25950550e-05,\n",
       "       1.04469264e-04])"
      ]
     },
     "metadata": {},
     "execution_count": 35
    }
   ],
   "source": [
    "np.sqrt(abs(cross_val_score(lin_reg,X,y,cv=5,scoring='neg_mean_squared_error')))"
   ]
  },
  {
   "cell_type": "code",
   "execution_count": 36,
   "metadata": {},
   "outputs": [],
   "source": [
    "with open('test.txt','a+') as file:\n",
    "    file.write('this is a test')"
   ]
  },
  {
   "cell_type": "code",
   "execution_count": null,
   "metadata": {},
   "outputs": [],
   "source": []
  },
  {
   "source": [
    "# Univariate Testing"
   ],
   "cell_type": "markdown",
   "metadata": {}
  },
  {
   "cell_type": "code",
   "execution_count": 277,
   "metadata": {},
   "outputs": [
    {
     "name": "stdout",
     "output_type": "stream",
     "text": [
      "#################connectivity######################\n",
      "For p_threshold of 0.100000, 160 features were significant, and/but 0 survived the FDR correction\n",
      "For p_threshold of 0.200000, 140 features were significant, and/but 0 survived the FDR correction\n",
      "For p_threshold of 0.300000, 132 features were significant, and/but 0 survived the FDR correction\n",
      "For p_threshold of 0.400000, 132 features were significant, and/but 0 survived the FDR correction\n",
      "For p_threshold of 0.500000, 149 features were significant, and/but 0 survived the FDR correction\n",
      "For p_threshold of 1.000000, 150 features were significant, and/but 0 survived the FDR correction\n",
      "#################structural######################\n",
      "For p_threshold of 0.100000, 7 features were significant, but 0 survived the FDR correction\n",
      "For p_threshold of 0.200000, 4 features were significant, but 0 survived the FDR correction\n",
      "For p_threshold of 0.300000, 4 features were significant, but 0 survived the FDR correction\n",
      "For p_threshold of 0.400000, 4 features were significant, but 0 survived the FDR correction\n",
      "For p_threshold of 0.500000, 4 features were significant, but 0 survived the FDR correction\n",
      "For p_threshold of 1.000000, 4 features were significant, but 0 survived the FDR correction\n"
     ]
    }
   ],
   "source": [
    "#UNIVARIATE TESTING. Calculated by first estimating fitting a simple linear model to each regressor, and then calculate the R2. From R2, we calculate the F-score and with that P-value. The False discovery rate method adjust the p-value.\n",
    "\n",
    "from sklearn.feature_selection import f_regression, SelectFdr\n",
    "from statsmodels.stats.multitest import fdrcorrection #I used fdrcorrection because the SelectFdr does not return array of adjusted p-values, which is stupid, because it already calculated it, might as well output it.\n",
    "\n",
    "print('#################connectivity######################')\n",
    "\n",
    "for p_threshold in range(adjusted_european_PRS_schizophrenia.shape[1]):\n",
    "\n",
    "    F_score,p_value=f_regression(adjusted_european_connectivity_schizophrenia,adjusted_european_PRS_schizophrenia[:,p_threshold])\n",
    "    survived_idx,adjusted_p_values=fdrcorrection(p_value,alpha=0.05)\n",
    "    print('For p_threshold of %s, %d features were significant, but %d survived the FDR correction' %(schizophrenia_high_scores_european.columns[p_threshold+1],\n",
    "    len(p_value[p_value<0.05]),len(np.where(survived_idx)[0])))\n",
    "\n",
    "print('#################structural######################')\n",
    "\n",
    "for p_threshold in range(adjusted_european_PRS_schizophrenia.shape[1]):\n",
    "\n",
    "    F_score,p_value=f_regression(adjusted_european_structural_schizophrenia,adjusted_european_PRS_schizophrenia[:,p_threshold])\n",
    "    survived_idx,adjusted_p_values=fdrcorrection(p_value,alpha=0.05)\n",
    "    print('For p_threshold of %s, %d features were significant, but %d survived the FDR correction' %(schizophrenia_high_scores_european.columns[p_threshold+1],\n",
    "    len(p_value[p_value<0.05]),len(np.where(survived_idx)[0])))"
   ]
  },
  {
   "cell_type": "markdown",
   "metadata": {},
   "source": [
    "Run across multiple searching events"
   ]
  },
  {
   "cell_type": "code",
   "execution_count": null,
   "metadata": {},
   "outputs": [],
   "source": []
  }
 ],
 "metadata": {
  "kernelspec": {
   "display_name": "Python 3.6.8 64-bit ('base': conda)",
   "language": "python",
   "name": "python36864bitbaseconda47aedfaafb1f47b1b5ee44163cad2c00"
  },
  "language_info": {
   "codemirror_mode": {
    "name": "ipython",
    "version": 3
   },
   "file_extension": ".py",
   "mimetype": "text/x-python",
   "name": "python",
   "nbconvert_exporter": "python",
   "pygments_lexer": "ipython3",
   "version": "3.6.8-final"
  }
 },
 "nbformat": 4,
 "nbformat_minor": 2
}