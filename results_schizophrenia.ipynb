{
 "cells": [
  {
   "cell_type": "code",
   "execution_count": 5,
   "metadata": {},
   "outputs": [],
   "source": [
    "#import necessary libraries\n",
    "import pandas as pd\n",
    "import numpy as np\n",
    "import preprocessing\n",
    "import running_model\n",
    "import model_training\n",
    "from scipy import stats\n",
    "\n",
    "#visualisation libraries\n",
    "import matplotlib.pyplot as plt\n",
    "import networkx as nx\n",
    "import visualisation\n",
    "\n",
    "import itertools\n",
    "import inspect\n",
    "import operator\n",
    "import time"
   ]
  },
  {
   "cell_type": "markdown",
   "metadata": {
    "heading_collapsed": true
   },
   "source": [
    "# Data Importing and Preprocessing"
   ]
  },
  {
   "cell_type": "code",
   "execution_count": 6,
   "metadata": {
    "hidden": true,
    "tags": []
   },
   "outputs": [
    {
     "output_type": "stream",
     "name": "stdout",
     "text": [
      "this file dataProb_EP1085_mat.txt is not processed\n",
      "this file dataProb_EP1078_mat.txt is not processed\n",
      "this file cannot be loaded: .DS_Store\n",
      "this file dataProb_EP1118_mat.txt is not processed\n",
      "this file dataProb_EP1009_mat.txt is not processed\n",
      "this file dataProb_EP1092_mat.txt is not processed\n",
      "this file dataProb_EP1142_mat.txt is not processed\n",
      "this file dataProb_EP1130_mat.txt is not processed\n",
      "this file dataProb_EP1041_mat.txt is not processed\n",
      "this file dataProb_EP1017_mat.txt is not processed\n",
      "this file dataProb_EP1105_mat.txt is not processed\n",
      "this file dataProb_EP1123_mat.txt is not processed\n"
     ]
    }
   ],
   "source": [
    "ID,babies_connectivity_matrix=preprocessing.babies_connectivity_extraction('./Tracts/')\n",
    "ROIs_combinations=preprocessing.ROIs_combinations('./Regions_of_interests.csv')\n",
    "structural_labels=pd.read_csv('all_labels.csv', header = None, sep='\\t')\n",
    "structural_labels=np.asarray(structural_labels[1])\n",
    "babies_structural_matrix=pd.read_csv('./ePrime-structure-volumes.csv',header=0,index_col=None).dropna()\n",
    "babies_structural_matrix=babies_structural_matrix.iloc[babies_structural_matrix['Age at scan'].values<49,:].reset_index(drop=True)"
   ]
  },
  {
   "cell_type": "code",
   "execution_count": 7,
   "metadata": {
    "hidden": true
   },
   "outputs": [],
   "source": [
    "#Reading necessary tables\n",
    "schizophrenia_high_scores_european=preprocessing.read_table_from_txt('./scz2_sixlevels_ld1000G.highres.all.score.txt')\n",
    "ancestral_PCA_european=preprocessing.read_table_from_txt('./ePrime_nosibs_european_pruned_excludeLD_pca10.eigenvec.txt')"
   ]
  },
  {
   "cell_type": "code",
   "execution_count": 8,
   "metadata": {
    "hidden": true,
    "tags": []
   },
   "outputs": [
    {
     "output_type": "stream",
     "name": "stdout",
     "text": [
      "these 17 individuals do not have connectivity matrices or structural data: ['EP1554' 'EP1688' 'EP1910' 'EP2443' 'EP2741' 'EP3137' 'EP3941' 'EP4038'\n 'EP4063' 'EP4845' 'EP5175' 'EP5942' 'EP6140' 'EP7153' 'EP7384' 'EP7427'\n 'EP7687']\n"
     ]
    }
   ],
   "source": [
    "#matching europeans IDs between tables and connectivity matrices\n",
    "european_ID_list=list(set(ID).intersection(schizophrenia_high_scores_european['ID']))#this is crossing connectivity_ID with european_PRS_ID.\n",
    "european_ID_list=list(set(european_ID_list).intersection(babies_structural_matrix['Subject ID']))#this is crossing european_connectivity with babies_structural_ID.\n",
    "european_ID_list.sort()\n",
    "european_ID_list_not_available=np.setdiff1d(schizophrenia_high_scores_european['ID'],european_ID_list)\n",
    "european_ID_list_not_available.sort()\n",
    "print('these %d individuals do not have connectivity matrices or structural data: %s' %(len(european_ID_list_not_available),european_ID_list_not_available))"
   ]
  },
  {
   "source": [
    "## remmoving outliers"
   ],
   "cell_type": "markdown",
   "metadata": {
    "hidden": true
   }
  },
  {
   "cell_type": "code",
   "execution_count": 9,
   "metadata": {
    "hidden": true
   },
   "outputs": [
    {
     "output_type": "stream",
     "name": "stdout",
     "text": [
      "(122, 11)\n['EP2314' 'EP4795' 'EP5930' 'EP6016' 'EP6402']\n"
     ]
    },
    {
     "output_type": "display_data",
     "data": {
      "text/plain": "<Figure size 432x288 with 1 Axes>",
      "image/svg+xml": "<?xml version=\"1.0\" encoding=\"utf-8\" standalone=\"no\"?>\n<!DOCTYPE svg PUBLIC \"-//W3C//DTD SVG 1.1//EN\"\n  \"http://www.w3.org/Graphics/SVG/1.1/DTD/svg11.dtd\">\n<!-- Created with matplotlib (https://matplotlib.org/) -->\n<svg height=\"248.518125pt\" version=\"1.1\" viewBox=\"0 0 380.482813 248.518125\" width=\"380.482813pt\" xmlns=\"http://www.w3.org/2000/svg\" xmlns:xlink=\"http://www.w3.org/1999/xlink\">\n <metadata>\n  <rdf:RDF xmlns:cc=\"http://creativecommons.org/ns#\" xmlns:dc=\"http://purl.org/dc/elements/1.1/\" xmlns:rdf=\"http://www.w3.org/1999/02/22-rdf-syntax-ns#\">\n   <cc:Work>\n    <dc:type rdf:resource=\"http://purl.org/dc/dcmitype/StillImage\"/>\n    <dc:date>2020-11-05T19:18:27.771494</dc:date>\n    <dc:format>image/svg+xml</dc:format>\n    <dc:creator>\n     <cc:Agent>\n      <dc:title>Matplotlib v3.3.2, https://matplotlib.org/</dc:title>\n     </cc:Agent>\n    </dc:creator>\n   </cc:Work>\n  </rdf:RDF>\n </metadata>\n <defs>\n  <style type=\"text/css\">*{stroke-linecap:butt;stroke-linejoin:round;}</style>\n </defs>\n <g id=\"figure_1\">\n  <g id=\"patch_1\">\n   <path d=\"M -0 248.518125 \nL 380.482813 248.518125 \nL 380.482813 0 \nL -0 0 \nz\n\" style=\"fill:none;\"/>\n  </g>\n  <g id=\"axes_1\">\n   <g id=\"patch_2\">\n    <path d=\"M 38.482813 224.64 \nL 373.282813 224.64 \nL 373.282813 7.2 \nL 38.482813 7.2 \nz\n\" style=\"fill:#ffffff;\"/>\n   </g>\n   <g id=\"PathCollection_1\">\n    <defs>\n     <path d=\"M 0 3 \nC 0.795609 3 1.55874 2.683901 2.12132 2.12132 \nC 2.683901 1.55874 3 0.795609 3 0 \nC 3 -0.795609 2.683901 -1.55874 2.12132 -2.12132 \nC 1.55874 -2.683901 0.795609 -3 0 -3 \nC -0.795609 -3 -1.55874 -2.683901 -2.12132 -2.12132 \nC -2.683901 -1.55874 -3 -0.795609 -3 0 \nC -3 0.795609 -2.683901 1.55874 -2.12132 2.12132 \nC -1.55874 2.683901 -0.795609 3 0 3 \nz\n\" id=\"m44e544e167\" style=\"stroke:#1f77b4;\"/>\n    </defs>\n    <g clip-path=\"url(#pcb01da758d)\">\n     <use style=\"fill:#1f77b4;stroke:#1f77b4;\" x=\"329.610412\" xlink:href=\"#m44e544e167\" y=\"179.139859\"/>\n     <use style=\"fill:#1f77b4;stroke:#1f77b4;\" x=\"332.012207\" xlink:href=\"#m44e544e167\" y=\"143.465889\"/>\n     <use style=\"fill:#1f77b4;stroke:#1f77b4;\" x=\"308.501609\" xlink:href=\"#m44e544e167\" y=\"153.707227\"/>\n     <use style=\"fill:#1f77b4;stroke:#1f77b4;\" x=\"333.43435\" xlink:href=\"#m44e544e167\" y=\"157.838892\"/>\n     <use style=\"fill:#1f77b4;stroke:#1f77b4;\" x=\"317.361554\" xlink:href=\"#m44e544e167\" y=\"130.770549\"/>\n     <use style=\"fill:#1f77b4;stroke:#1f77b4;\" x=\"329.263439\" xlink:href=\"#m44e544e167\" y=\"142.693022\"/>\n     <use style=\"fill:#1f77b4;stroke:#1f77b4;\" x=\"351.605283\" xlink:href=\"#m44e544e167\" y=\"135.582307\"/>\n     <use style=\"fill:#1f77b4;stroke:#1f77b4;\" x=\"341.642525\" xlink:href=\"#m44e544e167\" y=\"121.988071\"/>\n     <use style=\"fill:#1f77b4;stroke:#1f77b4;\" x=\"329.55074\" xlink:href=\"#m44e544e167\" y=\"146.816909\"/>\n     <use style=\"fill:#1f77b4;stroke:#1f77b4;\" x=\"332.713675\" xlink:href=\"#m44e544e167\" y=\"114.391178\"/>\n     <use style=\"fill:#1f77b4;stroke:#1f77b4;\" x=\"343.426688\" xlink:href=\"#m44e544e167\" y=\"144.378004\"/>\n     <use style=\"fill:#1f77b4;stroke:#1f77b4;\" x=\"332.017735\" xlink:href=\"#m44e544e167\" y=\"137.379985\"/>\n     <use style=\"fill:#1f77b4;stroke:#1f77b4;\" x=\"282.348022\" xlink:href=\"#m44e544e167\" y=\"140.5308\"/>\n     <use style=\"fill:#1f77b4;stroke:#1f77b4;\" x=\"305.82952\" xlink:href=\"#m44e544e167\" y=\"140.611731\"/>\n     <use style=\"fill:#1f77b4;stroke:#1f77b4;\" x=\"349.232897\" xlink:href=\"#m44e544e167\" y=\"134.091525\"/>\n     <use style=\"fill:#1f77b4;stroke:#1f77b4;\" x=\"336.753503\" xlink:href=\"#m44e544e167\" y=\"138.353305\"/>\n     <use style=\"fill:#1f77b4;stroke:#1f77b4;\" x=\"321.464188\" xlink:href=\"#m44e544e167\" y=\"147.084677\"/>\n     <use style=\"fill:#1f77b4;stroke:#1f77b4;\" x=\"236.052062\" xlink:href=\"#m44e544e167\" y=\"127.61445\"/>\n     <use style=\"fill:#1f77b4;stroke:#1f77b4;\" x=\"326.880965\" xlink:href=\"#m44e544e167\" y=\"139.545672\"/>\n     <use style=\"fill:#1f77b4;stroke:#1f77b4;\" x=\"299.514883\" xlink:href=\"#m44e544e167\" y=\"137.094766\"/>\n     <use style=\"fill:#1f77b4;stroke:#1f77b4;\" x=\"335.528441\" xlink:href=\"#m44e544e167\" y=\"142.081319\"/>\n     <use style=\"fill:#1f77b4;stroke:#1f77b4;\" x=\"328.310632\" xlink:href=\"#m44e544e167\" y=\"149.889869\"/>\n     <use style=\"fill:#1f77b4;stroke:#1f77b4;\" x=\"302.293777\" xlink:href=\"#m44e544e167\" y=\"149.434041\"/>\n     <use style=\"fill:#1f77b4;stroke:#1f77b4;\" x=\"333.071591\" xlink:href=\"#m44e544e167\" y=\"142.669141\"/>\n     <use style=\"fill:#1f77b4;stroke:#1f77b4;\" x=\"325.374129\" xlink:href=\"#m44e544e167\" y=\"149.847088\"/>\n     <use style=\"fill:#1f77b4;stroke:#1f77b4;\" x=\"271.269799\" xlink:href=\"#m44e544e167\" y=\"76.132173\"/>\n     <use style=\"fill:#1f77b4;stroke:#1f77b4;\" x=\"264.185468\" xlink:href=\"#m44e544e167\" y=\"158.24665\"/>\n     <use style=\"fill:#1f77b4;stroke:#1f77b4;\" x=\"324.917502\" xlink:href=\"#m44e544e167\" y=\"139.951408\"/>\n     <use style=\"fill:#1f77b4;stroke:#1f77b4;\" x=\"282.499738\" xlink:href=\"#m44e544e167\" y=\"142.476252\"/>\n     <use style=\"fill:#1f77b4;stroke:#1f77b4;\" x=\"327.536326\" xlink:href=\"#m44e544e167\" y=\"146.11737\"/>\n     <use style=\"fill:#1f77b4;stroke:#1f77b4;\" x=\"301.975397\" xlink:href=\"#m44e544e167\" y=\"135.577653\"/>\n     <use style=\"fill:#1f77b4;stroke:#1f77b4;\" x=\"338.658719\" xlink:href=\"#m44e544e167\" y=\"134.836621\"/>\n     <use style=\"fill:#1f77b4;stroke:#1f77b4;\" x=\"271.326564\" xlink:href=\"#m44e544e167\" y=\"112.204681\"/>\n     <use style=\"fill:#1f77b4;stroke:#1f77b4;\" x=\"228.11979\" xlink:href=\"#m44e544e167\" y=\"111.755888\"/>\n     <use style=\"fill:#1f77b4;stroke:#1f77b4;\" x=\"352.091376\" xlink:href=\"#m44e544e167\" y=\"140.304896\"/>\n     <use style=\"fill:#1f77b4;stroke:#1f77b4;\" x=\"326.204459\" xlink:href=\"#m44e544e167\" y=\"146.855474\"/>\n     <use style=\"fill:#1f77b4;stroke:#1f77b4;\" x=\"316.764782\" xlink:href=\"#m44e544e167\" y=\"146.758264\"/>\n     <use style=\"fill:#1f77b4;stroke:#1f77b4;\" x=\"330.126141\" xlink:href=\"#m44e544e167\" y=\"140.784125\"/>\n     <use style=\"fill:#1f77b4;stroke:#1f77b4;\" x=\"331.752661\" xlink:href=\"#m44e544e167\" y=\"140.599037\"/>\n     <use style=\"fill:#1f77b4;stroke:#1f77b4;\" x=\"310.932755\" xlink:href=\"#m44e544e167\" y=\"126.426724\"/>\n     <use style=\"fill:#1f77b4;stroke:#1f77b4;\" x=\"317.431314\" xlink:href=\"#m44e544e167\" y=\"140.215695\"/>\n     <use style=\"fill:#1f77b4;stroke:#1f77b4;\" x=\"299.282306\" xlink:href=\"#m44e544e167\" y=\"127.643685\"/>\n     <use style=\"fill:#1f77b4;stroke:#1f77b4;\" x=\"351.93778\" xlink:href=\"#m44e544e167\" y=\"159.614768\"/>\n     <use style=\"fill:#1f77b4;stroke:#1f77b4;\" x=\"316.089473\" xlink:href=\"#m44e544e167\" y=\"121.469185\"/>\n     <use style=\"fill:#1f77b4;stroke:#1f77b4;\" x=\"306.821737\" xlink:href=\"#m44e544e167\" y=\"137.204045\"/>\n     <use style=\"fill:#1f77b4;stroke:#1f77b4;\" x=\"315.852838\" xlink:href=\"#m44e544e167\" y=\"134.063842\"/>\n     <use style=\"fill:#1f77b4;stroke:#1f77b4;\" x=\"327.010624\" xlink:href=\"#m44e544e167\" y=\"142.952968\"/>\n     <use style=\"fill:#1f77b4;stroke:#1f77b4;\" x=\"263.505542\" xlink:href=\"#m44e544e167\" y=\"144.293184\"/>\n     <use style=\"fill:#1f77b4;stroke:#1f77b4;\" x=\"353.995338\" xlink:href=\"#m44e544e167\" y=\"130.837365\"/>\n     <use style=\"fill:#1f77b4;stroke:#1f77b4;\" x=\"294.718902\" xlink:href=\"#m44e544e167\" y=\"135.029903\"/>\n     <use style=\"fill:#1f77b4;stroke:#1f77b4;\" x=\"285.005089\" xlink:href=\"#m44e544e167\" y=\"128.732455\"/>\n     <use style=\"fill:#1f77b4;stroke:#1f77b4;\" x=\"326.45386\" xlink:href=\"#m44e544e167\" y=\"147.66177\"/>\n     <use style=\"fill:#1f77b4;stroke:#1f77b4;\" x=\"294.403446\" xlink:href=\"#m44e544e167\" y=\"140.257133\"/>\n     <use style=\"fill:#1f77b4;stroke:#1f77b4;\" x=\"325.082668\" xlink:href=\"#m44e544e167\" y=\"137.615301\"/>\n     <use style=\"fill:#1f77b4;stroke:#1f77b4;\" x=\"327.253014\" xlink:href=\"#m44e544e167\" y=\"125.35102\"/>\n     <use style=\"fill:#1f77b4;stroke:#1f77b4;\" x=\"338.546899\" xlink:href=\"#m44e544e167\" y=\"139.885669\"/>\n     <use style=\"fill:#1f77b4;stroke:#1f77b4;\" x=\"271.763814\" xlink:href=\"#m44e544e167\" y=\"81.774634\"/>\n     <use style=\"fill:#1f77b4;stroke:#1f77b4;\" x=\"307.882472\" xlink:href=\"#m44e544e167\" y=\"129.581031\"/>\n     <use style=\"fill:#1f77b4;stroke:#1f77b4;\" x=\"339.863549\" xlink:href=\"#m44e544e167\" y=\"146.992799\"/>\n     <use style=\"fill:#1f77b4;stroke:#1f77b4;\" x=\"324.582213\" xlink:href=\"#m44e544e167\" y=\"138.746324\"/>\n     <use style=\"fill:#1f77b4;stroke:#1f77b4;\" x=\"318.933476\" xlink:href=\"#m44e544e167\" y=\"145.910606\"/>\n     <use style=\"fill:#1f77b4;stroke:#1f77b4;\" x=\"279.239345\" xlink:href=\"#m44e544e167\" y=\"127.092309\"/>\n     <use style=\"fill:#1f77b4;stroke:#1f77b4;\" x=\"322.445891\" xlink:href=\"#m44e544e167\" y=\"131.522396\"/>\n     <use style=\"fill:#1f77b4;stroke:#1f77b4;\" x=\"337.579672\" xlink:href=\"#m44e544e167\" y=\"153.768012\"/>\n     <use style=\"fill:#1f77b4;stroke:#1f77b4;\" x=\"322.411182\" xlink:href=\"#m44e544e167\" y=\"133.312781\"/>\n     <use style=\"fill:#1f77b4;stroke:#1f77b4;\" x=\"327.462634\" xlink:href=\"#m44e544e167\" y=\"139.317627\"/>\n     <use style=\"fill:#1f77b4;stroke:#1f77b4;\" x=\"334.328683\" xlink:href=\"#m44e544e167\" y=\"124.221632\"/>\n     <use style=\"fill:#1f77b4;stroke:#1f77b4;\" x=\"314.360764\" xlink:href=\"#m44e544e167\" y=\"138.525902\"/>\n     <use style=\"fill:#1f77b4;stroke:#1f77b4;\" x=\"310.360489\" xlink:href=\"#m44e544e167\" y=\"139.109944\"/>\n     <use style=\"fill:#1f77b4;stroke:#1f77b4;\" x=\"312.482791\" xlink:href=\"#m44e544e167\" y=\"135.966009\"/>\n     <use style=\"fill:#1f77b4;stroke:#1f77b4;\" x=\"192.673055\" xlink:href=\"#m44e544e167\" y=\"104.630927\"/>\n     <use style=\"fill:#1f77b4;stroke:#1f77b4;\" x=\"337.853295\" xlink:href=\"#m44e544e167\" y=\"130.638489\"/>\n     <use style=\"fill:#1f77b4;stroke:#1f77b4;\" x=\"325.210674\" xlink:href=\"#m44e544e167\" y=\"143.010061\"/>\n     <use style=\"fill:#1f77b4;stroke:#1f77b4;\" x=\"297.36625\" xlink:href=\"#m44e544e167\" y=\"137.438913\"/>\n     <use style=\"fill:#1f77b4;stroke:#1f77b4;\" x=\"239.803905\" xlink:href=\"#m44e544e167\" y=\"150.600312\"/>\n     <use style=\"fill:#1f77b4;stroke:#1f77b4;\" x=\"341.150106\" xlink:href=\"#m44e544e167\" y=\"143.773576\"/>\n     <use style=\"fill:#1f77b4;stroke:#1f77b4;\" x=\"176.647221\" xlink:href=\"#m44e544e167\" y=\"143.049937\"/>\n     <use style=\"fill:#1f77b4;stroke:#1f77b4;\" x=\"313.548672\" xlink:href=\"#m44e544e167\" y=\"144.004462\"/>\n     <use style=\"fill:#1f77b4;stroke:#1f77b4;\" x=\"334.132286\" xlink:href=\"#m44e544e167\" y=\"143.327144\"/>\n     <use style=\"fill:#1f77b4;stroke:#1f77b4;\" x=\"129.794497\" xlink:href=\"#m44e544e167\" y=\"175.044137\"/>\n     <use style=\"fill:#1f77b4;stroke:#1f77b4;\" x=\"311.797736\" xlink:href=\"#m44e544e167\" y=\"158.55567\"/>\n     <use style=\"fill:#1f77b4;stroke:#1f77b4;\" x=\"325.251253\" xlink:href=\"#m44e544e167\" y=\"163.637731\"/>\n     <use style=\"fill:#1f77b4;stroke:#1f77b4;\" x=\"198.869893\" xlink:href=\"#m44e544e167\" y=\"146.294068\"/>\n     <use style=\"fill:#1f77b4;stroke:#1f77b4;\" x=\"322.501459\" xlink:href=\"#m44e544e167\" y=\"135.464625\"/>\n     <use style=\"fill:#1f77b4;stroke:#1f77b4;\" x=\"275.275032\" xlink:href=\"#m44e544e167\" y=\"127.764208\"/>\n     <use style=\"fill:#1f77b4;stroke:#1f77b4;\" x=\"284.822996\" xlink:href=\"#m44e544e167\" y=\"149.351559\"/>\n     <use style=\"fill:#1f77b4;stroke:#1f77b4;\" x=\"341.080005\" xlink:href=\"#m44e544e167\" y=\"143.204065\"/>\n     <use style=\"fill:#1f77b4;stroke:#1f77b4;\" x=\"345.162749\" xlink:href=\"#m44e544e167\" y=\"136.468921\"/>\n     <use style=\"fill:#1f77b4;stroke:#1f77b4;\" x=\"322.22852\" xlink:href=\"#m44e544e167\" y=\"145.951137\"/>\n     <use style=\"fill:#1f77b4;stroke:#1f77b4;\" x=\"262.706901\" xlink:href=\"#m44e544e167\" y=\"140.41303\"/>\n     <use style=\"fill:#1f77b4;stroke:#1f77b4;\" x=\"270.912625\" xlink:href=\"#m44e544e167\" y=\"107.132496\"/>\n     <use style=\"fill:#1f77b4;stroke:#1f77b4;\" x=\"53.700994\" xlink:href=\"#m44e544e167\" y=\"147.7037\"/>\n     <use style=\"fill:#1f77b4;stroke:#1f77b4;\" x=\"206.848899\" xlink:href=\"#m44e544e167\" y=\"214.756364\"/>\n     <use style=\"fill:#1f77b4;stroke:#1f77b4;\" x=\"210.164176\" xlink:href=\"#m44e544e167\" y=\"159.625933\"/>\n     <use style=\"fill:#1f77b4;stroke:#1f77b4;\" x=\"319.277656\" xlink:href=\"#m44e544e167\" y=\"151.093787\"/>\n     <use style=\"fill:#1f77b4;stroke:#1f77b4;\" x=\"347.811665\" xlink:href=\"#m44e544e167\" y=\"142.516062\"/>\n     <use style=\"fill:#1f77b4;stroke:#1f77b4;\" x=\"302.795995\" xlink:href=\"#m44e544e167\" y=\"147.973172\"/>\n     <use style=\"fill:#1f77b4;stroke:#1f77b4;\" x=\"321.681844\" xlink:href=\"#m44e544e167\" y=\"143.540287\"/>\n     <use style=\"fill:#1f77b4;stroke:#1f77b4;\" x=\"190.752964\" xlink:href=\"#m44e544e167\" y=\"100.890699\"/>\n     <use style=\"fill:#1f77b4;stroke:#1f77b4;\" x=\"310.832448\" xlink:href=\"#m44e544e167\" y=\"17.083636\"/>\n     <use style=\"fill:#1f77b4;stroke:#1f77b4;\" x=\"335.659068\" xlink:href=\"#m44e544e167\" y=\"145.907962\"/>\n     <use style=\"fill:#1f77b4;stroke:#1f77b4;\" x=\"277.28882\" xlink:href=\"#m44e544e167\" y=\"125.743484\"/>\n     <use style=\"fill:#1f77b4;stroke:#1f77b4;\" x=\"251.721975\" xlink:href=\"#m44e544e167\" y=\"125.707716\"/>\n     <use style=\"fill:#1f77b4;stroke:#1f77b4;\" x=\"328.438638\" xlink:href=\"#m44e544e167\" y=\"138.686689\"/>\n     <use style=\"fill:#1f77b4;stroke:#1f77b4;\" x=\"329.053933\" xlink:href=\"#m44e544e167\" y=\"144.366992\"/>\n     <use style=\"fill:#1f77b4;stroke:#1f77b4;\" x=\"276.907195\" xlink:href=\"#m44e544e167\" y=\"140.016349\"/>\n     <use style=\"fill:#1f77b4;stroke:#1f77b4;\" x=\"356.122541\" xlink:href=\"#m44e544e167\" y=\"134.822178\"/>\n     <use style=\"fill:#1f77b4;stroke:#1f77b4;\" x=\"317.213202\" xlink:href=\"#m44e544e167\" y=\"143.766082\"/>\n     <use style=\"fill:#1f77b4;stroke:#1f77b4;\" x=\"326.381992\" xlink:href=\"#m44e544e167\" y=\"151.330484\"/>\n     <use style=\"fill:#1f77b4;stroke:#1f77b4;\" x=\"358.064631\" xlink:href=\"#m44e544e167\" y=\"149.949169\"/>\n     <use style=\"fill:#1f77b4;stroke:#1f77b4;\" x=\"287.90939\" xlink:href=\"#m44e544e167\" y=\"146.519862\"/>\n     <use style=\"fill:#1f77b4;stroke:#1f77b4;\" x=\"318.885488\" xlink:href=\"#m44e544e167\" y=\"133.279373\"/>\n     <use style=\"fill:#1f77b4;stroke:#1f77b4;\" x=\"327.224233\" xlink:href=\"#m44e544e167\" y=\"135.861961\"/>\n     <use style=\"fill:#1f77b4;stroke:#1f77b4;\" x=\"298.764383\" xlink:href=\"#m44e544e167\" y=\"127.521327\"/>\n     <use style=\"fill:#1f77b4;stroke:#1f77b4;\" x=\"298.024969\" xlink:href=\"#m44e544e167\" y=\"145.640719\"/>\n     <use style=\"fill:#1f77b4;stroke:#1f77b4;\" x=\"195.221777\" xlink:href=\"#m44e544e167\" y=\"113.026666\"/>\n     <use style=\"fill:#1f77b4;stroke:#1f77b4;\" x=\"309.676803\" xlink:href=\"#m44e544e167\" y=\"142.863515\"/>\n     <use style=\"fill:#1f77b4;stroke:#1f77b4;\" x=\"164.480946\" xlink:href=\"#m44e544e167\" y=\"156.674391\"/>\n     <use style=\"fill:#1f77b4;stroke:#1f77b4;\" x=\"316.544447\" xlink:href=\"#m44e544e167\" y=\"129.33166\"/>\n     <use style=\"fill:#1f77b4;stroke:#1f77b4;\" x=\"333.912065\" xlink:href=\"#m44e544e167\" y=\"135.865042\"/>\n     <use style=\"fill:#1f77b4;stroke:#1f77b4;\" x=\"329.166494\" xlink:href=\"#m44e544e167\" y=\"139.15212\"/>\n     <use style=\"fill:#1f77b4;stroke:#1f77b4;\" x=\"309.771753\" xlink:href=\"#m44e544e167\" y=\"128.905067\"/>\n    </g>\n   </g>\n   <g id=\"matplotlib.axis_1\">\n    <g id=\"xtick_1\">\n     <g id=\"line2d_1\">\n      <defs>\n       <path d=\"M 0 0 \nL 0 3.5 \n\" id=\"ma3133b1d31\" style=\"stroke:#000000;stroke-width:0.8;\"/>\n      </defs>\n      <g>\n       <use style=\"stroke:#000000;stroke-width:0.8;\" x=\"74.404236\" xlink:href=\"#ma3133b1d31\" y=\"224.64\"/>\n      </g>\n     </g>\n     <g id=\"text_1\">\n      <!-- −0.4 -->\n      <g transform=\"translate(62.262829 239.238437)scale(0.1 -0.1)\">\n       <defs>\n        <path d=\"M 10.59375 35.5 \nL 73.1875 35.5 \nL 73.1875 27.203125 \nL 10.59375 27.203125 \nz\n\" id=\"DejaVuSans-8722\"/>\n        <path d=\"M 31.78125 66.40625 \nQ 24.171875 66.40625 20.328125 58.90625 \nQ 16.5 51.421875 16.5 36.375 \nQ 16.5 21.390625 20.328125 13.890625 \nQ 24.171875 6.390625 31.78125 6.390625 \nQ 39.453125 6.390625 43.28125 13.890625 \nQ 47.125 21.390625 47.125 36.375 \nQ 47.125 51.421875 43.28125 58.90625 \nQ 39.453125 66.40625 31.78125 66.40625 \nz\nM 31.78125 74.21875 \nQ 44.046875 74.21875 50.515625 64.515625 \nQ 56.984375 54.828125 56.984375 36.375 \nQ 56.984375 17.96875 50.515625 8.265625 \nQ 44.046875 -1.421875 31.78125 -1.421875 \nQ 19.53125 -1.421875 13.0625 8.265625 \nQ 6.59375 17.96875 6.59375 36.375 \nQ 6.59375 54.828125 13.0625 64.515625 \nQ 19.53125 74.21875 31.78125 74.21875 \nz\n\" id=\"DejaVuSans-48\"/>\n        <path d=\"M 10.6875 12.40625 \nL 21 12.40625 \nL 21 0 \nL 10.6875 0 \nz\n\" id=\"DejaVuSans-46\"/>\n        <path d=\"M 37.796875 64.3125 \nL 12.890625 25.390625 \nL 37.796875 25.390625 \nz\nM 35.203125 72.90625 \nL 47.609375 72.90625 \nL 47.609375 25.390625 \nL 58.015625 25.390625 \nL 58.015625 17.1875 \nL 47.609375 17.1875 \nL 47.609375 0 \nL 37.796875 0 \nL 37.796875 17.1875 \nL 4.890625 17.1875 \nL 4.890625 26.703125 \nz\n\" id=\"DejaVuSans-52\"/>\n       </defs>\n       <use xlink:href=\"#DejaVuSans-8722\"/>\n       <use x=\"83.789062\" xlink:href=\"#DejaVuSans-48\"/>\n       <use x=\"147.412109\" xlink:href=\"#DejaVuSans-46\"/>\n       <use x=\"179.199219\" xlink:href=\"#DejaVuSans-52\"/>\n      </g>\n     </g>\n    </g>\n    <g id=\"xtick_2\">\n     <g id=\"line2d_2\">\n      <g>\n       <use style=\"stroke:#000000;stroke-width:0.8;\" x=\"131.397137\" xlink:href=\"#ma3133b1d31\" y=\"224.64\"/>\n      </g>\n     </g>\n     <g id=\"text_2\">\n      <!-- −0.3 -->\n      <g transform=\"translate(119.255731 239.238437)scale(0.1 -0.1)\">\n       <defs>\n        <path d=\"M 40.578125 39.3125 \nQ 47.65625 37.796875 51.625 33 \nQ 55.609375 28.21875 55.609375 21.1875 \nQ 55.609375 10.40625 48.1875 4.484375 \nQ 40.765625 -1.421875 27.09375 -1.421875 \nQ 22.515625 -1.421875 17.65625 -0.515625 \nQ 12.796875 0.390625 7.625 2.203125 \nL 7.625 11.71875 \nQ 11.71875 9.328125 16.59375 8.109375 \nQ 21.484375 6.890625 26.8125 6.890625 \nQ 36.078125 6.890625 40.9375 10.546875 \nQ 45.796875 14.203125 45.796875 21.1875 \nQ 45.796875 27.640625 41.28125 31.265625 \nQ 36.765625 34.90625 28.71875 34.90625 \nL 20.21875 34.90625 \nL 20.21875 43.015625 \nL 29.109375 43.015625 \nQ 36.375 43.015625 40.234375 45.921875 \nQ 44.09375 48.828125 44.09375 54.296875 \nQ 44.09375 59.90625 40.109375 62.90625 \nQ 36.140625 65.921875 28.71875 65.921875 \nQ 24.65625 65.921875 20.015625 65.03125 \nQ 15.375 64.15625 9.8125 62.3125 \nL 9.8125 71.09375 \nQ 15.4375 72.65625 20.34375 73.4375 \nQ 25.25 74.21875 29.59375 74.21875 \nQ 40.828125 74.21875 47.359375 69.109375 \nQ 53.90625 64.015625 53.90625 55.328125 \nQ 53.90625 49.265625 50.4375 45.09375 \nQ 46.96875 40.921875 40.578125 39.3125 \nz\n\" id=\"DejaVuSans-51\"/>\n       </defs>\n       <use xlink:href=\"#DejaVuSans-8722\"/>\n       <use x=\"83.789062\" xlink:href=\"#DejaVuSans-48\"/>\n       <use x=\"147.412109\" xlink:href=\"#DejaVuSans-46\"/>\n       <use x=\"179.199219\" xlink:href=\"#DejaVuSans-51\"/>\n      </g>\n     </g>\n    </g>\n    <g id=\"xtick_3\">\n     <g id=\"line2d_3\">\n      <g>\n       <use style=\"stroke:#000000;stroke-width:0.8;\" x=\"188.390038\" xlink:href=\"#ma3133b1d31\" y=\"224.64\"/>\n      </g>\n     </g>\n     <g id=\"text_3\">\n      <!-- −0.2 -->\n      <g transform=\"translate(176.248632 239.238437)scale(0.1 -0.1)\">\n       <defs>\n        <path d=\"M 19.1875 8.296875 \nL 53.609375 8.296875 \nL 53.609375 0 \nL 7.328125 0 \nL 7.328125 8.296875 \nQ 12.9375 14.109375 22.625 23.890625 \nQ 32.328125 33.6875 34.8125 36.53125 \nQ 39.546875 41.84375 41.421875 45.53125 \nQ 43.3125 49.21875 43.3125 52.78125 \nQ 43.3125 58.59375 39.234375 62.25 \nQ 35.15625 65.921875 28.609375 65.921875 \nQ 23.96875 65.921875 18.8125 64.3125 \nQ 13.671875 62.703125 7.8125 59.421875 \nL 7.8125 69.390625 \nQ 13.765625 71.78125 18.9375 73 \nQ 24.125 74.21875 28.421875 74.21875 \nQ 39.75 74.21875 46.484375 68.546875 \nQ 53.21875 62.890625 53.21875 53.421875 \nQ 53.21875 48.921875 51.53125 44.890625 \nQ 49.859375 40.875 45.40625 35.40625 \nQ 44.1875 33.984375 37.640625 27.21875 \nQ 31.109375 20.453125 19.1875 8.296875 \nz\n\" id=\"DejaVuSans-50\"/>\n       </defs>\n       <use xlink:href=\"#DejaVuSans-8722\"/>\n       <use x=\"83.789062\" xlink:href=\"#DejaVuSans-48\"/>\n       <use x=\"147.412109\" xlink:href=\"#DejaVuSans-46\"/>\n       <use x=\"179.199219\" xlink:href=\"#DejaVuSans-50\"/>\n      </g>\n     </g>\n    </g>\n    <g id=\"xtick_4\">\n     <g id=\"line2d_4\">\n      <g>\n       <use style=\"stroke:#000000;stroke-width:0.8;\" x=\"245.38294\" xlink:href=\"#ma3133b1d31\" y=\"224.64\"/>\n      </g>\n     </g>\n     <g id=\"text_4\">\n      <!-- −0.1 -->\n      <g transform=\"translate(233.241533 239.238437)scale(0.1 -0.1)\">\n       <defs>\n        <path d=\"M 12.40625 8.296875 \nL 28.515625 8.296875 \nL 28.515625 63.921875 \nL 10.984375 60.40625 \nL 10.984375 69.390625 \nL 28.421875 72.90625 \nL 38.28125 72.90625 \nL 38.28125 8.296875 \nL 54.390625 8.296875 \nL 54.390625 0 \nL 12.40625 0 \nz\n\" id=\"DejaVuSans-49\"/>\n       </defs>\n       <use xlink:href=\"#DejaVuSans-8722\"/>\n       <use x=\"83.789062\" xlink:href=\"#DejaVuSans-48\"/>\n       <use x=\"147.412109\" xlink:href=\"#DejaVuSans-46\"/>\n       <use x=\"179.199219\" xlink:href=\"#DejaVuSans-49\"/>\n      </g>\n     </g>\n    </g>\n    <g id=\"xtick_5\">\n     <g id=\"line2d_5\">\n      <g>\n       <use style=\"stroke:#000000;stroke-width:0.8;\" x=\"302.375841\" xlink:href=\"#ma3133b1d31\" y=\"224.64\"/>\n      </g>\n     </g>\n     <g id=\"text_5\">\n      <!-- 0.0 -->\n      <g transform=\"translate(294.424278 239.238437)scale(0.1 -0.1)\">\n       <use xlink:href=\"#DejaVuSans-48\"/>\n       <use x=\"63.623047\" xlink:href=\"#DejaVuSans-46\"/>\n       <use x=\"95.410156\" xlink:href=\"#DejaVuSans-48\"/>\n      </g>\n     </g>\n    </g>\n    <g id=\"xtick_6\">\n     <g id=\"line2d_6\">\n      <g>\n       <use style=\"stroke:#000000;stroke-width:0.8;\" x=\"359.368742\" xlink:href=\"#ma3133b1d31\" y=\"224.64\"/>\n      </g>\n     </g>\n     <g id=\"text_6\">\n      <!-- 0.1 -->\n      <g transform=\"translate(351.41718 239.238437)scale(0.1 -0.1)\">\n       <use xlink:href=\"#DejaVuSans-48\"/>\n       <use x=\"63.623047\" xlink:href=\"#DejaVuSans-46\"/>\n       <use x=\"95.410156\" xlink:href=\"#DejaVuSans-49\"/>\n      </g>\n     </g>\n    </g>\n   </g>\n   <g id=\"matplotlib.axis_2\">\n    <g id=\"ytick_1\">\n     <g id=\"line2d_7\">\n      <defs>\n       <path d=\"M 0 0 \nL -3.5 0 \n\" id=\"maaabc1139a\" style=\"stroke:#000000;stroke-width:0.8;\"/>\n      </defs>\n      <g>\n       <use style=\"stroke:#000000;stroke-width:0.8;\" x=\"38.482813\" xlink:href=\"#maaabc1139a\" y=\"181.766846\"/>\n      </g>\n     </g>\n     <g id=\"text_7\">\n      <!-- −0.2 -->\n      <g transform=\"translate(7.2 185.566064)scale(0.1 -0.1)\">\n       <use xlink:href=\"#DejaVuSans-8722\"/>\n       <use x=\"83.789062\" xlink:href=\"#DejaVuSans-48\"/>\n       <use x=\"147.412109\" xlink:href=\"#DejaVuSans-46\"/>\n       <use x=\"179.199219\" xlink:href=\"#DejaVuSans-50\"/>\n      </g>\n     </g>\n    </g>\n    <g id=\"ytick_2\">\n     <g id=\"line2d_8\">\n      <g>\n       <use style=\"stroke:#000000;stroke-width:0.8;\" x=\"38.482813\" xlink:href=\"#maaabc1139a\" y=\"138.067489\"/>\n      </g>\n     </g>\n     <g id=\"text_8\">\n      <!-- 0.0 -->\n      <g transform=\"translate(15.579688 141.866708)scale(0.1 -0.1)\">\n       <use xlink:href=\"#DejaVuSans-48\"/>\n       <use x=\"63.623047\" xlink:href=\"#DejaVuSans-46\"/>\n       <use x=\"95.410156\" xlink:href=\"#DejaVuSans-48\"/>\n      </g>\n     </g>\n    </g>\n    <g id=\"ytick_3\">\n     <g id=\"line2d_9\">\n      <g>\n       <use style=\"stroke:#000000;stroke-width:0.8;\" x=\"38.482813\" xlink:href=\"#maaabc1139a\" y=\"94.368133\"/>\n      </g>\n     </g>\n     <g id=\"text_9\">\n      <!-- 0.2 -->\n      <g transform=\"translate(15.579688 98.167352)scale(0.1 -0.1)\">\n       <use xlink:href=\"#DejaVuSans-48\"/>\n       <use x=\"63.623047\" xlink:href=\"#DejaVuSans-46\"/>\n       <use x=\"95.410156\" xlink:href=\"#DejaVuSans-50\"/>\n      </g>\n     </g>\n    </g>\n    <g id=\"ytick_4\">\n     <g id=\"line2d_10\">\n      <g>\n       <use style=\"stroke:#000000;stroke-width:0.8;\" x=\"38.482813\" xlink:href=\"#maaabc1139a\" y=\"50.668777\"/>\n      </g>\n     </g>\n     <g id=\"text_10\">\n      <!-- 0.4 -->\n      <g transform=\"translate(15.579688 54.467995)scale(0.1 -0.1)\">\n       <use xlink:href=\"#DejaVuSans-48\"/>\n       <use x=\"63.623047\" xlink:href=\"#DejaVuSans-46\"/>\n       <use x=\"95.410156\" xlink:href=\"#DejaVuSans-52\"/>\n      </g>\n     </g>\n    </g>\n   </g>\n   <g id=\"patch_3\">\n    <path d=\"M 38.482813 224.64 \nL 38.482813 7.2 \n\" style=\"fill:none;stroke:#000000;stroke-linecap:square;stroke-linejoin:miter;stroke-width:0.8;\"/>\n   </g>\n   <g id=\"patch_4\">\n    <path d=\"M 373.282813 224.64 \nL 373.282813 7.2 \n\" style=\"fill:none;stroke:#000000;stroke-linecap:square;stroke-linejoin:miter;stroke-width:0.8;\"/>\n   </g>\n   <g id=\"patch_5\">\n    <path d=\"M 38.482813 224.64 \nL 373.282813 224.64 \n\" style=\"fill:none;stroke:#000000;stroke-linecap:square;stroke-linejoin:miter;stroke-width:0.8;\"/>\n   </g>\n   <g id=\"patch_6\">\n    <path d=\"M 38.482813 7.2 \nL 373.282813 7.2 \n\" style=\"fill:none;stroke:#000000;stroke-linecap:square;stroke-linejoin:miter;stroke-width:0.8;\"/>\n   </g>\n   <g id=\"text_11\">\n    <!-- EP2314 -->\n    <g transform=\"translate(271.269799 76.132173)scale(0.1 -0.1)\">\n     <defs>\n      <path d=\"M 9.8125 72.90625 \nL 55.90625 72.90625 \nL 55.90625 64.59375 \nL 19.671875 64.59375 \nL 19.671875 43.015625 \nL 54.390625 43.015625 \nL 54.390625 34.71875 \nL 19.671875 34.71875 \nL 19.671875 8.296875 \nL 56.78125 8.296875 \nL 56.78125 0 \nL 9.8125 0 \nz\n\" id=\"DejaVuSans-69\"/>\n      <path d=\"M 19.671875 64.796875 \nL 19.671875 37.40625 \nL 32.078125 37.40625 \nQ 38.96875 37.40625 42.71875 40.96875 \nQ 46.484375 44.53125 46.484375 51.125 \nQ 46.484375 57.671875 42.71875 61.234375 \nQ 38.96875 64.796875 32.078125 64.796875 \nz\nM 9.8125 72.90625 \nL 32.078125 72.90625 \nQ 44.34375 72.90625 50.609375 67.359375 \nQ 56.890625 61.8125 56.890625 51.125 \nQ 56.890625 40.328125 50.609375 34.8125 \nQ 44.34375 29.296875 32.078125 29.296875 \nL 19.671875 29.296875 \nL 19.671875 0 \nL 9.8125 0 \nz\n\" id=\"DejaVuSans-80\"/>\n     </defs>\n     <use xlink:href=\"#DejaVuSans-69\"/>\n     <use x=\"63.183594\" xlink:href=\"#DejaVuSans-80\"/>\n     <use x=\"123.486328\" xlink:href=\"#DejaVuSans-50\"/>\n     <use x=\"187.109375\" xlink:href=\"#DejaVuSans-51\"/>\n     <use x=\"250.732422\" xlink:href=\"#DejaVuSans-49\"/>\n     <use x=\"314.355469\" xlink:href=\"#DejaVuSans-52\"/>\n    </g>\n   </g>\n   <g id=\"text_12\">\n    <!-- EP4795 -->\n    <g transform=\"translate(129.794497 175.044137)scale(0.1 -0.1)\">\n     <defs>\n      <path d=\"M 8.203125 72.90625 \nL 55.078125 72.90625 \nL 55.078125 68.703125 \nL 28.609375 0 \nL 18.3125 0 \nL 43.21875 64.59375 \nL 8.203125 64.59375 \nz\n\" id=\"DejaVuSans-55\"/>\n      <path d=\"M 10.984375 1.515625 \nL 10.984375 10.5 \nQ 14.703125 8.734375 18.5 7.8125 \nQ 22.3125 6.890625 25.984375 6.890625 \nQ 35.75 6.890625 40.890625 13.453125 \nQ 46.046875 20.015625 46.78125 33.40625 \nQ 43.953125 29.203125 39.59375 26.953125 \nQ 35.25 24.703125 29.984375 24.703125 \nQ 19.046875 24.703125 12.671875 31.3125 \nQ 6.296875 37.9375 6.296875 49.421875 \nQ 6.296875 60.640625 12.9375 67.421875 \nQ 19.578125 74.21875 30.609375 74.21875 \nQ 43.265625 74.21875 49.921875 64.515625 \nQ 56.59375 54.828125 56.59375 36.375 \nQ 56.59375 19.140625 48.40625 8.859375 \nQ 40.234375 -1.421875 26.421875 -1.421875 \nQ 22.703125 -1.421875 18.890625 -0.6875 \nQ 15.09375 0.046875 10.984375 1.515625 \nz\nM 30.609375 32.421875 \nQ 37.25 32.421875 41.125 36.953125 \nQ 45.015625 41.5 45.015625 49.421875 \nQ 45.015625 57.28125 41.125 61.84375 \nQ 37.25 66.40625 30.609375 66.40625 \nQ 23.96875 66.40625 20.09375 61.84375 \nQ 16.21875 57.28125 16.21875 49.421875 \nQ 16.21875 41.5 20.09375 36.953125 \nQ 23.96875 32.421875 30.609375 32.421875 \nz\n\" id=\"DejaVuSans-57\"/>\n      <path d=\"M 10.796875 72.90625 \nL 49.515625 72.90625 \nL 49.515625 64.59375 \nL 19.828125 64.59375 \nL 19.828125 46.734375 \nQ 21.96875 47.46875 24.109375 47.828125 \nQ 26.265625 48.1875 28.421875 48.1875 \nQ 40.625 48.1875 47.75 41.5 \nQ 54.890625 34.8125 54.890625 23.390625 \nQ 54.890625 11.625 47.5625 5.09375 \nQ 40.234375 -1.421875 26.90625 -1.421875 \nQ 22.3125 -1.421875 17.546875 -0.640625 \nQ 12.796875 0.140625 7.71875 1.703125 \nL 7.71875 11.625 \nQ 12.109375 9.234375 16.796875 8.0625 \nQ 21.484375 6.890625 26.703125 6.890625 \nQ 35.15625 6.890625 40.078125 11.328125 \nQ 45.015625 15.765625 45.015625 23.390625 \nQ 45.015625 31 40.078125 35.4375 \nQ 35.15625 39.890625 26.703125 39.890625 \nQ 22.75 39.890625 18.8125 39.015625 \nQ 14.890625 38.140625 10.796875 36.28125 \nz\n\" id=\"DejaVuSans-53\"/>\n     </defs>\n     <use xlink:href=\"#DejaVuSans-69\"/>\n     <use x=\"63.183594\" xlink:href=\"#DejaVuSans-80\"/>\n     <use x=\"123.486328\" xlink:href=\"#DejaVuSans-52\"/>\n     <use x=\"187.109375\" xlink:href=\"#DejaVuSans-55\"/>\n     <use x=\"250.732422\" xlink:href=\"#DejaVuSans-57\"/>\n     <use x=\"314.355469\" xlink:href=\"#DejaVuSans-53\"/>\n    </g>\n   </g>\n   <g id=\"text_13\">\n    <!-- EP5930 -->\n    <g transform=\"translate(53.700994 147.7037)scale(0.1 -0.1)\">\n     <use xlink:href=\"#DejaVuSans-69\"/>\n     <use x=\"63.183594\" xlink:href=\"#DejaVuSans-80\"/>\n     <use x=\"123.486328\" xlink:href=\"#DejaVuSans-53\"/>\n     <use x=\"187.109375\" xlink:href=\"#DejaVuSans-57\"/>\n     <use x=\"250.732422\" xlink:href=\"#DejaVuSans-51\"/>\n     <use x=\"314.355469\" xlink:href=\"#DejaVuSans-48\"/>\n    </g>\n   </g>\n   <g id=\"text_14\">\n    <!-- EP6016 -->\n    <g transform=\"translate(206.848899 214.756364)scale(0.1 -0.1)\">\n     <defs>\n      <path d=\"M 33.015625 40.375 \nQ 26.375 40.375 22.484375 35.828125 \nQ 18.609375 31.296875 18.609375 23.390625 \nQ 18.609375 15.53125 22.484375 10.953125 \nQ 26.375 6.390625 33.015625 6.390625 \nQ 39.65625 6.390625 43.53125 10.953125 \nQ 47.40625 15.53125 47.40625 23.390625 \nQ 47.40625 31.296875 43.53125 35.828125 \nQ 39.65625 40.375 33.015625 40.375 \nz\nM 52.59375 71.296875 \nL 52.59375 62.3125 \nQ 48.875 64.0625 45.09375 64.984375 \nQ 41.3125 65.921875 37.59375 65.921875 \nQ 27.828125 65.921875 22.671875 59.328125 \nQ 17.53125 52.734375 16.796875 39.40625 \nQ 19.671875 43.65625 24.015625 45.921875 \nQ 28.375 48.1875 33.59375 48.1875 \nQ 44.578125 48.1875 50.953125 41.515625 \nQ 57.328125 34.859375 57.328125 23.390625 \nQ 57.328125 12.15625 50.6875 5.359375 \nQ 44.046875 -1.421875 33.015625 -1.421875 \nQ 20.359375 -1.421875 13.671875 8.265625 \nQ 6.984375 17.96875 6.984375 36.375 \nQ 6.984375 53.65625 15.1875 63.9375 \nQ 23.390625 74.21875 37.203125 74.21875 \nQ 40.921875 74.21875 44.703125 73.484375 \nQ 48.484375 72.75 52.59375 71.296875 \nz\n\" id=\"DejaVuSans-54\"/>\n     </defs>\n     <use xlink:href=\"#DejaVuSans-69\"/>\n     <use x=\"63.183594\" xlink:href=\"#DejaVuSans-80\"/>\n     <use x=\"123.486328\" xlink:href=\"#DejaVuSans-54\"/>\n     <use x=\"187.109375\" xlink:href=\"#DejaVuSans-48\"/>\n     <use x=\"250.732422\" xlink:href=\"#DejaVuSans-49\"/>\n     <use x=\"314.355469\" xlink:href=\"#DejaVuSans-54\"/>\n    </g>\n   </g>\n   <g id=\"text_15\">\n    <!-- EP6402 -->\n    <g transform=\"translate(310.832448 17.083636)scale(0.1 -0.1)\">\n     <use xlink:href=\"#DejaVuSans-69\"/>\n     <use x=\"63.183594\" xlink:href=\"#DejaVuSans-80\"/>\n     <use x=\"123.486328\" xlink:href=\"#DejaVuSans-54\"/>\n     <use x=\"187.109375\" xlink:href=\"#DejaVuSans-52\"/>\n     <use x=\"250.732422\" xlink:href=\"#DejaVuSans-48\"/>\n     <use x=\"314.355469\" xlink:href=\"#DejaVuSans-50\"/>\n    </g>\n   </g>\n  </g>\n </g>\n <defs>\n  <clipPath id=\"pcb01da758d\">\n   <rect height=\"217.44\" width=\"334.8\" x=\"38.482813\" y=\"7.2\"/>\n  </clipPath>\n </defs>\n</svg>\n",
      "image/png": "[encoded data removed]"
     },
     "metadata": {
      "needs_background": "light"
     }
    }
   ],
   "source": [
    "#outlier removal from 2 ancestral principal(?) components.\n",
    "\n",
    "#matching available ancestrial PC ID \n",
    "european_ancestral_PCA_w_outliers=preprocessing.extract_by_ID(european_ID_list,ancestral_PCA_european['ID'],ancestral_PCA_european)\n",
    "print(european_ancestral_PCA_w_outliers.shape)\n",
    "\n",
    "from scipy import stats\n",
    "zscores=np.abs(stats.zscore(european_ancestral_PCA_w_outliers[:,1:3].astype('float64'),axis=0))\n",
    "outliers=np.where(zscores>=3)[0]#remove anything more than 3 st. deviation from the mean.\n",
    "print(european_ancestral_PCA_w_outliers[outliers,0])\n",
    "#removing outliers using the ancestrial PCA\n",
    "\n",
    "fig,ax= plt.subplots()\n",
    "ax.scatter(european_ancestral_PCA_w_outliers[:,1],european_ancestral_PCA_w_outliers[:,2])\n",
    "for i,txt in enumerate(european_ancestral_PCA_w_outliers[outliers,0]):\n",
    "    ax.annotate(txt,(european_ancestral_PCA_w_outliers[outliers,1][i],european_ancestral_PCA_w_outliers[outliers,2][i]))\n"
   ]
  },
  {
   "cell_type": "code",
   "execution_count": 10,
   "metadata": {
    "hidden": true
   },
   "outputs": [
    {
     "output_type": "stream",
     "name": "stdout",
     "text": [
      "(117, 90, 90)\n(117, 94)\n(117, 11)\n(117, 7)\n"
     ]
    }
   ],
   "source": [
    "#Updated lists to remove the outliers:\n",
    "\n",
    "european_ID_list_without_outliers=preprocessing.extract_by_ID(european_ancestral_PCA_w_outliers[outliers,0],european_ID_list,european_ID_list,remove=True)\n",
    "\n",
    "###########################################################\n",
    "\n",
    "#extracting the european connectivity matrices\n",
    "european_connectivity_matrices_schizophrenia=preprocessing.extract_by_ID(european_ID_list_without_outliers,ID,babies_connectivity_matrix)\n",
    "#extracting the european structural matrices\n",
    "european_structural_matrices_schizophrenia=preprocessing.extract_by_ID(european_ID_list_without_outliers,babies_structural_matrix['Subject ID'],babies_structural_matrix)\n",
    "print(european_connectivity_matrices_schizophrenia.shape)\n",
    "print(european_structural_matrices_schizophrenia.shape)\n",
    "#matching available ancestrial PC ID // i am transforming all data to array list so I can work easier with scikit learn later on (is it necessary? idk)\n",
    "european_ancestral_PCA=preprocessing.extract_by_ID(european_ID_list_without_outliers,ancestral_PCA_european['ID'],ancestral_PCA_european)\n",
    "print(european_ancestral_PCA.shape)\n",
    "#matching available PRS score with european ID\n",
    "european_prs_schizophrenia=preprocessing.extract_by_ID(european_ID_list_without_outliers,schizophrenia_high_scores_european['ID'],schizophrenia_high_scores_european)\n",
    "print(european_prs_schizophrenia.shape)"
   ]
  },
  {
   "cell_type": "code",
   "execution_count": 11,
   "metadata": {
    "hidden": true
   },
   "outputs": [
    {
     "output_type": "stream",
     "name": "stdout",
     "text": [
      "(117, 87)\n"
     ]
    }
   ],
   "source": [
    "#extracting ages, total volume, gender\n",
    "european_age_at_scan=european_structural_matrices_schizophrenia[:,2]\n",
    "european_gestational_age=european_structural_matrices_schizophrenia[:,4]\n",
    "european_gender=european_structural_matrices_schizophrenia[:,3]\n",
    "european_total_volume=european_structural_matrices_schizophrenia[:,92]\n",
    "european_volumes=european_structural_matrices_schizophrenia[:,5:92]\n",
    "european_icv=np.sum(european_volumes,axis=1)\n",
    "\n",
    "print(european_volumes.shape)"
   ]
  },
  {
   "cell_type": "code",
   "execution_count": 12,
   "metadata": {
    "hidden": true
   },
   "outputs": [
    {
     "output_type": "stream",
     "name": "stdout",
     "text": [
      "(117, 4005)\n(4005,)\n"
     ]
    }
   ],
   "source": [
    "#extracting the lower triangles of the connectivity matrices and make them into 1D vectors of size (4005,)\n",
    "inputs_european_connectivity_matrices_schizophrenia=np.asarray(list(map(preprocessing.lower_triangle,european_connectivity_matrices_schizophrenia)))\n",
    "combinations=preprocessing.lower_triangle(ROIs_combinations)\n",
    "\n",
    "print(inputs_european_connectivity_matrices_schizophrenia.shape)\n",
    "print(combinations.shape)"
   ]
  },
  {
   "cell_type": "markdown",
   "metadata": {},
   "source": [
    "# Adjusting for covariates"
   ]
  },
  {
   "cell_type": "code",
   "execution_count": 9,
   "metadata": {},
   "outputs": [
    {
     "output_type": "error",
     "ename": "NameError",
     "evalue": "name 'plt' is not defined",
     "traceback": [
      "\u001b[0;31m---------------------------------------------------------------------------\u001b[0m",
      "\u001b[0;31mNameError\u001b[0m                                 Traceback (most recent call last)",
      "\u001b[0;32m<ipython-input-9-ad9c0c0742fa>\u001b[0m in \u001b[0;36m<module>\u001b[0;34m\u001b[0m\n\u001b[0;32m----> 1\u001b[0;31m \u001b[0mplt\u001b[0m\u001b[0;34m.\u001b[0m\u001b[0mscatter\u001b[0m\u001b[0;34m(\u001b[0m\u001b[0meuropean_ancestral_PCA\u001b[0m\u001b[0;34m[\u001b[0m\u001b[0;34m:\u001b[0m\u001b[0;34m,\u001b[0m\u001b[0;36m4\u001b[0m\u001b[0;34m]\u001b[0m\u001b[0;34m,\u001b[0m\u001b[0meuropean_ancestral_PCA\u001b[0m\u001b[0;34m[\u001b[0m\u001b[0;34m:\u001b[0m\u001b[0;34m,\u001b[0m\u001b[0;36m5\u001b[0m\u001b[0;34m]\u001b[0m\u001b[0;34m)\u001b[0m\u001b[0;34m\u001b[0m\u001b[0;34m\u001b[0m\u001b[0m\n\u001b[0m\u001b[1;32m      2\u001b[0m \u001b[0;31m#check the PC1 vs. PC2, PC2 vs PC3, etc. until I see a structureless blob.\u001b[0m\u001b[0;34m\u001b[0m\u001b[0;34m\u001b[0m\u001b[0;34m\u001b[0m\u001b[0m\n",
      "\u001b[0;31mNameError\u001b[0m: name 'plt' is not defined"
     ]
    }
   ],
   "source": [
    "plt.scatter(european_ancestral_PCA[:,4],european_ancestral_PCA[:,5])\n",
    "#check the PC1 vs. PC2, PC2 vs PC3, etc. until I see a structureless blob."
   ]
  },
  {
   "cell_type": "code",
   "execution_count": null,
   "metadata": {},
   "outputs": [],
   "source": [
    "#adjusting for covariates:\n",
    "#for PRS: I adjusted for 10 PC. and for connectivity and structural data: I adjusted for age at scan, at birth, intracranial volume and gender. similar to Harriet's paper and Shi et al., 2012 (although this one has number of fibers regressed out as well).\n",
    "\n",
    "adjusted_european_PRS_schizophrenia=preprocessing.adjusting_for_covariates_with_lin_reg(y=european_prs_schizophrenia[:,1:],covariates=[european_ancestral_PCA[:,1:6]])#remove the first 5 PCs.\n",
    "adjusted_european_PRS_schizophrenia=adjusted_european_PRS_schizophrenia.astype('float64')\n",
    "\n",
    "adjusted_european_connectivity_schizophrenia=preprocessing.adjusting_for_covariates_with_lin_reg(y=inputs_european_connectivity_matrices_schizophrenia,covariates=[european_age_at_scan,european_gestational_age,european_icv,european_gender])\n",
    "\n",
    "adjusted_european_structural_schizophrenia=preprocessing.adjusting_for_covariates_with_lin_reg(y=european_volumes,covariates=[european_age_at_scan,european_gestational_age,european_icv,european_gender])\n",
    "adjusted_european_structural_schizophrenia=adjusted_european_structural_schizophrenia.astype('float64')\n"
   ]
  },
  {
   "cell_type": "markdown",
   "metadata": {},
   "source": [
    "# Training"
   ]
  },
  {
   "cell_type": "code",
   "execution_count": null,
   "metadata": {},
   "outputs": [],
   "source": [
    "X=adjusted_european_connectivity_schizophrenia\n",
    "y=adjusted_european_PRS_schizophrenia[:,4]\n",
    "combination_idx=np.arange(4005)"
   ]
  },
  {
   "cell_type": "code",
   "execution_count": 24,
   "metadata": {},
   "outputs": [],
   "source": [
    "#save the dataset and run external model training script.\n",
    "np.save('data_set_X.npy',X)\n",
    "np.save('data_set_y.npy',y)\n"
   ]
  },
  {
   "cell_type": "code",
   "execution_count": 119,
   "metadata": {},
   "outputs": [
    {
     "output_type": "execute_result",
     "data": {
      "text/plain": [
       "array([-1.00374736, -0.77777627, -0.91996975, -0.98156628, -1.40798468])"
      ]
     },
     "metadata": {},
     "execution_count": 119
    }
   ],
   "source": [
    "lin_reg=LinearRegression().fit(X,y)\n",
    "cross_val_score(lin_reg,X,y,scoring='r2')"
   ]
  },
  {
   "cell_type": "code",
   "execution_count": null,
   "metadata": {},
   "outputs": [],
   "source": []
  },
  {
   "cell_type": "code",
   "execution_count": null,
   "metadata": {},
   "outputs": [],
   "source": []
  },
  {
   "cell_type": "code",
   "execution_count": null,
   "metadata": {},
   "outputs": [],
   "source": []
  },
  {
   "source": [
    "# Analysis 1: \n",
    "Check out the common features across 5 splits for each model"
   ],
   "cell_type": "markdown",
   "metadata": {}
  },
  {
   "source": [
    "## Linear Regression"
   ],
   "cell_type": "markdown",
   "metadata": {}
  },
  {
   "cell_type": "code",
   "execution_count": 3,
   "metadata": {},
   "outputs": [],
   "source": [
    "lin_reg_split1=np.load('./lin_reg/split_1combination_idx_after_sfscv.npy')\n",
    "lin_reg_split2=np.load('./lin_reg/split_2combination_idx_after_sfscv.npy')\n",
    "lin_reg_split3=np.load('./lin_reg/split_3combination_idx_after_sfscv.npy')\n",
    "lin_reg_split4=np.load('./lin_reg/split_4combination_idx_after_sfscv.npy')\n",
    "lin_reg_split5=np.load('./lin_reg/split_5combination_idx_after_sfscv.npy')"
   ]
  },
  {
   "cell_type": "code",
   "execution_count": 6,
   "metadata": {},
   "outputs": [
    {
     "output_type": "execute_result",
     "data": {
      "text/plain": [
       "array([ 843, 1950, 2920, 3404, 3898])"
      ]
     },
     "metadata": {},
     "execution_count": 6
    }
   ],
   "source": [
    "preprocessing.common_features_across_all_splits(3,lin_reg_split1,lin_reg_split2,lin_reg_split3,lin_reg_split4,lin_reg_split5)"
   ]
  },
  {
   "source": [
    "## Ridge"
   ],
   "cell_type": "markdown",
   "metadata": {}
  },
  {
   "cell_type": "code",
   "execution_count": 8,
   "metadata": {},
   "outputs": [],
   "source": [
    "ridge_split1=np.load('./ridge/split_1combination_idx_after_sfscv.npy')\n",
    "ridge_split2=np.load('./ridge/split_2combination_idx_after_sfscv.npy')\n",
    "ridge_split3=np.load('./ridge/split_3combination_idx_after_sfscv.npy')\n",
    "ridge_split4=np.load('./ridge/split_4combination_idx_after_sfscv.npy')\n",
    "ridge_split5=np.load('./ridge/split_5combination_idx_after_sfscv.npy')"
   ]
  },
  {
   "cell_type": "code",
   "execution_count": 12,
   "metadata": {},
   "outputs": [
    {
     "output_type": "execute_result",
     "data": {
      "text/plain": [
       "array([  57,  843, 1950, 2101, 2367, 2920, 3325, 3392, 3404])"
      ]
     },
     "metadata": {},
     "execution_count": 12
    }
   ],
   "source": [
    "preprocessing.common_features_across_all_splits(3,ridge_split1,ridge_split2,ridge_split3,ridge_split4,ridge_split5)"
   ]
  },
  {
   "source": [
    "## Lasso"
   ],
   "cell_type": "markdown",
   "metadata": {}
  },
  {
   "cell_type": "code",
   "execution_count": 101,
   "metadata": {},
   "outputs": [],
   "source": [
    "lasso_split1=np.load('./lasso/split_1combination_idx_after_perm.npy')\n",
    "lasso_split2=np.load('./lasso/split_2combination_idx_after_perm.npy')\n",
    "lasso_split3=np.load('./lasso/split_3combination_idx_after_perm.npy')\n",
    "lasso_split4=np.load('./lasso/split_4combination_idx_after_perm.npy')\n",
    "lasso_split5=np.load('./lasso/split_5combination_idx_after_perm.npy')"
   ]
  },
  {
   "cell_type": "code",
   "execution_count": 102,
   "metadata": {},
   "outputs": [
    {
     "output_type": "execute_result",
     "data": {
      "text/plain": [
       "array([ 161,  221,  269,  371,  800,  840,  843,  980, 1441, 1500, 2061,\n",
       "       2101, 2210])"
      ]
     },
     "metadata": {},
     "execution_count": 102
    }
   ],
   "source": [
    "preprocessing.common_features_across_all_splits(3,lasso_split1,lasso_split2,lasso_split3,lasso_split4,lasso_split5)"
   ]
  },
  {
   "source": [
    "## Linear SVR"
   ],
   "cell_type": "markdown",
   "metadata": {}
  },
  {
   "cell_type": "code",
   "execution_count": 88,
   "metadata": {},
   "outputs": [],
   "source": [
    "svr_split1=np.load('./lin_svr/split_1combination_idx_after_sfscv.npy')\n",
    "svr_split2=np.load('./lin_svr/split_2combination_idx_after_sfscv.npy')\n",
    "svr_split3=np.load('./lin_svr/split_3combination_idx_after_sfscv.npy')\n",
    "svr_split4=np.load('./lin_svr/split_4combination_idx_after_sfscv.npy')\n",
    "svr_split5=np.load('./lin_svr/split_5combination_idx_after_sfscv.npy')"
   ]
  },
  {
   "cell_type": "code",
   "execution_count": 94,
   "metadata": {},
   "outputs": [
    {
     "output_type": "execute_result",
     "data": {
      "text/plain": [
       "array([2367, 2499, 2920, 3340, 3404])"
      ]
     },
     "metadata": {},
     "execution_count": 94
    }
   ],
   "source": [
    "preprocessing.common_features_across_all_splits(3,svr_split1,svr_split2,svr_split3,svr_split4,svr_split5)"
   ]
  },
  {
   "source": [
    "## Random Forrest Regressor"
   ],
   "cell_type": "markdown",
   "metadata": {}
  },
  {
   "cell_type": "code",
   "execution_count": null,
   "metadata": {},
   "outputs": [],
   "source": []
  },
  {
   "cell_type": "code",
   "execution_count": null,
   "metadata": {},
   "outputs": [],
   "source": []
  },
  {
   "cell_type": "code",
   "execution_count": null,
   "metadata": {},
   "outputs": [],
   "source": []
  },
  {
   "source": [
    "# Univariate Testing"
   ],
   "cell_type": "markdown",
   "metadata": {}
  },
  {
   "cell_type": "code",
   "execution_count": 277,
   "metadata": {},
   "outputs": [
    {
     "name": "stdout",
     "output_type": "stream",
     "text": [
      "#################connectivity######################\n",
      "For p_threshold of 0.100000, 160 features were significant, and/but 0 survived the FDR correction\n",
      "For p_threshold of 0.200000, 140 features were significant, and/but 0 survived the FDR correction\n",
      "For p_threshold of 0.300000, 132 features were significant, and/but 0 survived the FDR correction\n",
      "For p_threshold of 0.400000, 132 features were significant, and/but 0 survived the FDR correction\n",
      "For p_threshold of 0.500000, 149 features were significant, and/but 0 survived the FDR correction\n",
      "For p_threshold of 1.000000, 150 features were significant, and/but 0 survived the FDR correction\n",
      "#################structural######################\n",
      "For p_threshold of 0.100000, 7 features were significant, but 0 survived the FDR correction\n",
      "For p_threshold of 0.200000, 4 features were significant, but 0 survived the FDR correction\n",
      "For p_threshold of 0.300000, 4 features were significant, but 0 survived the FDR correction\n",
      "For p_threshold of 0.400000, 4 features were significant, but 0 survived the FDR correction\n",
      "For p_threshold of 0.500000, 4 features were significant, but 0 survived the FDR correction\n",
      "For p_threshold of 1.000000, 4 features were significant, but 0 survived the FDR correction\n"
     ]
    }
   ],
   "source": [
    "#UNIVARIATE TESTING. Calculated by first estimating fitting a simple linear model to each regressor, and then calculate the R2. From R2, we calculate the F-score and with that P-value. The False discovery rate method adjust the p-value.\n",
    "\n",
    "from sklearn.feature_selection import f_regression, SelectFdr\n",
    "from statsmodels.stats.multitest import fdrcorrection #I used fdrcorrection because the SelectFdr does not return array of adjusted p-values, which is stupid, because it already calculated it, might as well output it.\n",
    "\n",
    "print('#################connectivity######################')\n",
    "\n",
    "for p_threshold in range(adjusted_european_PRS_schizophrenia.shape[1]):\n",
    "\n",
    "    F_score,p_value=f_regression(adjusted_european_connectivity_schizophrenia,adjusted_european_PRS_schizophrenia[:,p_threshold])\n",
    "    survived_idx,adjusted_p_values=fdrcorrection(p_value,alpha=0.05)\n",
    "    print('For p_threshold of %s, %d features were significant, but %d survived the FDR correction' %(schizophrenia_high_scores_european.columns[p_threshold+1],\n",
    "    len(p_value[p_value<0.05]),len(np.where(survived_idx)[0])))\n",
    "\n",
    "print('#################structural######################')\n",
    "\n",
    "for p_threshold in range(adjusted_european_PRS_schizophrenia.shape[1]):\n",
    "\n",
    "    F_score,p_value=f_regression(adjusted_european_structural_schizophrenia,adjusted_european_PRS_schizophrenia[:,p_threshold])\n",
    "    survived_idx,adjusted_p_values=fdrcorrection(p_value,alpha=0.05)\n",
    "    print('For p_threshold of %s, %d features were significant, but %d survived the FDR correction' %(schizophrenia_high_scores_european.columns[p_threshold+1],\n",
    "    len(p_value[p_value<0.05]),len(np.where(survived_idx)[0])))"
   ]
  },
  {
   "cell_type": "markdown",
   "metadata": {},
   "source": [
    "Run across multiple searching events"
   ]
  },
  {
   "cell_type": "code",
   "execution_count": null,
   "metadata": {},
   "outputs": [],
   "source": []
  }
 ],
 "metadata": {
  "kernelspec": {
   "display_name": "Python 3.6.8 64-bit ('base': conda)",
   "language": "python",
   "name": "python36864bitbaseconda47aedfaafb1f47b1b5ee44163cad2c00"
  },
  "language_info": {
   "codemirror_mode": {
    "name": "ipython",
    "version": 3
   },
   "file_extension": ".py",
   "mimetype": "text/x-python",
   "name": "python",
   "nbconvert_exporter": "python",
   "pygments_lexer": "ipython3",
   "version": "3.6.8-final"
  }
 },
 "nbformat": 4,
 "nbformat_minor": 2
}