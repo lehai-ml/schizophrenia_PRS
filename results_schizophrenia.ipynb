{
 "cells": [
  {
   "cell_type": "code",
   "execution_count": 1,
   "metadata": {},
   "outputs": [
    {
     "name": "stderr",
     "output_type": "stream",
     "text": [
      "/Users/hai/anaconda3/lib/python3.6/site-packages/sklearn/externals/joblib/__init__.py:15: FutureWarning: sklearn.externals.joblib is deprecated in 0.21 and will be removed in 0.23. Please import this functionality directly from joblib, which can be installed with: pip install joblib. If this warning is raised when loading pickled models, you may need to re-serialize those models with scikit-learn 0.21+.\n",
      "  warnings.warn(msg, category=FutureWarning)\n"
     ]
    }
   ],
   "source": [
    "#import necessary libraries\n",
    "import pandas as pd\n",
    "import numpy as np\n",
    "import preprocessing\n",
    "import running_model\n",
    "import model_training\n",
    "from scipy import stats\n",
    "\n",
    "#visualisation libraries\n",
    "import matplotlib.pyplot as plt\n",
    "import networkx as nx\n",
    "import visualisation\n",
    "\n",
    "import itertools\n",
    "import inspect\n",
    "import operator\n",
    "import time"
   ]
  },
  {
   "cell_type": "markdown",
   "metadata": {
    "heading_collapsed": true
   },
   "source": [
    "# Data Importing and Preprocessing"
   ]
  },
  {
   "cell_type": "code",
   "execution_count": 2,
   "metadata": {
    "hidden": true,
    "tags": []
   },
   "outputs": [
    {
     "name": "stdout",
     "output_type": "stream",
     "text": [
      "this file dataProb_EP1085_mat.txt is not processed\n",
      "this file dataProb_EP1078_mat.txt is not processed\n",
      "this file cannot be loaded: .DS_Store\n",
      "this file dataProb_EP1118_mat.txt is not processed\n",
      "this file dataProb_EP1009_mat.txt is not processed\n",
      "this file dataProb_EP1092_mat.txt is not processed\n",
      "this file dataProb_EP1142_mat.txt is not processed\n",
      "this file dataProb_EP1130_mat.txt is not processed\n",
      "this file dataProb_EP1041_mat.txt is not processed\n",
      "this file dataProb_EP1017_mat.txt is not processed\n",
      "this file dataProb_EP1105_mat.txt is not processed\n",
      "this file dataProb_EP1123_mat.txt is not processed\n"
     ]
    }
   ],
   "source": [
    "ID,babies_connectivity_matrix=preprocessing.babies_connectivity_extraction('./Tracts/')\n",
    "ROIs_combinations=preprocessing.ROIs_combinations('./Regions_of_interests.csv')\n",
    "structural_labels=pd.read_csv('all_labels.csv', header = None, sep='\\t')\n",
    "structural_labels=np.asarray(structural_labels[1])\n",
    "babies_structural_matrix=pd.read_csv('./ePrime-structure-volumes.csv',header=0,index_col=None).dropna()\n",
    "babies_structural_matrix=babies_structural_matrix.iloc[babies_structural_matrix['Age at scan'].values<49,:].reset_index(drop=True)"
   ]
  },
  {
   "cell_type": "code",
   "execution_count": 3,
   "metadata": {
    "hidden": true
   },
   "outputs": [],
   "source": [
    "#Reading necessary tables\n",
    "schizophrenia_high_scores_european=preprocessing.read_table_from_txt('./scz2_sixlevels_ld1000G.highres.all.score.txt')\n",
    "ancestral_PCA_european=preprocessing.read_table_from_txt('./ePrime_nosibs_european_pruned_excludeLD_pca10.eigenvec.txt')"
   ]
  },
  {
   "cell_type": "code",
   "execution_count": 4,
   "metadata": {
    "hidden": true,
    "tags": []
   },
   "outputs": [
    {
     "name": "stdout",
     "output_type": "stream",
     "text": [
      "these 17 individuals do not have connectivity matrices or structural data: ['EP1554' 'EP1688' 'EP1910' 'EP2443' 'EP2741' 'EP3137' 'EP3941' 'EP4038'\n",
      " 'EP4063' 'EP4845' 'EP5175' 'EP5942' 'EP6140' 'EP7153' 'EP7384' 'EP7427'\n",
      " 'EP7687']\n"
     ]
    }
   ],
   "source": [
    "#matching europeans IDs between tables and connectivity matrices\n",
    "european_ID_list=list(set(ID).intersection(schizophrenia_high_scores_european['ID']))#this is crossing connectivity_ID with european_PRS_ID.\n",
    "european_ID_list=list(set(european_ID_list).intersection(babies_structural_matrix['Subject ID']))#this is crossing european_connectivity with babies_structural_ID.\n",
    "european_ID_list.sort()\n",
    "european_ID_list_not_available=np.setdiff1d(schizophrenia_high_scores_european['ID'],european_ID_list)\n",
    "european_ID_list_not_available.sort()\n",
    "print('these %d individuals do not have connectivity matrices or structural data: %s' %(len(european_ID_list_not_available),european_ID_list_not_available))"
   ]
  },
  {
   "cell_type": "markdown",
   "metadata": {
    "hidden": true
   },
   "source": [
    "## remmoving outliers"
   ]
  },
  {
   "cell_type": "code",
   "execution_count": 5,
   "metadata": {
    "hidden": true
   },
   "outputs": [
    {
     "name": "stdout",
     "output_type": "stream",
     "text": [
      "(122, 11)\n",
      "['EP2314' 'EP4795' 'EP5930' 'EP6016' 'EP6402']\n"
     ]
    },
    {
     "data": {
      "image/png": "[encoded data removed]",
      "text/plain": [
       "<Figure size 432x288 with 1 Axes>"
      ]
     },
     "metadata": {
      "needs_background": "light"
     },
     "output_type": "display_data"
    }
   ],
   "source": [
    "#outlier removal from 2 ancestral principal(?) components.\n",
    "\n",
    "#matching available ancestrial PC ID \n",
    "european_ancestral_PCA_w_outliers=preprocessing.extract_by_ID(european_ID_list,ancestral_PCA_european['ID'],ancestral_PCA_european)\n",
    "print(european_ancestral_PCA_w_outliers.shape)\n",
    "\n",
    "from scipy import stats\n",
    "zscores=np.abs(stats.zscore(european_ancestral_PCA_w_outliers[:,1:3].astype('float64'),axis=0))\n",
    "outliers=np.where(zscores>3)[0]#remove anything more than 3 st. deviation from the mean.\n",
    "print(european_ancestral_PCA_w_outliers[outliers,0])\n",
    "#removing outliers using the ancestrial PCA\n",
    "\n",
    "fig,ax= plt.subplots()\n",
    "ax.scatter(european_ancestral_PCA_w_outliers[:,1],european_ancestral_PCA_w_outliers[:,2])\n",
    "for i,txt in enumerate(european_ancestral_PCA_w_outliers[outliers,0]):\n",
    "    ax.annotate(txt,(european_ancestral_PCA_w_outliers[outliers,1][i],european_ancestral_PCA_w_outliers[outliers,2][i]))\n"
   ]
  },
  {
   "cell_type": "code",
   "execution_count": 6,
   "metadata": {
    "hidden": true
   },
   "outputs": [
    {
     "name": "stdout",
     "output_type": "stream",
     "text": [
      "(117, 90, 90)\n",
      "(117, 94)\n",
      "(117, 11)\n",
      "(117, 7)\n"
     ]
    }
   ],
   "source": [
    "#Updated lists to remove the outliers:\n",
    "\n",
    "european_ID_list_without_outliers=preprocessing.extract_by_ID(european_ancestral_PCA_w_outliers[outliers,0],european_ID_list,european_ID_list,remove=True)\n",
    "\n",
    "###########################################################\n",
    "\n",
    "#extracting the european connectivity matrices\n",
    "european_connectivity_matrices_schizophrenia=preprocessing.extract_by_ID(european_ID_list_without_outliers,ID,babies_connectivity_matrix)\n",
    "#extracting the european structural matrices\n",
    "european_structural_matrices_schizophrenia=preprocessing.extract_by_ID(european_ID_list_without_outliers,babies_structural_matrix['Subject ID'],babies_structural_matrix)\n",
    "print(european_connectivity_matrices_schizophrenia.shape)\n",
    "print(european_structural_matrices_schizophrenia.shape)\n",
    "#matching available ancestrial PC ID // i am transforming all data to array list so I can work easier with scikit learn later on (is it necessary? idk)\n",
    "european_ancestral_PCA=preprocessing.extract_by_ID(european_ID_list_without_outliers,ancestral_PCA_european['ID'],ancestral_PCA_european)\n",
    "print(european_ancestral_PCA.shape)\n",
    "#matching available PRS score with european ID\n",
    "european_prs_schizophrenia=preprocessing.extract_by_ID(european_ID_list_without_outliers,schizophrenia_high_scores_european['ID'],schizophrenia_high_scores_european)\n",
    "print(european_prs_schizophrenia.shape)"
   ]
  },
  {
   "cell_type": "code",
   "execution_count": 7,
   "metadata": {
    "hidden": true
   },
   "outputs": [
    {
     "name": "stdout",
     "output_type": "stream",
     "text": [
      "(117, 87)\n"
     ]
    }
   ],
   "source": [
    "#extracting ages, total volume, gender\n",
    "european_age_at_scan=european_structural_matrices_schizophrenia[:,2]\n",
    "european_gestational_age=european_structural_matrices_schizophrenia[:,4]\n",
    "european_gender=european_structural_matrices_schizophrenia[:,3]\n",
    "european_total_volume=european_structural_matrices_schizophrenia[:,92]\n",
    "european_volumes=european_structural_matrices_schizophrenia[:,5:92]\n",
    "european_icv=np.sum(european_volumes,axis=1)\n",
    "\n",
    "print(european_volumes.shape)"
   ]
  },
  {
   "cell_type": "code",
   "execution_count": 8,
   "metadata": {
    "hidden": true
   },
   "outputs": [
    {
     "name": "stdout",
     "output_type": "stream",
     "text": [
      "(117, 4005)\n",
      "(4005,)\n"
     ]
    }
   ],
   "source": [
    "#extracting the lower triangles of the connectivity matrices and make them into 1D vectors of size (4005,)\n",
    "inputs_european_connectivity_matrices_schizophrenia=np.asarray(list(map(preprocessing.lower_triangle,european_connectivity_matrices_schizophrenia)))\n",
    "combinations=preprocessing.lower_triangle(ROIs_combinations)\n",
    "\n",
    "print(inputs_european_connectivity_matrices_schizophrenia.shape)\n",
    "print(combinations.shape)"
   ]
  },
  {
   "cell_type": "markdown",
   "metadata": {},
   "source": [
    "# Adjusting for covariates"
   ]
  },
  {
   "cell_type": "code",
   "execution_count": 9,
   "metadata": {},
   "outputs": [],
   "source": [
    "#adjusting for covariates:\n",
    "#for PRS: I adjusted for 10 PC. and for connectivity and structural data: I adjusted for age at scan, at birth, intracranial volume and gender. similar to Harriet's paper and Shi et al., 2012 (although this one has number of fibers regressed out as well).\n",
    "\n",
    "adjusted_european_PRS_schizophrenia=preprocessing.adjusting_for_covariates_with_lin_reg(y=european_prs_schizophrenia[:,1:],covariates=[european_ancestral_PCA[:,1:]])\n",
    "adjusted_european_PRS_schizophrenia=adjusted_european_PRS_schizophrenia.astype('float64')\n",
    "\n",
    "adjusted_european_connectivity_schizophrenia=preprocessing.adjusting_for_covariates_with_lin_reg(y=inputs_european_connectivity_matrices_schizophrenia,covariates=[european_age_at_scan,european_gestational_age,european_icv,european_gender])\n",
    "\n",
    "adjusted_european_structural_schizophrenia=preprocessing.adjusting_for_covariates_with_lin_reg(y=european_volumes,covariates=[european_age_at_scan,european_gestational_age,european_icv,european_gender])\n",
    "adjusted_european_structural_schizophrenia=adjusted_european_structural_schizophrenia.astype('float64')\n"
   ]
  },
  {
   "cell_type": "markdown",
   "metadata": {},
   "source": [
    "# Training"
   ]
  },
  {
   "cell_type": "code",
   "execution_count": 10,
   "metadata": {},
   "outputs": [],
   "source": [
    "X=adjusted_european_connectivity_schizophrenia\n",
    "y=adjusted_european_PRS_schizophrenia[:,0]\n",
    "combination_idx=np.arange(4005)"
   ]
  },
  {
   "cell_type": "code",
   "execution_count": 15,
   "metadata": {},
   "outputs": [
    {
     "name": "stdout",
     "output_type": "stream",
     "text": [
      "make sure you write as if you are writing a command, i.e. with square bracket for list\n",
      "There is no parameters to fine_tune, if this is not the case, please add parameters to the model_training.parameters_dict if that is not correct\n",
      "make sure you write as if you are writing a command, i.e. with square bracket for list\n",
      "There is no parameters to fine_tune, if this is not the case, please add parameters to the model_training.parameters_dict if that is not correct\n",
      "make sure you write as if you are writing a command, i.e. with square bracket for list\n",
      "There is no parameters to fine_tune, if this is not the case, please add parameters to the model_training.parameters_dict if that is not correct\n",
      "make sure you write as if you are writing a command, i.e. with square bracket for list\n",
      "There is no parameters to fine_tune, if this is not the case, please add parameters to the model_training.parameters_dict if that is not correct\n",
      "make sure you write as if you are writing a command, i.e. with square bracket for list\n",
      "There is no parameters to fine_tune, if this is not the case, please add parameters to the model_training.parameters_dict if that is not correct\n"
     ]
    },
    {
     "data": {
      "text/plain": [
       "<model_training.scikit_model at 0x7fd515c1a160>"
      ]
     },
     "execution_count": 15,
     "metadata": {},
     "output_type": "execute_result"
    }
   ],
   "source": [
    "x=model_training.scikit_model(LinearRegression(),X,y,filepath='./test/',model_name='lin_reg')\n",
    "x.feature_selection_model()"
   ]
  },
  {
   "cell_type": "code",
   "execution_count": 22,
   "metadata": {},
   "outputs": [
    {
     "data": {
      "text/plain": [
       "[array([-0.11564834, -0.15757532, -0.24553931, -0.12290166]),\n",
       " array([-0.23011953, -0.18176427, -0.29819492, -0.13821319]),\n",
       " array([-0.27370572, -0.14763747, -0.23922697, -0.08599436]),\n",
       " array([-0.22981264, -0.1133306 , -0.18554786, -0.06988697]),\n",
       " array([-0.23486147, -0.11874269, -0.1333505 , -0.15992799])]"
      ]
     },
     "execution_count": 22,
     "metadata": {},
     "output_type": "execute_result"
    }
   ],
   "source": [
    "x.cross_validated_scores_across_all_splits"
   ]
  },
  {
   "cell_type": "code",
   "execution_count": 23,
   "metadata": {},
   "outputs": [
    {
     "data": {
      "text/plain": [
       "[2.072684882539056,\n",
       " 1.7493705891371532,\n",
       " 1.6004249976096359,\n",
       " 1.6428802143906254,\n",
       " 2.4065867949825646]"
      ]
     },
     "execution_count": 23,
     "metadata": {},
     "output_type": "execute_result"
    }
   ],
   "source": [
    "x.test_scores_across_all_splits"
   ]
  },
  {
   "cell_type": "markdown",
   "metadata": {},
   "source": [
    "# Univariate Testing"
   ]
  },
  {
   "cell_type": "code",
   "execution_count": 277,
   "metadata": {},
   "outputs": [
    {
     "name": "stdout",
     "output_type": "stream",
     "text": [
      "#################connectivity######################\n",
      "For p_threshold of 0.100000, 160 features were significant, and/but 0 survived the FDR correction\n",
      "For p_threshold of 0.200000, 140 features were significant, and/but 0 survived the FDR correction\n",
      "For p_threshold of 0.300000, 132 features were significant, and/but 0 survived the FDR correction\n",
      "For p_threshold of 0.400000, 132 features were significant, and/but 0 survived the FDR correction\n",
      "For p_threshold of 0.500000, 149 features were significant, and/but 0 survived the FDR correction\n",
      "For p_threshold of 1.000000, 150 features were significant, and/but 0 survived the FDR correction\n",
      "#################structural######################\n",
      "For p_threshold of 0.100000, 7 features were significant, but 0 survived the FDR correction\n",
      "For p_threshold of 0.200000, 4 features were significant, but 0 survived the FDR correction\n",
      "For p_threshold of 0.300000, 4 features were significant, but 0 survived the FDR correction\n",
      "For p_threshold of 0.400000, 4 features were significant, but 0 survived the FDR correction\n",
      "For p_threshold of 0.500000, 4 features were significant, but 0 survived the FDR correction\n",
      "For p_threshold of 1.000000, 4 features were significant, but 0 survived the FDR correction\n"
     ]
    }
   ],
   "source": [
    "#UNIVARIATE TESTING. Calculated by first estimating fitting a simple linear model to each regressor, and then calculate the R2. From R2, we calculate the F-score and with that P-value. The False discovery rate method adjust the p-value.\n",
    "\n",
    "from sklearn.feature_selection import f_regression, SelectFdr\n",
    "from statsmodels.stats.multitest import fdrcorrection #I used fdrcorrection because the SelectFdr does not return array of adjusted p-values, which is stupid, because it already calculated it, might as well output it.\n",
    "\n",
    "print('#################connectivity######################')\n",
    "\n",
    "for p_threshold in range(adjusted_european_PRS_schizophrenia.shape[1]):\n",
    "\n",
    "    F_score,p_value=f_regression(adjusted_european_connectivity_schizophrenia,adjusted_european_PRS_schizophrenia[:,p_threshold])\n",
    "    survived_idx,adjusted_p_values=fdrcorrection(p_value,alpha=0.05)\n",
    "    print('For p_threshold of %s, %d features were significant, but %d survived the FDR correction' %(schizophrenia_high_scores_european.columns[p_threshold+1],\n",
    "    len(p_value[p_value<0.05]),len(np.where(survived_idx)[0])))\n",
    "\n",
    "print('#################structural######################')\n",
    "\n",
    "for p_threshold in range(adjusted_european_PRS_schizophrenia.shape[1]):\n",
    "\n",
    "    F_score,p_value=f_regression(adjusted_european_structural_schizophrenia,adjusted_european_PRS_schizophrenia[:,p_threshold])\n",
    "    survived_idx,adjusted_p_values=fdrcorrection(p_value,alpha=0.05)\n",
    "    print('For p_threshold of %s, %d features were significant, but %d survived the FDR correction' %(schizophrenia_high_scores_european.columns[p_threshold+1],\n",
    "    len(p_value[p_value<0.05]),len(np.where(survived_idx)[0])))"
   ]
  },
  {
   "cell_type": "markdown",
   "metadata": {},
   "source": [
    "Run across multiple searching events"
   ]
  },
  {
   "cell_type": "code",
   "execution_count": null,
   "metadata": {},
   "outputs": [],
   "source": []
  },
  {
   "cell_type": "code",
   "execution_count": null,
   "metadata": {},
   "outputs": [],
   "source": []
  },
  {
   "cell_type": "code",
   "execution_count": null,
   "metadata": {},
   "outputs": [],
   "source": []
  },
  {
   "cell_type": "code",
   "execution_count": null,
   "metadata": {},
   "outputs": [],
   "source": []
  },
  {
   "cell_type": "code",
   "execution_count": null,
   "metadata": {},
   "outputs": [],
   "source": []
  }
 ],
 "metadata": {
  "kernelspec": {
   "display_name": "Python 3.6.8 64-bit ('base': conda)",
   "language": "python",
   "name": "python36864bitbaseconda47aedfaafb1f47b1b5ee44163cad2c00"
  },
  "language_info": {
   "codemirror_mode": {
    "name": "ipython",
    "version": 3
   },
   "file_extension": ".py",
   "mimetype": "text/x-python",
   "name": "python",
   "nbconvert_exporter": "python",
   "pygments_lexer": "ipython3",
   "version": "3.6.8"
  }
 },
 "nbformat": 4,
 "nbformat_minor": 2
}
